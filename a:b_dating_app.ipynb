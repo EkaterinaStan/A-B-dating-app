{
 "cells": [
  {
   "cell_type": "code",
   "execution_count": 1,
   "metadata": {},
   "outputs": [],
   "source": [
    "import pandas as pd\n",
    "import numpy as np\n",
    "from matplotlib import pyplot as plt\n",
    "import seaborn as sns\n",
    "from scipy import stats\n",
    "import pingouin as pg\n",
    "import os\n",
    "from itertools import combinations\n",
    "import random"
   ]
  },
  {
   "cell_type": "code",
   "execution_count": 2,
   "metadata": {},
   "outputs": [],
   "source": [
    "os.environ[\"OUTDATED_RAISE_EXCEPTION\"] = str(1)"
   ]
  },
  {
   "cell_type": "code",
   "execution_count": 3,
   "metadata": {},
   "outputs": [],
   "source": [
    "# Настройки для графиков\n",
    "sns.set(\n",
    "    font_scale=1,\n",
    "    style=\"whitegrid\",\n",
    "    rc={'figure.figsize':(20,7)}\n",
    "        )\n",
    "sns.set_palette(palette = 'Set2')"
   ]
  },
  {
   "cell_type": "code",
   "execution_count": 4,
   "metadata": {},
   "outputs": [
    {
     "name": "stderr",
     "output_type": "stream",
     "text": [
      "Exception in thread Thread-4:\n",
      "Traceback (most recent call last):\n",
      "  File \"/opt/tljh/user/lib/python3.7/threading.py\", line 917, in _bootstrap_inner\n",
      "    self.run()\n",
      "  File \"/opt/tljh/user/lib/python3.7/threading.py\", line 865, in run\n",
      "    self._target(*self._args, **self._kwargs)\n",
      "  File \"/opt/tljh/user/lib/python3.7/site-packages/outdated/__init__.py\", line 108, in check\n",
      "    is_outdated, latest = check_outdated(package, version)\n",
      "  File \"/opt/tljh/user/lib/python3.7/site-packages/outdated/__init__.py\", line 72, in check_outdated\n",
      "    json.dump(data, f)\n",
      "  File \"/opt/tljh/user/lib/python3.7/contextlib.py\", line 119, in __exit__\n",
      "    next(self.gen)\n",
      "  File \"/opt/tljh/user/lib/python3.7/site-packages/outdated/utils.py\", line 70, in cache_file\n",
      "    f = open(cache_path, mode)\n",
      "PermissionError: [Errno 13] Permission denied: '/tmp/outdated_cache_outdated'\n",
      "\n",
      "Exception in thread Thread-5:\n",
      "Traceback (most recent call last):\n",
      "  File \"/opt/tljh/user/lib/python3.7/threading.py\", line 917, in _bootstrap_inner\n",
      "    self.run()\n",
      "  File \"/opt/tljh/user/lib/python3.7/threading.py\", line 865, in run\n",
      "    self._target(*self._args, **self._kwargs)\n",
      "  File \"/opt/tljh/user/lib/python3.7/site-packages/outdated/__init__.py\", line 108, in check\n",
      "    is_outdated, latest = check_outdated(package, version)\n",
      "  File \"/opt/tljh/user/lib/python3.7/site-packages/outdated/__init__.py\", line 72, in check_outdated\n",
      "    json.dump(data, f)\n",
      "  File \"/opt/tljh/user/lib/python3.7/contextlib.py\", line 119, in __exit__\n",
      "    next(self.gen)\n",
      "  File \"/opt/tljh/user/lib/python3.7/site-packages/outdated/utils.py\", line 70, in cache_file\n",
      "    f = open(cache_path, mode)\n",
      "PermissionError: [Errno 13] Permission denied: '/tmp/outdated_cache_pingouin'\n",
      "\n"
     ]
    }
   ],
   "source": [
    "# считываем данные\n",
    "ut = pd.read_csv('https://getfile.dokpub.com/yandex/get/https://disk.yandex.ru/d/4XXIME4osGrMRA', sep=';')\n",
    "\n",
    "uc1  = pd.read_csv('https://getfile.dokpub.com/yandex/get/https://disk.yandex.ru/d/yJFydMNNGkEKfg', sep=';')\n",
    "\n",
    "uc2  = pd.read_csv('https://getfile.dokpub.com/yandex/get/https://disk.yandex.ru/d/br6KkQupzzTGoQ', sep=';')\n",
    "\n",
    "tt = pd.read_csv('https://getfile.dokpub.com/yandex/get/https://disk.yandex.ru/d/gvCWpZ55ODzs2g', sep=';')\n",
    "\n",
    "tc1 = pd.read_csv('https://getfile.dokpub.com/yandex/get/https://disk.yandex.ru/d/VY5W0keMX5TZBQ', sep=';')\n",
    "\n",
    "tc2 = pd.read_csv('https://getfile.dokpub.com/yandex/get/https://disk.yandex.ru/d/th5GL0mGOc-qzg', sep=';')"
   ]
  },
  {
   "cell_type": "markdown",
   "metadata": {},
   "source": [
    "Смотрим, как считались данные"
   ]
  },
  {
   "cell_type": "code",
   "execution_count": 5,
   "metadata": {},
   "outputs": [
    {
     "data": {
      "text/html": [
       "<div>\n",
       "<style scoped>\n",
       "    .dataframe tbody tr th:only-of-type {\n",
       "        vertical-align: middle;\n",
       "    }\n",
       "\n",
       "    .dataframe tbody tr th {\n",
       "        vertical-align: top;\n",
       "    }\n",
       "\n",
       "    .dataframe thead th {\n",
       "        text-align: right;\n",
       "    }\n",
       "</style>\n",
       "<table border=\"1\" class=\"dataframe\">\n",
       "  <thead>\n",
       "    <tr style=\"text-align: right;\">\n",
       "      <th></th>\n",
       "      <th>uid</th>\n",
       "      <th>age</th>\n",
       "      <th>attraction_coeff</th>\n",
       "      <th>coins</th>\n",
       "      <th>country</th>\n",
       "      <th>visit_days</th>\n",
       "      <th>gender</th>\n",
       "      <th>age_filter_start</th>\n",
       "      <th>age_filter_end</th>\n",
       "      <th>views_count</th>\n",
       "      <th>was_premium</th>\n",
       "      <th>is_premium</th>\n",
       "      <th>total_revenue</th>\n",
       "    </tr>\n",
       "  </thead>\n",
       "  <tbody>\n",
       "    <tr>\n",
       "      <th>611</th>\n",
       "      <td>891875082</td>\n",
       "      <td>51</td>\n",
       "      <td>190</td>\n",
       "      <td>NaN</td>\n",
       "      <td>Chile</td>\n",
       "      <td>1</td>\n",
       "      <td>1</td>\n",
       "      <td>48</td>\n",
       "      <td>54</td>\n",
       "      <td>42</td>\n",
       "      <td>NaN</td>\n",
       "      <td>NaN</td>\n",
       "      <td>0</td>\n",
       "    </tr>\n",
       "    <tr>\n",
       "      <th>3075</th>\n",
       "      <td>892332546</td>\n",
       "      <td>28</td>\n",
       "      <td>166</td>\n",
       "      <td>NaN</td>\n",
       "      <td>Italy</td>\n",
       "      <td>1,2</td>\n",
       "      <td>1</td>\n",
       "      <td>25</td>\n",
       "      <td>31</td>\n",
       "      <td>6</td>\n",
       "      <td>NaN</td>\n",
       "      <td>NaN</td>\n",
       "      <td>0</td>\n",
       "    </tr>\n",
       "    <tr>\n",
       "      <th>2849</th>\n",
       "      <td>891682371</td>\n",
       "      <td>58</td>\n",
       "      <td>665</td>\n",
       "      <td>NaN</td>\n",
       "      <td>France</td>\n",
       "      <td>1,2,3,4,5,6,7,8,9,10,11,12,13,14,15,16,17</td>\n",
       "      <td>1</td>\n",
       "      <td>55</td>\n",
       "      <td>61</td>\n",
       "      <td>308</td>\n",
       "      <td>NaN</td>\n",
       "      <td>NaN</td>\n",
       "      <td>0</td>\n",
       "    </tr>\n",
       "    <tr>\n",
       "      <th>4207</th>\n",
       "      <td>892140429</td>\n",
       "      <td>25</td>\n",
       "      <td>0</td>\n",
       "      <td>NaN</td>\n",
       "      <td>United Kingdom (Great Britain)</td>\n",
       "      <td>10</td>\n",
       "      <td>1</td>\n",
       "      <td>22</td>\n",
       "      <td>28</td>\n",
       "      <td>4</td>\n",
       "      <td>NaN</td>\n",
       "      <td>NaN</td>\n",
       "      <td>0</td>\n",
       "    </tr>\n",
       "    <tr>\n",
       "      <th>4022</th>\n",
       "      <td>891073722</td>\n",
       "      <td>47</td>\n",
       "      <td>631</td>\n",
       "      <td>NaN</td>\n",
       "      <td>United States of America</td>\n",
       "      <td>1</td>\n",
       "      <td>1</td>\n",
       "      <td>44</td>\n",
       "      <td>50</td>\n",
       "      <td>19</td>\n",
       "      <td>NaN</td>\n",
       "      <td>NaN</td>\n",
       "      <td>0</td>\n",
       "    </tr>\n",
       "  </tbody>\n",
       "</table>\n",
       "</div>"
      ],
      "text/plain": [
       "            uid  age  attraction_coeff  coins                         country  \\\n",
       "611   891875082   51               190    NaN                           Chile   \n",
       "3075  892332546   28               166    NaN                           Italy   \n",
       "2849  891682371   58               665    NaN                          France   \n",
       "4207  892140429   25                 0    NaN  United Kingdom (Great Britain)   \n",
       "4022  891073722   47               631    NaN        United States of America   \n",
       "\n",
       "                                     visit_days  gender  age_filter_start  \\\n",
       "611                                           1       1                48   \n",
       "3075                                        1,2       1                25   \n",
       "2849  1,2,3,4,5,6,7,8,9,10,11,12,13,14,15,16,17       1                55   \n",
       "4207                                         10       1                22   \n",
       "4022                                          1       1                44   \n",
       "\n",
       "      age_filter_end  views_count  was_premium  is_premium  total_revenue  \n",
       "611               54           42          NaN         NaN              0  \n",
       "3075              31            6          NaN         NaN              0  \n",
       "2849              61          308          NaN         NaN              0  \n",
       "4207              28            4          NaN         NaN              0  \n",
       "4022              50           19          NaN         NaN              0  "
      ]
     },
     "execution_count": 5,
     "metadata": {},
     "output_type": "execute_result"
    }
   ],
   "source": [
    "ut.sample(5)"
   ]
  },
  {
   "cell_type": "code",
   "execution_count": 6,
   "metadata": {},
   "outputs": [
    {
     "data": {
      "text/html": [
       "<div>\n",
       "<style scoped>\n",
       "    .dataframe tbody tr th:only-of-type {\n",
       "        vertical-align: middle;\n",
       "    }\n",
       "\n",
       "    .dataframe tbody tr th {\n",
       "        vertical-align: top;\n",
       "    }\n",
       "\n",
       "    .dataframe thead th {\n",
       "        text-align: right;\n",
       "    }\n",
       "</style>\n",
       "<table border=\"1\" class=\"dataframe\">\n",
       "  <thead>\n",
       "    <tr style=\"text-align: right;\">\n",
       "      <th></th>\n",
       "      <th>uid</th>\n",
       "      <th>age</th>\n",
       "      <th>attraction_coeff</th>\n",
       "      <th>coins</th>\n",
       "      <th>country</th>\n",
       "      <th>visit_days</th>\n",
       "      <th>gender</th>\n",
       "      <th>age_filter_start</th>\n",
       "      <th>age_filter_end</th>\n",
       "      <th>views_count</th>\n",
       "      <th>was_premium</th>\n",
       "      <th>is_premium</th>\n",
       "      <th>total_revenue</th>\n",
       "    </tr>\n",
       "  </thead>\n",
       "  <tbody>\n",
       "    <tr>\n",
       "      <th>3069</th>\n",
       "      <td>891717183</td>\n",
       "      <td>37</td>\n",
       "      <td>263</td>\n",
       "      <td>NaN</td>\n",
       "      <td>United States of America</td>\n",
       "      <td>1,2</td>\n",
       "      <td>1</td>\n",
       "      <td>34</td>\n",
       "      <td>40</td>\n",
       "      <td>19</td>\n",
       "      <td>NaN</td>\n",
       "      <td>NaN</td>\n",
       "      <td>0</td>\n",
       "    </tr>\n",
       "    <tr>\n",
       "      <th>1075</th>\n",
       "      <td>892345077</td>\n",
       "      <td>30</td>\n",
       "      <td>428</td>\n",
       "      <td>NaN</td>\n",
       "      <td>United States of America</td>\n",
       "      <td>NaN</td>\n",
       "      <td>1</td>\n",
       "      <td>27</td>\n",
       "      <td>33</td>\n",
       "      <td>7</td>\n",
       "      <td>NaN</td>\n",
       "      <td>NaN</td>\n",
       "      <td>0</td>\n",
       "    </tr>\n",
       "    <tr>\n",
       "      <th>731</th>\n",
       "      <td>892157961</td>\n",
       "      <td>39</td>\n",
       "      <td>500</td>\n",
       "      <td>NaN</td>\n",
       "      <td>Argentina</td>\n",
       "      <td>1,10,11,12,16,17</td>\n",
       "      <td>1</td>\n",
       "      <td>30</td>\n",
       "      <td>45</td>\n",
       "      <td>2</td>\n",
       "      <td>NaN</td>\n",
       "      <td>NaN</td>\n",
       "      <td>0</td>\n",
       "    </tr>\n",
       "    <tr>\n",
       "      <th>4323</th>\n",
       "      <td>892142625</td>\n",
       "      <td>34</td>\n",
       "      <td>588</td>\n",
       "      <td>NaN</td>\n",
       "      <td>France</td>\n",
       "      <td>2,3,5,6,7,8,9,10,11</td>\n",
       "      <td>1</td>\n",
       "      <td>31</td>\n",
       "      <td>37</td>\n",
       "      <td>17</td>\n",
       "      <td>NaN</td>\n",
       "      <td>NaN</td>\n",
       "      <td>0</td>\n",
       "    </tr>\n",
       "    <tr>\n",
       "      <th>2523</th>\n",
       "      <td>891876207</td>\n",
       "      <td>33</td>\n",
       "      <td>281</td>\n",
       "      <td>NaN</td>\n",
       "      <td>United Arab Emirates</td>\n",
       "      <td>1,2,3</td>\n",
       "      <td>1</td>\n",
       "      <td>29</td>\n",
       "      <td>35</td>\n",
       "      <td>71</td>\n",
       "      <td>1.0</td>\n",
       "      <td>NaN</td>\n",
       "      <td>0</td>\n",
       "    </tr>\n",
       "  </tbody>\n",
       "</table>\n",
       "</div>"
      ],
      "text/plain": [
       "            uid  age  attraction_coeff  coins                   country  \\\n",
       "3069  891717183   37               263    NaN  United States of America   \n",
       "1075  892345077   30               428    NaN  United States of America   \n",
       "731   892157961   39               500    NaN                 Argentina   \n",
       "4323  892142625   34               588    NaN                    France   \n",
       "2523  891876207   33               281    NaN      United Arab Emirates   \n",
       "\n",
       "               visit_days  gender  age_filter_start  age_filter_end  \\\n",
       "3069                  1,2       1                34              40   \n",
       "1075                  NaN       1                27              33   \n",
       "731      1,10,11,12,16,17       1                30              45   \n",
       "4323  2,3,5,6,7,8,9,10,11       1                31              37   \n",
       "2523                1,2,3       1                29              35   \n",
       "\n",
       "      views_count  was_premium  is_premium  total_revenue  \n",
       "3069           19          NaN         NaN              0  \n",
       "1075            7          NaN         NaN              0  \n",
       "731             2          NaN         NaN              0  \n",
       "4323           17          NaN         NaN              0  \n",
       "2523           71          1.0         NaN              0  "
      ]
     },
     "execution_count": 6,
     "metadata": {},
     "output_type": "execute_result"
    }
   ],
   "source": [
    "uc1.sample(5)"
   ]
  },
  {
   "cell_type": "code",
   "execution_count": 7,
   "metadata": {},
   "outputs": [
    {
     "data": {
      "text/html": [
       "<div>\n",
       "<style scoped>\n",
       "    .dataframe tbody tr th:only-of-type {\n",
       "        vertical-align: middle;\n",
       "    }\n",
       "\n",
       "    .dataframe tbody tr th {\n",
       "        vertical-align: top;\n",
       "    }\n",
       "\n",
       "    .dataframe thead th {\n",
       "        text-align: right;\n",
       "    }\n",
       "</style>\n",
       "<table border=\"1\" class=\"dataframe\">\n",
       "  <thead>\n",
       "    <tr style=\"text-align: right;\">\n",
       "      <th></th>\n",
       "      <th>uid</th>\n",
       "      <th>age</th>\n",
       "      <th>attraction_coeff</th>\n",
       "      <th>coins</th>\n",
       "      <th>country</th>\n",
       "      <th>visit_days</th>\n",
       "      <th>gender</th>\n",
       "      <th>age_filter_start</th>\n",
       "      <th>age_filter_end</th>\n",
       "      <th>views_count</th>\n",
       "      <th>was_premium</th>\n",
       "      <th>is_premium</th>\n",
       "      <th>total_revenue</th>\n",
       "    </tr>\n",
       "  </thead>\n",
       "  <tbody>\n",
       "    <tr>\n",
       "      <th>760</th>\n",
       "      <td>891394224</td>\n",
       "      <td>47</td>\n",
       "      <td>0</td>\n",
       "      <td>NaN</td>\n",
       "      <td>Italy</td>\n",
       "      <td>1,3</td>\n",
       "      <td>1</td>\n",
       "      <td>44</td>\n",
       "      <td>50</td>\n",
       "      <td>6</td>\n",
       "      <td>NaN</td>\n",
       "      <td>NaN</td>\n",
       "      <td>0</td>\n",
       "    </tr>\n",
       "    <tr>\n",
       "      <th>1719</th>\n",
       "      <td>891228711</td>\n",
       "      <td>39</td>\n",
       "      <td>652</td>\n",
       "      <td>NaN</td>\n",
       "      <td>United States of America</td>\n",
       "      <td>1,2,3,4,5,6,7</td>\n",
       "      <td>1</td>\n",
       "      <td>36</td>\n",
       "      <td>42</td>\n",
       "      <td>23</td>\n",
       "      <td>NaN</td>\n",
       "      <td>NaN</td>\n",
       "      <td>0</td>\n",
       "    </tr>\n",
       "    <tr>\n",
       "      <th>2591</th>\n",
       "      <td>891609360</td>\n",
       "      <td>23</td>\n",
       "      <td>474</td>\n",
       "      <td>1.0</td>\n",
       "      <td>Italy</td>\n",
       "      <td>1,2,3,4,5,6,7,8,9,10,11,12,13,14</td>\n",
       "      <td>1</td>\n",
       "      <td>20</td>\n",
       "      <td>26</td>\n",
       "      <td>78</td>\n",
       "      <td>1.0</td>\n",
       "      <td>NaN</td>\n",
       "      <td>3913</td>\n",
       "    </tr>\n",
       "    <tr>\n",
       "      <th>3482</th>\n",
       "      <td>892217922</td>\n",
       "      <td>37</td>\n",
       "      <td>500</td>\n",
       "      <td>NaN</td>\n",
       "      <td>Switzerland</td>\n",
       "      <td>1,2,3,4</td>\n",
       "      <td>1</td>\n",
       "      <td>34</td>\n",
       "      <td>40</td>\n",
       "      <td>2</td>\n",
       "      <td>NaN</td>\n",
       "      <td>NaN</td>\n",
       "      <td>0</td>\n",
       "    </tr>\n",
       "    <tr>\n",
       "      <th>3661</th>\n",
       "      <td>891320358</td>\n",
       "      <td>31</td>\n",
       "      <td>250</td>\n",
       "      <td>NaN</td>\n",
       "      <td>Chile</td>\n",
       "      <td>1</td>\n",
       "      <td>1</td>\n",
       "      <td>20</td>\n",
       "      <td>40</td>\n",
       "      <td>4</td>\n",
       "      <td>NaN</td>\n",
       "      <td>NaN</td>\n",
       "      <td>0</td>\n",
       "    </tr>\n",
       "  </tbody>\n",
       "</table>\n",
       "</div>"
      ],
      "text/plain": [
       "            uid  age  attraction_coeff  coins                   country  \\\n",
       "760   891394224   47                 0    NaN                     Italy   \n",
       "1719  891228711   39               652    NaN  United States of America   \n",
       "2591  891609360   23               474    1.0                     Italy   \n",
       "3482  892217922   37               500    NaN               Switzerland   \n",
       "3661  891320358   31               250    NaN                     Chile   \n",
       "\n",
       "                            visit_days  gender  age_filter_start  \\\n",
       "760                                1,3       1                44   \n",
       "1719                     1,2,3,4,5,6,7       1                36   \n",
       "2591  1,2,3,4,5,6,7,8,9,10,11,12,13,14       1                20   \n",
       "3482                           1,2,3,4       1                34   \n",
       "3661                                 1       1                20   \n",
       "\n",
       "      age_filter_end  views_count  was_premium  is_premium  total_revenue  \n",
       "760               50            6          NaN         NaN              0  \n",
       "1719              42           23          NaN         NaN              0  \n",
       "2591              26           78          1.0         NaN           3913  \n",
       "3482              40            2          NaN         NaN              0  \n",
       "3661              40            4          NaN         NaN              0  "
      ]
     },
     "execution_count": 7,
     "metadata": {},
     "output_type": "execute_result"
    }
   ],
   "source": [
    "uc2.sample(5)"
   ]
  },
  {
   "cell_type": "markdown",
   "metadata": {},
   "source": [
    "Проверим на наличие дубликатов"
   ]
  },
  {
   "cell_type": "code",
   "execution_count": 8,
   "metadata": {},
   "outputs": [
    {
     "data": {
      "text/plain": [
       "0"
      ]
     },
     "execution_count": 8,
     "metadata": {},
     "output_type": "execute_result"
    }
   ],
   "source": [
    "ut.duplicated().sum()"
   ]
  },
  {
   "cell_type": "code",
   "execution_count": 9,
   "metadata": {},
   "outputs": [
    {
     "data": {
      "text/plain": [
       "0"
      ]
     },
     "execution_count": 9,
     "metadata": {},
     "output_type": "execute_result"
    }
   ],
   "source": [
    "uc1.duplicated().sum()"
   ]
  },
  {
   "cell_type": "code",
   "execution_count": 10,
   "metadata": {},
   "outputs": [
    {
     "data": {
      "text/plain": [
       "0"
      ]
     },
     "execution_count": 10,
     "metadata": {},
     "output_type": "execute_result"
    }
   ],
   "source": [
    "uc2.duplicated().sum()"
   ]
  },
  {
   "cell_type": "markdown",
   "metadata": {},
   "source": [
    "Сравним типы данных в датафреймах users, чтобы понять, можно ли их мерджить и конкатенировать. Заодно проверим пропуски в данных."
   ]
  },
  {
   "cell_type": "code",
   "execution_count": 11,
   "metadata": {},
   "outputs": [
    {
     "name": "stdout",
     "output_type": "stream",
     "text": [
      "<class 'pandas.core.frame.DataFrame'>\n",
      "RangeIndex: 4308 entries, 0 to 4307\n",
      "Data columns (total 13 columns):\n",
      " #   Column            Non-Null Count  Dtype  \n",
      "---  ------            --------------  -----  \n",
      " 0   uid               4308 non-null   int64  \n",
      " 1   age               4308 non-null   int64  \n",
      " 2   attraction_coeff  4308 non-null   int64  \n",
      " 3   coins             49 non-null     float64\n",
      " 4   country           4308 non-null   object \n",
      " 5   visit_days        2978 non-null   object \n",
      " 6   gender            4308 non-null   int64  \n",
      " 7   age_filter_start  4308 non-null   int64  \n",
      " 8   age_filter_end    4308 non-null   int64  \n",
      " 9   views_count       4308 non-null   int64  \n",
      " 10  was_premium       408 non-null    float64\n",
      " 11  is_premium        157 non-null    float64\n",
      " 12  total_revenue     4308 non-null   int64  \n",
      "dtypes: float64(3), int64(8), object(2)\n",
      "memory usage: 437.7+ KB\n"
     ]
    }
   ],
   "source": [
    "ut.info()"
   ]
  },
  {
   "cell_type": "code",
   "execution_count": 12,
   "metadata": {},
   "outputs": [
    {
     "name": "stdout",
     "output_type": "stream",
     "text": [
      "<class 'pandas.core.frame.DataFrame'>\n",
      "RangeIndex: 4340 entries, 0 to 4339\n",
      "Data columns (total 13 columns):\n",
      " #   Column            Non-Null Count  Dtype  \n",
      "---  ------            --------------  -----  \n",
      " 0   uid               4340 non-null   int64  \n",
      " 1   age               4340 non-null   int64  \n",
      " 2   attraction_coeff  4340 non-null   int64  \n",
      " 3   coins             60 non-null     float64\n",
      " 4   country           4340 non-null   object \n",
      " 5   visit_days        3016 non-null   object \n",
      " 6   gender            4340 non-null   int64  \n",
      " 7   age_filter_start  4340 non-null   int64  \n",
      " 8   age_filter_end    4340 non-null   int64  \n",
      " 9   views_count       4340 non-null   int64  \n",
      " 10  was_premium       436 non-null    float64\n",
      " 11  is_premium        192 non-null    float64\n",
      " 12  total_revenue     4340 non-null   int64  \n",
      "dtypes: float64(3), int64(8), object(2)\n",
      "memory usage: 440.9+ KB\n"
     ]
    }
   ],
   "source": [
    "uc1.info()"
   ]
  },
  {
   "cell_type": "code",
   "execution_count": 13,
   "metadata": {
    "scrolled": true
   },
   "outputs": [
    {
     "name": "stdout",
     "output_type": "stream",
     "text": [
      "<class 'pandas.core.frame.DataFrame'>\n",
      "RangeIndex: 4264 entries, 0 to 4263\n",
      "Data columns (total 13 columns):\n",
      " #   Column            Non-Null Count  Dtype  \n",
      "---  ------            --------------  -----  \n",
      " 0   uid               4264 non-null   int64  \n",
      " 1   age               4264 non-null   int64  \n",
      " 2   attraction_coeff  4264 non-null   int64  \n",
      " 3   coins             61 non-null     float64\n",
      " 4   country           4264 non-null   object \n",
      " 5   visit_days        2900 non-null   object \n",
      " 6   gender            4264 non-null   int64  \n",
      " 7   age_filter_start  4264 non-null   int64  \n",
      " 8   age_filter_end    4264 non-null   int64  \n",
      " 9   views_count       4264 non-null   int64  \n",
      " 10  was_premium       411 non-null    float64\n",
      " 11  is_premium        191 non-null    float64\n",
      " 12  total_revenue     4264 non-null   int64  \n",
      "dtypes: float64(3), int64(8), object(2)\n",
      "memory usage: 433.2+ KB\n"
     ]
    }
   ],
   "source": [
    "uc2.info()"
   ]
  },
  {
   "cell_type": "markdown",
   "metadata": {},
   "source": [
    "В датафреймах users типы данных совпадают, можно было бы заменить float на int, но сделаем это позже если потребуется"
   ]
  },
  {
   "cell_type": "markdown",
   "metadata": {},
   "source": [
    "Проверим, все ли uid являются уникальными"
   ]
  },
  {
   "cell_type": "code",
   "execution_count": 14,
   "metadata": {},
   "outputs": [
    {
     "data": {
      "text/plain": [
       "4308"
      ]
     },
     "execution_count": 14,
     "metadata": {},
     "output_type": "execute_result"
    }
   ],
   "source": [
    "ut.uid.nunique()"
   ]
  },
  {
   "cell_type": "code",
   "execution_count": 15,
   "metadata": {},
   "outputs": [
    {
     "data": {
      "text/plain": [
       "4340"
      ]
     },
     "execution_count": 15,
     "metadata": {},
     "output_type": "execute_result"
    }
   ],
   "source": [
    "uc1.uid.nunique()"
   ]
  },
  {
   "cell_type": "code",
   "execution_count": 16,
   "metadata": {},
   "outputs": [
    {
     "data": {
      "text/plain": [
       "4264"
      ]
     },
     "execution_count": 16,
     "metadata": {},
     "output_type": "execute_result"
    }
   ],
   "source": [
    "uc2.uid.nunique()"
   ]
  },
  {
   "cell_type": "markdown",
   "metadata": {},
   "source": [
    "Да, все uid уникальны"
   ]
  },
  {
   "cell_type": "code",
   "execution_count": 17,
   "metadata": {},
   "outputs": [
    {
     "data": {
      "text/html": [
       "<div>\n",
       "<style scoped>\n",
       "    .dataframe tbody tr th:only-of-type {\n",
       "        vertical-align: middle;\n",
       "    }\n",
       "\n",
       "    .dataframe tbody tr th {\n",
       "        vertical-align: top;\n",
       "    }\n",
       "\n",
       "    .dataframe thead th {\n",
       "        text-align: right;\n",
       "    }\n",
       "</style>\n",
       "<table border=\"1\" class=\"dataframe\">\n",
       "  <thead>\n",
       "    <tr style=\"text-align: right;\">\n",
       "      <th></th>\n",
       "      <th>uid</th>\n",
       "      <th>country</th>\n",
       "      <th>joined_at</th>\n",
       "      <th>paid_at</th>\n",
       "      <th>revenue</th>\n",
       "      <th>payment_id</th>\n",
       "      <th>from_page</th>\n",
       "      <th>product_type</th>\n",
       "    </tr>\n",
       "  </thead>\n",
       "  <tbody>\n",
       "    <tr>\n",
       "      <th>121</th>\n",
       "      <td>891605694</td>\n",
       "      <td>Argentina</td>\n",
       "      <td>2017-10-31 05:09:00</td>\n",
       "      <td>2017-11-15 04:33:00</td>\n",
       "      <td>12597</td>\n",
       "      <td>147</td>\n",
       "      <td>popular_users_block</td>\n",
       "      <td>premium_no_trial</td>\n",
       "    </tr>\n",
       "    <tr>\n",
       "      <th>46</th>\n",
       "      <td>891545874</td>\n",
       "      <td>United States of America</td>\n",
       "      <td>2017-01-11 12:50:00</td>\n",
       "      <td>2017-02-11 13:43:00</td>\n",
       "      <td>12597</td>\n",
       "      <td>147</td>\n",
       "      <td>send_message</td>\n",
       "      <td>premium_no_trial</td>\n",
       "    </tr>\n",
       "    <tr>\n",
       "      <th>123</th>\n",
       "      <td>892431081</td>\n",
       "      <td>United States of America</td>\n",
       "      <td>2017-10-14 06:58:00</td>\n",
       "      <td>2017-10-23 12:40:00</td>\n",
       "      <td>9087</td>\n",
       "      <td>147</td>\n",
       "      <td>trial_vip_popup</td>\n",
       "      <td>trial_premium</td>\n",
       "    </tr>\n",
       "    <tr>\n",
       "      <th>19</th>\n",
       "      <td>891914619</td>\n",
       "      <td>United States of America</td>\n",
       "      <td>2017-10-24 23:12:00</td>\n",
       "      <td>2017-10-25 22:22:00</td>\n",
       "      <td>3783</td>\n",
       "      <td>67</td>\n",
       "      <td>empty_mutual</td>\n",
       "      <td>other_type</td>\n",
       "    </tr>\n",
       "    <tr>\n",
       "      <th>127</th>\n",
       "      <td>892236423</td>\n",
       "      <td>United States of America</td>\n",
       "      <td>2017-10-18 01:09:00</td>\n",
       "      <td>2017-10-27 22:38:00</td>\n",
       "      <td>3783</td>\n",
       "      <td>67</td>\n",
       "      <td>menu</td>\n",
       "      <td>other_type</td>\n",
       "    </tr>\n",
       "  </tbody>\n",
       "</table>\n",
       "</div>"
      ],
      "text/plain": [
       "           uid                   country            joined_at  \\\n",
       "121  891605694                 Argentina  2017-10-31 05:09:00   \n",
       "46   891545874  United States of America  2017-01-11 12:50:00   \n",
       "123  892431081  United States of America  2017-10-14 06:58:00   \n",
       "19   891914619  United States of America  2017-10-24 23:12:00   \n",
       "127  892236423  United States of America  2017-10-18 01:09:00   \n",
       "\n",
       "                 paid_at  revenue  payment_id            from_page  \\\n",
       "121  2017-11-15 04:33:00    12597         147  popular_users_block   \n",
       "46   2017-02-11 13:43:00    12597         147         send_message   \n",
       "123  2017-10-23 12:40:00     9087         147      trial_vip_popup   \n",
       "19   2017-10-25 22:22:00     3783          67         empty_mutual   \n",
       "127  2017-10-27 22:38:00     3783          67                 menu   \n",
       "\n",
       "         product_type  \n",
       "121  premium_no_trial  \n",
       "46   premium_no_trial  \n",
       "123     trial_premium  \n",
       "19         other_type  \n",
       "127        other_type  "
      ]
     },
     "execution_count": 17,
     "metadata": {},
     "output_type": "execute_result"
    }
   ],
   "source": [
    "tt.sample(5)"
   ]
  },
  {
   "cell_type": "code",
   "execution_count": 18,
   "metadata": {},
   "outputs": [
    {
     "data": {
      "text/html": [
       "<div>\n",
       "<style scoped>\n",
       "    .dataframe tbody tr th:only-of-type {\n",
       "        vertical-align: middle;\n",
       "    }\n",
       "\n",
       "    .dataframe tbody tr th {\n",
       "        vertical-align: top;\n",
       "    }\n",
       "\n",
       "    .dataframe thead th {\n",
       "        text-align: right;\n",
       "    }\n",
       "</style>\n",
       "<table border=\"1\" class=\"dataframe\">\n",
       "  <thead>\n",
       "    <tr style=\"text-align: right;\">\n",
       "      <th></th>\n",
       "      <th>uid</th>\n",
       "      <th>country</th>\n",
       "      <th>joined_at</th>\n",
       "      <th>paid_at</th>\n",
       "      <th>revenue</th>\n",
       "      <th>payment_id</th>\n",
       "      <th>from_page</th>\n",
       "      <th>product_type</th>\n",
       "    </tr>\n",
       "  </thead>\n",
       "  <tbody>\n",
       "    <tr>\n",
       "      <th>990</th>\n",
       "      <td>NaN</td>\n",
       "      <td>NaN</td>\n",
       "      <td>NaT</td>\n",
       "      <td>NaT</td>\n",
       "      <td>NaN</td>\n",
       "      <td>NaN</td>\n",
       "      <td>NaN</td>\n",
       "      <td>NaN</td>\n",
       "    </tr>\n",
       "    <tr>\n",
       "      <th>363</th>\n",
       "      <td>891607515.0</td>\n",
       "      <td>Spain</td>\n",
       "      <td>2017-10-31 03:34:00</td>\n",
       "      <td>2017-11-13 15:26:00</td>\n",
       "      <td>6305.0</td>\n",
       "      <td>19.0</td>\n",
       "      <td>menu</td>\n",
       "      <td>coins</td>\n",
       "    </tr>\n",
       "    <tr>\n",
       "      <th>680</th>\n",
       "      <td>NaN</td>\n",
       "      <td>NaN</td>\n",
       "      <td>NaT</td>\n",
       "      <td>NaT</td>\n",
       "      <td>NaN</td>\n",
       "      <td>NaN</td>\n",
       "      <td>NaN</td>\n",
       "      <td>NaN</td>\n",
       "    </tr>\n",
       "    <tr>\n",
       "      <th>67</th>\n",
       "      <td>891819399.0</td>\n",
       "      <td>Spain</td>\n",
       "      <td>2017-10-26 23:46:00</td>\n",
       "      <td>2017-11-11 15:25:00</td>\n",
       "      <td>6357.0</td>\n",
       "      <td>147.0</td>\n",
       "      <td>autoreply_message</td>\n",
       "      <td>premium_no_trial</td>\n",
       "    </tr>\n",
       "    <tr>\n",
       "      <th>738</th>\n",
       "      <td>NaN</td>\n",
       "      <td>NaN</td>\n",
       "      <td>NaT</td>\n",
       "      <td>NaT</td>\n",
       "      <td>NaN</td>\n",
       "      <td>NaN</td>\n",
       "      <td>NaN</td>\n",
       "      <td>NaN</td>\n",
       "    </tr>\n",
       "  </tbody>\n",
       "</table>\n",
       "</div>"
      ],
      "text/plain": [
       "             uid country            joined_at              paid_at  revenue  \\\n",
       "990          NaN     NaN                  NaT                  NaT      NaN   \n",
       "363  891607515.0   Spain  2017-10-31 03:34:00  2017-11-13 15:26:00   6305.0   \n",
       "680          NaN     NaN                  NaT                  NaT      NaN   \n",
       "67   891819399.0   Spain  2017-10-26 23:46:00  2017-11-11 15:25:00   6357.0   \n",
       "738          NaN     NaN                  NaT                  NaT      NaN   \n",
       "\n",
       "     payment_id          from_page      product_type  \n",
       "990         NaN                NaN               NaN  \n",
       "363        19.0               menu             coins  \n",
       "680         NaN                NaN               NaN  \n",
       "67        147.0  autoreply_message  premium_no_trial  \n",
       "738         NaN                NaN               NaN  "
      ]
     },
     "execution_count": 18,
     "metadata": {},
     "output_type": "execute_result"
    }
   ],
   "source": [
    "tc1.sample(5)"
   ]
  },
  {
   "cell_type": "code",
   "execution_count": 19,
   "metadata": {},
   "outputs": [
    {
     "data": {
      "text/html": [
       "<div>\n",
       "<style scoped>\n",
       "    .dataframe tbody tr th:only-of-type {\n",
       "        vertical-align: middle;\n",
       "    }\n",
       "\n",
       "    .dataframe tbody tr th {\n",
       "        vertical-align: top;\n",
       "    }\n",
       "\n",
       "    .dataframe thead th {\n",
       "        text-align: right;\n",
       "    }\n",
       "</style>\n",
       "<table border=\"1\" class=\"dataframe\">\n",
       "  <thead>\n",
       "    <tr style=\"text-align: right;\">\n",
       "      <th></th>\n",
       "      <th>uid</th>\n",
       "      <th>country</th>\n",
       "      <th>joined_at</th>\n",
       "      <th>paid_at</th>\n",
       "      <th>revenue</th>\n",
       "      <th>payment_id</th>\n",
       "      <th>from_page</th>\n",
       "      <th>product_type</th>\n",
       "    </tr>\n",
       "  </thead>\n",
       "  <tbody>\n",
       "    <tr>\n",
       "      <th>92</th>\n",
       "      <td>891826944</td>\n",
       "      <td>Germany</td>\n",
       "      <td>2017-10-26 20:47:00</td>\n",
       "      <td>2017-10-31 22:51:00</td>\n",
       "      <td>6292</td>\n",
       "      <td>147</td>\n",
       "      <td>popular_users_block</td>\n",
       "      <td>premium_no_trial</td>\n",
       "    </tr>\n",
       "    <tr>\n",
       "      <th>238</th>\n",
       "      <td>892001514</td>\n",
       "      <td>United States of America</td>\n",
       "      <td>2017-10-23 02:40:00</td>\n",
       "      <td>2017-10-26 07:24:00</td>\n",
       "      <td>4537</td>\n",
       "      <td>147</td>\n",
       "      <td>promo_09</td>\n",
       "      <td>premium_no_trial</td>\n",
       "    </tr>\n",
       "    <tr>\n",
       "      <th>298</th>\n",
       "      <td>891068079</td>\n",
       "      <td>Argentina</td>\n",
       "      <td>2017-10-11 11:45:00</td>\n",
       "      <td>2017-12-11 15:23:00</td>\n",
       "      <td>6292</td>\n",
       "      <td>147</td>\n",
       "      <td>promo_09</td>\n",
       "      <td>premium_no_trial</td>\n",
       "    </tr>\n",
       "    <tr>\n",
       "      <th>89</th>\n",
       "      <td>892314981</td>\n",
       "      <td>Belgium</td>\n",
       "      <td>2017-10-16 12:51:00</td>\n",
       "      <td>2017-10-24 19:20:00</td>\n",
       "      <td>1261</td>\n",
       "      <td>19</td>\n",
       "      <td>empty_likes</td>\n",
       "      <td>coins</td>\n",
       "    </tr>\n",
       "    <tr>\n",
       "      <th>228</th>\n",
       "      <td>891995541</td>\n",
       "      <td>Ukraine</td>\n",
       "      <td>2017-10-23 08:05:00</td>\n",
       "      <td>2017-10-26 09:37:00</td>\n",
       "      <td>1261</td>\n",
       "      <td>19</td>\n",
       "      <td>empty_likes</td>\n",
       "      <td>coins</td>\n",
       "    </tr>\n",
       "  </tbody>\n",
       "</table>\n",
       "</div>"
      ],
      "text/plain": [
       "           uid                   country            joined_at  \\\n",
       "92   891826944                   Germany  2017-10-26 20:47:00   \n",
       "238  892001514  United States of America  2017-10-23 02:40:00   \n",
       "298  891068079                 Argentina  2017-10-11 11:45:00   \n",
       "89   892314981                   Belgium  2017-10-16 12:51:00   \n",
       "228  891995541                   Ukraine  2017-10-23 08:05:00   \n",
       "\n",
       "                 paid_at  revenue  payment_id            from_page  \\\n",
       "92   2017-10-31 22:51:00     6292         147  popular_users_block   \n",
       "238  2017-10-26 07:24:00     4537         147             promo_09   \n",
       "298  2017-12-11 15:23:00     6292         147             promo_09   \n",
       "89   2017-10-24 19:20:00     1261          19          empty_likes   \n",
       "228  2017-10-26 09:37:00     1261          19          empty_likes   \n",
       "\n",
       "         product_type  \n",
       "92   premium_no_trial  \n",
       "238  premium_no_trial  \n",
       "298  premium_no_trial  \n",
       "89              coins  \n",
       "228             coins  "
      ]
     },
     "execution_count": 19,
     "metadata": {},
     "output_type": "execute_result"
    }
   ],
   "source": [
    "tc2.sample(5)"
   ]
  },
  {
   "cell_type": "markdown",
   "metadata": {},
   "source": [
    "Сравним типы данных в датафреймах transactions, чтобы понять, можно ли их мерджить и конкатенировать. Заодно проверим пропуски в данных."
   ]
  },
  {
   "cell_type": "code",
   "execution_count": 20,
   "metadata": {},
   "outputs": [
    {
     "name": "stdout",
     "output_type": "stream",
     "text": [
      "<class 'pandas.core.frame.DataFrame'>\n",
      "RangeIndex: 273 entries, 0 to 272\n",
      "Data columns (total 8 columns):\n",
      " #   Column        Non-Null Count  Dtype \n",
      "---  ------        --------------  ----- \n",
      " 0   uid           273 non-null    int64 \n",
      " 1   country       273 non-null    object\n",
      " 2   joined_at     273 non-null    object\n",
      " 3   paid_at       273 non-null    object\n",
      " 4   revenue       273 non-null    int64 \n",
      " 5   payment_id    273 non-null    int64 \n",
      " 6   from_page     273 non-null    object\n",
      " 7   product_type  273 non-null    object\n",
      "dtypes: int64(3), object(5)\n",
      "memory usage: 17.2+ KB\n"
     ]
    }
   ],
   "source": [
    "tt.info()"
   ]
  },
  {
   "cell_type": "code",
   "execution_count": 21,
   "metadata": {},
   "outputs": [
    {
     "name": "stdout",
     "output_type": "stream",
     "text": [
      "<class 'pandas.core.frame.DataFrame'>\n",
      "RangeIndex: 1007 entries, 0 to 1006\n",
      "Data columns (total 8 columns):\n",
      " #   Column        Non-Null Count  Dtype  \n",
      "---  ------        --------------  -----  \n",
      " 0   uid           377 non-null    float64\n",
      " 1   country       377 non-null    object \n",
      " 2   joined_at     1007 non-null   object \n",
      " 3   paid_at       1007 non-null   object \n",
      " 4   revenue       377 non-null    float64\n",
      " 5   payment_id    377 non-null    float64\n",
      " 6   from_page     377 non-null    object \n",
      " 7   product_type  377 non-null    object \n",
      "dtypes: float64(3), object(5)\n",
      "memory usage: 63.1+ KB\n"
     ]
    }
   ],
   "source": [
    "\n",
    "tc1.info()"
   ]
  },
  {
   "cell_type": "code",
   "execution_count": 22,
   "metadata": {},
   "outputs": [
    {
     "name": "stdout",
     "output_type": "stream",
     "text": [
      "<class 'pandas.core.frame.DataFrame'>\n",
      "RangeIndex: 328 entries, 0 to 327\n",
      "Data columns (total 8 columns):\n",
      " #   Column        Non-Null Count  Dtype \n",
      "---  ------        --------------  ----- \n",
      " 0   uid           328 non-null    int64 \n",
      " 1   country       328 non-null    object\n",
      " 2   joined_at     328 non-null    object\n",
      " 3   paid_at       328 non-null    object\n",
      " 4   revenue       328 non-null    int64 \n",
      " 5   payment_id    328 non-null    int64 \n",
      " 6   from_page     328 non-null    object\n",
      " 7   product_type  328 non-null    object\n",
      "dtypes: int64(3), object(5)\n",
      "memory usage: 20.6+ KB\n"
     ]
    }
   ],
   "source": [
    "tc2.info()"
   ]
  },
  {
   "cell_type": "code",
   "execution_count": 23,
   "metadata": {},
   "outputs": [],
   "source": [
    "# Удалим пустые строки в таблице tc1\n",
    "tc1 = tc1.dropna()\n",
    "# Приводим колонки с датами к формату даты, в таблице tc1 поменяем тип данных float на int\n",
    "tt.joined_at = pd.to_datetime(tt.joined_at)\n",
    "tc1.joined_at = pd.to_datetime(tc1.joined_at)\n",
    "tc2.joined_at = pd.to_datetime(tc2.joined_at)\n",
    "tt.paid_at  = pd.to_datetime(tt.paid_at)\n",
    "tc1.paid_at  = pd.to_datetime(tc1.paid_at)  \n",
    "tc2.paid_at  = pd.to_datetime(tc2.paid_at)\n",
    "# Поменяем тип данных, чтобы он соответствовал другим таблицам\n",
    "tc1 = tc1\n",
    "for col in ['uid', 'revenue', 'payment_id']:\n",
    "    tc1[col] = tc1[col].astype('int')"
   ]
  },
  {
   "cell_type": "markdown",
   "metadata": {},
   "source": [
    "Проверим на наличие дубликатов"
   ]
  },
  {
   "cell_type": "code",
   "execution_count": 24,
   "metadata": {},
   "outputs": [
    {
     "data": {
      "text/plain": [
       "7"
      ]
     },
     "execution_count": 24,
     "metadata": {},
     "output_type": "execute_result"
    }
   ],
   "source": [
    "tt.duplicated().sum()"
   ]
  },
  {
   "cell_type": "code",
   "execution_count": 25,
   "metadata": {},
   "outputs": [
    {
     "data": {
      "text/html": [
       "<div>\n",
       "<style scoped>\n",
       "    .dataframe tbody tr th:only-of-type {\n",
       "        vertical-align: middle;\n",
       "    }\n",
       "\n",
       "    .dataframe tbody tr th {\n",
       "        vertical-align: top;\n",
       "    }\n",
       "\n",
       "    .dataframe thead th {\n",
       "        text-align: right;\n",
       "    }\n",
       "</style>\n",
       "<table border=\"1\" class=\"dataframe\">\n",
       "  <thead>\n",
       "    <tr style=\"text-align: right;\">\n",
       "      <th></th>\n",
       "      <th>uid</th>\n",
       "      <th>country</th>\n",
       "      <th>joined_at</th>\n",
       "      <th>paid_at</th>\n",
       "      <th>revenue</th>\n",
       "      <th>payment_id</th>\n",
       "      <th>from_page</th>\n",
       "      <th>product_type</th>\n",
       "    </tr>\n",
       "  </thead>\n",
       "  <tbody>\n",
       "    <tr>\n",
       "      <th>15</th>\n",
       "      <td>891508155</td>\n",
       "      <td>Latvia</td>\n",
       "      <td>2017-02-11 09:46:00</td>\n",
       "      <td>2017-03-11 22:06:00</td>\n",
       "      <td>936</td>\n",
       "      <td>19</td>\n",
       "      <td>empty_likes</td>\n",
       "      <td>coins</td>\n",
       "    </tr>\n",
       "    <tr>\n",
       "      <th>158</th>\n",
       "      <td>891508155</td>\n",
       "      <td>Latvia</td>\n",
       "      <td>2017-02-11 09:46:00</td>\n",
       "      <td>2017-03-11 22:06:00</td>\n",
       "      <td>936</td>\n",
       "      <td>19</td>\n",
       "      <td>empty_likes</td>\n",
       "      <td>coins</td>\n",
       "    </tr>\n",
       "    <tr>\n",
       "      <th>80</th>\n",
       "      <td>892050108</td>\n",
       "      <td>Israel</td>\n",
       "      <td>2017-10-22 03:02:00</td>\n",
       "      <td>2017-10-23 02:53:00</td>\n",
       "      <td>1261</td>\n",
       "      <td>19</td>\n",
       "      <td>empty_likes</td>\n",
       "      <td>coins</td>\n",
       "    </tr>\n",
       "    <tr>\n",
       "      <th>96</th>\n",
       "      <td>892050108</td>\n",
       "      <td>Israel</td>\n",
       "      <td>2017-10-22 03:02:00</td>\n",
       "      <td>2017-10-23 02:53:00</td>\n",
       "      <td>1261</td>\n",
       "      <td>19</td>\n",
       "      <td>empty_likes</td>\n",
       "      <td>coins</td>\n",
       "    </tr>\n",
       "    <tr>\n",
       "      <th>179</th>\n",
       "      <td>892202526</td>\n",
       "      <td>United States of America</td>\n",
       "      <td>2017-10-18 20:34:00</td>\n",
       "      <td>2017-10-20 19:54:00</td>\n",
       "      <td>897</td>\n",
       "      <td>19</td>\n",
       "      <td>menu</td>\n",
       "      <td>coins</td>\n",
       "    </tr>\n",
       "    <tr>\n",
       "      <th>205</th>\n",
       "      <td>892202526</td>\n",
       "      <td>United States of America</td>\n",
       "      <td>2017-10-18 20:34:00</td>\n",
       "      <td>2017-10-20 19:54:00</td>\n",
       "      <td>897</td>\n",
       "      <td>19</td>\n",
       "      <td>menu</td>\n",
       "      <td>coins</td>\n",
       "    </tr>\n",
       "    <tr>\n",
       "      <th>2</th>\n",
       "      <td>892236423</td>\n",
       "      <td>United States of America</td>\n",
       "      <td>2017-10-18 01:09:00</td>\n",
       "      <td>2017-10-23 00:15:00</td>\n",
       "      <td>3783</td>\n",
       "      <td>67</td>\n",
       "      <td>menu</td>\n",
       "      <td>other_type</td>\n",
       "    </tr>\n",
       "    <tr>\n",
       "      <th>3</th>\n",
       "      <td>892236423</td>\n",
       "      <td>United States of America</td>\n",
       "      <td>2017-10-18 01:09:00</td>\n",
       "      <td>2017-10-27 22:38:00</td>\n",
       "      <td>3783</td>\n",
       "      <td>67</td>\n",
       "      <td>menu</td>\n",
       "      <td>other_type</td>\n",
       "    </tr>\n",
       "    <tr>\n",
       "      <th>17</th>\n",
       "      <td>892236423</td>\n",
       "      <td>United States of America</td>\n",
       "      <td>2017-10-18 01:09:00</td>\n",
       "      <td>2017-10-22 22:08:00</td>\n",
       "      <td>1261</td>\n",
       "      <td>19</td>\n",
       "      <td>empty_likes</td>\n",
       "      <td>coins</td>\n",
       "    </tr>\n",
       "    <tr>\n",
       "      <th>55</th>\n",
       "      <td>892236423</td>\n",
       "      <td>United States of America</td>\n",
       "      <td>2017-10-18 01:09:00</td>\n",
       "      <td>2017-10-23 00:15:00</td>\n",
       "      <td>3783</td>\n",
       "      <td>67</td>\n",
       "      <td>menu</td>\n",
       "      <td>other_type</td>\n",
       "    </tr>\n",
       "    <tr>\n",
       "      <th>127</th>\n",
       "      <td>892236423</td>\n",
       "      <td>United States of America</td>\n",
       "      <td>2017-10-18 01:09:00</td>\n",
       "      <td>2017-10-27 22:38:00</td>\n",
       "      <td>3783</td>\n",
       "      <td>67</td>\n",
       "      <td>menu</td>\n",
       "      <td>other_type</td>\n",
       "    </tr>\n",
       "    <tr>\n",
       "      <th>188</th>\n",
       "      <td>892236423</td>\n",
       "      <td>United States of America</td>\n",
       "      <td>2017-10-18 01:09:00</td>\n",
       "      <td>2017-10-22 22:08:00</td>\n",
       "      <td>1261</td>\n",
       "      <td>19</td>\n",
       "      <td>empty_likes</td>\n",
       "      <td>coins</td>\n",
       "    </tr>\n",
       "    <tr>\n",
       "      <th>57</th>\n",
       "      <td>892339626</td>\n",
       "      <td>United States of America</td>\n",
       "      <td>2017-10-15 23:21:00</td>\n",
       "      <td>2017-10-20 18:14:00</td>\n",
       "      <td>754</td>\n",
       "      <td>19</td>\n",
       "      <td>empty_likes</td>\n",
       "      <td>coins</td>\n",
       "    </tr>\n",
       "    <tr>\n",
       "      <th>243</th>\n",
       "      <td>892339626</td>\n",
       "      <td>United States of America</td>\n",
       "      <td>2017-10-15 23:21:00</td>\n",
       "      <td>2017-10-20 18:14:00</td>\n",
       "      <td>754</td>\n",
       "      <td>19</td>\n",
       "      <td>empty_likes</td>\n",
       "      <td>coins</td>\n",
       "    </tr>\n",
       "  </tbody>\n",
       "</table>\n",
       "</div>"
      ],
      "text/plain": [
       "           uid                   country           joined_at  \\\n",
       "15   891508155                    Latvia 2017-02-11 09:46:00   \n",
       "158  891508155                    Latvia 2017-02-11 09:46:00   \n",
       "80   892050108                    Israel 2017-10-22 03:02:00   \n",
       "96   892050108                    Israel 2017-10-22 03:02:00   \n",
       "179  892202526  United States of America 2017-10-18 20:34:00   \n",
       "205  892202526  United States of America 2017-10-18 20:34:00   \n",
       "2    892236423  United States of America 2017-10-18 01:09:00   \n",
       "3    892236423  United States of America 2017-10-18 01:09:00   \n",
       "17   892236423  United States of America 2017-10-18 01:09:00   \n",
       "55   892236423  United States of America 2017-10-18 01:09:00   \n",
       "127  892236423  United States of America 2017-10-18 01:09:00   \n",
       "188  892236423  United States of America 2017-10-18 01:09:00   \n",
       "57   892339626  United States of America 2017-10-15 23:21:00   \n",
       "243  892339626  United States of America 2017-10-15 23:21:00   \n",
       "\n",
       "                paid_at  revenue  payment_id    from_page product_type  \n",
       "15  2017-03-11 22:06:00      936          19  empty_likes        coins  \n",
       "158 2017-03-11 22:06:00      936          19  empty_likes        coins  \n",
       "80  2017-10-23 02:53:00     1261          19  empty_likes        coins  \n",
       "96  2017-10-23 02:53:00     1261          19  empty_likes        coins  \n",
       "179 2017-10-20 19:54:00      897          19         menu        coins  \n",
       "205 2017-10-20 19:54:00      897          19         menu        coins  \n",
       "2   2017-10-23 00:15:00     3783          67         menu   other_type  \n",
       "3   2017-10-27 22:38:00     3783          67         menu   other_type  \n",
       "17  2017-10-22 22:08:00     1261          19  empty_likes        coins  \n",
       "55  2017-10-23 00:15:00     3783          67         menu   other_type  \n",
       "127 2017-10-27 22:38:00     3783          67         menu   other_type  \n",
       "188 2017-10-22 22:08:00     1261          19  empty_likes        coins  \n",
       "57  2017-10-20 18:14:00      754          19  empty_likes        coins  \n",
       "243 2017-10-20 18:14:00      754          19  empty_likes        coins  "
      ]
     },
     "execution_count": 25,
     "metadata": {},
     "output_type": "execute_result"
    }
   ],
   "source": [
    "tt.loc[tt.duplicated(keep=False)].sort_values('uid')"
   ]
  },
  {
   "cell_type": "code",
   "execution_count": 26,
   "metadata": {},
   "outputs": [],
   "source": [
    "#  Создаем массив дублированных id для дальнейших проверок\n",
    "duplicates = tt.loc[tt.duplicated(keep=False)].uid.unique()"
   ]
  },
  {
   "cell_type": "code",
   "execution_count": 27,
   "metadata": {},
   "outputs": [
    {
     "data": {
      "text/plain": [
       "21"
      ]
     },
     "execution_count": 27,
     "metadata": {},
     "output_type": "execute_result"
    }
   ],
   "source": [
    "tc1.duplicated().sum()"
   ]
  },
  {
   "cell_type": "code",
   "execution_count": 28,
   "metadata": {},
   "outputs": [
    {
     "data": {
      "text/html": [
       "<div>\n",
       "<style scoped>\n",
       "    .dataframe tbody tr th:only-of-type {\n",
       "        vertical-align: middle;\n",
       "    }\n",
       "\n",
       "    .dataframe tbody tr th {\n",
       "        vertical-align: top;\n",
       "    }\n",
       "\n",
       "    .dataframe thead th {\n",
       "        text-align: right;\n",
       "    }\n",
       "</style>\n",
       "<table border=\"1\" class=\"dataframe\">\n",
       "  <thead>\n",
       "    <tr style=\"text-align: right;\">\n",
       "      <th></th>\n",
       "      <th>uid</th>\n",
       "      <th>country</th>\n",
       "      <th>joined_at</th>\n",
       "      <th>paid_at</th>\n",
       "      <th>revenue</th>\n",
       "      <th>payment_id</th>\n",
       "      <th>from_page</th>\n",
       "      <th>product_type</th>\n",
       "    </tr>\n",
       "  </thead>\n",
       "  <tbody>\n",
       "    <tr>\n",
       "      <th>341</th>\n",
       "      <td>891252072</td>\n",
       "      <td>Argentina</td>\n",
       "      <td>2017-06-11 19:56:00</td>\n",
       "      <td>2017-08-11 18:18:00</td>\n",
       "      <td>1261</td>\n",
       "      <td>19</td>\n",
       "      <td>empty_likes</td>\n",
       "      <td>coins</td>\n",
       "    </tr>\n",
       "    <tr>\n",
       "      <th>344</th>\n",
       "      <td>891252072</td>\n",
       "      <td>Argentina</td>\n",
       "      <td>2017-06-11 19:56:00</td>\n",
       "      <td>2017-08-11 18:18:00</td>\n",
       "      <td>1261</td>\n",
       "      <td>19</td>\n",
       "      <td>empty_likes</td>\n",
       "      <td>coins</td>\n",
       "    </tr>\n",
       "    <tr>\n",
       "      <th>301</th>\n",
       "      <td>891320916</td>\n",
       "      <td>Israel</td>\n",
       "      <td>2017-05-11 19:36:00</td>\n",
       "      <td>2017-07-11 20:04:00</td>\n",
       "      <td>3783</td>\n",
       "      <td>67</td>\n",
       "      <td>empty_likes</td>\n",
       "      <td>other_type</td>\n",
       "    </tr>\n",
       "    <tr>\n",
       "      <th>227</th>\n",
       "      <td>891320916</td>\n",
       "      <td>Israel</td>\n",
       "      <td>2017-05-11 19:36:00</td>\n",
       "      <td>2017-07-11 20:04:00</td>\n",
       "      <td>3783</td>\n",
       "      <td>67</td>\n",
       "      <td>empty_likes</td>\n",
       "      <td>other_type</td>\n",
       "    </tr>\n",
       "    <tr>\n",
       "      <th>22</th>\n",
       "      <td>891365490</td>\n",
       "      <td>United States of America</td>\n",
       "      <td>2017-05-11 03:55:00</td>\n",
       "      <td>2017-06-11 00:28:00</td>\n",
       "      <td>1261</td>\n",
       "      <td>19</td>\n",
       "      <td>empty_likes</td>\n",
       "      <td>coins</td>\n",
       "    </tr>\n",
       "    <tr>\n",
       "      <th>233</th>\n",
       "      <td>891365490</td>\n",
       "      <td>United States of America</td>\n",
       "      <td>2017-05-11 03:55:00</td>\n",
       "      <td>2017-06-11 00:28:00</td>\n",
       "      <td>1261</td>\n",
       "      <td>19</td>\n",
       "      <td>empty_likes</td>\n",
       "      <td>coins</td>\n",
       "    </tr>\n",
       "    <tr>\n",
       "      <th>93</th>\n",
       "      <td>891367521</td>\n",
       "      <td>Italy</td>\n",
       "      <td>2017-05-11 02:37:00</td>\n",
       "      <td>2017-10-11 01:52:00</td>\n",
       "      <td>1469</td>\n",
       "      <td>19</td>\n",
       "      <td>sympathy</td>\n",
       "      <td>other_type</td>\n",
       "    </tr>\n",
       "    <tr>\n",
       "      <th>31</th>\n",
       "      <td>891367521</td>\n",
       "      <td>Italy</td>\n",
       "      <td>2017-05-11 02:37:00</td>\n",
       "      <td>2017-10-11 01:52:00</td>\n",
       "      <td>1469</td>\n",
       "      <td>19</td>\n",
       "      <td>sympathy</td>\n",
       "      <td>other_type</td>\n",
       "    </tr>\n",
       "    <tr>\n",
       "      <th>308</th>\n",
       "      <td>891367521</td>\n",
       "      <td>Italy</td>\n",
       "      <td>2017-05-11 02:37:00</td>\n",
       "      <td>2017-06-11 17:43:00</td>\n",
       "      <td>1456</td>\n",
       "      <td>127</td>\n",
       "      <td>sympathy</td>\n",
       "      <td>other_type</td>\n",
       "    </tr>\n",
       "    <tr>\n",
       "      <th>298</th>\n",
       "      <td>891367521</td>\n",
       "      <td>Italy</td>\n",
       "      <td>2017-05-11 02:37:00</td>\n",
       "      <td>2017-06-11 17:43:00</td>\n",
       "      <td>1456</td>\n",
       "      <td>127</td>\n",
       "      <td>sympathy</td>\n",
       "      <td>other_type</td>\n",
       "    </tr>\n",
       "    <tr>\n",
       "      <th>257</th>\n",
       "      <td>891367521</td>\n",
       "      <td>Italy</td>\n",
       "      <td>2017-05-11 02:37:00</td>\n",
       "      <td>2017-06-11 17:43:00</td>\n",
       "      <td>1456</td>\n",
       "      <td>127</td>\n",
       "      <td>sympathy</td>\n",
       "      <td>other_type</td>\n",
       "    </tr>\n",
       "    <tr>\n",
       "      <th>177</th>\n",
       "      <td>891452706</td>\n",
       "      <td>Italy</td>\n",
       "      <td>2017-03-11 14:48:00</td>\n",
       "      <td>2017-11-11 17:21:00</td>\n",
       "      <td>6305</td>\n",
       "      <td>19</td>\n",
       "      <td>gifts</td>\n",
       "      <td>coins</td>\n",
       "    </tr>\n",
       "    <tr>\n",
       "      <th>216</th>\n",
       "      <td>891452706</td>\n",
       "      <td>Italy</td>\n",
       "      <td>2017-03-11 14:48:00</td>\n",
       "      <td>2017-11-11 17:21:00</td>\n",
       "      <td>6305</td>\n",
       "      <td>19</td>\n",
       "      <td>gifts</td>\n",
       "      <td>coins</td>\n",
       "    </tr>\n",
       "    <tr>\n",
       "      <th>223</th>\n",
       "      <td>891721851</td>\n",
       "      <td>United States of America</td>\n",
       "      <td>2017-10-29 02:50:00</td>\n",
       "      <td>2017-11-14 04:08:00</td>\n",
       "      <td>897</td>\n",
       "      <td>19</td>\n",
       "      <td>empty_likes</td>\n",
       "      <td>coins</td>\n",
       "    </tr>\n",
       "    <tr>\n",
       "      <th>131</th>\n",
       "      <td>891721851</td>\n",
       "      <td>United States of America</td>\n",
       "      <td>2017-10-29 02:50:00</td>\n",
       "      <td>2017-11-14 04:08:00</td>\n",
       "      <td>897</td>\n",
       "      <td>19</td>\n",
       "      <td>empty_likes</td>\n",
       "      <td>coins</td>\n",
       "    </tr>\n",
       "    <tr>\n",
       "      <th>206</th>\n",
       "      <td>891739737</td>\n",
       "      <td>United States of America</td>\n",
       "      <td>2017-10-28 18:50:00</td>\n",
       "      <td>2017-11-13 05:34:00</td>\n",
       "      <td>1261</td>\n",
       "      <td>19</td>\n",
       "      <td>empty_likes</td>\n",
       "      <td>coins</td>\n",
       "    </tr>\n",
       "    <tr>\n",
       "      <th>203</th>\n",
       "      <td>891739737</td>\n",
       "      <td>United States of America</td>\n",
       "      <td>2017-10-28 18:50:00</td>\n",
       "      <td>2017-11-13 05:34:00</td>\n",
       "      <td>1261</td>\n",
       "      <td>19</td>\n",
       "      <td>empty_likes</td>\n",
       "      <td>coins</td>\n",
       "    </tr>\n",
       "    <tr>\n",
       "      <th>172</th>\n",
       "      <td>892102893</td>\n",
       "      <td>United States of America</td>\n",
       "      <td>2017-10-21 02:51:00</td>\n",
       "      <td>2017-10-22 23:00:00</td>\n",
       "      <td>6305</td>\n",
       "      <td>19</td>\n",
       "      <td>empty_likes</td>\n",
       "      <td>coins</td>\n",
       "    </tr>\n",
       "    <tr>\n",
       "      <th>282</th>\n",
       "      <td>892102893</td>\n",
       "      <td>United States of America</td>\n",
       "      <td>2017-10-21 02:51:00</td>\n",
       "      <td>2017-10-22 23:00:00</td>\n",
       "      <td>6305</td>\n",
       "      <td>19</td>\n",
       "      <td>empty_likes</td>\n",
       "      <td>coins</td>\n",
       "    </tr>\n",
       "    <tr>\n",
       "      <th>310</th>\n",
       "      <td>892102893</td>\n",
       "      <td>United States of America</td>\n",
       "      <td>2017-10-21 02:51:00</td>\n",
       "      <td>2017-10-22 23:00:00</td>\n",
       "      <td>6305</td>\n",
       "      <td>19</td>\n",
       "      <td>empty_likes</td>\n",
       "      <td>coins</td>\n",
       "    </tr>\n",
       "    <tr>\n",
       "      <th>268</th>\n",
       "      <td>892207959</td>\n",
       "      <td>France</td>\n",
       "      <td>2017-10-18 18:30:00</td>\n",
       "      <td>2017-12-11 12:03:00</td>\n",
       "      <td>1261</td>\n",
       "      <td>19</td>\n",
       "      <td>empty_likes</td>\n",
       "      <td>coins</td>\n",
       "    </tr>\n",
       "    <tr>\n",
       "      <th>4</th>\n",
       "      <td>892207959</td>\n",
       "      <td>France</td>\n",
       "      <td>2017-10-18 18:30:00</td>\n",
       "      <td>2017-12-11 12:03:00</td>\n",
       "      <td>1261</td>\n",
       "      <td>19</td>\n",
       "      <td>empty_likes</td>\n",
       "      <td>coins</td>\n",
       "    </tr>\n",
       "    <tr>\n",
       "      <th>176</th>\n",
       "      <td>892207959</td>\n",
       "      <td>France</td>\n",
       "      <td>2017-10-18 18:30:00</td>\n",
       "      <td>2017-10-22 04:49:00</td>\n",
       "      <td>1261</td>\n",
       "      <td>19</td>\n",
       "      <td>empty_likes</td>\n",
       "      <td>coins</td>\n",
       "    </tr>\n",
       "    <tr>\n",
       "      <th>35</th>\n",
       "      <td>892207959</td>\n",
       "      <td>France</td>\n",
       "      <td>2017-10-18 18:30:00</td>\n",
       "      <td>2017-10-22 04:49:00</td>\n",
       "      <td>1261</td>\n",
       "      <td>19</td>\n",
       "      <td>empty_likes</td>\n",
       "      <td>coins</td>\n",
       "    </tr>\n",
       "    <tr>\n",
       "      <th>169</th>\n",
       "      <td>892333905</td>\n",
       "      <td>Italy</td>\n",
       "      <td>2017-10-16 01:38:00</td>\n",
       "      <td>2017-10-16 01:44:00</td>\n",
       "      <td>3783</td>\n",
       "      <td>67</td>\n",
       "      <td>menu</td>\n",
       "      <td>other_type</td>\n",
       "    </tr>\n",
       "    <tr>\n",
       "      <th>149</th>\n",
       "      <td>892333905</td>\n",
       "      <td>Italy</td>\n",
       "      <td>2017-10-16 01:38:00</td>\n",
       "      <td>2017-10-16 02:08:00</td>\n",
       "      <td>1261</td>\n",
       "      <td>19</td>\n",
       "      <td>gifts</td>\n",
       "      <td>coins</td>\n",
       "    </tr>\n",
       "    <tr>\n",
       "      <th>88</th>\n",
       "      <td>892333905</td>\n",
       "      <td>Italy</td>\n",
       "      <td>2017-10-16 01:38:00</td>\n",
       "      <td>2017-10-16 01:58:00</td>\n",
       "      <td>3783</td>\n",
       "      <td>67</td>\n",
       "      <td>empty_admins</td>\n",
       "      <td>other_type</td>\n",
       "    </tr>\n",
       "    <tr>\n",
       "      <th>274</th>\n",
       "      <td>892333905</td>\n",
       "      <td>Italy</td>\n",
       "      <td>2017-10-16 01:38:00</td>\n",
       "      <td>2017-10-16 02:08:00</td>\n",
       "      <td>1261</td>\n",
       "      <td>19</td>\n",
       "      <td>gifts</td>\n",
       "      <td>coins</td>\n",
       "    </tr>\n",
       "    <tr>\n",
       "      <th>76</th>\n",
       "      <td>892333905</td>\n",
       "      <td>Italy</td>\n",
       "      <td>2017-10-16 01:38:00</td>\n",
       "      <td>2017-10-16 18:42:00</td>\n",
       "      <td>31525</td>\n",
       "      <td>19</td>\n",
       "      <td>fans</td>\n",
       "      <td>coins</td>\n",
       "    </tr>\n",
       "    <tr>\n",
       "      <th>296</th>\n",
       "      <td>892333905</td>\n",
       "      <td>Italy</td>\n",
       "      <td>2017-10-16 01:38:00</td>\n",
       "      <td>2017-10-16 01:57:00</td>\n",
       "      <td>3783</td>\n",
       "      <td>67</td>\n",
       "      <td>empty_admins</td>\n",
       "      <td>other_type</td>\n",
       "    </tr>\n",
       "    <tr>\n",
       "      <th>297</th>\n",
       "      <td>892333905</td>\n",
       "      <td>Italy</td>\n",
       "      <td>2017-10-16 01:38:00</td>\n",
       "      <td>2017-10-16 02:26:00</td>\n",
       "      <td>31525</td>\n",
       "      <td>19</td>\n",
       "      <td>menu</td>\n",
       "      <td>coins</td>\n",
       "    </tr>\n",
       "    <tr>\n",
       "      <th>47</th>\n",
       "      <td>892333905</td>\n",
       "      <td>Italy</td>\n",
       "      <td>2017-10-16 01:38:00</td>\n",
       "      <td>2017-10-16 01:44:00</td>\n",
       "      <td>3783</td>\n",
       "      <td>67</td>\n",
       "      <td>menu</td>\n",
       "      <td>other_type</td>\n",
       "    </tr>\n",
       "    <tr>\n",
       "      <th>43</th>\n",
       "      <td>892333905</td>\n",
       "      <td>Italy</td>\n",
       "      <td>2017-10-16 01:38:00</td>\n",
       "      <td>2017-10-16 01:58:00</td>\n",
       "      <td>3783</td>\n",
       "      <td>67</td>\n",
       "      <td>empty_admins</td>\n",
       "      <td>other_type</td>\n",
       "    </tr>\n",
       "    <tr>\n",
       "      <th>304</th>\n",
       "      <td>892333905</td>\n",
       "      <td>Italy</td>\n",
       "      <td>2017-10-16 01:38:00</td>\n",
       "      <td>2017-10-16 02:26:00</td>\n",
       "      <td>31525</td>\n",
       "      <td>19</td>\n",
       "      <td>menu</td>\n",
       "      <td>coins</td>\n",
       "    </tr>\n",
       "    <tr>\n",
       "      <th>28</th>\n",
       "      <td>892333905</td>\n",
       "      <td>Italy</td>\n",
       "      <td>2017-10-16 01:38:00</td>\n",
       "      <td>2017-10-16 01:57:00</td>\n",
       "      <td>3783</td>\n",
       "      <td>67</td>\n",
       "      <td>empty_admins</td>\n",
       "      <td>other_type</td>\n",
       "    </tr>\n",
       "    <tr>\n",
       "      <th>13</th>\n",
       "      <td>892333905</td>\n",
       "      <td>Italy</td>\n",
       "      <td>2017-10-16 01:38:00</td>\n",
       "      <td>2017-10-16 01:44:00</td>\n",
       "      <td>3783</td>\n",
       "      <td>67</td>\n",
       "      <td>menu</td>\n",
       "      <td>other_type</td>\n",
       "    </tr>\n",
       "    <tr>\n",
       "      <th>198</th>\n",
       "      <td>892333905</td>\n",
       "      <td>Italy</td>\n",
       "      <td>2017-10-16 01:38:00</td>\n",
       "      <td>2017-10-16 01:58:00</td>\n",
       "      <td>3783</td>\n",
       "      <td>67</td>\n",
       "      <td>empty_admins</td>\n",
       "      <td>other_type</td>\n",
       "    </tr>\n",
       "    <tr>\n",
       "      <th>359</th>\n",
       "      <td>892333905</td>\n",
       "      <td>Italy</td>\n",
       "      <td>2017-10-16 01:38:00</td>\n",
       "      <td>2017-10-16 18:42:00</td>\n",
       "      <td>31525</td>\n",
       "      <td>19</td>\n",
       "      <td>fans</td>\n",
       "      <td>coins</td>\n",
       "    </tr>\n",
       "  </tbody>\n",
       "</table>\n",
       "</div>"
      ],
      "text/plain": [
       "           uid                   country           joined_at  \\\n",
       "341  891252072                 Argentina 2017-06-11 19:56:00   \n",
       "344  891252072                 Argentina 2017-06-11 19:56:00   \n",
       "301  891320916                    Israel 2017-05-11 19:36:00   \n",
       "227  891320916                    Israel 2017-05-11 19:36:00   \n",
       "22   891365490  United States of America 2017-05-11 03:55:00   \n",
       "233  891365490  United States of America 2017-05-11 03:55:00   \n",
       "93   891367521                     Italy 2017-05-11 02:37:00   \n",
       "31   891367521                     Italy 2017-05-11 02:37:00   \n",
       "308  891367521                     Italy 2017-05-11 02:37:00   \n",
       "298  891367521                     Italy 2017-05-11 02:37:00   \n",
       "257  891367521                     Italy 2017-05-11 02:37:00   \n",
       "177  891452706                     Italy 2017-03-11 14:48:00   \n",
       "216  891452706                     Italy 2017-03-11 14:48:00   \n",
       "223  891721851  United States of America 2017-10-29 02:50:00   \n",
       "131  891721851  United States of America 2017-10-29 02:50:00   \n",
       "206  891739737  United States of America 2017-10-28 18:50:00   \n",
       "203  891739737  United States of America 2017-10-28 18:50:00   \n",
       "172  892102893  United States of America 2017-10-21 02:51:00   \n",
       "282  892102893  United States of America 2017-10-21 02:51:00   \n",
       "310  892102893  United States of America 2017-10-21 02:51:00   \n",
       "268  892207959                    France 2017-10-18 18:30:00   \n",
       "4    892207959                    France 2017-10-18 18:30:00   \n",
       "176  892207959                    France 2017-10-18 18:30:00   \n",
       "35   892207959                    France 2017-10-18 18:30:00   \n",
       "169  892333905                     Italy 2017-10-16 01:38:00   \n",
       "149  892333905                     Italy 2017-10-16 01:38:00   \n",
       "88   892333905                     Italy 2017-10-16 01:38:00   \n",
       "274  892333905                     Italy 2017-10-16 01:38:00   \n",
       "76   892333905                     Italy 2017-10-16 01:38:00   \n",
       "296  892333905                     Italy 2017-10-16 01:38:00   \n",
       "297  892333905                     Italy 2017-10-16 01:38:00   \n",
       "47   892333905                     Italy 2017-10-16 01:38:00   \n",
       "43   892333905                     Italy 2017-10-16 01:38:00   \n",
       "304  892333905                     Italy 2017-10-16 01:38:00   \n",
       "28   892333905                     Italy 2017-10-16 01:38:00   \n",
       "13   892333905                     Italy 2017-10-16 01:38:00   \n",
       "198  892333905                     Italy 2017-10-16 01:38:00   \n",
       "359  892333905                     Italy 2017-10-16 01:38:00   \n",
       "\n",
       "                paid_at  revenue  payment_id     from_page product_type  \n",
       "341 2017-08-11 18:18:00     1261          19   empty_likes        coins  \n",
       "344 2017-08-11 18:18:00     1261          19   empty_likes        coins  \n",
       "301 2017-07-11 20:04:00     3783          67   empty_likes   other_type  \n",
       "227 2017-07-11 20:04:00     3783          67   empty_likes   other_type  \n",
       "22  2017-06-11 00:28:00     1261          19   empty_likes        coins  \n",
       "233 2017-06-11 00:28:00     1261          19   empty_likes        coins  \n",
       "93  2017-10-11 01:52:00     1469          19      sympathy   other_type  \n",
       "31  2017-10-11 01:52:00     1469          19      sympathy   other_type  \n",
       "308 2017-06-11 17:43:00     1456         127      sympathy   other_type  \n",
       "298 2017-06-11 17:43:00     1456         127      sympathy   other_type  \n",
       "257 2017-06-11 17:43:00     1456         127      sympathy   other_type  \n",
       "177 2017-11-11 17:21:00     6305          19         gifts        coins  \n",
       "216 2017-11-11 17:21:00     6305          19         gifts        coins  \n",
       "223 2017-11-14 04:08:00      897          19   empty_likes        coins  \n",
       "131 2017-11-14 04:08:00      897          19   empty_likes        coins  \n",
       "206 2017-11-13 05:34:00     1261          19   empty_likes        coins  \n",
       "203 2017-11-13 05:34:00     1261          19   empty_likes        coins  \n",
       "172 2017-10-22 23:00:00     6305          19   empty_likes        coins  \n",
       "282 2017-10-22 23:00:00     6305          19   empty_likes        coins  \n",
       "310 2017-10-22 23:00:00     6305          19   empty_likes        coins  \n",
       "268 2017-12-11 12:03:00     1261          19   empty_likes        coins  \n",
       "4   2017-12-11 12:03:00     1261          19   empty_likes        coins  \n",
       "176 2017-10-22 04:49:00     1261          19   empty_likes        coins  \n",
       "35  2017-10-22 04:49:00     1261          19   empty_likes        coins  \n",
       "169 2017-10-16 01:44:00     3783          67          menu   other_type  \n",
       "149 2017-10-16 02:08:00     1261          19         gifts        coins  \n",
       "88  2017-10-16 01:58:00     3783          67  empty_admins   other_type  \n",
       "274 2017-10-16 02:08:00     1261          19         gifts        coins  \n",
       "76  2017-10-16 18:42:00    31525          19          fans        coins  \n",
       "296 2017-10-16 01:57:00     3783          67  empty_admins   other_type  \n",
       "297 2017-10-16 02:26:00    31525          19          menu        coins  \n",
       "47  2017-10-16 01:44:00     3783          67          menu   other_type  \n",
       "43  2017-10-16 01:58:00     3783          67  empty_admins   other_type  \n",
       "304 2017-10-16 02:26:00    31525          19          menu        coins  \n",
       "28  2017-10-16 01:57:00     3783          67  empty_admins   other_type  \n",
       "13  2017-10-16 01:44:00     3783          67          menu   other_type  \n",
       "198 2017-10-16 01:58:00     3783          67  empty_admins   other_type  \n",
       "359 2017-10-16 18:42:00    31525          19          fans        coins  "
      ]
     },
     "execution_count": 28,
     "metadata": {},
     "output_type": "execute_result"
    }
   ],
   "source": [
    "tc1.loc[tc1.duplicated(keep=False)].sort_values('uid')"
   ]
  },
  {
   "cell_type": "code",
   "execution_count": 29,
   "metadata": {},
   "outputs": [],
   "source": [
    "duplicates = np.append(duplicates, tc1.loc[tc1.duplicated(keep=False)].uid.unique())"
   ]
  },
  {
   "cell_type": "code",
   "execution_count": 30,
   "metadata": {},
   "outputs": [
    {
     "data": {
      "text/plain": [
       "5"
      ]
     },
     "execution_count": 30,
     "metadata": {},
     "output_type": "execute_result"
    }
   ],
   "source": [
    "tc2.duplicated().sum()"
   ]
  },
  {
   "cell_type": "code",
   "execution_count": 31,
   "metadata": {},
   "outputs": [
    {
     "data": {
      "text/html": [
       "<div>\n",
       "<style scoped>\n",
       "    .dataframe tbody tr th:only-of-type {\n",
       "        vertical-align: middle;\n",
       "    }\n",
       "\n",
       "    .dataframe tbody tr th {\n",
       "        vertical-align: top;\n",
       "    }\n",
       "\n",
       "    .dataframe thead th {\n",
       "        text-align: right;\n",
       "    }\n",
       "</style>\n",
       "<table border=\"1\" class=\"dataframe\">\n",
       "  <thead>\n",
       "    <tr style=\"text-align: right;\">\n",
       "      <th></th>\n",
       "      <th>uid</th>\n",
       "      <th>country</th>\n",
       "      <th>joined_at</th>\n",
       "      <th>paid_at</th>\n",
       "      <th>revenue</th>\n",
       "      <th>payment_id</th>\n",
       "      <th>from_page</th>\n",
       "      <th>product_type</th>\n",
       "    </tr>\n",
       "  </thead>\n",
       "  <tbody>\n",
       "    <tr>\n",
       "      <th>6</th>\n",
       "      <td>891862596</td>\n",
       "      <td>Italy</td>\n",
       "      <td>2017-10-26 01:40:00</td>\n",
       "      <td>2017-10-30 09:01:00</td>\n",
       "      <td>1261</td>\n",
       "      <td>19</td>\n",
       "      <td>empty_likes</td>\n",
       "      <td>coins</td>\n",
       "    </tr>\n",
       "    <tr>\n",
       "      <th>86</th>\n",
       "      <td>891862596</td>\n",
       "      <td>Italy</td>\n",
       "      <td>2017-10-26 01:40:00</td>\n",
       "      <td>2017-10-30 09:01:00</td>\n",
       "      <td>1261</td>\n",
       "      <td>19</td>\n",
       "      <td>empty_likes</td>\n",
       "      <td>coins</td>\n",
       "    </tr>\n",
       "    <tr>\n",
       "      <th>229</th>\n",
       "      <td>892009254</td>\n",
       "      <td>Italy</td>\n",
       "      <td>2017-10-22 22:57:00</td>\n",
       "      <td>2017-10-23 00:06:00</td>\n",
       "      <td>2353</td>\n",
       "      <td>67</td>\n",
       "      <td>empty_likes</td>\n",
       "      <td>other_type</td>\n",
       "    </tr>\n",
       "    <tr>\n",
       "      <th>241</th>\n",
       "      <td>892009254</td>\n",
       "      <td>Italy</td>\n",
       "      <td>2017-10-22 22:57:00</td>\n",
       "      <td>2017-10-23 00:06:00</td>\n",
       "      <td>2353</td>\n",
       "      <td>67</td>\n",
       "      <td>empty_likes</td>\n",
       "      <td>other_type</td>\n",
       "    </tr>\n",
       "    <tr>\n",
       "      <th>285</th>\n",
       "      <td>892045743</td>\n",
       "      <td>Israel</td>\n",
       "      <td>2017-10-22 07:04:00</td>\n",
       "      <td>2017-10-23 20:17:00</td>\n",
       "      <td>1261</td>\n",
       "      <td>19</td>\n",
       "      <td>empty_likes</td>\n",
       "      <td>coins</td>\n",
       "    </tr>\n",
       "    <tr>\n",
       "      <th>321</th>\n",
       "      <td>892045743</td>\n",
       "      <td>Israel</td>\n",
       "      <td>2017-10-22 07:04:00</td>\n",
       "      <td>2017-10-23 20:17:00</td>\n",
       "      <td>1261</td>\n",
       "      <td>19</td>\n",
       "      <td>empty_likes</td>\n",
       "      <td>coins</td>\n",
       "    </tr>\n",
       "    <tr>\n",
       "      <th>221</th>\n",
       "      <td>892062660</td>\n",
       "      <td>United States of America</td>\n",
       "      <td>2017-10-21 21:28:00</td>\n",
       "      <td>2017-10-31 00:53:00</td>\n",
       "      <td>1261</td>\n",
       "      <td>19</td>\n",
       "      <td>empty_likes</td>\n",
       "      <td>coins</td>\n",
       "    </tr>\n",
       "    <tr>\n",
       "      <th>288</th>\n",
       "      <td>892062660</td>\n",
       "      <td>United States of America</td>\n",
       "      <td>2017-10-21 21:28:00</td>\n",
       "      <td>2017-10-31 00:53:00</td>\n",
       "      <td>1261</td>\n",
       "      <td>19</td>\n",
       "      <td>empty_likes</td>\n",
       "      <td>coins</td>\n",
       "    </tr>\n",
       "    <tr>\n",
       "      <th>146</th>\n",
       "      <td>892064328</td>\n",
       "      <td>United States of America</td>\n",
       "      <td>2017-10-21 20:54:00</td>\n",
       "      <td>2017-10-22 01:30:00</td>\n",
       "      <td>6305</td>\n",
       "      <td>19</td>\n",
       "      <td>empty_likes</td>\n",
       "      <td>coins</td>\n",
       "    </tr>\n",
       "    <tr>\n",
       "      <th>235</th>\n",
       "      <td>892064328</td>\n",
       "      <td>United States of America</td>\n",
       "      <td>2017-10-21 20:54:00</td>\n",
       "      <td>2017-10-22 01:30:00</td>\n",
       "      <td>6305</td>\n",
       "      <td>19</td>\n",
       "      <td>empty_likes</td>\n",
       "      <td>coins</td>\n",
       "    </tr>\n",
       "  </tbody>\n",
       "</table>\n",
       "</div>"
      ],
      "text/plain": [
       "           uid                   country           joined_at  \\\n",
       "6    891862596                     Italy 2017-10-26 01:40:00   \n",
       "86   891862596                     Italy 2017-10-26 01:40:00   \n",
       "229  892009254                     Italy 2017-10-22 22:57:00   \n",
       "241  892009254                     Italy 2017-10-22 22:57:00   \n",
       "285  892045743                    Israel 2017-10-22 07:04:00   \n",
       "321  892045743                    Israel 2017-10-22 07:04:00   \n",
       "221  892062660  United States of America 2017-10-21 21:28:00   \n",
       "288  892062660  United States of America 2017-10-21 21:28:00   \n",
       "146  892064328  United States of America 2017-10-21 20:54:00   \n",
       "235  892064328  United States of America 2017-10-21 20:54:00   \n",
       "\n",
       "                paid_at  revenue  payment_id    from_page product_type  \n",
       "6   2017-10-30 09:01:00     1261          19  empty_likes        coins  \n",
       "86  2017-10-30 09:01:00     1261          19  empty_likes        coins  \n",
       "229 2017-10-23 00:06:00     2353          67  empty_likes   other_type  \n",
       "241 2017-10-23 00:06:00     2353          67  empty_likes   other_type  \n",
       "285 2017-10-23 20:17:00     1261          19  empty_likes        coins  \n",
       "321 2017-10-23 20:17:00     1261          19  empty_likes        coins  \n",
       "221 2017-10-31 00:53:00     1261          19  empty_likes        coins  \n",
       "288 2017-10-31 00:53:00     1261          19  empty_likes        coins  \n",
       "146 2017-10-22 01:30:00     6305          19  empty_likes        coins  \n",
       "235 2017-10-22 01:30:00     6305          19  empty_likes        coins  "
      ]
     },
     "execution_count": 31,
     "metadata": {},
     "output_type": "execute_result"
    }
   ],
   "source": [
    "tc2.loc[tc2.duplicated(keep=False)].sort_values('uid')"
   ]
  },
  {
   "cell_type": "code",
   "execution_count": 32,
   "metadata": {},
   "outputs": [],
   "source": [
    "duplicates = np.append(duplicates, tc2.loc[tc2.duplicated(keep=False)].uid.unique())"
   ]
  },
  {
   "cell_type": "code",
   "execution_count": 33,
   "metadata": {},
   "outputs": [
    {
     "data": {
      "text/plain": [
       "array([892236423, 891508155, 892339626, 892050108, 892202526, 892207959,\n",
       "       892333905, 891365490, 891367521, 891721851, 892102893, 891452706,\n",
       "       891739737, 891320916, 891252072, 891862596, 892064328, 892062660,\n",
       "       892009254, 892045743])"
      ]
     },
     "execution_count": 33,
     "metadata": {},
     "output_type": "execute_result"
    }
   ],
   "source": [
    "duplicates"
   ]
  },
  {
   "cell_type": "code",
   "execution_count": 34,
   "metadata": {},
   "outputs": [],
   "source": [
    "# Удалим дубликаты\n",
    "tt = tt.drop_duplicates()\n",
    "tc1 = tc1.drop_duplicates()\n",
    "tc2 = tc2.drop_duplicates()"
   ]
  },
  {
   "cell_type": "code",
   "execution_count": 35,
   "metadata": {},
   "outputs": [],
   "source": [
    "# Сбросим индексы, чтобы они были по порядку\n",
    "tt = tt.reset_index().drop(columns=['index'])\n",
    "tc1 = tc1.reset_index().drop(columns=['index'])\n",
    "tc2 = tc2.reset_index().drop(columns=['index'])"
   ]
  },
  {
   "cell_type": "markdown",
   "metadata": {},
   "source": [
    "Проверяем, все ли хорошо поменялось"
   ]
  },
  {
   "cell_type": "code",
   "execution_count": 36,
   "metadata": {},
   "outputs": [
    {
     "name": "stdout",
     "output_type": "stream",
     "text": [
      "<class 'pandas.core.frame.DataFrame'>\n",
      "RangeIndex: 266 entries, 0 to 265\n",
      "Data columns (total 8 columns):\n",
      " #   Column        Non-Null Count  Dtype         \n",
      "---  ------        --------------  -----         \n",
      " 0   uid           266 non-null    int64         \n",
      " 1   country       266 non-null    object        \n",
      " 2   joined_at     266 non-null    datetime64[ns]\n",
      " 3   paid_at       266 non-null    datetime64[ns]\n",
      " 4   revenue       266 non-null    int64         \n",
      " 5   payment_id    266 non-null    int64         \n",
      " 6   from_page     266 non-null    object        \n",
      " 7   product_type  266 non-null    object        \n",
      "dtypes: datetime64[ns](2), int64(3), object(3)\n",
      "memory usage: 16.8+ KB\n"
     ]
    }
   ],
   "source": [
    "tt.info()"
   ]
  },
  {
   "cell_type": "code",
   "execution_count": 37,
   "metadata": {},
   "outputs": [
    {
     "name": "stdout",
     "output_type": "stream",
     "text": [
      "<class 'pandas.core.frame.DataFrame'>\n",
      "RangeIndex: 356 entries, 0 to 355\n",
      "Data columns (total 8 columns):\n",
      " #   Column        Non-Null Count  Dtype         \n",
      "---  ------        --------------  -----         \n",
      " 0   uid           356 non-null    int64         \n",
      " 1   country       356 non-null    object        \n",
      " 2   joined_at     356 non-null    datetime64[ns]\n",
      " 3   paid_at       356 non-null    datetime64[ns]\n",
      " 4   revenue       356 non-null    int64         \n",
      " 5   payment_id    356 non-null    int64         \n",
      " 6   from_page     356 non-null    object        \n",
      " 7   product_type  356 non-null    object        \n",
      "dtypes: datetime64[ns](2), int64(3), object(3)\n",
      "memory usage: 22.4+ KB\n"
     ]
    }
   ],
   "source": [
    "tc1.info()"
   ]
  },
  {
   "cell_type": "code",
   "execution_count": 38,
   "metadata": {},
   "outputs": [
    {
     "name": "stdout",
     "output_type": "stream",
     "text": [
      "<class 'pandas.core.frame.DataFrame'>\n",
      "RangeIndex: 323 entries, 0 to 322\n",
      "Data columns (total 8 columns):\n",
      " #   Column        Non-Null Count  Dtype         \n",
      "---  ------        --------------  -----         \n",
      " 0   uid           323 non-null    int64         \n",
      " 1   country       323 non-null    object        \n",
      " 2   joined_at     323 non-null    datetime64[ns]\n",
      " 3   paid_at       323 non-null    datetime64[ns]\n",
      " 4   revenue       323 non-null    int64         \n",
      " 5   payment_id    323 non-null    int64         \n",
      " 6   from_page     323 non-null    object        \n",
      " 7   product_type  323 non-null    object        \n",
      "dtypes: datetime64[ns](2), int64(3), object(3)\n",
      "memory usage: 20.3+ KB\n"
     ]
    }
   ],
   "source": [
    "tc2.info()"
   ]
  },
  {
   "cell_type": "markdown",
   "metadata": {},
   "source": [
    "Более подробно посмотрим описательные статистики в ходе дальнейшего анализа"
   ]
  },
  {
   "cell_type": "markdown",
   "metadata": {},
   "source": [
    "# Сформулируем продуктовую гипотезу, которую мы будем проверять в этом проекте"
   ]
  },
  {
   "cell_type": "markdown",
   "metadata": {},
   "source": [
    "Если изменить стоимость пермиум подписки, то ARPU увеличится"
   ]
  },
  {
   "cell_type": "markdown",
   "metadata": {},
   "source": [
    "Почему ARPU? Когда мы изменяем стоимость подписки, возможен сценарий, при котором конверсия в покупку увеличивается, а средний чек снижается (или наоборот). То есть, разные метрики могут изменяться в противоположных направлениях. Чтобы получить общий вывод, нам нужна метрика, которая объединяет и агрегирует оба этих изменения. В нашем случае это ARPU. Однако для полноты картины мы также проанализируем CR и средний чек. Помимо этих трех метрик, связанных с доходом, мы рассмотрим прокси-метрики, отражающие лояльность пользователей, такие как retention на 7, 14, 30 и 60 дни.\n",
    "Почему важно анализировать retention? Мы предполагаем, что изменение цены подписки не окажет значительного влияния на retention, так как этот показатель больше зависит от других аспектов приложения. Тем не менее, нельзя полностью исключить возможность, что после акции CR вырастет, но retention снизится, что может негативно сказаться на долгосрочных доходах. В случае повышения цены подписки CR может уменьшиться, но если retention вырастет, это может привести к увеличению LTV и доходов в перспективе."
   ]
  },
  {
   "cell_type": "markdown",
   "metadata": {},
   "source": [
    "# План исследования"
   ]
  },
  {
   "cell_type": "markdown",
   "metadata": {},
   "source": [
    "1. Проверка формирования групп: 1.1. Проверим, чтобы группы не пересекались, то есть чтобы один и тот же пользователь не входил в разные группы. Если такие пользователи найдутся, удалим их из выборки. 1.2. Убедимся, что группы не отличаются по ключевым показателям, таким как возрастной и половой состав, коэффициент привлекательности, период наблюдений, страны, каналы привлечения пользователей и платежные системы, через которые производилась оплата премиум-подписки. Эти показатели в идеале не должны различаться, чтобы избежать влияния сторонних факторов на конверсию и другие исследуемые показатели. Если будут выявлены различия, потребуется дополнительный анализ для того, чтобы понять, что именно повлияло на показатель: наша акция или другие факторы, например, страна. \n",
    "2. Смотрим есть ли различия между контрольными группами по целем метрикам, если контрольные группы не будут различаться - оставим одну случайно выбранную контрольную группу. Оцениваем ARPU, конверсию в покупку премиум-подписки, средний чек и retention. \n",
    "3. Проводим A/Б тесты. Оцениваем ARPU, конверсию в покупку премиум-подписки, средний чек и retention на 7, 14, 30 и 60 дни.\n",
    "4. Вывод о результате эксперимента."
   ]
  },
  {
   "cell_type": "markdown",
   "metadata": {},
   "source": [
    "# 1. Проверяем как сформированы группы"
   ]
  },
  {
   "cell_type": "markdown",
   "metadata": {},
   "source": [
    "## 1.1 Как соотносятся id в разных группах"
   ]
  },
  {
   "cell_type": "markdown",
   "metadata": {},
   "source": [
    "### Cовпадения по uid между users"
   ]
  },
  {
   "cell_type": "code",
   "execution_count": 39,
   "metadata": {},
   "outputs": [],
   "source": [
    "uids_ut = ut.uid.unique()\n",
    "uids_uc1 = uc1.uid.unique()\n",
    "uids_uc2 = uc2.uid.unique()"
   ]
  },
  {
   "cell_type": "code",
   "execution_count": 40,
   "metadata": {},
   "outputs": [
    {
     "data": {
      "text/plain": [
       "[]"
      ]
     },
     "execution_count": 40,
     "metadata": {},
     "output_type": "execute_result"
    }
   ],
   "source": [
    "list(set(uids_ut) & set(uids_uc1))"
   ]
  },
  {
   "cell_type": "code",
   "execution_count": 41,
   "metadata": {},
   "outputs": [
    {
     "data": {
      "text/plain": [
       "[]"
      ]
     },
     "execution_count": 41,
     "metadata": {},
     "output_type": "execute_result"
    }
   ],
   "source": [
    "list(set(uids_ut) & set(uids_uc2))"
   ]
  },
  {
   "cell_type": "code",
   "execution_count": 42,
   "metadata": {},
   "outputs": [
    {
     "data": {
      "text/plain": [
       "[]"
      ]
     },
     "execution_count": 42,
     "metadata": {},
     "output_type": "execute_result"
    }
   ],
   "source": [
    "list(set(uids_uc1) & set(uids_uc2))"
   ]
  },
  {
   "cell_type": "markdown",
   "metadata": {},
   "source": [
    "### Cовпадения по uid между transactions"
   ]
  },
  {
   "cell_type": "markdown",
   "metadata": {},
   "source": [
    "Проверяем, чтобы не было uid, которые входят в несколько таблиц users"
   ]
  },
  {
   "cell_type": "code",
   "execution_count": 43,
   "metadata": {},
   "outputs": [],
   "source": [
    "uids_tt = tt.uid.unique()\n",
    "uids_tc1 = tc1.uid.unique()\n",
    "uids_tc2 = tc2.uid.unique()"
   ]
  },
  {
   "cell_type": "code",
   "execution_count": 44,
   "metadata": {},
   "outputs": [
    {
     "data": {
      "text/plain": [
       "[]"
      ]
     },
     "execution_count": 44,
     "metadata": {},
     "output_type": "execute_result"
    }
   ],
   "source": [
    "list(set(uids_tt) & set(uids_tc1))"
   ]
  },
  {
   "cell_type": "code",
   "execution_count": 45,
   "metadata": {},
   "outputs": [
    {
     "data": {
      "text/plain": [
       "[]"
      ]
     },
     "execution_count": 45,
     "metadata": {},
     "output_type": "execute_result"
    }
   ],
   "source": [
    "list(set(uids_tt) & set(uids_tc2))"
   ]
  },
  {
   "cell_type": "code",
   "execution_count": 46,
   "metadata": {},
   "outputs": [
    {
     "data": {
      "text/plain": [
       "[]"
      ]
     },
     "execution_count": 46,
     "metadata": {},
     "output_type": "execute_result"
    }
   ],
   "source": [
    "list(set(uids_tt) & set(uids_tc2))"
   ]
  },
  {
   "cell_type": "markdown",
   "metadata": {},
   "source": [
    "### Совпадения между users и transactions"
   ]
  },
  {
   "cell_type": "markdown",
   "metadata": {},
   "source": [
    "Проверим, чтобы в таблицах transactions были только те пользователи, uid которых есть в соответствующей таблице users"
   ]
  },
  {
   "cell_type": "code",
   "execution_count": 47,
   "metadata": {},
   "outputs": [
    {
     "data": {
      "text/plain": [
       "True"
      ]
     },
     "execution_count": 47,
     "metadata": {},
     "output_type": "execute_result"
    }
   ],
   "source": [
    "set(uids_tt).issubset(set(uids_ut))"
   ]
  },
  {
   "cell_type": "code",
   "execution_count": 48,
   "metadata": {},
   "outputs": [
    {
     "data": {
      "text/plain": [
       "True"
      ]
     },
     "execution_count": 48,
     "metadata": {},
     "output_type": "execute_result"
    }
   ],
   "source": [
    "set(uids_tc1).issubset(set(uids_uc1))"
   ]
  },
  {
   "cell_type": "code",
   "execution_count": 49,
   "metadata": {},
   "outputs": [
    {
     "data": {
      "text/plain": [
       "True"
      ]
     },
     "execution_count": 49,
     "metadata": {},
     "output_type": "execute_result"
    }
   ],
   "source": [
    "set(uids_tc2).issubset(set(uids_uc2))"
   ]
  },
  {
   "cell_type": "markdown",
   "metadata": {},
   "source": [
    "## Вывод по блоку 1.1:"
   ]
  },
  {
   "cell_type": "markdown",
   "metadata": {},
   "source": [
    "В каждой таблице users и transactions uid уникальны. В таблицу transactions входят только те uid, которые есть в соответствующей таблице users."
   ]
  },
  {
   "cell_type": "markdown",
   "metadata": {},
   "source": [
    "## 1.2. Оцениваем, различаются ли группы по тем показателям, по которым в теории они различаться не должны"
   ]
  },
  {
   "cell_type": "markdown",
   "metadata": {},
   "source": [
    "### Даты"
   ]
  },
  {
   "cell_type": "code",
   "execution_count": 50,
   "metadata": {},
   "outputs": [
    {
     "data": {
      "text/html": [
       "<div>\n",
       "<style scoped>\n",
       "    .dataframe tbody tr th:only-of-type {\n",
       "        vertical-align: middle;\n",
       "    }\n",
       "\n",
       "    .dataframe tbody tr th {\n",
       "        vertical-align: top;\n",
       "    }\n",
       "\n",
       "    .dataframe thead th {\n",
       "        text-align: right;\n",
       "    }\n",
       "</style>\n",
       "<table border=\"1\" class=\"dataframe\">\n",
       "  <thead>\n",
       "    <tr style=\"text-align: right;\">\n",
       "      <th></th>\n",
       "      <th>joined_at</th>\n",
       "      <th>paid_at</th>\n",
       "    </tr>\n",
       "  </thead>\n",
       "  <tbody>\n",
       "    <tr>\n",
       "      <th>count</th>\n",
       "      <td>266</td>\n",
       "      <td>266</td>\n",
       "    </tr>\n",
       "    <tr>\n",
       "      <th>mean</th>\n",
       "      <td>2017-09-05 04:54:23.909774080</td>\n",
       "      <td>2017-09-05 08:19:27.969924864</td>\n",
       "    </tr>\n",
       "    <tr>\n",
       "      <th>min</th>\n",
       "      <td>2017-01-11 03:07:00</td>\n",
       "      <td>2017-01-11 04:37:00</td>\n",
       "    </tr>\n",
       "    <tr>\n",
       "      <th>25%</th>\n",
       "      <td>2017-08-11 03:54:00</td>\n",
       "      <td>2017-07-11 20:57:45</td>\n",
       "    </tr>\n",
       "    <tr>\n",
       "      <th>50%</th>\n",
       "      <td>2017-10-18 20:34:00</td>\n",
       "      <td>2017-10-22 14:40:30</td>\n",
       "    </tr>\n",
       "    <tr>\n",
       "      <th>75%</th>\n",
       "      <td>2017-10-23 13:08:00</td>\n",
       "      <td>2017-10-29 07:48:00</td>\n",
       "    </tr>\n",
       "    <tr>\n",
       "      <th>max</th>\n",
       "      <td>2017-10-31 23:40:00</td>\n",
       "      <td>2017-12-11 22:06:00</td>\n",
       "    </tr>\n",
       "  </tbody>\n",
       "</table>\n",
       "</div>"
      ],
      "text/plain": [
       "                           joined_at                        paid_at\n",
       "count                            266                            266\n",
       "mean   2017-09-05 04:54:23.909774080  2017-09-05 08:19:27.969924864\n",
       "min              2017-01-11 03:07:00            2017-01-11 04:37:00\n",
       "25%              2017-08-11 03:54:00            2017-07-11 20:57:45\n",
       "50%              2017-10-18 20:34:00            2017-10-22 14:40:30\n",
       "75%              2017-10-23 13:08:00            2017-10-29 07:48:00\n",
       "max              2017-10-31 23:40:00            2017-12-11 22:06:00"
      ]
     },
     "execution_count": 50,
     "metadata": {},
     "output_type": "execute_result"
    }
   ],
   "source": [
    "tt[['joined_at', 'paid_at']].describe(datetime_is_numeric=True)"
   ]
  },
  {
   "cell_type": "code",
   "execution_count": 51,
   "metadata": {},
   "outputs": [
    {
     "data": {
      "text/html": [
       "<div>\n",
       "<style scoped>\n",
       "    .dataframe tbody tr th:only-of-type {\n",
       "        vertical-align: middle;\n",
       "    }\n",
       "\n",
       "    .dataframe tbody tr th {\n",
       "        vertical-align: top;\n",
       "    }\n",
       "\n",
       "    .dataframe thead th {\n",
       "        text-align: right;\n",
       "    }\n",
       "</style>\n",
       "<table border=\"1\" class=\"dataframe\">\n",
       "  <thead>\n",
       "    <tr style=\"text-align: right;\">\n",
       "      <th></th>\n",
       "      <th>joined_at</th>\n",
       "      <th>paid_at</th>\n",
       "    </tr>\n",
       "  </thead>\n",
       "  <tbody>\n",
       "    <tr>\n",
       "      <th>count</th>\n",
       "      <td>356</td>\n",
       "      <td>356</td>\n",
       "    </tr>\n",
       "    <tr>\n",
       "      <th>mean</th>\n",
       "      <td>2017-08-21 21:52:31.685393152</td>\n",
       "      <td>2017-09-03 23:56:06.067415808</td>\n",
       "    </tr>\n",
       "    <tr>\n",
       "      <th>min</th>\n",
       "      <td>2015-01-19 11:49:00</td>\n",
       "      <td>2016-12-14 16:16:00</td>\n",
       "    </tr>\n",
       "    <tr>\n",
       "      <th>25%</th>\n",
       "      <td>2017-06-11 17:41:45</td>\n",
       "      <td>2017-07-11 11:56:15</td>\n",
       "    </tr>\n",
       "    <tr>\n",
       "      <th>50%</th>\n",
       "      <td>2017-10-17 03:36:00</td>\n",
       "      <td>2017-10-17 10:34:30</td>\n",
       "    </tr>\n",
       "    <tr>\n",
       "      <th>75%</th>\n",
       "      <td>2017-10-23 12:14:30</td>\n",
       "      <td>2017-10-28 05:51:45</td>\n",
       "    </tr>\n",
       "    <tr>\n",
       "      <th>max</th>\n",
       "      <td>2017-10-31 22:17:00</td>\n",
       "      <td>2017-12-11 21:57:00</td>\n",
       "    </tr>\n",
       "  </tbody>\n",
       "</table>\n",
       "</div>"
      ],
      "text/plain": [
       "                           joined_at                        paid_at\n",
       "count                            356                            356\n",
       "mean   2017-08-21 21:52:31.685393152  2017-09-03 23:56:06.067415808\n",
       "min              2015-01-19 11:49:00            2016-12-14 16:16:00\n",
       "25%              2017-06-11 17:41:45            2017-07-11 11:56:15\n",
       "50%              2017-10-17 03:36:00            2017-10-17 10:34:30\n",
       "75%              2017-10-23 12:14:30            2017-10-28 05:51:45\n",
       "max              2017-10-31 22:17:00            2017-12-11 21:57:00"
      ]
     },
     "execution_count": 51,
     "metadata": {},
     "output_type": "execute_result"
    }
   ],
   "source": [
    "tc1[['joined_at', 'paid_at']].describe(datetime_is_numeric=True)"
   ]
  },
  {
   "cell_type": "code",
   "execution_count": 52,
   "metadata": {},
   "outputs": [
    {
     "data": {
      "text/html": [
       "<div>\n",
       "<style scoped>\n",
       "    .dataframe tbody tr th:only-of-type {\n",
       "        vertical-align: middle;\n",
       "    }\n",
       "\n",
       "    .dataframe tbody tr th {\n",
       "        vertical-align: top;\n",
       "    }\n",
       "\n",
       "    .dataframe thead th {\n",
       "        text-align: right;\n",
       "    }\n",
       "</style>\n",
       "<table border=\"1\" class=\"dataframe\">\n",
       "  <thead>\n",
       "    <tr style=\"text-align: right;\">\n",
       "      <th></th>\n",
       "      <th>joined_at</th>\n",
       "      <th>paid_at</th>\n",
       "    </tr>\n",
       "  </thead>\n",
       "  <tbody>\n",
       "    <tr>\n",
       "      <th>count</th>\n",
       "      <td>323</td>\n",
       "      <td>323</td>\n",
       "    </tr>\n",
       "    <tr>\n",
       "      <th>mean</th>\n",
       "      <td>2017-09-18 19:07:11.702786560</td>\n",
       "      <td>2017-09-03 21:10:33.250774016</td>\n",
       "    </tr>\n",
       "    <tr>\n",
       "      <th>min</th>\n",
       "      <td>2017-01-11 08:36:00</td>\n",
       "      <td>2017-01-11 05:34:00</td>\n",
       "    </tr>\n",
       "    <tr>\n",
       "      <th>25%</th>\n",
       "      <td>2017-10-11 11:45:00</td>\n",
       "      <td>2017-07-11 11:45:00</td>\n",
       "    </tr>\n",
       "    <tr>\n",
       "      <th>50%</th>\n",
       "      <td>2017-10-20 14:49:00</td>\n",
       "      <td>2017-10-21 20:12:00</td>\n",
       "    </tr>\n",
       "    <tr>\n",
       "      <th>75%</th>\n",
       "      <td>2017-10-26 01:52:30</td>\n",
       "      <td>2017-10-28 10:42:30</td>\n",
       "    </tr>\n",
       "    <tr>\n",
       "      <th>max</th>\n",
       "      <td>2017-10-31 17:43:00</td>\n",
       "      <td>2017-12-11 23:28:00</td>\n",
       "    </tr>\n",
       "  </tbody>\n",
       "</table>\n",
       "</div>"
      ],
      "text/plain": [
       "                           joined_at                        paid_at\n",
       "count                            323                            323\n",
       "mean   2017-09-18 19:07:11.702786560  2017-09-03 21:10:33.250774016\n",
       "min              2017-01-11 08:36:00            2017-01-11 05:34:00\n",
       "25%              2017-10-11 11:45:00            2017-07-11 11:45:00\n",
       "50%              2017-10-20 14:49:00            2017-10-21 20:12:00\n",
       "75%              2017-10-26 01:52:30            2017-10-28 10:42:30\n",
       "max              2017-10-31 17:43:00            2017-12-11 23:28:00"
      ]
     },
     "execution_count": 52,
     "metadata": {},
     "output_type": "execute_result"
    }
   ],
   "source": [
    "tc2[['joined_at', 'paid_at']].describe(datetime_is_numeric=True)"
   ]
  },
  {
   "cell_type": "markdown",
   "metadata": {},
   "source": [
    "Видно что в тесте и в контроле_2 данные собраны за одно и тоже время: с 11 января по 31 октября 2017 года. А в контроле_1 сбор данных начался 19 января 2015. Это не очень корректно, проверим, сколько данных было собрано до 2017-01-11"
   ]
  },
  {
   "cell_type": "code",
   "execution_count": 53,
   "metadata": {},
   "outputs": [
    {
     "data": {
      "text/html": [
       "<div>\n",
       "<style scoped>\n",
       "    .dataframe tbody tr th:only-of-type {\n",
       "        vertical-align: middle;\n",
       "    }\n",
       "\n",
       "    .dataframe tbody tr th {\n",
       "        vertical-align: top;\n",
       "    }\n",
       "\n",
       "    .dataframe thead th {\n",
       "        text-align: right;\n",
       "    }\n",
       "</style>\n",
       "<table border=\"1\" class=\"dataframe\">\n",
       "  <thead>\n",
       "    <tr style=\"text-align: right;\">\n",
       "      <th></th>\n",
       "      <th>uid</th>\n",
       "      <th>country</th>\n",
       "      <th>joined_at</th>\n",
       "      <th>paid_at</th>\n",
       "      <th>revenue</th>\n",
       "      <th>payment_id</th>\n",
       "      <th>from_page</th>\n",
       "      <th>product_type</th>\n",
       "    </tr>\n",
       "  </thead>\n",
       "  <tbody>\n",
       "    <tr>\n",
       "      <th>64</th>\n",
       "      <td>960936960</td>\n",
       "      <td>Russian Federation</td>\n",
       "      <td>2015-01-19 11:49:00</td>\n",
       "      <td>2016-12-14 17:30:00</td>\n",
       "      <td>26</td>\n",
       "      <td>0</td>\n",
       "      <td>refund_VP</td>\n",
       "      <td>other_type</td>\n",
       "    </tr>\n",
       "    <tr>\n",
       "      <th>98</th>\n",
       "      <td>960936960</td>\n",
       "      <td>Russian Federation</td>\n",
       "      <td>2015-01-19 11:49:00</td>\n",
       "      <td>2016-12-14 17:35:00</td>\n",
       "      <td>637</td>\n",
       "      <td>0</td>\n",
       "      <td>refung_AP</td>\n",
       "      <td>other_type</td>\n",
       "    </tr>\n",
       "    <tr>\n",
       "      <th>215</th>\n",
       "      <td>960936960</td>\n",
       "      <td>Russian Federation</td>\n",
       "      <td>2015-01-19 11:49:00</td>\n",
       "      <td>2016-12-14 16:16:00</td>\n",
       "      <td>143</td>\n",
       "      <td>0</td>\n",
       "      <td>refund_WP</td>\n",
       "      <td>other_type</td>\n",
       "    </tr>\n",
       "  </tbody>\n",
       "</table>\n",
       "</div>"
      ],
      "text/plain": [
       "           uid             country           joined_at             paid_at  \\\n",
       "64   960936960  Russian Federation 2015-01-19 11:49:00 2016-12-14 17:30:00   \n",
       "98   960936960  Russian Federation 2015-01-19 11:49:00 2016-12-14 17:35:00   \n",
       "215  960936960  Russian Federation 2015-01-19 11:49:00 2016-12-14 16:16:00   \n",
       "\n",
       "     revenue  payment_id  from_page product_type  \n",
       "64        26           0  refund_VP   other_type  \n",
       "98       637           0  refung_AP   other_type  \n",
       "215      143           0  refund_WP   other_type  "
      ]
     },
     "execution_count": 53,
     "metadata": {},
     "output_type": "execute_result"
    }
   ],
   "source": [
    "tc1.query('joined_at < \"2017-01-11\"')"
   ]
  },
  {
   "cell_type": "code",
   "execution_count": 54,
   "metadata": {},
   "outputs": [
    {
     "data": {
      "text/plain": [
       "array([960936960])"
      ]
     },
     "execution_count": 54,
     "metadata": {},
     "output_type": "execute_result"
    }
   ],
   "source": [
    "old_users = tc1.query('joined_at < \"2017-01-11\"').uid.unique()\n",
    "old_users"
   ]
  },
  {
   "cell_type": "markdown",
   "metadata": {},
   "source": [
    "Посмотрим, соверщали ли \"старый\" пользователь какие-то действия после 2015"
   ]
  },
  {
   "cell_type": "code",
   "execution_count": 55,
   "metadata": {},
   "outputs": [
    {
     "data": {
      "text/html": [
       "<div>\n",
       "<style scoped>\n",
       "    .dataframe tbody tr th:only-of-type {\n",
       "        vertical-align: middle;\n",
       "    }\n",
       "\n",
       "    .dataframe tbody tr th {\n",
       "        vertical-align: top;\n",
       "    }\n",
       "\n",
       "    .dataframe thead th {\n",
       "        text-align: right;\n",
       "    }\n",
       "</style>\n",
       "<table border=\"1\" class=\"dataframe\">\n",
       "  <thead>\n",
       "    <tr style=\"text-align: right;\">\n",
       "      <th></th>\n",
       "      <th>uid</th>\n",
       "      <th>country</th>\n",
       "      <th>joined_at</th>\n",
       "      <th>paid_at</th>\n",
       "      <th>revenue</th>\n",
       "      <th>payment_id</th>\n",
       "      <th>from_page</th>\n",
       "      <th>product_type</th>\n",
       "    </tr>\n",
       "  </thead>\n",
       "  <tbody>\n",
       "    <tr>\n",
       "      <th>64</th>\n",
       "      <td>960936960</td>\n",
       "      <td>Russian Federation</td>\n",
       "      <td>2015-01-19 11:49:00</td>\n",
       "      <td>2016-12-14 17:30:00</td>\n",
       "      <td>26</td>\n",
       "      <td>0</td>\n",
       "      <td>refund_VP</td>\n",
       "      <td>other_type</td>\n",
       "    </tr>\n",
       "    <tr>\n",
       "      <th>98</th>\n",
       "      <td>960936960</td>\n",
       "      <td>Russian Federation</td>\n",
       "      <td>2015-01-19 11:49:00</td>\n",
       "      <td>2016-12-14 17:35:00</td>\n",
       "      <td>637</td>\n",
       "      <td>0</td>\n",
       "      <td>refung_AP</td>\n",
       "      <td>other_type</td>\n",
       "    </tr>\n",
       "    <tr>\n",
       "      <th>215</th>\n",
       "      <td>960936960</td>\n",
       "      <td>Russian Federation</td>\n",
       "      <td>2015-01-19 11:49:00</td>\n",
       "      <td>2016-12-14 16:16:00</td>\n",
       "      <td>143</td>\n",
       "      <td>0</td>\n",
       "      <td>refund_WP</td>\n",
       "      <td>other_type</td>\n",
       "    </tr>\n",
       "  </tbody>\n",
       "</table>\n",
       "</div>"
      ],
      "text/plain": [
       "           uid             country           joined_at             paid_at  \\\n",
       "64   960936960  Russian Federation 2015-01-19 11:49:00 2016-12-14 17:30:00   \n",
       "98   960936960  Russian Federation 2015-01-19 11:49:00 2016-12-14 17:35:00   \n",
       "215  960936960  Russian Federation 2015-01-19 11:49:00 2016-12-14 16:16:00   \n",
       "\n",
       "     revenue  payment_id  from_page product_type  \n",
       "64        26           0  refund_VP   other_type  \n",
       "98       637           0  refung_AP   other_type  \n",
       "215      143           0  refund_WP   other_type  "
      ]
     },
     "execution_count": 55,
     "metadata": {},
     "output_type": "execute_result"
    }
   ],
   "source": [
    "tc1.query('uid.isin(@old_users)')"
   ]
  },
  {
   "cell_type": "markdown",
   "metadata": {},
   "source": [
    "Так как старый пользователь всего один, а транзакций у него три, и он проявлял активность только в 2015, то удалим эти строчки из датасета tc1, а также удалим пользователя из uc1"
   ]
  },
  {
   "cell_type": "code",
   "execution_count": 56,
   "metadata": {},
   "outputs": [],
   "source": [
    "tc1 = tc1.query('uid not in @old_users')\n",
    "uc1 = uc1.query('uid not in @old_users')"
   ]
  },
  {
   "cell_type": "code",
   "execution_count": 57,
   "metadata": {},
   "outputs": [
    {
     "data": {
      "text/plain": [
       "(353, 8)"
      ]
     },
     "execution_count": 57,
     "metadata": {},
     "output_type": "execute_result"
    }
   ],
   "source": [
    "tc1.shape"
   ]
  },
  {
   "cell_type": "code",
   "execution_count": 58,
   "metadata": {},
   "outputs": [
    {
     "data": {
      "text/plain": [
       "(4339, 13)"
      ]
     },
     "execution_count": 58,
     "metadata": {},
     "output_type": "execute_result"
    }
   ],
   "source": [
    "uc1.shape"
   ]
  },
  {
   "cell_type": "code",
   "execution_count": 59,
   "metadata": {},
   "outputs": [
    {
     "data": {
      "text/html": [
       "<div>\n",
       "<style scoped>\n",
       "    .dataframe tbody tr th:only-of-type {\n",
       "        vertical-align: middle;\n",
       "    }\n",
       "\n",
       "    .dataframe tbody tr th {\n",
       "        vertical-align: top;\n",
       "    }\n",
       "\n",
       "    .dataframe thead th {\n",
       "        text-align: right;\n",
       "    }\n",
       "</style>\n",
       "<table border=\"1\" class=\"dataframe\">\n",
       "  <thead>\n",
       "    <tr style=\"text-align: right;\">\n",
       "      <th></th>\n",
       "      <th>joined_at</th>\n",
       "      <th>paid_at</th>\n",
       "    </tr>\n",
       "  </thead>\n",
       "  <tbody>\n",
       "    <tr>\n",
       "      <th>count</th>\n",
       "      <td>353</td>\n",
       "      <td>353</td>\n",
       "    </tr>\n",
       "    <tr>\n",
       "      <th>mean</th>\n",
       "      <td>2017-08-29 22:42:31.784702464</td>\n",
       "      <td>2017-09-06 05:38:09.688385280</td>\n",
       "    </tr>\n",
       "    <tr>\n",
       "      <th>min</th>\n",
       "      <td>2017-01-11 01:06:00</td>\n",
       "      <td>2017-01-11 02:56:00</td>\n",
       "    </tr>\n",
       "    <tr>\n",
       "      <th>25%</th>\n",
       "      <td>2017-06-11 19:19:00</td>\n",
       "      <td>2017-07-11 12:47:00</td>\n",
       "    </tr>\n",
       "    <tr>\n",
       "      <th>50%</th>\n",
       "      <td>2017-10-17 06:45:00</td>\n",
       "      <td>2017-10-17 19:05:00</td>\n",
       "    </tr>\n",
       "    <tr>\n",
       "      <th>75%</th>\n",
       "      <td>2017-10-23 14:16:00</td>\n",
       "      <td>2017-10-28 09:03:00</td>\n",
       "    </tr>\n",
       "    <tr>\n",
       "      <th>max</th>\n",
       "      <td>2017-10-31 22:17:00</td>\n",
       "      <td>2017-12-11 21:57:00</td>\n",
       "    </tr>\n",
       "  </tbody>\n",
       "</table>\n",
       "</div>"
      ],
      "text/plain": [
       "                           joined_at                        paid_at\n",
       "count                            353                            353\n",
       "mean   2017-08-29 22:42:31.784702464  2017-09-06 05:38:09.688385280\n",
       "min              2017-01-11 01:06:00            2017-01-11 02:56:00\n",
       "25%              2017-06-11 19:19:00            2017-07-11 12:47:00\n",
       "50%              2017-10-17 06:45:00            2017-10-17 19:05:00\n",
       "75%              2017-10-23 14:16:00            2017-10-28 09:03:00\n",
       "max              2017-10-31 22:17:00            2017-12-11 21:57:00"
      ]
     },
     "execution_count": 59,
     "metadata": {},
     "output_type": "execute_result"
    }
   ],
   "source": [
    "tc1[['joined_at', 'paid_at']].describe(datetime_is_numeric=True)"
   ]
  },
  {
   "cell_type": "markdown",
   "metadata": {},
   "source": [
    "### Создание объединенных датафреймов и проверка транзакций"
   ]
  },
  {
   "cell_type": "markdown",
   "metadata": {},
   "source": [
    "Создадим два общих датафрема users и transactions, для чего конкатенируем три таблицы, предварительно создав в каждой колонку group"
   ]
  },
  {
   "cell_type": "code",
   "execution_count": 60,
   "metadata": {},
   "outputs": [
    {
     "data": {
      "text/html": [
       "<div>\n",
       "<style scoped>\n",
       "    .dataframe tbody tr th:only-of-type {\n",
       "        vertical-align: middle;\n",
       "    }\n",
       "\n",
       "    .dataframe tbody tr th {\n",
       "        vertical-align: top;\n",
       "    }\n",
       "\n",
       "    .dataframe thead th {\n",
       "        text-align: right;\n",
       "    }\n",
       "</style>\n",
       "<table border=\"1\" class=\"dataframe\">\n",
       "  <thead>\n",
       "    <tr style=\"text-align: right;\">\n",
       "      <th></th>\n",
       "      <th>uid</th>\n",
       "      <th>age</th>\n",
       "      <th>attraction_coeff</th>\n",
       "      <th>coins</th>\n",
       "      <th>country</th>\n",
       "      <th>visit_days</th>\n",
       "      <th>gender</th>\n",
       "      <th>age_filter_start</th>\n",
       "      <th>age_filter_end</th>\n",
       "      <th>views_count</th>\n",
       "      <th>was_premium</th>\n",
       "      <th>is_premium</th>\n",
       "      <th>total_revenue</th>\n",
       "      <th>group</th>\n",
       "    </tr>\n",
       "  </thead>\n",
       "  <tbody>\n",
       "    <tr>\n",
       "      <th>5808</th>\n",
       "      <td>891685140</td>\n",
       "      <td>39</td>\n",
       "      <td>277</td>\n",
       "      <td>NaN</td>\n",
       "      <td>United States of America</td>\n",
       "      <td>NaN</td>\n",
       "      <td>1</td>\n",
       "      <td>36</td>\n",
       "      <td>42</td>\n",
       "      <td>18</td>\n",
       "      <td>NaN</td>\n",
       "      <td>NaN</td>\n",
       "      <td>0</td>\n",
       "      <td>control_1</td>\n",
       "    </tr>\n",
       "    <tr>\n",
       "      <th>1293</th>\n",
       "      <td>892053444</td>\n",
       "      <td>25</td>\n",
       "      <td>500</td>\n",
       "      <td>NaN</td>\n",
       "      <td>Germany</td>\n",
       "      <td>1,2,3,4,5,6,7</td>\n",
       "      <td>1</td>\n",
       "      <td>22</td>\n",
       "      <td>26</td>\n",
       "      <td>8</td>\n",
       "      <td>1.0</td>\n",
       "      <td>NaN</td>\n",
       "      <td>0</td>\n",
       "      <td>test</td>\n",
       "    </tr>\n",
       "    <tr>\n",
       "      <th>10443</th>\n",
       "      <td>892329816</td>\n",
       "      <td>44</td>\n",
       "      <td>709</td>\n",
       "      <td>NaN</td>\n",
       "      <td>United States of America</td>\n",
       "      <td>1,2,3,4,5,6,7,8,9</td>\n",
       "      <td>1</td>\n",
       "      <td>41</td>\n",
       "      <td>47</td>\n",
       "      <td>148</td>\n",
       "      <td>NaN</td>\n",
       "      <td>NaN</td>\n",
       "      <td>0</td>\n",
       "      <td>control_2</td>\n",
       "    </tr>\n",
       "    <tr>\n",
       "      <th>11619</th>\n",
       "      <td>891361581</td>\n",
       "      <td>52</td>\n",
       "      <td>1000</td>\n",
       "      <td>NaN</td>\n",
       "      <td>Belgium</td>\n",
       "      <td>1,2,3,4,5,6</td>\n",
       "      <td>1</td>\n",
       "      <td>49</td>\n",
       "      <td>55</td>\n",
       "      <td>1</td>\n",
       "      <td>NaN</td>\n",
       "      <td>NaN</td>\n",
       "      <td>0</td>\n",
       "      <td>control_2</td>\n",
       "    </tr>\n",
       "    <tr>\n",
       "      <th>8315</th>\n",
       "      <td>891065589</td>\n",
       "      <td>36</td>\n",
       "      <td>512</td>\n",
       "      <td>NaN</td>\n",
       "      <td>United Arab Emirates</td>\n",
       "      <td>1,2,3,4,5</td>\n",
       "      <td>1</td>\n",
       "      <td>18</td>\n",
       "      <td>70</td>\n",
       "      <td>39</td>\n",
       "      <td>NaN</td>\n",
       "      <td>NaN</td>\n",
       "      <td>0</td>\n",
       "      <td>control_1</td>\n",
       "    </tr>\n",
       "  </tbody>\n",
       "</table>\n",
       "</div>"
      ],
      "text/plain": [
       "             uid  age  attraction_coeff  coins                   country  \\\n",
       "5808   891685140   39               277    NaN  United States of America   \n",
       "1293   892053444   25               500    NaN                   Germany   \n",
       "10443  892329816   44               709    NaN  United States of America   \n",
       "11619  891361581   52              1000    NaN                   Belgium   \n",
       "8315   891065589   36               512    NaN      United Arab Emirates   \n",
       "\n",
       "              visit_days  gender  age_filter_start  age_filter_end  \\\n",
       "5808                 NaN       1                36              42   \n",
       "1293       1,2,3,4,5,6,7       1                22              26   \n",
       "10443  1,2,3,4,5,6,7,8,9       1                41              47   \n",
       "11619        1,2,3,4,5,6       1                49              55   \n",
       "8315           1,2,3,4,5       1                18              70   \n",
       "\n",
       "       views_count  was_premium  is_premium  total_revenue      group  \n",
       "5808            18          NaN         NaN              0  control_1  \n",
       "1293             8          1.0         NaN              0       test  \n",
       "10443          148          NaN         NaN              0  control_2  \n",
       "11619            1          NaN         NaN              0  control_2  \n",
       "8315            39          NaN         NaN              0  control_1  "
      ]
     },
     "execution_count": 60,
     "metadata": {},
     "output_type": "execute_result"
    }
   ],
   "source": [
    "ut['group'] = 'test'\n",
    "uc1['group'] = 'control_1'\n",
    "uc2['group'] = 'control_2'\n",
    "users = pd.concat([ut, uc1, uc2], ignore_index=True)\n",
    "users.sample(5)"
   ]
  },
  {
   "cell_type": "code",
   "execution_count": 61,
   "metadata": {},
   "outputs": [
    {
     "data": {
      "text/html": [
       "<div>\n",
       "<style scoped>\n",
       "    .dataframe tbody tr th:only-of-type {\n",
       "        vertical-align: middle;\n",
       "    }\n",
       "\n",
       "    .dataframe tbody tr th {\n",
       "        vertical-align: top;\n",
       "    }\n",
       "\n",
       "    .dataframe thead th {\n",
       "        text-align: right;\n",
       "    }\n",
       "</style>\n",
       "<table border=\"1\" class=\"dataframe\">\n",
       "  <thead>\n",
       "    <tr style=\"text-align: right;\">\n",
       "      <th></th>\n",
       "      <th>uid</th>\n",
       "      <th>country</th>\n",
       "      <th>joined_at</th>\n",
       "      <th>paid_at</th>\n",
       "      <th>revenue</th>\n",
       "      <th>payment_id</th>\n",
       "      <th>from_page</th>\n",
       "      <th>product_type</th>\n",
       "      <th>group</th>\n",
       "    </tr>\n",
       "  </thead>\n",
       "  <tbody>\n",
       "    <tr>\n",
       "      <th>905</th>\n",
       "      <td>891672225</td>\n",
       "      <td>Austria</td>\n",
       "      <td>2017-10-29 21:59:00</td>\n",
       "      <td>2017-07-11 11:26:00</td>\n",
       "      <td>4056</td>\n",
       "      <td>19</td>\n",
       "      <td>none</td>\n",
       "      <td>coins</td>\n",
       "      <td>control_2</td>\n",
       "    </tr>\n",
       "    <tr>\n",
       "      <th>87</th>\n",
       "      <td>891654090</td>\n",
       "      <td>United States of America</td>\n",
       "      <td>2017-10-30 05:59:00</td>\n",
       "      <td>2017-10-31 05:55:00</td>\n",
       "      <td>2327</td>\n",
       "      <td>67</td>\n",
       "      <td>fans</td>\n",
       "      <td>other_type</td>\n",
       "      <td>test</td>\n",
       "    </tr>\n",
       "    <tr>\n",
       "      <th>151</th>\n",
       "      <td>892275462</td>\n",
       "      <td>France</td>\n",
       "      <td>2017-10-17 05:56:00</td>\n",
       "      <td>2017-10-20 17:00:00</td>\n",
       "      <td>14885</td>\n",
       "      <td>68</td>\n",
       "      <td>super_popup</td>\n",
       "      <td>other_type</td>\n",
       "      <td>test</td>\n",
       "    </tr>\n",
       "    <tr>\n",
       "      <th>198</th>\n",
       "      <td>892434141</td>\n",
       "      <td>Turkey</td>\n",
       "      <td>2017-10-14 04:08:00</td>\n",
       "      <td>2017-10-14 04:23:00</td>\n",
       "      <td>3614</td>\n",
       "      <td>147</td>\n",
       "      <td>left_sidebar_menu</td>\n",
       "      <td>premium_no_trial</td>\n",
       "      <td>test</td>\n",
       "    </tr>\n",
       "    <tr>\n",
       "      <th>451</th>\n",
       "      <td>892120956</td>\n",
       "      <td>Belgium</td>\n",
       "      <td>2017-10-20 18:20:00</td>\n",
       "      <td>2017-05-11 13:43:00</td>\n",
       "      <td>3042</td>\n",
       "      <td>68</td>\n",
       "      <td>none</td>\n",
       "      <td>premium_no_trial</td>\n",
       "      <td>control_1</td>\n",
       "    </tr>\n",
       "  </tbody>\n",
       "</table>\n",
       "</div>"
      ],
      "text/plain": [
       "           uid                   country           joined_at  \\\n",
       "905  891672225                   Austria 2017-10-29 21:59:00   \n",
       "87   891654090  United States of America 2017-10-30 05:59:00   \n",
       "151  892275462                    France 2017-10-17 05:56:00   \n",
       "198  892434141                    Turkey 2017-10-14 04:08:00   \n",
       "451  892120956                   Belgium 2017-10-20 18:20:00   \n",
       "\n",
       "                paid_at  revenue  payment_id          from_page  \\\n",
       "905 2017-07-11 11:26:00     4056          19               none   \n",
       "87  2017-10-31 05:55:00     2327          67               fans   \n",
       "151 2017-10-20 17:00:00    14885          68        super_popup   \n",
       "198 2017-10-14 04:23:00     3614         147  left_sidebar_menu   \n",
       "451 2017-05-11 13:43:00     3042          68               none   \n",
       "\n",
       "         product_type      group  \n",
       "905             coins  control_2  \n",
       "87         other_type       test  \n",
       "151        other_type       test  \n",
       "198  premium_no_trial       test  \n",
       "451  premium_no_trial  control_1  "
      ]
     },
     "execution_count": 61,
     "metadata": {},
     "output_type": "execute_result"
    }
   ],
   "source": [
    "tt['group'] = 'test'\n",
    "tc1['group'] = 'control_1'\n",
    "tc2['group'] = 'control_2'\n",
    "transactions = pd.concat([tt, tc1, tc2], ignore_index=True)\n",
    "transactions.sample(5)"
   ]
  },
  {
   "cell_type": "markdown",
   "metadata": {},
   "source": [
    "Дополнительно поработаем с датафреймом transactions. Поймем, были ли пользователи, у которых дата покупки раньше даты регистрации, если такие есть - удалим. Также попробуем найти какие-то законормести в значениях в графе revenue чтобы понять месячную стоимость подписки, и сколько месяцев пользователь за нее платил."
   ]
  },
  {
   "cell_type": "code",
   "execution_count": 62,
   "metadata": {
    "scrolled": true
   },
   "outputs": [
    {
     "data": {
      "text/html": [
       "<div>\n",
       "<style scoped>\n",
       "    .dataframe tbody tr th:only-of-type {\n",
       "        vertical-align: middle;\n",
       "    }\n",
       "\n",
       "    .dataframe tbody tr th {\n",
       "        vertical-align: top;\n",
       "    }\n",
       "\n",
       "    .dataframe thead th {\n",
       "        text-align: right;\n",
       "    }\n",
       "</style>\n",
       "<table border=\"1\" class=\"dataframe\">\n",
       "  <thead>\n",
       "    <tr style=\"text-align: right;\">\n",
       "      <th></th>\n",
       "      <th>uid</th>\n",
       "      <th>country</th>\n",
       "      <th>joined_at</th>\n",
       "      <th>paid_at</th>\n",
       "      <th>revenue</th>\n",
       "      <th>payment_id</th>\n",
       "      <th>from_page</th>\n",
       "      <th>product_type</th>\n",
       "      <th>group</th>\n",
       "    </tr>\n",
       "  </thead>\n",
       "  <tbody>\n",
       "    <tr>\n",
       "      <th>706</th>\n",
       "      <td>891877569</td>\n",
       "      <td>France</td>\n",
       "      <td>2017-10-25 19:32:00</td>\n",
       "      <td>2017-02-11 01:55:00</td>\n",
       "      <td>12675</td>\n",
       "      <td>147</td>\n",
       "      <td>trial_vip_popup</td>\n",
       "      <td>trial_premium</td>\n",
       "      <td>control_2</td>\n",
       "    </tr>\n",
       "    <tr>\n",
       "      <th>70</th>\n",
       "      <td>892065108</td>\n",
       "      <td>France</td>\n",
       "      <td>2017-10-21 20:40:00</td>\n",
       "      <td>2017-10-11 15:27:00</td>\n",
       "      <td>871</td>\n",
       "      <td>19</td>\n",
       "      <td>menu</td>\n",
       "      <td>coins</td>\n",
       "      <td>test</td>\n",
       "    </tr>\n",
       "    <tr>\n",
       "      <th>180</th>\n",
       "      <td>891861594</td>\n",
       "      <td>Chile</td>\n",
       "      <td>2017-10-26 02:25:00</td>\n",
       "      <td>2017-01-11 04:37:00</td>\n",
       "      <td>4004</td>\n",
       "      <td>19</td>\n",
       "      <td>empty_likes</td>\n",
       "      <td>coins</td>\n",
       "      <td>test</td>\n",
       "    </tr>\n",
       "    <tr>\n",
       "      <th>81</th>\n",
       "      <td>891600819</td>\n",
       "      <td>United States of America</td>\n",
       "      <td>2017-10-31 08:41:00</td>\n",
       "      <td>2017-03-11 15:17:00</td>\n",
       "      <td>2730</td>\n",
       "      <td>67</td>\n",
       "      <td>empty_likes</td>\n",
       "      <td>other_type</td>\n",
       "      <td>test</td>\n",
       "    </tr>\n",
       "    <tr>\n",
       "      <th>341</th>\n",
       "      <td>892290105</td>\n",
       "      <td>United States of America</td>\n",
       "      <td>2017-10-16 22:03:00</td>\n",
       "      <td>2017-10-11 17:18:00</td>\n",
       "      <td>1261</td>\n",
       "      <td>19</td>\n",
       "      <td>empty_likes</td>\n",
       "      <td>coins</td>\n",
       "      <td>control_1</td>\n",
       "    </tr>\n",
       "    <tr>\n",
       "      <th>231</th>\n",
       "      <td>891718167</td>\n",
       "      <td>Chile</td>\n",
       "      <td>2017-10-29 05:42:00</td>\n",
       "      <td>2017-06-11 23:11:00</td>\n",
       "      <td>8164</td>\n",
       "      <td>147</td>\n",
       "      <td>left_sidebar_menu</td>\n",
       "      <td>premium_no_trial</td>\n",
       "      <td>test</td>\n",
       "    </tr>\n",
       "    <tr>\n",
       "      <th>271</th>\n",
       "      <td>891721851</td>\n",
       "      <td>United States of America</td>\n",
       "      <td>2017-10-29 02:50:00</td>\n",
       "      <td>2017-05-11 07:15:00</td>\n",
       "      <td>4602</td>\n",
       "      <td>146</td>\n",
       "      <td>empty_likes</td>\n",
       "      <td>coins</td>\n",
       "      <td>control_1</td>\n",
       "    </tr>\n",
       "    <tr>\n",
       "      <th>761</th>\n",
       "      <td>891878595</td>\n",
       "      <td>Italy</td>\n",
       "      <td>2017-10-25 19:06:00</td>\n",
       "      <td>2017-02-11 12:22:00</td>\n",
       "      <td>1261</td>\n",
       "      <td>19</td>\n",
       "      <td>empty_likes</td>\n",
       "      <td>coins</td>\n",
       "      <td>control_2</td>\n",
       "    </tr>\n",
       "    <tr>\n",
       "      <th>192</th>\n",
       "      <td>891603810</td>\n",
       "      <td>United States of America</td>\n",
       "      <td>2017-10-31 06:36:00</td>\n",
       "      <td>2017-04-11 09:25:00</td>\n",
       "      <td>9100</td>\n",
       "      <td>147</td>\n",
       "      <td>promo_09</td>\n",
       "      <td>premium_no_trial</td>\n",
       "      <td>test</td>\n",
       "    </tr>\n",
       "    <tr>\n",
       "      <th>351</th>\n",
       "      <td>891881343</td>\n",
       "      <td>United States of America</td>\n",
       "      <td>2017-10-25 17:58:00</td>\n",
       "      <td>2017-01-11 21:08:00</td>\n",
       "      <td>12727</td>\n",
       "      <td>147</td>\n",
       "      <td>dating</td>\n",
       "      <td>trial_premium</td>\n",
       "      <td>control_1</td>\n",
       "    </tr>\n",
       "  </tbody>\n",
       "</table>\n",
       "</div>"
      ],
      "text/plain": [
       "           uid                   country           joined_at  \\\n",
       "706  891877569                    France 2017-10-25 19:32:00   \n",
       "70   892065108                    France 2017-10-21 20:40:00   \n",
       "180  891861594                     Chile 2017-10-26 02:25:00   \n",
       "81   891600819  United States of America 2017-10-31 08:41:00   \n",
       "341  892290105  United States of America 2017-10-16 22:03:00   \n",
       "231  891718167                     Chile 2017-10-29 05:42:00   \n",
       "271  891721851  United States of America 2017-10-29 02:50:00   \n",
       "761  891878595                     Italy 2017-10-25 19:06:00   \n",
       "192  891603810  United States of America 2017-10-31 06:36:00   \n",
       "351  891881343  United States of America 2017-10-25 17:58:00   \n",
       "\n",
       "                paid_at  revenue  payment_id          from_page  \\\n",
       "706 2017-02-11 01:55:00    12675         147    trial_vip_popup   \n",
       "70  2017-10-11 15:27:00      871          19               menu   \n",
       "180 2017-01-11 04:37:00     4004          19        empty_likes   \n",
       "81  2017-03-11 15:17:00     2730          67        empty_likes   \n",
       "341 2017-10-11 17:18:00     1261          19        empty_likes   \n",
       "231 2017-06-11 23:11:00     8164         147  left_sidebar_menu   \n",
       "271 2017-05-11 07:15:00     4602         146        empty_likes   \n",
       "761 2017-02-11 12:22:00     1261          19        empty_likes   \n",
       "192 2017-04-11 09:25:00     9100         147           promo_09   \n",
       "351 2017-01-11 21:08:00    12727         147             dating   \n",
       "\n",
       "         product_type      group  \n",
       "706     trial_premium  control_2  \n",
       "70              coins       test  \n",
       "180             coins       test  \n",
       "81         other_type       test  \n",
       "341             coins  control_1  \n",
       "231  premium_no_trial       test  \n",
       "271             coins  control_1  \n",
       "761             coins  control_2  \n",
       "192  premium_no_trial       test  \n",
       "351     trial_premium  control_1  "
      ]
     },
     "execution_count": 62,
     "metadata": {},
     "output_type": "execute_result"
    }
   ],
   "source": [
    "# Транзакции, у которых оплата раньше регистрации\n",
    "transactions.query('paid_at < joined_at').sample(10)"
   ]
  },
  {
   "cell_type": "code",
   "execution_count": 63,
   "metadata": {},
   "outputs": [
    {
     "data": {
      "text/plain": [
       "162"
      ]
     },
     "execution_count": 63,
     "metadata": {},
     "output_type": "execute_result"
    }
   ],
   "source": [
    "# Сколько бракованных транзакций\n",
    "transactions.query('paid_at < joined_at').shape[0]"
   ]
  },
  {
   "cell_type": "code",
   "execution_count": 64,
   "metadata": {},
   "outputs": [
    {
     "data": {
      "text/plain": [
       "113"
      ]
     },
     "execution_count": 64,
     "metadata": {},
     "output_type": "execute_result"
    }
   ],
   "source": [
    "# Скольких пользователей затронул брак дат транзакций\n",
    "transactions.query('paid_at < joined_at').uid.nunique()"
   ]
  },
  {
   "cell_type": "code",
   "execution_count": 65,
   "metadata": {},
   "outputs": [
    {
     "data": {
      "text/plain": [
       "942"
      ]
     },
     "execution_count": 65,
     "metadata": {},
     "output_type": "execute_result"
    }
   ],
   "source": [
    "#Сколько всего транзакций\n",
    "transactions.shape[0]"
   ]
  },
  {
   "cell_type": "markdown",
   "metadata": {},
   "source": [
    "Транзакций, для которых дата покупки раньше даты регистрации 162 из 942, то есть около 17 процентов, то есть довольно много. Брак затронул 113 пользователей из разных выборок. Кроме того, кажется, что все \"бракованные\" транзакции совершены 11 числа (надо проверить), что может указывать на какой-то системный сбой при записи данных. Добавим колонку с разницой между покупкой и регистрацией в днях. Посмотрим, как распределены пользователи по дням."
   ]
  },
  {
   "cell_type": "code",
   "execution_count": 66,
   "metadata": {},
   "outputs": [
    {
     "data": {
      "text/plain": [
       "11    162\n",
       "Name: paid_at, dtype: int64"
      ]
     },
     "execution_count": 66,
     "metadata": {},
     "output_type": "execute_result"
    }
   ],
   "source": [
    "# Правда ли, что все бракованные транзакции были совершены 11 числа\n",
    "transactions.query('paid_at < joined_at').paid_at.dt.day.value_counts()"
   ]
  },
  {
   "cell_type": "code",
   "execution_count": 67,
   "metadata": {},
   "outputs": [
    {
     "data": {
      "text/plain": [
       "11    260\n",
       "23     49\n",
       "31     39\n",
       "29     38\n",
       "22     34\n",
       "14     33\n",
       "25     32\n",
       "26     30\n",
       "16     29\n",
       "15     29\n",
       "28     27\n",
       "30     27\n",
       "13     27\n",
       "24     23\n",
       "20     21\n",
       "19     19\n",
       "27     18\n",
       "21     16\n",
       "17     15\n",
       "18     14\n",
       "Name: paid_at, dtype: int64"
      ]
     },
     "execution_count": 67,
     "metadata": {},
     "output_type": "execute_result"
    }
   ],
   "source": [
    "# Были ли от 11 числа не бракованные транзакции?\n",
    "transactions.query('paid_at > joined_at').paid_at.dt.day.value_counts()"
   ]
  },
  {
   "cell_type": "code",
   "execution_count": 68,
   "metadata": {},
   "outputs": [
    {
     "data": {
      "text/plain": [
       "11    277\n",
       "21     81\n",
       "29     55\n",
       "18     55\n",
       "30     46\n",
       "16     46\n",
       "15     45\n",
       "22     44\n",
       "26     37\n",
       "23     34\n",
       "20     33\n",
       "31     28\n",
       "24     27\n",
       "19     26\n",
       "25     24\n",
       "17     24\n",
       "14     23\n",
       "28     19\n",
       "27     18\n",
       "Name: joined_at, dtype: int64"
      ]
     },
     "execution_count": 68,
     "metadata": {},
     "output_type": "execute_result"
    }
   ],
   "source": [
    "# Проверим, по каким числам производилась регистрация пользователей\n",
    "transactions.joined_at.dt.day.value_counts()"
   ]
  },
  {
   "cell_type": "markdown",
   "metadata": {},
   "source": [
    "Промежуточный вывод: все транзакции, где дата покупки раньше даты регистрации были совершены 11 числа. 11 числа таже были совершены транзакции, где выполняется условие дата покупки > даты регистрации. Что интересно, не было покупок, совершенных до 11 числа каждого месяца. Регистрации пользователей до 11 числа каждого месяца также отсутствуют. Также обращает на себя тот факт, что транзакций, совершенных 11 числа в разы больше, чем остальных, в то время как мы ожидаем распределение транзакций по числам близкое к равномерному. То есть проблема того, что дата покупки < даты регистрации не едиственная проблема с датами в этом датасете!"
   ]
  },
  {
   "cell_type": "code",
   "execution_count": 69,
   "metadata": {},
   "outputs": [
    {
     "data": {
      "text/plain": [
       "10    678\n",
       "5      73\n",
       "6      52\n",
       "2      24\n",
       "3      22\n",
       "8      21\n",
       "7      21\n",
       "9      17\n",
       "4      17\n",
       "1      17\n",
       "Name: joined_at, dtype: int64"
      ]
     },
     "execution_count": 69,
     "metadata": {},
     "output_type": "execute_result"
    }
   ],
   "source": [
    "# Проверим как обстоит дело с месяцами, все ли месяцы представлены. \n",
    "transactions.joined_at.dt.month.value_counts()"
   ]
  },
  {
   "cell_type": "code",
   "execution_count": 70,
   "metadata": {},
   "outputs": [
    {
     "data": {
      "text/plain": [
       "10    506\n",
       "11     93\n",
       "6      48\n",
       "5      48\n",
       "4      43\n",
       "7      34\n",
       "12     33\n",
       "8      31\n",
       "9      30\n",
       "3      29\n",
       "2      29\n",
       "1      18\n",
       "Name: paid_at, dtype: int64"
      ]
     },
     "execution_count": 70,
     "metadata": {},
     "output_type": "execute_result"
    }
   ],
   "source": [
    "transactions.paid_at.dt.month.value_counts()"
   ]
  },
  {
   "cell_type": "markdown",
   "metadata": {},
   "source": [
    "Месяцы представлены все, но распределение даже близко не равномерное, слишком много регистраций и оплат за 10 месяц. Немного подозрительно, но возможно давали рекламу и нагнали новых пользователей."
   ]
  },
  {
   "cell_type": "code",
   "execution_count": 71,
   "metadata": {},
   "outputs": [
    {
     "data": {
      "text/plain": [
       "<seaborn.axisgrid.FacetGrid at 0x7f9acb29ca90>"
      ]
     },
     "execution_count": 71,
     "metadata": {},
     "output_type": "execute_result"
    },
    {
     "data": {
      "image/png": "[encoded data removed]",
      "text/plain": [
       "<Figure size 1080x360 with 1 Axes>"
      ]
     },
     "metadata": {},
     "output_type": "display_data"
    }
   ],
   "source": [
    "# Добавим колонку с разницей в днях между покупкой и регистрацией\n",
    "transactions['days_before_purchase'] = (transactions.paid_at - transactions.joined_at).dt.days\n",
    "# Построим распределение пользователей по этой дельте\n",
    "sns.displot(transactions.days_before_purchase, bins=100, height=5, aspect=3)"
   ]
  },
  {
   "cell_type": "markdown",
   "metadata": {},
   "source": [
    "Видно, что в основном пользователи оформляют подписку в первые два месяца от регистрации, но причина ошибок с датами оплаты яснее не стала."
   ]
  },
  {
   "cell_type": "markdown",
   "metadata": {},
   "source": [
    "Сделаем еще одну проверку корректности записи транзакций, посмотрим совпадает ли total_revenue из таблицs users c суммой покупок каждого пользователя, рассчитаного по таблицe transactions"
   ]
  },
  {
   "cell_type": "code",
   "execution_count": 72,
   "metadata": {},
   "outputs": [
    {
     "data": {
      "text/html": [
       "<div>\n",
       "<style scoped>\n",
       "    .dataframe tbody tr th:only-of-type {\n",
       "        vertical-align: middle;\n",
       "    }\n",
       "\n",
       "    .dataframe tbody tr th {\n",
       "        vertical-align: top;\n",
       "    }\n",
       "\n",
       "    .dataframe thead th {\n",
       "        text-align: right;\n",
       "    }\n",
       "</style>\n",
       "<table border=\"1\" class=\"dataframe\">\n",
       "  <thead>\n",
       "    <tr style=\"text-align: right;\">\n",
       "      <th></th>\n",
       "      <th>uid</th>\n",
       "      <th>total_revenue</th>\n",
       "      <th>rev_per_user</th>\n",
       "      <th>diff</th>\n",
       "    </tr>\n",
       "  </thead>\n",
       "  <tbody>\n",
       "    <tr>\n",
       "      <th>5734</th>\n",
       "      <td>892333905</td>\n",
       "      <td>486330</td>\n",
       "      <td>403104.0</td>\n",
       "      <td>83226.0</td>\n",
       "    </tr>\n",
       "    <tr>\n",
       "      <th>8175</th>\n",
       "      <td>892102893</td>\n",
       "      <td>25220</td>\n",
       "      <td>12610.0</td>\n",
       "      <td>12610.0</td>\n",
       "    </tr>\n",
       "    <tr>\n",
       "      <th>406</th>\n",
       "      <td>892236423</td>\n",
       "      <td>95823</td>\n",
       "      <td>86996.0</td>\n",
       "      <td>8827.0</td>\n",
       "    </tr>\n",
       "    <tr>\n",
       "      <th>6232</th>\n",
       "      <td>891452706</td>\n",
       "      <td>18902</td>\n",
       "      <td>12597.0</td>\n",
       "      <td>6305.0</td>\n",
       "    </tr>\n",
       "    <tr>\n",
       "      <th>8918</th>\n",
       "      <td>892064328</td>\n",
       "      <td>18902</td>\n",
       "      <td>12597.0</td>\n",
       "      <td>6305.0</td>\n",
       "    </tr>\n",
       "    <tr>\n",
       "      <th>...</th>\n",
       "      <td>...</td>\n",
       "      <td>...</td>\n",
       "      <td>...</td>\n",
       "      <td>...</td>\n",
       "    </tr>\n",
       "    <tr>\n",
       "      <th>4310</th>\n",
       "      <td>891670932</td>\n",
       "      <td>0</td>\n",
       "      <td>0.0</td>\n",
       "      <td>0.0</td>\n",
       "    </tr>\n",
       "    <tr>\n",
       "      <th>4311</th>\n",
       "      <td>891060786</td>\n",
       "      <td>0</td>\n",
       "      <td>0.0</td>\n",
       "      <td>0.0</td>\n",
       "    </tr>\n",
       "    <tr>\n",
       "      <th>4312</th>\n",
       "      <td>892006554</td>\n",
       "      <td>0</td>\n",
       "      <td>0.0</td>\n",
       "      <td>0.0</td>\n",
       "    </tr>\n",
       "    <tr>\n",
       "      <th>7677</th>\n",
       "      <td>892355163</td>\n",
       "      <td>0</td>\n",
       "      <td>30264.0</td>\n",
       "      <td>-30264.0</td>\n",
       "    </tr>\n",
       "    <tr>\n",
       "      <th>2070</th>\n",
       "      <td>892275462</td>\n",
       "      <td>14885</td>\n",
       "      <td>58968.0</td>\n",
       "      <td>-44083.0</td>\n",
       "    </tr>\n",
       "  </tbody>\n",
       "</table>\n",
       "<p>12911 rows × 4 columns</p>\n",
       "</div>"
      ],
      "text/plain": [
       "            uid  total_revenue  rev_per_user     diff\n",
       "5734  892333905         486330      403104.0  83226.0\n",
       "8175  892102893          25220       12610.0  12610.0\n",
       "406   892236423          95823       86996.0   8827.0\n",
       "6232  891452706          18902       12597.0   6305.0\n",
       "8918  892064328          18902       12597.0   6305.0\n",
       "...         ...            ...           ...      ...\n",
       "4310  891670932              0           0.0      0.0\n",
       "4311  891060786              0           0.0      0.0\n",
       "4312  892006554              0           0.0      0.0\n",
       "7677  892355163              0       30264.0 -30264.0\n",
       "2070  892275462          14885       58968.0 -44083.0\n",
       "\n",
       "[12911 rows x 4 columns]"
      ]
     },
     "execution_count": 72,
     "metadata": {},
     "output_type": "execute_result"
    }
   ],
   "source": [
    "# Считаем сумму покупок для каждого пользователя\n",
    "revenue_per_user = transactions.groupby(\"uid\", as_index=False).agg(\n",
    "    rev_per_user=(\"revenue\", \"sum\")\n",
    ")\n",
    "# Мерджим с таблицей users\n",
    "all_revenue = users[[\"uid\", \"total_revenue\"]].merge(\n",
    "    revenue_per_user, how=\"left\", on=\"uid\"\n",
    ")\n",
    "# Заполняем пропуски нулями\n",
    "all_revenue = all_revenue.fillna(0)\n",
    "# Считаем разницу между total_revenue и revenue_per_user\n",
    "all_revenue[\"diff\"] = all_revenue.total_revenue - all_revenue.rev_per_user\n",
    "all_revenue.sort_values(\"diff\", ascending=False)"
   ]
  },
  {
   "cell_type": "code",
   "execution_count": 73,
   "metadata": {},
   "outputs": [
    {
     "data": {
      "text/plain": [
       "22"
      ]
     },
     "execution_count": 73,
     "metadata": {},
     "output_type": "execute_result"
    }
   ],
   "source": [
    "all_revenue.query('diff != 0').uid.count()"
   ]
  },
  {
   "cell_type": "markdown",
   "metadata": {},
   "source": [
    "Оказывается что раздница есть, и существенная, но не для 111 пользователей, а только для 22. Только для двух человек сумма в столбце total_revenue меньше, чем сумма их покупок по таблицам transactions, то есть им как будто не учли какие-то транзакции в таблице users. Для остальных несовпадений сумма в графе total_revenue больше. Мы помним, что у нас были дубликаты в таблицах с транзакциями, возможно они привели к ошибкам в total_revenue. Проверим, совпадают ли uid пользователей, для которых total_revenue больше, чем сумма их покупок по таблицам transactions с uid из массива duplicates, куда мы записали дублированные uid"
   ]
  },
  {
   "cell_type": "code",
   "execution_count": 74,
   "metadata": {},
   "outputs": [
    {
     "data": {
      "text/plain": [
       "set()"
      ]
     },
     "execution_count": 74,
     "metadata": {},
     "output_type": "execute_result"
    }
   ],
   "source": [
    "set(all_revenue.query('diff > 0').uid.unique()) - set(duplicates)"
   ]
  },
  {
   "cell_type": "markdown",
   "metadata": {},
   "source": [
    "Как видим, множество айдишников для которых total_revenue больше, чем сумма покупок по таблицам transactions в точности совпадает с со списком дублированных id, значит причина несостыковки - неучтенные дубликаты. Верные данные - сумма покупок из таблиц transactions"
   ]
  },
  {
   "cell_type": "code",
   "execution_count": 75,
   "metadata": {},
   "outputs": [
    {
     "data": {
      "text/html": [
       "<div>\n",
       "<style scoped>\n",
       "    .dataframe tbody tr th:only-of-type {\n",
       "        vertical-align: middle;\n",
       "    }\n",
       "\n",
       "    .dataframe tbody tr th {\n",
       "        vertical-align: top;\n",
       "    }\n",
       "\n",
       "    .dataframe thead th {\n",
       "        text-align: right;\n",
       "    }\n",
       "</style>\n",
       "<table border=\"1\" class=\"dataframe\">\n",
       "  <thead>\n",
       "    <tr style=\"text-align: right;\">\n",
       "      <th></th>\n",
       "      <th>uid</th>\n",
       "      <th>country</th>\n",
       "      <th>joined_at</th>\n",
       "      <th>paid_at</th>\n",
       "      <th>revenue</th>\n",
       "      <th>payment_id</th>\n",
       "      <th>from_page</th>\n",
       "      <th>product_type</th>\n",
       "      <th>group</th>\n",
       "      <th>days_before_purchase</th>\n",
       "    </tr>\n",
       "  </thead>\n",
       "  <tbody>\n",
       "    <tr>\n",
       "      <th>63</th>\n",
       "      <td>892275462</td>\n",
       "      <td>France</td>\n",
       "      <td>2017-10-17 05:56:00</td>\n",
       "      <td>2017-02-11 18:24:00</td>\n",
       "      <td>44083</td>\n",
       "      <td>19</td>\n",
       "      <td>coins_popup</td>\n",
       "      <td>other_type</td>\n",
       "      <td>test</td>\n",
       "      <td>-248</td>\n",
       "    </tr>\n",
       "    <tr>\n",
       "      <th>151</th>\n",
       "      <td>892275462</td>\n",
       "      <td>France</td>\n",
       "      <td>2017-10-17 05:56:00</td>\n",
       "      <td>2017-10-20 17:00:00</td>\n",
       "      <td>14885</td>\n",
       "      <td>68</td>\n",
       "      <td>super_popup</td>\n",
       "      <td>other_type</td>\n",
       "      <td>test</td>\n",
       "      <td>3</td>\n",
       "    </tr>\n",
       "    <tr>\n",
       "      <th>550</th>\n",
       "      <td>892355163</td>\n",
       "      <td>United States of America</td>\n",
       "      <td>2017-10-15 18:45:00</td>\n",
       "      <td>2017-10-16 09:52:00</td>\n",
       "      <td>30264</td>\n",
       "      <td>68</td>\n",
       "      <td>super_popup</td>\n",
       "      <td>other_type</td>\n",
       "      <td>control_1</td>\n",
       "      <td>0</td>\n",
       "    </tr>\n",
       "  </tbody>\n",
       "</table>\n",
       "</div>"
      ],
      "text/plain": [
       "           uid                   country           joined_at  \\\n",
       "63   892275462                    France 2017-10-17 05:56:00   \n",
       "151  892275462                    France 2017-10-17 05:56:00   \n",
       "550  892355163  United States of America 2017-10-15 18:45:00   \n",
       "\n",
       "                paid_at  revenue  payment_id    from_page product_type  \\\n",
       "63  2017-02-11 18:24:00    44083          19  coins_popup   other_type   \n",
       "151 2017-10-20 17:00:00    14885          68  super_popup   other_type   \n",
       "550 2017-10-16 09:52:00    30264          68  super_popup   other_type   \n",
       "\n",
       "         group  days_before_purchase  \n",
       "63        test                  -248  \n",
       "151       test                     3  \n",
       "550  control_1                     0  "
      ]
     },
     "execution_count": 75,
     "metadata": {},
     "output_type": "execute_result"
    }
   ],
   "source": [
    "# Посмотрим на транзакции, которые недозаписались в total_revenue\n",
    "uid_with_lost = all_revenue.query('diff < 0').uid.unique()\n",
    "transactions.query('uid.isin(@uid_with_lost)')"
   ]
  },
  {
   "cell_type": "code",
   "execution_count": 76,
   "metadata": {},
   "outputs": [
    {
     "data": {
      "text/html": [
       "<div>\n",
       "<style scoped>\n",
       "    .dataframe tbody tr th:only-of-type {\n",
       "        vertical-align: middle;\n",
       "    }\n",
       "\n",
       "    .dataframe tbody tr th {\n",
       "        vertical-align: top;\n",
       "    }\n",
       "\n",
       "    .dataframe thead th {\n",
       "        text-align: right;\n",
       "    }\n",
       "</style>\n",
       "<table border=\"1\" class=\"dataframe\">\n",
       "  <thead>\n",
       "    <tr style=\"text-align: right;\">\n",
       "      <th></th>\n",
       "      <th>uid</th>\n",
       "      <th>total_revenue</th>\n",
       "      <th>rev_per_user</th>\n",
       "      <th>diff</th>\n",
       "    </tr>\n",
       "  </thead>\n",
       "  <tbody>\n",
       "    <tr>\n",
       "      <th>2070</th>\n",
       "      <td>892275462</td>\n",
       "      <td>14885</td>\n",
       "      <td>58968.0</td>\n",
       "      <td>-44083.0</td>\n",
       "    </tr>\n",
       "    <tr>\n",
       "      <th>7677</th>\n",
       "      <td>892355163</td>\n",
       "      <td>0</td>\n",
       "      <td>30264.0</td>\n",
       "      <td>-30264.0</td>\n",
       "    </tr>\n",
       "  </tbody>\n",
       "</table>\n",
       "</div>"
      ],
      "text/plain": [
       "            uid  total_revenue  rev_per_user     diff\n",
       "2070  892275462          14885       58968.0 -44083.0\n",
       "7677  892355163              0       30264.0 -30264.0"
      ]
     },
     "execution_count": 76,
     "metadata": {},
     "output_type": "execute_result"
    }
   ],
   "source": [
    "all_revenue.query('diff < 0')"
   ]
  },
  {
   "cell_type": "markdown",
   "metadata": {},
   "source": [
    "Как мы видим недоучлись 2 транзакции, одна от 11 февраля 2017, другая от 16 ноября 2017. У первой еще и дата покупки раньше даты регистрации, у второй в этом плане все нормально, обе в принципе относятся к нецелевым для нас транзакциям 'other_type'."
   ]
  },
  {
   "cell_type": "markdown",
   "metadata": {},
   "source": [
    "Промежуточный вывод: что касается несовпадения между total_revenue  у пользователя в users и суммой покупок в таблице transactions, основная причина - дубликаты, которые встречались в данных и были удалены нами на этапе eda. Также были две транзакции, неучтенные в total_revenue, и причину этого неучета мы не нашли. Правильными данными будем считать сумму покупок для каждого пользователя по таблице transactions, запишем эти данные в total_revenue "
   ]
  },
  {
   "cell_type": "code",
   "execution_count": 77,
   "metadata": {},
   "outputs": [],
   "source": [
    "# Добавляем колонку с правильной суммой покупок\n",
    "ut = ut.merge(revenue_per_user[[\"uid\", \"rev_per_user\"]], how=\"left\", on=\"uid\")\n",
    "# удаляем колонку с неправильной суммой покупок\n",
    "ut.drop(columns=[\"total_revenue\"], inplace=True)\n",
    "# Переименовываем колонку с правильной суммой\n",
    "ut.rename(columns={\"rev_per_user\": \"total_revenue\"}, inplace=True)\n",
    "\n",
    "uc1 = uc1.merge(revenue_per_user[[\"uid\", \"rev_per_user\"]], how=\"left\", on=\"uid\")\n",
    "uc1.drop(columns=[\"total_revenue\"], inplace=True)\n",
    "uc1.rename(columns={\"rev_per_user\": \"total_revenue\"}, inplace=True)\n",
    "\n",
    "uc2 = uc2.merge(revenue_per_user[[\"uid\", \"rev_per_user\"]], how=\"left\", on=\"uid\")\n",
    "uc2.drop(columns=[\"total_revenue\"], inplace=True)\n",
    "uc2.rename(columns={\"rev_per_user\": \"total_revenue\"}, inplace=True)\n",
    "\n",
    "users = users.merge(revenue_per_user[[\"uid\", \"rev_per_user\"]], how=\"left\", on=\"uid\")\n",
    "users.drop(columns=[\"total_revenue\"], inplace=True)\n",
    "users.rename(columns={\"rev_per_user\": \"total_revenue\"}, inplace=True)"
   ]
  },
  {
   "cell_type": "markdown",
   "metadata": {},
   "source": [
    "Варианты работы с данными о датах:\n",
    "1. Удаление всех транзакций, где дата покупки предшествует дате регистрации, а также удаление соответствующих пользователей. Плюсы этого подхода заключаются в том, что мы устраняем очевидный баг. Однако есть и минусы: мы искажаем общую картину конверсии (CR) и, соответственно, ARPU, так как удаляем только платящих пользователей. Это затрагивает значительную часть выборки (около 1/6). Кроме того, такое удаление не решает другие проблемы с датами (например, отсутствие транзакций и регистраций до 11-го числа каждого месяца), что означает, что доверие к оставшимся данным существенно не повышается.\n",
    "2. Удаление всех транзакций, связанных с 11-м числом любого месяца. Это предполагается как маркер некорректности данных. Однако такой подход еще сильнее исказит показатели CR и ARPU, поскольку будет удалено больше транзакций. Также остается нерешенной проблема неопределенности истинной причины сбоя с датами, что снижает доверие к оставшимся данным, пусть и чуть меньше, чем в первом варианте.\n",
    "3. Сохранение всех транзакций с признанием некорректности данных. В этом случае мы признаем, что даты зафиксированы неправильно (например, транзакции до 11-го числа могли либо не фиксироваться, либо ошибочно записываться на 11-е число). Поскольку мы не можем точно определить причину сбоя, расчет любых метрик, связанных с датами в датафреймах transactions, невозможен (например, оценка ARPU по месяцам). Однако мы можем анализировать другие метрики, не связанные с датами. К сожалению, мы также не сможем определить, на сколько месяцев каждый пользователь оформил подписку."
   ]
  },
  {
   "cell_type": "markdown",
   "metadata": {},
   "source": [
    "Третий вариант я считаю наиболее разумным, учитывая на какие метрики мы планируем опираться при принятии решения об успехе эксперимента. "
   ]
  },
  {
   "cell_type": "markdown",
   "metadata": {},
   "source": [
    "### Анализ платежных систем"
   ]
  },
  {
   "cell_type": "markdown",
   "metadata": {},
   "source": [
    "В задании указано, что была изменена стоимость премиум-подписки при покупке через ДВЕ НОВЫЕ ПЛАТЕЖНЫЕ СИСТЕМЫ. Как таковой информации о платежной системе у нас нет, но возможно она зашита в payment_id. Изучим этот показатель"
   ]
  },
  {
   "cell_type": "code",
   "execution_count": 78,
   "metadata": {},
   "outputs": [
    {
     "data": {
      "text/plain": [
       "array(['trial_premium', 'other_type', 'premium_no_trial', 'coins'],\n",
       "      dtype=object)"
      ]
     },
     "execution_count": 78,
     "metadata": {},
     "output_type": "execute_result"
    }
   ],
   "source": [
    "transactions.product_type.unique()"
   ]
  },
  {
   "cell_type": "markdown",
   "metadata": {},
   "source": [
    "Нас интересует premium_no_trial, то есть покупка премиум подписки без пробной, так как в задании указано, что стоимость пробного периода не изменилась"
   ]
  },
  {
   "cell_type": "code",
   "execution_count": 79,
   "metadata": {},
   "outputs": [
    {
     "data": {
      "text/plain": [
       "147    63\n",
       "68     12\n",
       "0       1\n",
       "Name: payment_id, dtype: int64"
      ]
     },
     "execution_count": 79,
     "metadata": {},
     "output_type": "execute_result"
    }
   ],
   "source": [
    "tt.query('product_type == \"premium_no_trial\"').payment_id.value_counts()"
   ]
  },
  {
   "cell_type": "code",
   "execution_count": 80,
   "metadata": {},
   "outputs": [
    {
     "data": {
      "text/plain": [
       "147    88\n",
       "68     16\n",
       "0       2\n",
       "Name: payment_id, dtype: int64"
      ]
     },
     "execution_count": 80,
     "metadata": {},
     "output_type": "execute_result"
    }
   ],
   "source": [
    "tc1.query('product_type == \"premium_no_trial\"').payment_id.value_counts()"
   ]
  },
  {
   "cell_type": "code",
   "execution_count": 81,
   "metadata": {},
   "outputs": [
    {
     "data": {
      "text/plain": [
       "147    92\n",
       "68     14\n",
       "0       1\n",
       "Name: payment_id, dtype: int64"
      ]
     },
     "execution_count": 81,
     "metadata": {},
     "output_type": "execute_result"
    }
   ],
   "source": [
    "tc2.query('product_type == \"premium_no_trial\"').payment_id.value_counts()"
   ]
  },
  {
   "cell_type": "markdown",
   "metadata": {},
   "source": [
    "В целом для датасетов набор payment_id для покупки премиум подписки не отличается. Но в задании указано, что платежных систем должно быть две, поэтому удалим транзакции, сделанные с помощью нулевой платежной системы."
   ]
  },
  {
   "cell_type": "code",
   "execution_count": 82,
   "metadata": {},
   "outputs": [],
   "source": [
    "tt = tt.query('not (payment_id == 0 and product_type == \"premium_no_trial\")')\n",
    "tc1 = tc1.query('not (payment_id == 0 and product_type == \"premium_no_trial\")')\n",
    "tc2 = tc2.query('not (payment_id == 0 and product_type == \"premium_no_trial\")')\n",
    "transactions = transactions.query('not (payment_id == 0 and product_type == \"premium_no_trial\")')"
   ]
  },
  {
   "cell_type": "code",
   "execution_count": 83,
   "metadata": {},
   "outputs": [
    {
     "data": {
      "text/plain": [
       "array([147,  68])"
      ]
     },
     "execution_count": 83,
     "metadata": {},
     "output_type": "execute_result"
    }
   ],
   "source": [
    "transactions.query('product_type == \"premium_no_trial\"').payment_id.unique()"
   ]
  },
  {
   "cell_type": "markdown",
   "metadata": {},
   "source": [
    "### География пользователей"
   ]
  },
  {
   "cell_type": "markdown",
   "metadata": {},
   "source": [
    "Далее будем оценивать статистические различия по пяти параметрам: география (города), возраст, пол, коэффициент привлекательности, с какой страницы перешел на страницу оплаты. Всего пять сравнений, значит уровнь значимости будем умножать на 5 (поправка Бонферрони)."
   ]
  },
  {
   "cell_type": "code",
   "execution_count": 84,
   "metadata": {},
   "outputs": [
    {
     "data": {
      "text/plain": [
       "72"
      ]
     },
     "execution_count": 84,
     "metadata": {},
     "output_type": "execute_result"
    }
   ],
   "source": [
    "users.country.nunique()"
   ]
  },
  {
   "cell_type": "code",
   "execution_count": 85,
   "metadata": {},
   "outputs": [
    {
     "data": {
      "text/plain": [
       "51"
      ]
     },
     "execution_count": 85,
     "metadata": {},
     "output_type": "execute_result"
    }
   ],
   "source": [
    "ut.country.nunique()"
   ]
  },
  {
   "cell_type": "code",
   "execution_count": 86,
   "metadata": {},
   "outputs": [
    {
     "data": {
      "text/plain": [
       "40"
      ]
     },
     "execution_count": 86,
     "metadata": {},
     "output_type": "execute_result"
    }
   ],
   "source": [
    "uc1.country.nunique()"
   ]
  },
  {
   "cell_type": "code",
   "execution_count": 87,
   "metadata": {},
   "outputs": [
    {
     "data": {
      "text/plain": [
       "45"
      ]
     },
     "execution_count": 87,
     "metadata": {},
     "output_type": "execute_result"
    }
   ],
   "source": [
    "uc2.country.nunique()"
   ]
  },
  {
   "cell_type": "markdown",
   "metadata": {},
   "source": [
    "Задание сформулировано следующим образом: \"Был проведен A/B-тест, в рамках которого для новых пользователей ИЗ НЕКОТОРЫХ СТРАН была изменена стоимость премиум-подписки.\" При этом видно, что количество уникальных стран, откуда были набраны пользователи в разные группы, не совпадает. Возможны три сценария:\n",
    "1. Корректная работа системы сплитования. Например, эксперимент был развернут в 100 странах, и пользователи из всех этих стран распределялись по группам. В результате в тестовой группе оказались пользователи из 51 страны, в контрольной 1 — из 40 стран, а в контрольной 2 — из 45 стран. Между группами могут быть как пересечения по странам, так и уникальные страны, но все они были выбраны из общего набора стран, участвовавших в эксперименте.\n",
    "2. Сложная механика сплитования. В этом случае пользователи намеренно отбирались из разных стран, чтобы минимизировать эффект связанности выборок.\n",
    "3. Ошибка в системе сплитования. Пользователи случайно оказались распределены по группам из разных стран.\n",
    "\n",
    "Поскольку у нас нет возможности выяснить, какой из сценариев имеет место, будем исходить из самого неблагоприятного варианта — ошибки в системе сплитования. Поэтому рассмотрим, сколько пользователей и из каких стран потребуется исключить, чтобы выровнять группы."
   ]
  },
  {
   "cell_type": "code",
   "execution_count": 88,
   "metadata": {},
   "outputs": [],
   "source": [
    "countries = {\n",
    "    \"test\": set(ut.country.unique()),\n",
    "    \"control_1\": set(uc1.country.unique()),\n",
    "    \"control_2\": set(uc2.country.unique()),\n",
    "}"
   ]
  },
  {
   "cell_type": "markdown",
   "metadata": {},
   "source": [
    "Наишем функцию compare_sets, которая на вход принимает словарь, в котором ключи - это названия групп, а значения - множества строковых переменных. Функция сравнивает множества переменных попарно и выводит несовпадающие элементы. Также функция возвращает множество всех несовпадений. Просмотрим несовпадающие элементы на случай, если города одни и те же, но просто написаны с ошибками"
   ]
  },
  {
   "cell_type": "code",
   "execution_count": 89,
   "metadata": {},
   "outputs": [],
   "source": [
    "def compare_sets(group_dict):\n",
    "    # Создаем множество, где будем хранить разницы\n",
    "    all_differenses = set()\n",
    "    specific_differensies = {}\n",
    "    # Итерируем по всем возможным парам ключей\n",
    "    for (group1, set1), (group2, set2) in combinations(group_dict.items(), 2):\n",
    "        # Вычисляем разницу между множествами\n",
    "        diff1 = set1 - set2\n",
    "        diff2 = set2 - set1\n",
    "        # Добавляем ее ко множеству различий\n",
    "        all_differenses = all_differenses | diff1\n",
    "        all_differenses = all_differenses | diff2\n",
    "        specific_differensies[group1 + \"_not_\" + group2] = diff1\n",
    "        specific_differensies[group2 + \"_not_\" + group1] = diff2\n",
    "        # Выводим результат\n",
    "        print(f\"Разница между {group1} и {group2}:\")\n",
    "        print()\n",
    "        print(f\"Элементы в {group1} , которых нет в  {group2}: {diff1}\")\n",
    "        print()\n",
    "        print(f\"Элементы в {group2} , которых нет в {group1}: {diff2}\")\n",
    "        print()\n",
    "        print()\n",
    "    return all_differenses, specific_differensies"
   ]
  },
  {
   "cell_type": "code",
   "execution_count": 90,
   "metadata": {},
   "outputs": [
    {
     "name": "stdout",
     "output_type": "stream",
     "text": [
      "Разница между test и control_1:\n",
      "\n",
      "Элементы в test , которых нет в  control_1: {'Hungary', 'Pakistan', 'Korea, Republic of', 'Islamic Republic of Iran', 'Brazil', 'Nepal', 'Iraq', 'Morocco', 'Monaco', 'Georgia', 'Tajikistan', 'Azerbaijan', 'Uzbekistan', 'Uruguay', 'Bolivia', 'Indonesia', 'Guatemala', 'Singapore', 'Latvia', 'Gambia'}\n",
      "\n",
      "Элементы в control_1 , которых нет в test: {'Burkina Faso', 'Armenia', 'Venezuela', 'Moldova, Republic of', 'Jamaica', 'Sweden', 'Panama', 'China', 'Qatar'}\n",
      "\n",
      "\n",
      "Разница между test и control_2:\n",
      "\n",
      "Элементы в test , которых нет в  control_2: {'Romania', 'Egypt', 'Puerto Rico', 'Islamic Republic of Iran', 'Korea, Republic of', 'Tunisia', 'Brazil', 'Nepal', 'Algeria', 'Philippines', 'Iraq', 'Monaco', 'Azerbaijan', 'Uzbekistan', 'Bolivia', 'Indonesia', 'Guatemala', 'Singapore', 'Latvia', 'Gambia'}\n",
      "\n",
      "Элементы в control_2 , которых нет в test: {'Nicaragua', 'Somalia', 'New Zealand', 'Belarus', 'Malaysia', 'Lithuania', 'Mali', 'Austria', 'Paraguay', 'Uganda', 'Czech Republic', 'Kuwait', 'China', 'Qatar'}\n",
      "\n",
      "\n",
      "Разница между control_1 и control_2:\n",
      "\n",
      "Элементы в control_1 , которых нет в  control_2: {'Burkina Faso', 'Tunisia', 'Armenia', 'Egypt', 'Romania', 'Venezuela', 'Puerto Rico', 'Moldova, Republic of', 'Jamaica', 'Algeria', 'Philippines', 'Panama', 'Sweden'}\n",
      "\n",
      "Элементы в control_2 , которых нет в control_1: {'Nicaragua', 'Somalia', 'Pakistan', 'New Zealand', 'Kuwait', 'Uruguay', 'Belarus', 'Morocco', 'Malaysia', 'Georgia', 'Tajikistan', 'Lithuania', 'Mali', 'Austria', 'Paraguay', 'Uganda', 'Czech Republic', 'Hungary'}\n",
      "\n",
      "\n"
     ]
    }
   ],
   "source": [
    "different_countries = compare_sets(countries)"
   ]
  },
  {
   "cell_type": "code",
   "execution_count": 91,
   "metadata": {},
   "outputs": [
    {
     "data": {
      "text/plain": [
       "47"
      ]
     },
     "execution_count": 91,
     "metadata": {},
     "output_type": "execute_result"
    }
   ],
   "source": [
    "# Всего несовпадающих стран\n",
    "len(different_countries[0])"
   ]
  },
  {
   "cell_type": "code",
   "execution_count": 92,
   "metadata": {},
   "outputs": [
    {
     "data": {
      "text/plain": [
       "84"
      ]
     },
     "execution_count": 92,
     "metadata": {},
     "output_type": "execute_result"
    }
   ],
   "source": [
    "# Проверим, сколько пользователей мы потеряем, если выровняем все группы по странам\n",
    "users.query('country in @different_countries[0]').uid.count()"
   ]
  },
  {
   "cell_type": "markdown",
   "metadata": {},
   "source": [
    "Всего из трех групп потеряем 84 пользователя, кажется что это не очень много, учитывая, что в каждой группе по 4000 пользователей"
   ]
  },
  {
   "cell_type": "code",
   "execution_count": 93,
   "metadata": {
    "scrolled": true
   },
   "outputs": [],
   "source": [
    "# Множество uid из несовпадающих стран\n",
    "ids_from_mm_countries = set(users.query('country in @different_countries[0]').uid.unique()) \n",
    "# Во всех таблицах оставляем только пользователей из совпадающих стран\n",
    "ut = ut.query('uid not in @ids_from_mm_countries')\n",
    "uc1 = uc1.query('uid not in @ids_from_mm_countries')\n",
    "uc2 = uc2.query('uid not in @ids_from_mm_countries')\n",
    "tt = tt.query('uid not in @ids_from_mm_countries')\n",
    "tc1 = tc1.query('uid not in @ids_from_mm_countries')\n",
    "tc2 = tc2.query('uid not in @ids_from_mm_countries')\n",
    "users = users.query('uid not in @ids_from_mm_countries')\n",
    "transactions = transactions.query('uid not in @ids_from_mm_countries')"
   ]
  },
  {
   "cell_type": "markdown",
   "metadata": {},
   "source": [
    "Посмотрим, сколько пользователей осталось в каждой группе"
   ]
  },
  {
   "cell_type": "code",
   "execution_count": 94,
   "metadata": {},
   "outputs": [
    {
     "data": {
      "text/plain": [
       "4271"
      ]
     },
     "execution_count": 94,
     "metadata": {},
     "output_type": "execute_result"
    }
   ],
   "source": [
    "ut.shape[0]"
   ]
  },
  {
   "cell_type": "code",
   "execution_count": 95,
   "metadata": {},
   "outputs": [
    {
     "data": {
      "text/plain": [
       "4318"
      ]
     },
     "execution_count": 95,
     "metadata": {},
     "output_type": "execute_result"
    }
   ],
   "source": [
    "uc1.shape[0]"
   ]
  },
  {
   "cell_type": "code",
   "execution_count": 96,
   "metadata": {},
   "outputs": [
    {
     "data": {
      "text/plain": [
       "4238"
      ]
     },
     "execution_count": 96,
     "metadata": {},
     "output_type": "execute_result"
    }
   ],
   "source": [
    "uc2.shape[0]"
   ]
  },
  {
   "cell_type": "code",
   "execution_count": 97,
   "metadata": {},
   "outputs": [
    {
     "data": {
      "text/plain": [
       "261"
      ]
     },
     "execution_count": 97,
     "metadata": {},
     "output_type": "execute_result"
    }
   ],
   "source": [
    "tt.shape[0]"
   ]
  },
  {
   "cell_type": "code",
   "execution_count": 98,
   "metadata": {},
   "outputs": [
    {
     "data": {
      "text/plain": [
       "351"
      ]
     },
     "execution_count": 98,
     "metadata": {},
     "output_type": "execute_result"
    }
   ],
   "source": [
    "tc1.shape[0]"
   ]
  },
  {
   "cell_type": "code",
   "execution_count": 99,
   "metadata": {},
   "outputs": [
    {
     "data": {
      "text/plain": [
       "318"
      ]
     },
     "execution_count": 99,
     "metadata": {},
     "output_type": "execute_result"
    }
   ],
   "source": [
    "tc2.shape[0]"
   ]
  },
  {
   "cell_type": "code",
   "execution_count": 100,
   "metadata": {},
   "outputs": [
    {
     "data": {
      "image/png": "[encoded data removed]",
      "text/plain": [
       "<Figure size 1440x504 with 1 Axes>"
      ]
     },
     "metadata": {},
     "output_type": "display_data"
    }
   ],
   "source": [
    "# Строим распределение пользователей по странам\n",
    "sns.countplot(data=users, x='country', hue='group')\n",
    "plt.xticks(rotation=45)\n",
    "plt.show()"
   ]
  },
  {
   "cell_type": "code",
   "execution_count": 101,
   "metadata": {},
   "outputs": [
    {
     "data": {
      "text/html": [
       "<div>\n",
       "<style scoped>\n",
       "    .dataframe tbody tr th:only-of-type {\n",
       "        vertical-align: middle;\n",
       "    }\n",
       "\n",
       "    .dataframe tbody tr th {\n",
       "        vertical-align: top;\n",
       "    }\n",
       "\n",
       "    .dataframe thead th {\n",
       "        text-align: right;\n",
       "    }\n",
       "</style>\n",
       "<table border=\"1\" class=\"dataframe\">\n",
       "  <thead>\n",
       "    <tr style=\"text-align: right;\">\n",
       "      <th>country</th>\n",
       "      <th>Argentina</th>\n",
       "      <th>Australia</th>\n",
       "      <th>Belgium</th>\n",
       "      <th>Canada</th>\n",
       "      <th>Chile</th>\n",
       "      <th>Colombia</th>\n",
       "      <th>Costa Rica</th>\n",
       "      <th>Dominican Republic</th>\n",
       "      <th>France</th>\n",
       "      <th>Germany</th>\n",
       "      <th>...</th>\n",
       "      <th>Peru</th>\n",
       "      <th>Portugal</th>\n",
       "      <th>Russian Federation</th>\n",
       "      <th>Spain</th>\n",
       "      <th>Switzerland</th>\n",
       "      <th>Turkey</th>\n",
       "      <th>Ukraine</th>\n",
       "      <th>United Arab Emirates</th>\n",
       "      <th>United Kingdom (Great Britain)</th>\n",
       "      <th>United States of America</th>\n",
       "    </tr>\n",
       "    <tr>\n",
       "      <th>group</th>\n",
       "      <th></th>\n",
       "      <th></th>\n",
       "      <th></th>\n",
       "      <th></th>\n",
       "      <th></th>\n",
       "      <th></th>\n",
       "      <th></th>\n",
       "      <th></th>\n",
       "      <th></th>\n",
       "      <th></th>\n",
       "      <th></th>\n",
       "      <th></th>\n",
       "      <th></th>\n",
       "      <th></th>\n",
       "      <th></th>\n",
       "      <th></th>\n",
       "      <th></th>\n",
       "      <th></th>\n",
       "      <th></th>\n",
       "      <th></th>\n",
       "      <th></th>\n",
       "    </tr>\n",
       "  </thead>\n",
       "  <tbody>\n",
       "    <tr>\n",
       "      <th>control_1</th>\n",
       "      <td>389</td>\n",
       "      <td>50</td>\n",
       "      <td>108</td>\n",
       "      <td>134</td>\n",
       "      <td>287</td>\n",
       "      <td>1</td>\n",
       "      <td>1</td>\n",
       "      <td>2</td>\n",
       "      <td>370</td>\n",
       "      <td>188</td>\n",
       "      <td>...</td>\n",
       "      <td>1</td>\n",
       "      <td>100</td>\n",
       "      <td>5</td>\n",
       "      <td>342</td>\n",
       "      <td>42</td>\n",
       "      <td>8</td>\n",
       "      <td>8</td>\n",
       "      <td>207</td>\n",
       "      <td>146</td>\n",
       "      <td>1471</td>\n",
       "    </tr>\n",
       "    <tr>\n",
       "      <th>control_2</th>\n",
       "      <td>397</td>\n",
       "      <td>51</td>\n",
       "      <td>90</td>\n",
       "      <td>134</td>\n",
       "      <td>286</td>\n",
       "      <td>2</td>\n",
       "      <td>1</td>\n",
       "      <td>1</td>\n",
       "      <td>376</td>\n",
       "      <td>202</td>\n",
       "      <td>...</td>\n",
       "      <td>1</td>\n",
       "      <td>100</td>\n",
       "      <td>8</td>\n",
       "      <td>310</td>\n",
       "      <td>35</td>\n",
       "      <td>5</td>\n",
       "      <td>18</td>\n",
       "      <td>211</td>\n",
       "      <td>146</td>\n",
       "      <td>1486</td>\n",
       "    </tr>\n",
       "    <tr>\n",
       "      <th>test</th>\n",
       "      <td>396</td>\n",
       "      <td>62</td>\n",
       "      <td>92</td>\n",
       "      <td>137</td>\n",
       "      <td>272</td>\n",
       "      <td>1</td>\n",
       "      <td>1</td>\n",
       "      <td>1</td>\n",
       "      <td>359</td>\n",
       "      <td>209</td>\n",
       "      <td>...</td>\n",
       "      <td>1</td>\n",
       "      <td>91</td>\n",
       "      <td>7</td>\n",
       "      <td>301</td>\n",
       "      <td>35</td>\n",
       "      <td>5</td>\n",
       "      <td>15</td>\n",
       "      <td>226</td>\n",
       "      <td>169</td>\n",
       "      <td>1450</td>\n",
       "    </tr>\n",
       "  </tbody>\n",
       "</table>\n",
       "<p>3 rows × 25 columns</p>\n",
       "</div>"
      ],
      "text/plain": [
       "country    Argentina  Australia  Belgium  Canada  Chile  Colombia  Costa Rica  \\\n",
       "group                                                                           \n",
       "control_1        389         50      108     134    287         1           1   \n",
       "control_2        397         51       90     134    286         2           1   \n",
       "test             396         62       92     137    272         1           1   \n",
       "\n",
       "country    Dominican Republic  France  Germany  ...  Peru  Portugal  \\\n",
       "group                                           ...                   \n",
       "control_1                   2     370      188  ...     1       100   \n",
       "control_2                   1     376      202  ...     1       100   \n",
       "test                        1     359      209  ...     1        91   \n",
       "\n",
       "country    Russian Federation  Spain  Switzerland  Turkey  Ukraine  \\\n",
       "group                                                                \n",
       "control_1                   5    342           42       8        8   \n",
       "control_2                   8    310           35       5       18   \n",
       "test                        7    301           35       5       15   \n",
       "\n",
       "country    United Arab Emirates  United Kingdom (Great Britain)  \\\n",
       "group                                                             \n",
       "control_1                   207                             146   \n",
       "control_2                   211                             146   \n",
       "test                        226                             169   \n",
       "\n",
       "country    United States of America  \n",
       "group                                \n",
       "control_1                      1471  \n",
       "control_2                      1486  \n",
       "test                           1450  \n",
       "\n",
       "[3 rows x 25 columns]"
      ]
     },
     "execution_count": 101,
     "metadata": {},
     "output_type": "execute_result"
    }
   ],
   "source": [
    "# Создаем таблицу сопряженности\n",
    "crosstab_countris = pd.crosstab(users.group, users.country)\n",
    "crosstab_countris"
   ]
  },
  {
   "cell_type": "code",
   "execution_count": 102,
   "metadata": {},
   "outputs": [
    {
     "data": {
      "text/plain": [
       "25"
      ]
     },
     "execution_count": 102,
     "metadata": {},
     "output_type": "execute_result"
    }
   ],
   "source": [
    "# Cколько совпадающих стран осталось? Было 72, несовпадающих 47\n",
    "crosstab_countris.shape[1]"
   ]
  },
  {
   "cell_type": "code",
   "execution_count": 103,
   "metadata": {},
   "outputs": [
    {
     "name": "stdout",
     "output_type": "stream",
     "text": [
      "Критерий хи-квадрат равен 32.1309, уровень значимости 0.9619\n",
      "Скорректированный уровень значимости больше 0.05, значит делаем вывод, что география пользователей одинакова\n"
     ]
    }
   ],
   "source": [
    "# Оцениваем есть ли различия в географии пользователей с помощью критерия хи-квадрат\n",
    "# Нулевая гипотеза - география пользователей не различается\n",
    "chi_countris = stats.chi2_contingency(crosstab_countris)\n",
    "print(\n",
    "    f\"Критерий хи-квадрат равен {chi_countris[0].round(4)}, уровень значимости {chi_countris[1].round(4)}\"\n",
    ")\n",
    "if chi_countris[1] * 5 < 0.05:  # корректировка множественных сравнений\n",
    "    print(\n",
    "        \"Скорректированный уровень значимости меньше 0.05, значит мы отвергаем гипотезу о том, что география пользователей одинакова\"\n",
    "    )\n",
    "else:\n",
    "    print(\n",
    "        \"Скорректированный уровень значимости больше 0.05, значит делаем вывод, что география пользователей одинакова\"\n",
    "    )"
   ]
  },
  {
   "cell_type": "markdown",
   "metadata": {},
   "source": [
    "### Возраст"
   ]
  },
  {
   "cell_type": "code",
   "execution_count": 104,
   "metadata": {},
   "outputs": [
    {
     "data": {
      "text/plain": [
       "count    4271.000000\n",
       "mean       31.903770\n",
       "std        10.269227\n",
       "min        16.000000\n",
       "25%        25.000000\n",
       "50%        30.000000\n",
       "75%        38.000000\n",
       "max        99.000000\n",
       "Name: age, dtype: float64"
      ]
     },
     "execution_count": 104,
     "metadata": {},
     "output_type": "execute_result"
    }
   ],
   "source": [
    "ut.age.describe()"
   ]
  },
  {
   "cell_type": "code",
   "execution_count": 105,
   "metadata": {},
   "outputs": [
    {
     "data": {
      "text/plain": [
       "count    4318.000000\n",
       "mean       32.086383\n",
       "std        10.265265\n",
       "min        16.000000\n",
       "25%        24.000000\n",
       "50%        30.000000\n",
       "75%        38.000000\n",
       "max        99.000000\n",
       "Name: age, dtype: float64"
      ]
     },
     "execution_count": 105,
     "metadata": {},
     "output_type": "execute_result"
    }
   ],
   "source": [
    "uc1.age.describe()"
   ]
  },
  {
   "cell_type": "code",
   "execution_count": 106,
   "metadata": {},
   "outputs": [
    {
     "data": {
      "text/plain": [
       "count    4238.000000\n",
       "mean       32.041529\n",
       "std        10.146888\n",
       "min        16.000000\n",
       "25%        25.000000\n",
       "50%        30.000000\n",
       "75%        38.000000\n",
       "max        99.000000\n",
       "Name: age, dtype: float64"
      ]
     },
     "execution_count": 106,
     "metadata": {},
     "output_type": "execute_result"
    }
   ],
   "source": [
    "uc2.age.describe()"
   ]
  },
  {
   "cell_type": "code",
   "execution_count": 107,
   "metadata": {},
   "outputs": [
    {
     "data": {
      "image/png": "[encoded data removed]",
      "text/plain": [
       "<Figure size 1440x504 with 1 Axes>"
      ]
     },
     "metadata": {},
     "output_type": "display_data"
    }
   ],
   "source": [
    "age_distribusion = sns.histplot(data=users, x=\"age\", hue=\"group\")"
   ]
  },
  {
   "cell_type": "markdown",
   "metadata": {},
   "source": [
    "Распределения асимметричные, по форме отличаются от нормального, что и понятно, учитывая, что скорее всего для пользователей есть какой-то возрастной ценз. Сильных выбросов нет, форма распределения во всех группах схожа. Немного настораживает небольшой пик количества пользователей старше 99 лет в тестовой и первой контрольной группах, проверим не ошибка ли это"
   ]
  },
  {
   "cell_type": "code",
   "execution_count": 108,
   "metadata": {},
   "outputs": [
    {
     "data": {
      "text/html": [
       "<div>\n",
       "<style scoped>\n",
       "    .dataframe tbody tr th:only-of-type {\n",
       "        vertical-align: middle;\n",
       "    }\n",
       "\n",
       "    .dataframe tbody tr th {\n",
       "        vertical-align: top;\n",
       "    }\n",
       "\n",
       "    .dataframe thead th {\n",
       "        text-align: right;\n",
       "    }\n",
       "</style>\n",
       "<table border=\"1\" class=\"dataframe\">\n",
       "  <thead>\n",
       "    <tr style=\"text-align: right;\">\n",
       "      <th></th>\n",
       "      <th>uid</th>\n",
       "      <th>age</th>\n",
       "      <th>attraction_coeff</th>\n",
       "      <th>coins</th>\n",
       "      <th>country</th>\n",
       "      <th>visit_days</th>\n",
       "      <th>gender</th>\n",
       "      <th>age_filter_start</th>\n",
       "      <th>age_filter_end</th>\n",
       "      <th>views_count</th>\n",
       "      <th>was_premium</th>\n",
       "      <th>is_premium</th>\n",
       "      <th>group</th>\n",
       "      <th>total_revenue</th>\n",
       "    </tr>\n",
       "  </thead>\n",
       "  <tbody>\n",
       "    <tr>\n",
       "      <th>1747</th>\n",
       "      <td>892285575</td>\n",
       "      <td>99</td>\n",
       "      <td>166</td>\n",
       "      <td>NaN</td>\n",
       "      <td>Germany</td>\n",
       "      <td>1,2,3,4,5,6,7,8,9,10,11,12,13,15,16,17,18,19,2...</td>\n",
       "      <td>1</td>\n",
       "      <td>50</td>\n",
       "      <td>70</td>\n",
       "      <td>6</td>\n",
       "      <td>NaN</td>\n",
       "      <td>NaN</td>\n",
       "      <td>test</td>\n",
       "      <td>NaN</td>\n",
       "    </tr>\n",
       "    <tr>\n",
       "      <th>2281</th>\n",
       "      <td>891321930</td>\n",
       "      <td>99</td>\n",
       "      <td>0</td>\n",
       "      <td>NaN</td>\n",
       "      <td>United States of America</td>\n",
       "      <td>1,2,4,6</td>\n",
       "      <td>1</td>\n",
       "      <td>50</td>\n",
       "      <td>70</td>\n",
       "      <td>3</td>\n",
       "      <td>NaN</td>\n",
       "      <td>NaN</td>\n",
       "      <td>test</td>\n",
       "      <td>NaN</td>\n",
       "    </tr>\n",
       "    <tr>\n",
       "      <th>2374</th>\n",
       "      <td>891305103</td>\n",
       "      <td>99</td>\n",
       "      <td>666</td>\n",
       "      <td>NaN</td>\n",
       "      <td>France</td>\n",
       "      <td>1,2,3,4,5,6,7,8,9</td>\n",
       "      <td>1</td>\n",
       "      <td>27</td>\n",
       "      <td>36</td>\n",
       "      <td>9</td>\n",
       "      <td>NaN</td>\n",
       "      <td>NaN</td>\n",
       "      <td>test</td>\n",
       "      <td>NaN</td>\n",
       "    </tr>\n",
       "    <tr>\n",
       "      <th>2642</th>\n",
       "      <td>892065108</td>\n",
       "      <td>99</td>\n",
       "      <td>475</td>\n",
       "      <td>72.0</td>\n",
       "      <td>France</td>\n",
       "      <td>1,2,3,4,5,6,7,8,9,10,11,12,13,14,16,17,18,19,2...</td>\n",
       "      <td>1</td>\n",
       "      <td>16</td>\n",
       "      <td>41</td>\n",
       "      <td>187</td>\n",
       "      <td>1.0</td>\n",
       "      <td>1.0</td>\n",
       "      <td>test</td>\n",
       "      <td>47242.0</td>\n",
       "    </tr>\n",
       "    <tr>\n",
       "      <th>2794</th>\n",
       "      <td>891346023</td>\n",
       "      <td>99</td>\n",
       "      <td>0</td>\n",
       "      <td>NaN</td>\n",
       "      <td>Italy</td>\n",
       "      <td>NaN</td>\n",
       "      <td>1</td>\n",
       "      <td>50</td>\n",
       "      <td>70</td>\n",
       "      <td>3</td>\n",
       "      <td>NaN</td>\n",
       "      <td>NaN</td>\n",
       "      <td>test</td>\n",
       "      <td>NaN</td>\n",
       "    </tr>\n",
       "    <tr>\n",
       "      <th>3107</th>\n",
       "      <td>891502608</td>\n",
       "      <td>98</td>\n",
       "      <td>33</td>\n",
       "      <td>NaN</td>\n",
       "      <td>Kyrgyzstan</td>\n",
       "      <td>1</td>\n",
       "      <td>1</td>\n",
       "      <td>16</td>\n",
       "      <td>22</td>\n",
       "      <td>30</td>\n",
       "      <td>NaN</td>\n",
       "      <td>NaN</td>\n",
       "      <td>test</td>\n",
       "      <td>NaN</td>\n",
       "    </tr>\n",
       "    <tr>\n",
       "      <th>4225</th>\n",
       "      <td>891428367</td>\n",
       "      <td>99</td>\n",
       "      <td>500</td>\n",
       "      <td>NaN</td>\n",
       "      <td>Portugal</td>\n",
       "      <td>1</td>\n",
       "      <td>1</td>\n",
       "      <td>20</td>\n",
       "      <td>47</td>\n",
       "      <td>4</td>\n",
       "      <td>NaN</td>\n",
       "      <td>NaN</td>\n",
       "      <td>test</td>\n",
       "      <td>NaN</td>\n",
       "    </tr>\n",
       "    <tr>\n",
       "      <th>4265</th>\n",
       "      <td>891175101</td>\n",
       "      <td>99</td>\n",
       "      <td>587</td>\n",
       "      <td>NaN</td>\n",
       "      <td>Canada</td>\n",
       "      <td>1</td>\n",
       "      <td>1</td>\n",
       "      <td>16</td>\n",
       "      <td>24</td>\n",
       "      <td>182</td>\n",
       "      <td>NaN</td>\n",
       "      <td>NaN</td>\n",
       "      <td>test</td>\n",
       "      <td>NaN</td>\n",
       "    </tr>\n",
       "  </tbody>\n",
       "</table>\n",
       "</div>"
      ],
      "text/plain": [
       "            uid  age  attraction_coeff  coins                   country  \\\n",
       "1747  892285575   99               166    NaN                   Germany   \n",
       "2281  891321930   99                 0    NaN  United States of America   \n",
       "2374  891305103   99               666    NaN                    France   \n",
       "2642  892065108   99               475   72.0                    France   \n",
       "2794  891346023   99                 0    NaN                     Italy   \n",
       "3107  891502608   98                33    NaN                Kyrgyzstan   \n",
       "4225  891428367   99               500    NaN                  Portugal   \n",
       "4265  891175101   99               587    NaN                    Canada   \n",
       "\n",
       "                                             visit_days  gender  \\\n",
       "1747  1,2,3,4,5,6,7,8,9,10,11,12,13,15,16,17,18,19,2...       1   \n",
       "2281                                            1,2,4,6       1   \n",
       "2374                                  1,2,3,4,5,6,7,8,9       1   \n",
       "2642  1,2,3,4,5,6,7,8,9,10,11,12,13,14,16,17,18,19,2...       1   \n",
       "2794                                                NaN       1   \n",
       "3107                                                  1       1   \n",
       "4225                                                  1       1   \n",
       "4265                                                  1       1   \n",
       "\n",
       "      age_filter_start  age_filter_end  views_count  was_premium  is_premium  \\\n",
       "1747                50              70            6          NaN         NaN   \n",
       "2281                50              70            3          NaN         NaN   \n",
       "2374                27              36            9          NaN         NaN   \n",
       "2642                16              41          187          1.0         1.0   \n",
       "2794                50              70            3          NaN         NaN   \n",
       "3107                16              22           30          NaN         NaN   \n",
       "4225                20              47            4          NaN         NaN   \n",
       "4265                16              24          182          NaN         NaN   \n",
       "\n",
       "     group  total_revenue  \n",
       "1747  test            NaN  \n",
       "2281  test            NaN  \n",
       "2374  test            NaN  \n",
       "2642  test        47242.0  \n",
       "2794  test            NaN  \n",
       "3107  test            NaN  \n",
       "4225  test            NaN  \n",
       "4265  test            NaN  "
      ]
     },
     "execution_count": 108,
     "metadata": {},
     "output_type": "execute_result"
    }
   ],
   "source": [
    "ut.query('age > 90')"
   ]
  },
  {
   "cell_type": "code",
   "execution_count": 109,
   "metadata": {},
   "outputs": [
    {
     "data": {
      "text/html": [
       "<div>\n",
       "<style scoped>\n",
       "    .dataframe tbody tr th:only-of-type {\n",
       "        vertical-align: middle;\n",
       "    }\n",
       "\n",
       "    .dataframe tbody tr th {\n",
       "        vertical-align: top;\n",
       "    }\n",
       "\n",
       "    .dataframe thead th {\n",
       "        text-align: right;\n",
       "    }\n",
       "</style>\n",
       "<table border=\"1\" class=\"dataframe\">\n",
       "  <thead>\n",
       "    <tr style=\"text-align: right;\">\n",
       "      <th></th>\n",
       "      <th>uid</th>\n",
       "      <th>age</th>\n",
       "      <th>attraction_coeff</th>\n",
       "      <th>coins</th>\n",
       "      <th>country</th>\n",
       "      <th>visit_days</th>\n",
       "      <th>gender</th>\n",
       "      <th>age_filter_start</th>\n",
       "      <th>age_filter_end</th>\n",
       "      <th>views_count</th>\n",
       "      <th>was_premium</th>\n",
       "      <th>is_premium</th>\n",
       "      <th>group</th>\n",
       "      <th>total_revenue</th>\n",
       "    </tr>\n",
       "  </thead>\n",
       "  <tbody>\n",
       "    <tr>\n",
       "      <th>772</th>\n",
       "      <td>891746646</td>\n",
       "      <td>99</td>\n",
       "      <td>300</td>\n",
       "      <td>NaN</td>\n",
       "      <td>Italy</td>\n",
       "      <td>NaN</td>\n",
       "      <td>1</td>\n",
       "      <td>50</td>\n",
       "      <td>70</td>\n",
       "      <td>10</td>\n",
       "      <td>NaN</td>\n",
       "      <td>NaN</td>\n",
       "      <td>control_1</td>\n",
       "      <td>NaN</td>\n",
       "    </tr>\n",
       "    <tr>\n",
       "      <th>1465</th>\n",
       "      <td>891918399</td>\n",
       "      <td>99</td>\n",
       "      <td>62</td>\n",
       "      <td>NaN</td>\n",
       "      <td>Italy</td>\n",
       "      <td>1,2,3</td>\n",
       "      <td>1</td>\n",
       "      <td>50</td>\n",
       "      <td>99</td>\n",
       "      <td>16</td>\n",
       "      <td>NaN</td>\n",
       "      <td>NaN</td>\n",
       "      <td>control_1</td>\n",
       "      <td>NaN</td>\n",
       "    </tr>\n",
       "    <tr>\n",
       "      <th>1855</th>\n",
       "      <td>891374112</td>\n",
       "      <td>99</td>\n",
       "      <td>900</td>\n",
       "      <td>NaN</td>\n",
       "      <td>United Arab Emirates</td>\n",
       "      <td>1,2,3,4,5,6,7,8,9,10,11</td>\n",
       "      <td>1</td>\n",
       "      <td>16</td>\n",
       "      <td>99</td>\n",
       "      <td>462</td>\n",
       "      <td>NaN</td>\n",
       "      <td>NaN</td>\n",
       "      <td>control_1</td>\n",
       "      <td>NaN</td>\n",
       "    </tr>\n",
       "    <tr>\n",
       "      <th>2102</th>\n",
       "      <td>892185039</td>\n",
       "      <td>99</td>\n",
       "      <td>759</td>\n",
       "      <td>NaN</td>\n",
       "      <td>United Kingdom (Great Britain)</td>\n",
       "      <td>1,2,3,4,5,6,7,8,9</td>\n",
       "      <td>1</td>\n",
       "      <td>43</td>\n",
       "      <td>49</td>\n",
       "      <td>79</td>\n",
       "      <td>1.0</td>\n",
       "      <td>1.0</td>\n",
       "      <td>control_1</td>\n",
       "      <td>7332.0</td>\n",
       "    </tr>\n",
       "    <tr>\n",
       "      <th>2237</th>\n",
       "      <td>892321845</td>\n",
       "      <td>99</td>\n",
       "      <td>500</td>\n",
       "      <td>NaN</td>\n",
       "      <td>United States of America</td>\n",
       "      <td>NaN</td>\n",
       "      <td>1</td>\n",
       "      <td>22</td>\n",
       "      <td>99</td>\n",
       "      <td>4</td>\n",
       "      <td>NaN</td>\n",
       "      <td>NaN</td>\n",
       "      <td>control_1</td>\n",
       "      <td>NaN</td>\n",
       "    </tr>\n",
       "    <tr>\n",
       "      <th>2311</th>\n",
       "      <td>891682545</td>\n",
       "      <td>99</td>\n",
       "      <td>0</td>\n",
       "      <td>NaN</td>\n",
       "      <td>United States of America</td>\n",
       "      <td>NaN</td>\n",
       "      <td>1</td>\n",
       "      <td>96</td>\n",
       "      <td>102</td>\n",
       "      <td>0</td>\n",
       "      <td>NaN</td>\n",
       "      <td>NaN</td>\n",
       "      <td>control_1</td>\n",
       "      <td>NaN</td>\n",
       "    </tr>\n",
       "    <tr>\n",
       "      <th>2835</th>\n",
       "      <td>891900387</td>\n",
       "      <td>99</td>\n",
       "      <td>333</td>\n",
       "      <td>NaN</td>\n",
       "      <td>Italy</td>\n",
       "      <td>1,3,4</td>\n",
       "      <td>1</td>\n",
       "      <td>16</td>\n",
       "      <td>99</td>\n",
       "      <td>3</td>\n",
       "      <td>NaN</td>\n",
       "      <td>NaN</td>\n",
       "      <td>control_1</td>\n",
       "      <td>NaN</td>\n",
       "    </tr>\n",
       "    <tr>\n",
       "      <th>2907</th>\n",
       "      <td>892335240</td>\n",
       "      <td>98</td>\n",
       "      <td>593</td>\n",
       "      <td>NaN</td>\n",
       "      <td>United States of America</td>\n",
       "      <td>1</td>\n",
       "      <td>1</td>\n",
       "      <td>22</td>\n",
       "      <td>28</td>\n",
       "      <td>32</td>\n",
       "      <td>NaN</td>\n",
       "      <td>NaN</td>\n",
       "      <td>control_1</td>\n",
       "      <td>NaN</td>\n",
       "    </tr>\n",
       "    <tr>\n",
       "      <th>3398</th>\n",
       "      <td>892278777</td>\n",
       "      <td>91</td>\n",
       "      <td>384</td>\n",
       "      <td>NaN</td>\n",
       "      <td>United Arab Emirates</td>\n",
       "      <td>1</td>\n",
       "      <td>1</td>\n",
       "      <td>16</td>\n",
       "      <td>23</td>\n",
       "      <td>13</td>\n",
       "      <td>NaN</td>\n",
       "      <td>NaN</td>\n",
       "      <td>control_1</td>\n",
       "      <td>NaN</td>\n",
       "    </tr>\n",
       "  </tbody>\n",
       "</table>\n",
       "</div>"
      ],
      "text/plain": [
       "            uid  age  attraction_coeff  coins                         country  \\\n",
       "772   891746646   99               300    NaN                           Italy   \n",
       "1465  891918399   99                62    NaN                           Italy   \n",
       "1855  891374112   99               900    NaN            United Arab Emirates   \n",
       "2102  892185039   99               759    NaN  United Kingdom (Great Britain)   \n",
       "2237  892321845   99               500    NaN        United States of America   \n",
       "2311  891682545   99                 0    NaN        United States of America   \n",
       "2835  891900387   99               333    NaN                           Italy   \n",
       "2907  892335240   98               593    NaN        United States of America   \n",
       "3398  892278777   91               384    NaN            United Arab Emirates   \n",
       "\n",
       "                   visit_days  gender  age_filter_start  age_filter_end  \\\n",
       "772                       NaN       1                50              70   \n",
       "1465                    1,2,3       1                50              99   \n",
       "1855  1,2,3,4,5,6,7,8,9,10,11       1                16              99   \n",
       "2102        1,2,3,4,5,6,7,8,9       1                43              49   \n",
       "2237                      NaN       1                22              99   \n",
       "2311                      NaN       1                96             102   \n",
       "2835                    1,3,4       1                16              99   \n",
       "2907                        1       1                22              28   \n",
       "3398                        1       1                16              23   \n",
       "\n",
       "      views_count  was_premium  is_premium      group  total_revenue  \n",
       "772            10          NaN         NaN  control_1            NaN  \n",
       "1465           16          NaN         NaN  control_1            NaN  \n",
       "1855          462          NaN         NaN  control_1            NaN  \n",
       "2102           79          1.0         1.0  control_1         7332.0  \n",
       "2237            4          NaN         NaN  control_1            NaN  \n",
       "2311            0          NaN         NaN  control_1            NaN  \n",
       "2835            3          NaN         NaN  control_1            NaN  \n",
       "2907           32          NaN         NaN  control_1            NaN  \n",
       "3398           13          NaN         NaN  control_1            NaN  "
      ]
     },
     "execution_count": 109,
     "metadata": {},
     "output_type": "execute_result"
    }
   ],
   "source": [
    "uc1.query('age > 90')"
   ]
  },
  {
   "cell_type": "markdown",
   "metadata": {},
   "source": [
    "Возможно, если возраст не указан, то он автоматически проставляется как 99, так как уточнить мы не можем, в целом не вижу причин выбраковывать этих пользователей из выборки"
   ]
  },
  {
   "cell_type": "markdown",
   "metadata": {},
   "source": [
    "Cравним дисперсии с помощью критерия Левена. Нулевая гипотеза - дисперсии равны."
   ]
  },
  {
   "cell_type": "code",
   "execution_count": 110,
   "metadata": {},
   "outputs": [
    {
     "name": "stdout",
     "output_type": "stream",
     "text": [
      "Уровень значимости критерия Левена 0.7499343576566405\n",
      "Дисперсии равны\n"
     ]
    }
   ],
   "source": [
    "levene = stats.levene(ut.age, uc1.age, uc2.age)\n",
    "print(f\"Уровень значимости критерия Левена {levene[1]}\")\n",
    "if levene[1] < 0.05:\n",
    "    print(\"Дисперсии НЕ равны\")\n",
    "else:\n",
    "    print(\"Дисперсии равны\")"
   ]
  },
  {
   "cell_type": "markdown",
   "metadata": {},
   "source": [
    "Для сравнения трех групп по возрасту логично использовать однофакторный дисперсионный анализ, но при использовании этого метода распределение данных должно быть нормальным. В нашем случае это не так, значит либо нужно приводить распределение данных к нормальному, например логарифмировать, либо использовать непараметрический тест Краскела-Уоллиса, что мы и сделаем. Нулевая гипотеза - средний возраст в трех группах не различается."
   ]
  },
  {
   "cell_type": "code",
   "execution_count": 111,
   "metadata": {},
   "outputs": [
    {
     "name": "stdout",
     "output_type": "stream",
     "text": [
      "Достоверные различия НЕ обнаружены, возраст пользователей НЕ отличается\n"
     ]
    }
   ],
   "source": [
    "kruskal_age = stats.kruskal(ut.age, uc1.age, uc2.age)\n",
    "\n",
    "if kruskal_age[1] * 5 < 0.05:  # корректировка множественных сравнений\n",
    "    print(\n",
    "        \"Обнаружены достоверные различия, в разных группах возраст пользователей отличается\"\n",
    "    )\n",
    "else:\n",
    "    print(\"Достоверные различия НЕ обнаружены, возраст пользователей НЕ отличается\")"
   ]
  },
  {
   "cell_type": "markdown",
   "metadata": {},
   "source": [
    "### Половой состав групп "
   ]
  },
  {
   "cell_type": "code",
   "execution_count": 112,
   "metadata": {},
   "outputs": [
    {
     "data": {
      "text/plain": [
       "1    4071\n",
       "0     200\n",
       "Name: gender, dtype: int64"
      ]
     },
     "execution_count": 112,
     "metadata": {},
     "output_type": "execute_result"
    }
   ],
   "source": [
    "ut.gender.value_counts()"
   ]
  },
  {
   "cell_type": "code",
   "execution_count": 113,
   "metadata": {},
   "outputs": [
    {
     "data": {
      "text/plain": [
       "1    4136\n",
       "0     182\n",
       "Name: gender, dtype: int64"
      ]
     },
     "execution_count": 113,
     "metadata": {},
     "output_type": "execute_result"
    }
   ],
   "source": [
    "uc1.gender.value_counts()"
   ]
  },
  {
   "cell_type": "code",
   "execution_count": 114,
   "metadata": {},
   "outputs": [
    {
     "data": {
      "text/plain": [
       "1    4044\n",
       "0     194\n",
       "Name: gender, dtype: int64"
      ]
     },
     "execution_count": 114,
     "metadata": {},
     "output_type": "execute_result"
    }
   ],
   "source": [
    "uc2.gender.value_counts()"
   ]
  },
  {
   "cell_type": "markdown",
   "metadata": {},
   "source": [
    "Заметно, что соотношение полов не равное, примерно 20/1, проверим, одинаково ли соотношение полов в каждой из групп. Для этого используем критерий хи-квадрат  "
   ]
  },
  {
   "cell_type": "code",
   "execution_count": 115,
   "metadata": {},
   "outputs": [
    {
     "name": "stdout",
     "output_type": "stream",
     "text": [
      "Статистика критерия равна 1.2077, уровень значимости 0.5467\n",
      "Уровень значимости больше 0.05, значит делаем вывод, что половой состав групп не различается\n"
     ]
    }
   ],
   "source": [
    "# Создаем таблицу сопряженоси\n",
    "crosstab_gender = pd.crosstab(users.group, users.gender)\n",
    "# Оцениваем есть ли различия в половом составе групп с помощью критерия хи-квадрат\n",
    "# Нулевая гипотеза - половой состав не различается\n",
    "chi_gender = stats.chi2_contingency(crosstab_gender)\n",
    "print(\n",
    "    f\"Статистика критерия равна {chi_gender[0].round(4)}, уровень значимости {chi_gender[1].round(4)}\"\n",
    ")\n",
    "if chi_gender[1] * 5 < 0.05:  # корректировка множественных сравнений\n",
    "    print(\n",
    "        \"Уровень значимости меньше 0.05, значит мы отвергаем гипотезу о том, что половой состав групп одинаков\"\n",
    "    )\n",
    "else:\n",
    "    print(\n",
    "        \"Уровень значимости больше 0.05, значит делаем вывод, что половой состав групп не различается\"\n",
    "    )"
   ]
  },
  {
   "cell_type": "markdown",
   "metadata": {},
   "source": [
    "## Привлекательность пользователей"
   ]
  },
  {
   "cell_type": "code",
   "execution_count": 116,
   "metadata": {},
   "outputs": [
    {
     "data": {
      "text/plain": [
       "count    4271.000000\n",
       "mean      315.866542\n",
       "std       323.224755\n",
       "min         0.000000\n",
       "25%         0.000000\n",
       "50%       250.000000\n",
       "75%       519.000000\n",
       "max      1000.000000\n",
       "Name: attraction_coeff, dtype: float64"
      ]
     },
     "execution_count": 116,
     "metadata": {},
     "output_type": "execute_result"
    }
   ],
   "source": [
    "ut.attraction_coeff.describe()"
   ]
  },
  {
   "cell_type": "code",
   "execution_count": 117,
   "metadata": {},
   "outputs": [
    {
     "data": {
      "text/plain": [
       "count    4318.000000\n",
       "mean      311.619037\n",
       "std       320.936207\n",
       "min         0.000000\n",
       "25%         0.000000\n",
       "50%       237.500000\n",
       "75%       517.000000\n",
       "max      1000.000000\n",
       "Name: attraction_coeff, dtype: float64"
      ]
     },
     "execution_count": 117,
     "metadata": {},
     "output_type": "execute_result"
    }
   ],
   "source": [
    "uc1.attraction_coeff.describe()"
   ]
  },
  {
   "cell_type": "code",
   "execution_count": 118,
   "metadata": {},
   "outputs": [
    {
     "data": {
      "text/plain": [
       "count    4238.000000\n",
       "mean      317.054271\n",
       "std       326.028795\n",
       "min         0.000000\n",
       "25%         0.000000\n",
       "50%       250.000000\n",
       "75%       545.000000\n",
       "max      1000.000000\n",
       "Name: attraction_coeff, dtype: float64"
      ]
     },
     "execution_count": 118,
     "metadata": {},
     "output_type": "execute_result"
    }
   ],
   "source": [
    "uc2.attraction_coeff.describe()"
   ]
  },
  {
   "cell_type": "markdown",
   "metadata": {},
   "source": [
    "Посмотрим на распределения данных"
   ]
  },
  {
   "cell_type": "code",
   "execution_count": 119,
   "metadata": {},
   "outputs": [
    {
     "data": {
      "text/plain": [
       "<seaborn.axisgrid.FacetGrid at 0x7f9aa77e4ef0>"
      ]
     },
     "execution_count": 119,
     "metadata": {},
     "output_type": "execute_result"
    },
    {
     "data": {
      "image/png": "[encoded data removed]",
      "text/plain": [
       "<Figure size 1080x360 with 1 Axes>"
      ]
     },
     "metadata": {},
     "output_type": "display_data"
    }
   ],
   "source": [
    "sns.displot(data=ut, x='attraction_coeff', height=5, aspect=3)"
   ]
  },
  {
   "cell_type": "code",
   "execution_count": 120,
   "metadata": {},
   "outputs": [
    {
     "data": {
      "text/plain": [
       "<seaborn.axisgrid.FacetGrid at 0x7f9aa7a1feb8>"
      ]
     },
     "execution_count": 120,
     "metadata": {},
     "output_type": "execute_result"
    },
    {
     "data": {
      "image/png": "[encoded data removed]",
      "text/plain": [
       "<Figure size 1080x360 with 1 Axes>"
      ]
     },
     "metadata": {},
     "output_type": "display_data"
    }
   ],
   "source": [
    "sns.displot(data=uc1, x='attraction_coeff', height=5, aspect=3)"
   ]
  },
  {
   "cell_type": "code",
   "execution_count": 121,
   "metadata": {},
   "outputs": [
    {
     "data": {
      "text/plain": [
       "<seaborn.axisgrid.FacetGrid at 0x7f9a9fe69ef0>"
      ]
     },
     "execution_count": 121,
     "metadata": {},
     "output_type": "execute_result"
    },
    {
     "data": {
      "image/png": "[encoded data removed]",
      "text/plain": [
       "<Figure size 1080x360 with 1 Axes>"
      ]
     },
     "metadata": {},
     "output_type": "display_data"
    }
   ],
   "source": [
    "sns.displot(data=uc2, x='attraction_coeff', height=5, aspect=3)"
   ]
  },
  {
   "cell_type": "markdown",
   "metadata": {},
   "source": [
    "В каждой группе наблюдается значительное количество пользователей с нулевым коэффициентом привлекательности, а также некоторое количество пользователей с коэффициентом, близким к максимальному. Распределение остальных пользователей по коэффициенту привлекательности ближе к равномерному, чем к нормальному. Следует также учитывать, что наши три выборки не являются полностью независимыми. Например, пользователь из тестовой группы, оформивший премиум-подписку, может активнее лайкать людей из контрольных групп, что повысит их коэффициенты привлекательности. В ответ пользователи из контрольных групп, увидев лайки от пользователей тестовой группы, могут также поставить лайк, тем самым повышая коэффициент привлекательности в тестовой группе.\n",
    "\n",
    "Для оценки различий между группами мы применим критерий Фридмана, который проверяет нулевую гипотезу о том, что все выборки взяты из одного распределения, то есть различия по коэффициенту привлекательности отсутствуют. Одним из условий применения критерия Фридмана является равенство размеров выборок, поэтому их потребуется уровнять по наименьшей. Также предварительно проверим равенство дисперсий выборок с помощью критерия Левена, где нулевая гипотеза предполагает равенство дисперсий."
   ]
  },
  {
   "cell_type": "code",
   "execution_count": 122,
   "metadata": {},
   "outputs": [
    {
     "name": "stdout",
     "output_type": "stream",
     "text": [
      "Уровень значимости критерия Левена 0.4937525724846513\n",
      "Дисперсии равны\n"
     ]
    }
   ],
   "source": [
    "levene = stats.levene(ut.attraction_coeff, uc1.attraction_coeff, uc2.attraction_coeff)\n",
    "print(f\"Уровень значимости критерия Левена {levene[1]}\")\n",
    "if levene[1] < 0.05:\n",
    "    print(\"Дисперсии НЕ равны\")\n",
    "else:\n",
    "    print(\"Дисперсии равны\")"
   ]
  },
  {
   "cell_type": "code",
   "execution_count": 123,
   "metadata": {},
   "outputs": [
    {
     "data": {
      "text/plain": [
       "4271"
      ]
     },
     "execution_count": 123,
     "metadata": {},
     "output_type": "execute_result"
    }
   ],
   "source": [
    "# Количество пользователей в тестовой группе\n",
    "ut.attraction_coeff.shape[0]"
   ]
  },
  {
   "cell_type": "code",
   "execution_count": 124,
   "metadata": {},
   "outputs": [
    {
     "data": {
      "text/plain": [
       "4318"
      ]
     },
     "execution_count": 124,
     "metadata": {},
     "output_type": "execute_result"
    }
   ],
   "source": [
    "# Количество пользователей в контроле_1\n",
    "uc1.attraction_coeff.shape[0]"
   ]
  },
  {
   "cell_type": "code",
   "execution_count": 125,
   "metadata": {},
   "outputs": [
    {
     "data": {
      "text/plain": [
       "4238"
      ]
     },
     "execution_count": 125,
     "metadata": {},
     "output_type": "execute_result"
    }
   ],
   "source": [
    "# Количество пользователей в контроле_2\n",
    "uc2.attraction_coeff.shape[0]"
   ]
  },
  {
   "cell_type": "markdown",
   "metadata": {},
   "source": [
    "Меньшего всего пользователей в контроле_2, уровняем всех по этому количеству"
   ]
  },
  {
   "cell_type": "code",
   "execution_count": 126,
   "metadata": {},
   "outputs": [
    {
     "name": "stdout",
     "output_type": "stream",
     "text": [
      "Критерий Фридмана равен 0.1136, уровень значимости 0.9448\n",
      "Скорректированный уровень значимости больше 0.05\n",
      "Достоверные различия НЕ обнаружены, коэффициент привлекательности пользователей НЕ отличается\n"
     ]
    }
   ],
   "source": [
    "# Рассчитываем критерий Фридмана\n",
    "fridman_attraction = stats.friedmanchisquare(\n",
    "    ut.attraction_coeff.sample(uc2.attraction_coeff.shape[0]),\n",
    "    uc1.attraction_coeff.sample(uc2.attraction_coeff.shape[0]),\n",
    "    uc2.attraction_coeff,\n",
    ")\n",
    "print(\n",
    "    f\"Критерий Фридмана равен {fridman_attraction[0].round(4)}, уровень значимости {fridman_attraction[1].round(4)}\"\n",
    ")\n",
    "if fridman_attraction[1] * 5 < 0.05:  # корректировка множественных сравнений\n",
    "    print(\"Скорректированный уровень значимости меньше 0.05\")\n",
    "    print(\n",
    "        \"Обнаружены достоверные различия, в разных группах коэффициент привлекательности пользователей отличается\"\n",
    "    )\n",
    "else:\n",
    "    print(\"Скорректированный уровень значимости больше 0.05\")\n",
    "    print(\n",
    "        \"Достоверные различия НЕ обнаружены, коэффициент привлекательности пользователей НЕ отличается\"\n",
    "    )"
   ]
  },
  {
   "cell_type": "markdown",
   "metadata": {},
   "source": [
    "### Каналы, с которых пользователи першли на страницу оплаты"
   ]
  },
  {
   "cell_type": "code",
   "execution_count": 127,
   "metadata": {},
   "outputs": [
    {
     "data": {
      "text/plain": [
       "array(['trial_vip_popup', 'menu', 'autoreply_message',\n",
       "       'left_sidebar_menu', 'autorefill', 'ad_to_photo', 'gifts', 'none',\n",
       "       'promo_09', 'super_popup', 'empty_likes', 'empty_mutual',\n",
       "       'popular_users_chat', 'send_message', 'coins_popup',\n",
       "       'popular_users_block', 'sympathy', 'delivery_vip', 'fans',\n",
       "       'dating', 'user_profile', 'likes', 'empty_admins', 'no_sympathy',\n",
       "       'admins'], dtype=object)"
      ]
     },
     "execution_count": 127,
     "metadata": {},
     "output_type": "execute_result"
    }
   ],
   "source": [
    "transactions.from_page.unique()"
   ]
  },
  {
   "cell_type": "markdown",
   "metadata": {},
   "source": [
    "Кажется что это не страницы сторонних сервисов, а страницы этого дейтингового приложения, но все равно изучим"
   ]
  },
  {
   "cell_type": "code",
   "execution_count": 128,
   "metadata": {},
   "outputs": [
    {
     "data": {
      "text/plain": [
       "25"
      ]
     },
     "execution_count": 128,
     "metadata": {},
     "output_type": "execute_result"
    }
   ],
   "source": [
    "transactions.from_page.nunique()"
   ]
  },
  {
   "cell_type": "code",
   "execution_count": 129,
   "metadata": {},
   "outputs": [
    {
     "data": {
      "text/plain": [
       "22"
      ]
     },
     "execution_count": 129,
     "metadata": {},
     "output_type": "execute_result"
    }
   ],
   "source": [
    "tt.from_page.nunique()"
   ]
  },
  {
   "cell_type": "code",
   "execution_count": 130,
   "metadata": {},
   "outputs": [
    {
     "data": {
      "text/plain": [
       "22"
      ]
     },
     "execution_count": 130,
     "metadata": {},
     "output_type": "execute_result"
    }
   ],
   "source": [
    "tc1.from_page.nunique()"
   ]
  },
  {
   "cell_type": "code",
   "execution_count": 131,
   "metadata": {},
   "outputs": [
    {
     "data": {
      "text/plain": [
       "18"
      ]
     },
     "execution_count": 131,
     "metadata": {},
     "output_type": "execute_result"
    }
   ],
   "source": [
    "tc2.from_page.nunique()"
   ]
  },
  {
   "cell_type": "markdown",
   "metadata": {},
   "source": [
    "Как и в случае с городами, видим отличия в наборе каналов, с которых пользователи из каждой группы переходили на страницу оплаты"
   ]
  },
  {
   "cell_type": "code",
   "execution_count": 132,
   "metadata": {},
   "outputs": [],
   "source": [
    "from_page = {\n",
    "    \"test\": set(tt.from_page.unique()),\n",
    "    \"control_1\": set(tc1.from_page.unique()),\n",
    "    \"control_2\": set(tc1.from_page.unique()),\n",
    "}"
   ]
  },
  {
   "cell_type": "code",
   "execution_count": 133,
   "metadata": {},
   "outputs": [
    {
     "name": "stdout",
     "output_type": "stream",
     "text": [
      "Разница между test и control_1:\n",
      "\n",
      "Элементы в test , которых нет в  control_1: {'delivery_vip', 'empty_mutual', 'likes'}\n",
      "\n",
      "Элементы в control_1 , которых нет в test: {'admins', 'no_sympathy', 'empty_admins'}\n",
      "\n",
      "\n",
      "Разница между test и control_2:\n",
      "\n",
      "Элементы в test , которых нет в  control_2: {'delivery_vip', 'empty_mutual', 'likes'}\n",
      "\n",
      "Элементы в control_2 , которых нет в test: {'admins', 'no_sympathy', 'empty_admins'}\n",
      "\n",
      "\n",
      "Разница между control_1 и control_2:\n",
      "\n",
      "Элементы в control_1 , которых нет в  control_2: set()\n",
      "\n",
      "Элементы в control_2 , которых нет в control_1: set()\n",
      "\n",
      "\n"
     ]
    }
   ],
   "source": [
    "different_channels = compare_sets(from_page)"
   ]
  },
  {
   "cell_type": "code",
   "execution_count": 134,
   "metadata": {},
   "outputs": [
    {
     "data": {
      "text/plain": [
       "10"
      ]
     },
     "execution_count": 134,
     "metadata": {},
     "output_type": "execute_result"
    }
   ],
   "source": [
    "# Количество пользователей из несовпадающих каналов\n",
    "transactions.query('from_page.isin(@different_channels[0])').uid.count()"
   ]
  },
  {
   "cell_type": "markdown",
   "metadata": {},
   "source": [
    "Думаю, что вряд ли в одном и том же приложении на разных страницах будет разная стоимость премиум подписки, поэтому не будем удалять этих пользователей"
   ]
  },
  {
   "cell_type": "code",
   "execution_count": 135,
   "metadata": {},
   "outputs": [
    {
     "data": {
      "text/html": [
       "<div>\n",
       "<style scoped>\n",
       "    .dataframe tbody tr th:only-of-type {\n",
       "        vertical-align: middle;\n",
       "    }\n",
       "\n",
       "    .dataframe tbody tr th {\n",
       "        vertical-align: top;\n",
       "    }\n",
       "\n",
       "    .dataframe thead th {\n",
       "        text-align: right;\n",
       "    }\n",
       "</style>\n",
       "<table border=\"1\" class=\"dataframe\">\n",
       "  <thead>\n",
       "    <tr style=\"text-align: right;\">\n",
       "      <th>from_page</th>\n",
       "      <th>ad_to_photo</th>\n",
       "      <th>admins</th>\n",
       "      <th>autorefill</th>\n",
       "      <th>autoreply_message</th>\n",
       "      <th>coins_popup</th>\n",
       "      <th>dating</th>\n",
       "      <th>delivery_vip</th>\n",
       "      <th>empty_admins</th>\n",
       "      <th>empty_likes</th>\n",
       "      <th>empty_mutual</th>\n",
       "      <th>...</th>\n",
       "      <th>no_sympathy</th>\n",
       "      <th>none</th>\n",
       "      <th>popular_users_block</th>\n",
       "      <th>popular_users_chat</th>\n",
       "      <th>promo_09</th>\n",
       "      <th>send_message</th>\n",
       "      <th>super_popup</th>\n",
       "      <th>sympathy</th>\n",
       "      <th>trial_vip_popup</th>\n",
       "      <th>user_profile</th>\n",
       "    </tr>\n",
       "    <tr>\n",
       "      <th>group</th>\n",
       "      <th></th>\n",
       "      <th></th>\n",
       "      <th></th>\n",
       "      <th></th>\n",
       "      <th></th>\n",
       "      <th></th>\n",
       "      <th></th>\n",
       "      <th></th>\n",
       "      <th></th>\n",
       "      <th></th>\n",
       "      <th></th>\n",
       "      <th></th>\n",
       "      <th></th>\n",
       "      <th></th>\n",
       "      <th></th>\n",
       "      <th></th>\n",
       "      <th></th>\n",
       "      <th></th>\n",
       "      <th></th>\n",
       "      <th></th>\n",
       "      <th></th>\n",
       "    </tr>\n",
       "  </thead>\n",
       "  <tbody>\n",
       "    <tr>\n",
       "      <th>control_1</th>\n",
       "      <td>2</td>\n",
       "      <td>2</td>\n",
       "      <td>23</td>\n",
       "      <td>28</td>\n",
       "      <td>2</td>\n",
       "      <td>9</td>\n",
       "      <td>0</td>\n",
       "      <td>2</td>\n",
       "      <td>90</td>\n",
       "      <td>0</td>\n",
       "      <td>...</td>\n",
       "      <td>2</td>\n",
       "      <td>33</td>\n",
       "      <td>8</td>\n",
       "      <td>4</td>\n",
       "      <td>21</td>\n",
       "      <td>3</td>\n",
       "      <td>2</td>\n",
       "      <td>4</td>\n",
       "      <td>56</td>\n",
       "      <td>3</td>\n",
       "    </tr>\n",
       "    <tr>\n",
       "      <th>control_2</th>\n",
       "      <td>7</td>\n",
       "      <td>0</td>\n",
       "      <td>20</td>\n",
       "      <td>24</td>\n",
       "      <td>0</td>\n",
       "      <td>10</td>\n",
       "      <td>0</td>\n",
       "      <td>0</td>\n",
       "      <td>96</td>\n",
       "      <td>1</td>\n",
       "      <td>...</td>\n",
       "      <td>0</td>\n",
       "      <td>28</td>\n",
       "      <td>9</td>\n",
       "      <td>1</td>\n",
       "      <td>22</td>\n",
       "      <td>4</td>\n",
       "      <td>0</td>\n",
       "      <td>1</td>\n",
       "      <td>44</td>\n",
       "      <td>1</td>\n",
       "    </tr>\n",
       "    <tr>\n",
       "      <th>test</th>\n",
       "      <td>1</td>\n",
       "      <td>0</td>\n",
       "      <td>5</td>\n",
       "      <td>27</td>\n",
       "      <td>1</td>\n",
       "      <td>5</td>\n",
       "      <td>1</td>\n",
       "      <td>0</td>\n",
       "      <td>67</td>\n",
       "      <td>1</td>\n",
       "      <td>...</td>\n",
       "      <td>0</td>\n",
       "      <td>33</td>\n",
       "      <td>2</td>\n",
       "      <td>10</td>\n",
       "      <td>17</td>\n",
       "      <td>1</td>\n",
       "      <td>2</td>\n",
       "      <td>2</td>\n",
       "      <td>48</td>\n",
       "      <td>1</td>\n",
       "    </tr>\n",
       "  </tbody>\n",
       "</table>\n",
       "<p>3 rows × 25 columns</p>\n",
       "</div>"
      ],
      "text/plain": [
       "from_page  ad_to_photo  admins  autorefill  autoreply_message  coins_popup  \\\n",
       "group                                                                        \n",
       "control_1            2       2          23                 28            2   \n",
       "control_2            7       0          20                 24            0   \n",
       "test                 1       0           5                 27            1   \n",
       "\n",
       "from_page  dating  delivery_vip  empty_admins  empty_likes  empty_mutual  ...  \\\n",
       "group                                                                     ...   \n",
       "control_1       9             0             2           90             0  ...   \n",
       "control_2      10             0             0           96             1  ...   \n",
       "test            5             1             0           67             1  ...   \n",
       "\n",
       "from_page  no_sympathy  none  popular_users_block  popular_users_chat  \\\n",
       "group                                                                   \n",
       "control_1            2    33                    8                   4   \n",
       "control_2            0    28                    9                   1   \n",
       "test                 0    33                    2                  10   \n",
       "\n",
       "from_page  promo_09  send_message  super_popup  sympathy  trial_vip_popup  \\\n",
       "group                                                                       \n",
       "control_1        21             3            2         4               56   \n",
       "control_2        22             4            0         1               44   \n",
       "test             17             1            2         2               48   \n",
       "\n",
       "from_page  user_profile  \n",
       "group                    \n",
       "control_1             3  \n",
       "control_2             1  \n",
       "test                  1  \n",
       "\n",
       "[3 rows x 25 columns]"
      ]
     },
     "execution_count": 135,
     "metadata": {},
     "output_type": "execute_result"
    }
   ],
   "source": [
    "# Создаем таблицу сопряженности\n",
    "crosstab_channels = pd.crosstab(transactions.group, transactions.from_page)\n",
    "crosstab_channels"
   ]
  },
  {
   "cell_type": "code",
   "execution_count": 136,
   "metadata": {},
   "outputs": [
    {
     "data": {
      "image/png": "[encoded data removed]",
      "text/plain": [
       "<Figure size 1440x504 with 1 Axes>"
      ]
     },
     "metadata": {},
     "output_type": "display_data"
    }
   ],
   "source": [
    "# Строим распределение пользователей по страницам, с которых они переходили на страницу оплаты\n",
    "sns.countplot(data=transactions, x=\"from_page\", hue=\"group\")\n",
    "plt.xticks(rotation=45)\n",
    "plt.show()"
   ]
  },
  {
   "cell_type": "markdown",
   "metadata": {},
   "source": [
    "Оценим,есть ли различия в распределенияx пользователей с помощью критерия хи-квадрат. Нулевая гипотеза - распределение пользователей по страницам, с которых они перешли на страницу оплаты, НЕ различается."
   ]
  },
  {
   "cell_type": "code",
   "execution_count": 137,
   "metadata": {},
   "outputs": [
    {
     "name": "stdout",
     "output_type": "stream",
     "text": [
      "Статистика критерия равна 77.3065, уровень значимости 0.0046\n",
      "Скорректированный уровень значимости меньше 0.05, распределения пользователей по каналам в трех группах НЕ одинаковое\n"
     ]
    }
   ],
   "source": [
    "chi_channels = stats.chi2_contingency(crosstab_channels)\n",
    "print(\n",
    "    f\"Статистика критерия равна {chi_channels[0].round(4)}, уровень значимости {chi_channels[1].round(4)}\"\n",
    ")\n",
    "if chi_channels[1] * 5 < 0.05:  #  корректировка множественных сравнений\n",
    "    print(\n",
    "        \"Скорректированный уровень значимости меньше 0.05, распределения пользователей по каналам в трех группах НЕ одинаковое\"\n",
    "    )\n",
    "else:\n",
    "    print(\n",
    "        \"Скорректированный уровень значимости больше 0.05, распределение пользователей по каналам в трех группах одинаково\"\n",
    "    )"
   ]
  },
  {
   "cell_type": "markdown",
   "metadata": {},
   "source": [
    "Видим, что различия есть. Для того, чтобы понять межу какими конкретно группами, сравним распределения попарно с помощью критерия хи-квадрат. Нулевая гипотеза - распределение пользователей по страницам, с которых они перешли на страницу оплаты, НЕ различается."
   ]
  },
  {
   "cell_type": "code",
   "execution_count": 138,
   "metadata": {},
   "outputs": [
    {
     "name": "stdout",
     "output_type": "stream",
     "text": [
      "Статистика критерия равна 28.4906, уровень значимости 0.16\n",
      "Уровень значимости больше 0.05, распределение пользователей по каналам в двух группах одинаково\n"
     ]
    }
   ],
   "source": [
    "# Два контроля\n",
    "# Отбираем столбцы, в которых хотя бы одно значение не равно нулю\n",
    "filtered_crosstab = crosstab_channels.loc[\n",
    "    [\"control_1\", \"control_2\"],\n",
    "    (crosstab_channels.loc[[\"control_1\", \"control_2\"]] != 0).any(),\n",
    "]\n",
    "# Примененяем chi2_contingency к отфильтрованному DataFrame\n",
    "chi_channels = stats.chi2_contingency(filtered_crosstab)\n",
    "print(\n",
    "    f\"Статистика критерия равна {chi_channels[0].round(4)}, уровень значимости {chi_channels[1].round(4)}\"\n",
    ")\n",
    "if chi_channels[1] < 0.05:\n",
    "    print(\n",
    "        \"Уровень значимости меньше 0.05, распределения пользователей по каналам в двух группах НЕ одинаковое\"\n",
    "    )\n",
    "else:\n",
    "    print(\n",
    "        \"Уровень значимости больше 0.05, распределение пользователей по каналам в двух группах одинаково\"\n",
    "    )"
   ]
  },
  {
   "cell_type": "code",
   "execution_count": 139,
   "metadata": {},
   "outputs": [
    {
     "name": "stdout",
     "output_type": "stream",
     "text": [
      "Статистика критерия равна 30.053, уровень значимости 0.183\n",
      "Уровень значимости больше 0.05, распределение пользователей по каналам в двух группах одинаково\n"
     ]
    }
   ],
   "source": [
    "# Тест и контроль_1\n",
    "# Отбираем столбцы, в которых хотя бы одно значение не равно нулю\n",
    "filtered_crosstab = crosstab_channels.loc[\n",
    "    [\"control_1\", \"test\"], (crosstab_channels.loc[[\"control_1\", \"test\"]] != 0).any()\n",
    "]\n",
    "# Примененяем chi2_contingency к отфильтрованному DataFrame\n",
    "chi_channels = stats.chi2_contingency(filtered_crosstab)\n",
    "print(\n",
    "    f\"Статистика критерия равна {chi_channels[0].round(4)}, уровень значимости {chi_channels[1].round(4)}\"\n",
    ")\n",
    "if chi_channels[1] < 0.05:\n",
    "    print(\n",
    "        \"Уровень значимости меньше 0.05, распределения пользователей по каналам в двух группах НЕ одинаковое\"\n",
    "    )\n",
    "else:\n",
    "    print(\n",
    "        \"Уровень значимости больше 0.05, распределение пользователей по каналам в двух группах одинаково\"\n",
    "    )"
   ]
  },
  {
   "cell_type": "code",
   "execution_count": 140,
   "metadata": {},
   "outputs": [
    {
     "name": "stdout",
     "output_type": "stream",
     "text": [
      "Статистика критерия равна 51.6249, уровень значимости 0.0002\n",
      "Уровень значимости меньше 0.05, распределения пользователей по каналам в двух группах НЕ одинаковое\n"
     ]
    }
   ],
   "source": [
    "# Тест и контроль_2\n",
    "# Отбираем столбцы, в которых хотя бы одно значение не равно нулю\n",
    "filtered_crosstab = crosstab_channels.loc[\n",
    "    [\"control_2\", \"test\"], (crosstab_channels.loc[[\"control_2\", \"test\"]] != 0).any()\n",
    "]\n",
    "# Примененяем chi2_contingency к отфильтрованному DataFrame\n",
    "chi_channels = stats.chi2_contingency(filtered_crosstab)\n",
    "print(\n",
    "    f\"Статистика критерия равна {chi_channels[0].round(4)}, уровень значимости {chi_channels[1].round(4)}\"\n",
    ")\n",
    "if chi_channels[1] < 0.05:\n",
    "    print(\n",
    "        \"Уровень значимости меньше 0.05, распределения пользователей по каналам в двух группах НЕ одинаковое\"\n",
    "    )\n",
    "else:\n",
    "    print(\n",
    "        \"Уровень значимости больше 0.05, распределение пользователей по каналам в двух группах одинаково\"\n",
    "    )"
   ]
  },
  {
   "cell_type": "markdown",
   "metadata": {},
   "source": [
    "Распределение пользователей по каналам, с которых они переходиои на страницу оплаты любых покупок, различается в тестовой группе и контроле_2. "
   ]
  },
  {
   "cell_type": "markdown",
   "metadata": {},
   "source": [
    "Проверим, были ли отличия по страницам с которых  люди переходили для покупки именно премиум подписки"
   ]
  },
  {
   "cell_type": "code",
   "execution_count": 141,
   "metadata": {},
   "outputs": [
    {
     "data": {
      "image/png": "[encoded data removed]",
      "text/plain": [
       "<Figure size 1440x504 with 1 Axes>"
      ]
     },
     "metadata": {},
     "output_type": "display_data"
    }
   ],
   "source": [
    "# строим распределение\n",
    "sns.countplot(\n",
    "    data=transactions.query('(product_type == \"premium_no_trial\")'),\n",
    "    x=\"from_page\",\n",
    "    hue=\"group\",\n",
    ")\n",
    "plt.xticks(rotation=45)\n",
    "plt.show()"
   ]
  },
  {
   "cell_type": "code",
   "execution_count": 142,
   "metadata": {},
   "outputs": [
    {
     "data": {
      "text/html": [
       "<div>\n",
       "<style scoped>\n",
       "    .dataframe tbody tr th:only-of-type {\n",
       "        vertical-align: middle;\n",
       "    }\n",
       "\n",
       "    .dataframe tbody tr th {\n",
       "        vertical-align: top;\n",
       "    }\n",
       "\n",
       "    .dataframe thead th {\n",
       "        text-align: right;\n",
       "    }\n",
       "</style>\n",
       "<table border=\"1\" class=\"dataframe\">\n",
       "  <thead>\n",
       "    <tr style=\"text-align: right;\">\n",
       "      <th>from_page</th>\n",
       "      <th>autoreply_message</th>\n",
       "      <th>dating</th>\n",
       "      <th>delivery_vip</th>\n",
       "      <th>fans</th>\n",
       "      <th>left_sidebar_menu</th>\n",
       "      <th>no_sympathy</th>\n",
       "      <th>none</th>\n",
       "      <th>popular_users_block</th>\n",
       "      <th>popular_users_chat</th>\n",
       "      <th>promo_09</th>\n",
       "      <th>send_message</th>\n",
       "      <th>user_profile</th>\n",
       "    </tr>\n",
       "    <tr>\n",
       "      <th>group</th>\n",
       "      <th></th>\n",
       "      <th></th>\n",
       "      <th></th>\n",
       "      <th></th>\n",
       "      <th></th>\n",
       "      <th></th>\n",
       "      <th></th>\n",
       "      <th></th>\n",
       "      <th></th>\n",
       "      <th></th>\n",
       "      <th></th>\n",
       "      <th></th>\n",
       "    </tr>\n",
       "  </thead>\n",
       "  <tbody>\n",
       "    <tr>\n",
       "      <th>control_1</th>\n",
       "      <td>23</td>\n",
       "      <td>5</td>\n",
       "      <td>0</td>\n",
       "      <td>1</td>\n",
       "      <td>15</td>\n",
       "      <td>2</td>\n",
       "      <td>20</td>\n",
       "      <td>8</td>\n",
       "      <td>4</td>\n",
       "      <td>21</td>\n",
       "      <td>2</td>\n",
       "      <td>3</td>\n",
       "    </tr>\n",
       "    <tr>\n",
       "      <th>control_2</th>\n",
       "      <td>22</td>\n",
       "      <td>8</td>\n",
       "      <td>0</td>\n",
       "      <td>1</td>\n",
       "      <td>23</td>\n",
       "      <td>0</td>\n",
       "      <td>16</td>\n",
       "      <td>8</td>\n",
       "      <td>1</td>\n",
       "      <td>22</td>\n",
       "      <td>3</td>\n",
       "      <td>1</td>\n",
       "    </tr>\n",
       "    <tr>\n",
       "      <th>test</th>\n",
       "      <td>21</td>\n",
       "      <td>5</td>\n",
       "      <td>1</td>\n",
       "      <td>2</td>\n",
       "      <td>7</td>\n",
       "      <td>0</td>\n",
       "      <td>13</td>\n",
       "      <td>2</td>\n",
       "      <td>8</td>\n",
       "      <td>14</td>\n",
       "      <td>1</td>\n",
       "      <td>0</td>\n",
       "    </tr>\n",
       "  </tbody>\n",
       "</table>\n",
       "</div>"
      ],
      "text/plain": [
       "from_page  autoreply_message  dating  delivery_vip  fans  left_sidebar_menu  \\\n",
       "group                                                                         \n",
       "control_1                 23       5             0     1                 15   \n",
       "control_2                 22       8             0     1                 23   \n",
       "test                      21       5             1     2                  7   \n",
       "\n",
       "from_page  no_sympathy  none  popular_users_block  popular_users_chat  \\\n",
       "group                                                                   \n",
       "control_1            2    20                    8                   4   \n",
       "control_2            0    16                    8                   1   \n",
       "test                 0    13                    2                   8   \n",
       "\n",
       "from_page  promo_09  send_message  user_profile  \n",
       "group                                            \n",
       "control_1        21             2             3  \n",
       "control_2        22             3             1  \n",
       "test             14             1             0  "
      ]
     },
     "execution_count": 142,
     "metadata": {},
     "output_type": "execute_result"
    }
   ],
   "source": [
    "crosstab_channels_premium = pd.crosstab(\n",
    "    transactions.query('(product_type == \"premium_no_trial\")').group,\n",
    "    transactions.query('(product_type == \"premium_no_trial\")').from_page,\n",
    ")\n",
    "crosstab_channels_premium"
   ]
  },
  {
   "cell_type": "code",
   "execution_count": 143,
   "metadata": {},
   "outputs": [
    {
     "name": "stdout",
     "output_type": "stream",
     "text": [
      "Статистика критерия равна 29.059, уровень значимости 0.0002\n",
      "Уровень значимости больше 0.05, распределение пользователей по каналам в трех группах одинаково\n"
     ]
    }
   ],
   "source": [
    "# Оцениваем есть ли различия распределении каналов, с которых пришли пользователи, с помощью критерия хи-квадрат\n",
    "# Нулевая гипотеза - распределение каналов не различается\n",
    "chi_channels_premium = stats.chi2_contingency(crosstab_channels_premium)\n",
    "print(\n",
    "    f\"Статистика критерия равна {chi_channels_premium[0].round(4)}, уровень значимости {chi_channels[1].round(4)}\"\n",
    ")\n",
    "if chi_channels_premium[1] < 0.05:\n",
    "    print(\n",
    "        \"Уровень значимости меньше 0.05, распределения пользователей по каналам в трех группах НЕ одинаковое\"\n",
    "    )\n",
    "else:\n",
    "    print(\n",
    "        \"Уровень значимости больше 0.05, распределение пользователей по каналам в трех группах одинаково\"\n",
    "    )"
   ]
  },
  {
   "cell_type": "markdown",
   "metadata": {},
   "source": [
    "Значит распределение пользователям по страницам, с которых они перешли на страницу оплаты премиум подписки одинаковое, и этот фактор не должен влиять на целевые метрики"
   ]
  },
  {
   "cell_type": "markdown",
   "metadata": {},
   "source": [
    "## Вывод по блоку 1.2: "
   ]
  },
  {
   "cell_type": "markdown",
   "metadata": {},
   "source": [
    "Три исследуемых датасета (тест, контроль_1, контроль_2) были подготовлены для последующего анализа таким образом, чтобы совпадали период наблюдения и города, в которых живут пользователи. Из всех транзакций с типом \"premium_no_trial\" оставлены только те, которые имеют \"payment_id\" равный 147 или 68. Также выявлено, что даты регистрации и оплаты продуктов фиксировались некорректно.\n",
    "В трех группах (тест, контроль_1, контроль_2) возрастной и половой состав, коэффициент привлекательности и распределение пользователей по странам не различаются.\n",
    "Соотношение страниц, через которые пользователи переходили на страницу оплаты, различается между тестом и контролем_2, однако если из всех транзакций отобрать только интересующие нас оплаты премиум подписки, то распределение пользователей будет одинаквым."
   ]
  },
  {
   "cell_type": "markdown",
   "metadata": {},
   "source": [
    "# 2. Сравниваем контроли между собой"
   ]
  },
  {
   "cell_type": "markdown",
   "metadata": {},
   "source": [
    "## CR премиум подписку"
   ]
  },
  {
   "cell_type": "markdown",
   "metadata": {},
   "source": [
    "В задании написано, что \"Был проведен A/B тест, в рамках которого для новых пользователей из нескольких стран была изменена стоимость премиум-подписки при покупке через две новые платежные системы. При этом стоимость пробного периода оставалась прежней.\""
   ]
  },
  {
   "cell_type": "markdown",
   "metadata": {},
   "source": [
    "Из этого мы делаем вывод, что потенциально можем получить различия в доле транзакции с меткой \"premium_no_trial\", и только по ней. А также будет различаться только стоимость первой оформленной подписки (потому что акция распространялась только на новых пользователей)"
   ]
  },
  {
   "cell_type": "code",
   "execution_count": 144,
   "metadata": {},
   "outputs": [
    {
     "data": {
      "text/html": [
       "<div>\n",
       "<style scoped>\n",
       "    .dataframe tbody tr th:only-of-type {\n",
       "        vertical-align: middle;\n",
       "    }\n",
       "\n",
       "    .dataframe tbody tr th {\n",
       "        vertical-align: top;\n",
       "    }\n",
       "\n",
       "    .dataframe thead th {\n",
       "        text-align: right;\n",
       "    }\n",
       "</style>\n",
       "<table border=\"1\" class=\"dataframe\">\n",
       "  <thead>\n",
       "    <tr style=\"text-align: right;\">\n",
       "      <th></th>\n",
       "      <th>n_premium</th>\n",
       "    </tr>\n",
       "    <tr>\n",
       "      <th>uid</th>\n",
       "      <th></th>\n",
       "    </tr>\n",
       "  </thead>\n",
       "  <tbody>\n",
       "    <tr>\n",
       "      <th>891297711</th>\n",
       "      <td>2</td>\n",
       "    </tr>\n",
       "    <tr>\n",
       "      <th>891174411</th>\n",
       "      <td>1</td>\n",
       "    </tr>\n",
       "    <tr>\n",
       "      <th>892037091</th>\n",
       "      <td>1</td>\n",
       "    </tr>\n",
       "    <tr>\n",
       "      <th>891962115</th>\n",
       "      <td>1</td>\n",
       "    </tr>\n",
       "    <tr>\n",
       "      <th>891977400</th>\n",
       "      <td>1</td>\n",
       "    </tr>\n",
       "  </tbody>\n",
       "</table>\n",
       "</div>"
      ],
      "text/plain": [
       "           n_premium\n",
       "uid                 \n",
       "891297711          2\n",
       "891174411          1\n",
       "892037091          1\n",
       "891962115          1\n",
       "891977400          1"
      ]
     },
     "execution_count": 144,
     "metadata": {},
     "output_type": "execute_result"
    }
   ],
   "source": [
    "# Посмотрим,были ли пользователи, которые оформили премиум более одного раза\n",
    "transactions.query('product_type == \"trial_premium\"').groupby(\"uid\").agg(\n",
    "    n_premium=(\"payment_id\", \"count\")\n",
    ").sort_values(\"n_premium\", ascending=False).head()"
   ]
  },
  {
   "cell_type": "markdown",
   "metadata": {},
   "source": [
    "Да, был один человек ( uid = 891297711), который оформил премиум дважды, посмотрим его транзакции"
   ]
  },
  {
   "cell_type": "code",
   "execution_count": 145,
   "metadata": {},
   "outputs": [
    {
     "data": {
      "text/html": [
       "<div>\n",
       "<style scoped>\n",
       "    .dataframe tbody tr th:only-of-type {\n",
       "        vertical-align: middle;\n",
       "    }\n",
       "\n",
       "    .dataframe tbody tr th {\n",
       "        vertical-align: top;\n",
       "    }\n",
       "\n",
       "    .dataframe thead th {\n",
       "        text-align: right;\n",
       "    }\n",
       "</style>\n",
       "<table border=\"1\" class=\"dataframe\">\n",
       "  <thead>\n",
       "    <tr style=\"text-align: right;\">\n",
       "      <th></th>\n",
       "      <th>uid</th>\n",
       "      <th>country</th>\n",
       "      <th>joined_at</th>\n",
       "      <th>paid_at</th>\n",
       "      <th>revenue</th>\n",
       "      <th>payment_id</th>\n",
       "      <th>from_page</th>\n",
       "      <th>product_type</th>\n",
       "      <th>group</th>\n",
       "      <th>days_before_purchase</th>\n",
       "    </tr>\n",
       "  </thead>\n",
       "  <tbody>\n",
       "    <tr>\n",
       "      <th>105</th>\n",
       "      <td>891297711</td>\n",
       "      <td>Spain</td>\n",
       "      <td>2017-06-11 01:35:00</td>\n",
       "      <td>2017-11-13 03:46:00</td>\n",
       "      <td>12818</td>\n",
       "      <td>147</td>\n",
       "      <td>trial_vip_popup</td>\n",
       "      <td>trial_premium</td>\n",
       "      <td>test</td>\n",
       "      <td>155</td>\n",
       "    </tr>\n",
       "    <tr>\n",
       "      <th>177</th>\n",
       "      <td>891297711</td>\n",
       "      <td>Spain</td>\n",
       "      <td>2017-06-11 01:35:00</td>\n",
       "      <td>2017-11-13 03:42:00</td>\n",
       "      <td>12818</td>\n",
       "      <td>147</td>\n",
       "      <td>autoreply_message</td>\n",
       "      <td>trial_premium</td>\n",
       "      <td>test</td>\n",
       "      <td>155</td>\n",
       "    </tr>\n",
       "  </tbody>\n",
       "</table>\n",
       "</div>"
      ],
      "text/plain": [
       "           uid country           joined_at             paid_at  revenue  \\\n",
       "105  891297711   Spain 2017-06-11 01:35:00 2017-11-13 03:46:00    12818   \n",
       "177  891297711   Spain 2017-06-11 01:35:00 2017-11-13 03:42:00    12818   \n",
       "\n",
       "     payment_id          from_page   product_type group  days_before_purchase  \n",
       "105         147    trial_vip_popup  trial_premium  test                   155  \n",
       "177         147  autoreply_message  trial_premium  test                   155  "
      ]
     },
     "execution_count": 145,
     "metadata": {},
     "output_type": "execute_result"
    }
   ],
   "source": [
    "transactions.query('uid == 891297711')"
   ]
  },
  {
   "cell_type": "markdown",
   "metadata": {},
   "source": [
    "Видим, что не смотря на то, что человек купил подписку два раза, стоимость подписки у него оказалась одинаковой, значит предположение о том, что изменилась цена только на первое оформление подписки не верно. Также видим, что пользователь купил премиум два раза в один день, возможно по ошибке, но в любом случае это не похоже на покупку + продление подписки. Также поскольку есть люди, купившие продукт более одного раза, в дальнейшем надо аггрегировать данные по пользователям."
   ]
  },
  {
   "cell_type": "markdown",
   "metadata": {},
   "source": [
    "Проверим, в каком случае пользователю выставляется метка \"was_premium\" и \"is premium\". Найдем пользователя, который оформил только пробный период подписки, и посмотрим, что проставлено у него в таблице users"
   ]
  },
  {
   "cell_type": "code",
   "execution_count": 146,
   "metadata": {},
   "outputs": [
    {
     "data": {
      "text/html": [
       "<div>\n",
       "<style scoped>\n",
       "    .dataframe tbody tr th:only-of-type {\n",
       "        vertical-align: middle;\n",
       "    }\n",
       "\n",
       "    .dataframe tbody tr th {\n",
       "        vertical-align: top;\n",
       "    }\n",
       "\n",
       "    .dataframe thead th {\n",
       "        text-align: right;\n",
       "    }\n",
       "</style>\n",
       "<table border=\"1\" class=\"dataframe\">\n",
       "  <thead>\n",
       "    <tr style=\"text-align: right;\">\n",
       "      <th></th>\n",
       "      <th>uid</th>\n",
       "      <th>country</th>\n",
       "      <th>joined_at</th>\n",
       "      <th>paid_at</th>\n",
       "      <th>revenue</th>\n",
       "      <th>payment_id</th>\n",
       "      <th>from_page</th>\n",
       "      <th>product_type</th>\n",
       "      <th>group</th>\n",
       "    </tr>\n",
       "  </thead>\n",
       "  <tbody>\n",
       "    <tr>\n",
       "      <th>0</th>\n",
       "      <td>891319275</td>\n",
       "      <td>France</td>\n",
       "      <td>2017-05-11 19:57:00</td>\n",
       "      <td>2017-12-11 21:57:00</td>\n",
       "      <td>12727</td>\n",
       "      <td>147</td>\n",
       "      <td>trial_vip_popup</td>\n",
       "      <td>trial_premium</td>\n",
       "      <td>control_1</td>\n",
       "    </tr>\n",
       "    <tr>\n",
       "      <th>1</th>\n",
       "      <td>892421826</td>\n",
       "      <td>Israel</td>\n",
       "      <td>2017-10-14 12:46:00</td>\n",
       "      <td>2017-10-23 12:54:00</td>\n",
       "      <td>14586</td>\n",
       "      <td>147</td>\n",
       "      <td>trial_vip_popup</td>\n",
       "      <td>trial_premium</td>\n",
       "      <td>control_1</td>\n",
       "    </tr>\n",
       "    <tr>\n",
       "      <th>8</th>\n",
       "      <td>892380396</td>\n",
       "      <td>Australia</td>\n",
       "      <td>2017-10-15 09:02:00</td>\n",
       "      <td>2017-10-23 13:27:00</td>\n",
       "      <td>13403</td>\n",
       "      <td>147</td>\n",
       "      <td>trial_vip_popup</td>\n",
       "      <td>trial_premium</td>\n",
       "      <td>control_1</td>\n",
       "    </tr>\n",
       "    <tr>\n",
       "      <th>10</th>\n",
       "      <td>892210755</td>\n",
       "      <td>Chile</td>\n",
       "      <td>2017-10-18 17:18:00</td>\n",
       "      <td>2017-10-25 19:29:00</td>\n",
       "      <td>9971</td>\n",
       "      <td>147</td>\n",
       "      <td>trial_vip_popup</td>\n",
       "      <td>trial_premium</td>\n",
       "      <td>control_1</td>\n",
       "    </tr>\n",
       "    <tr>\n",
       "      <th>29</th>\n",
       "      <td>892269327</td>\n",
       "      <td>United States of America</td>\n",
       "      <td>2017-10-17 10:09:00</td>\n",
       "      <td>2017-10-24 12:10:00</td>\n",
       "      <td>9789</td>\n",
       "      <td>147</td>\n",
       "      <td>trial_vip_popup</td>\n",
       "      <td>trial_premium</td>\n",
       "      <td>control_1</td>\n",
       "    </tr>\n",
       "  </tbody>\n",
       "</table>\n",
       "</div>"
      ],
      "text/plain": [
       "          uid                   country           joined_at  \\\n",
       "0   891319275                    France 2017-05-11 19:57:00   \n",
       "1   892421826                    Israel 2017-10-14 12:46:00   \n",
       "8   892380396                 Australia 2017-10-15 09:02:00   \n",
       "10  892210755                     Chile 2017-10-18 17:18:00   \n",
       "29  892269327  United States of America 2017-10-17 10:09:00   \n",
       "\n",
       "               paid_at  revenue  payment_id        from_page   product_type  \\\n",
       "0  2017-12-11 21:57:00    12727         147  trial_vip_popup  trial_premium   \n",
       "1  2017-10-23 12:54:00    14586         147  trial_vip_popup  trial_premium   \n",
       "8  2017-10-23 13:27:00    13403         147  trial_vip_popup  trial_premium   \n",
       "10 2017-10-25 19:29:00     9971         147  trial_vip_popup  trial_premium   \n",
       "29 2017-10-24 12:10:00     9789         147  trial_vip_popup  trial_premium   \n",
       "\n",
       "        group  \n",
       "0   control_1  \n",
       "1   control_1  \n",
       "8   control_1  \n",
       "10  control_1  \n",
       "29  control_1  "
      ]
     },
     "execution_count": 146,
     "metadata": {},
     "output_type": "execute_result"
    }
   ],
   "source": [
    "tc1.query('product_type == \"trial_premium\"').head()"
   ]
  },
  {
   "cell_type": "code",
   "execution_count": 147,
   "metadata": {},
   "outputs": [
    {
     "data": {
      "text/html": [
       "<div>\n",
       "<style scoped>\n",
       "    .dataframe tbody tr th:only-of-type {\n",
       "        vertical-align: middle;\n",
       "    }\n",
       "\n",
       "    .dataframe tbody tr th {\n",
       "        vertical-align: top;\n",
       "    }\n",
       "\n",
       "    .dataframe thead th {\n",
       "        text-align: right;\n",
       "    }\n",
       "</style>\n",
       "<table border=\"1\" class=\"dataframe\">\n",
       "  <thead>\n",
       "    <tr style=\"text-align: right;\">\n",
       "      <th></th>\n",
       "      <th>uid</th>\n",
       "      <th>country</th>\n",
       "      <th>joined_at</th>\n",
       "      <th>paid_at</th>\n",
       "      <th>revenue</th>\n",
       "      <th>payment_id</th>\n",
       "      <th>from_page</th>\n",
       "      <th>product_type</th>\n",
       "      <th>group</th>\n",
       "    </tr>\n",
       "  </thead>\n",
       "  <tbody>\n",
       "    <tr>\n",
       "      <th>0</th>\n",
       "      <td>891319275</td>\n",
       "      <td>France</td>\n",
       "      <td>2017-05-11 19:57:00</td>\n",
       "      <td>2017-12-11 21:57:00</td>\n",
       "      <td>12727</td>\n",
       "      <td>147</td>\n",
       "      <td>trial_vip_popup</td>\n",
       "      <td>trial_premium</td>\n",
       "      <td>control_1</td>\n",
       "    </tr>\n",
       "    <tr>\n",
       "      <th>326</th>\n",
       "      <td>891319275</td>\n",
       "      <td>France</td>\n",
       "      <td>2017-05-11 19:57:00</td>\n",
       "      <td>2017-05-11 20:05:00</td>\n",
       "      <td>728</td>\n",
       "      <td>146</td>\n",
       "      <td>ad_to_photo</td>\n",
       "      <td>coins</td>\n",
       "      <td>control_1</td>\n",
       "    </tr>\n",
       "  </tbody>\n",
       "</table>\n",
       "</div>"
      ],
      "text/plain": [
       "           uid country           joined_at             paid_at  revenue  \\\n",
       "0    891319275  France 2017-05-11 19:57:00 2017-12-11 21:57:00    12727   \n",
       "326  891319275  France 2017-05-11 19:57:00 2017-05-11 20:05:00      728   \n",
       "\n",
       "     payment_id        from_page   product_type      group  \n",
       "0           147  trial_vip_popup  trial_premium  control_1  \n",
       "326         146      ad_to_photo          coins  control_1  "
      ]
     },
     "execution_count": 147,
     "metadata": {},
     "output_type": "execute_result"
    }
   ],
   "source": [
    "tc1.query('uid == 891319275')"
   ]
  },
  {
   "cell_type": "code",
   "execution_count": 148,
   "metadata": {},
   "outputs": [
    {
     "data": {
      "text/html": [
       "<div>\n",
       "<style scoped>\n",
       "    .dataframe tbody tr th:only-of-type {\n",
       "        vertical-align: middle;\n",
       "    }\n",
       "\n",
       "    .dataframe tbody tr th {\n",
       "        vertical-align: top;\n",
       "    }\n",
       "\n",
       "    .dataframe thead th {\n",
       "        text-align: right;\n",
       "    }\n",
       "</style>\n",
       "<table border=\"1\" class=\"dataframe\">\n",
       "  <thead>\n",
       "    <tr style=\"text-align: right;\">\n",
       "      <th></th>\n",
       "      <th>uid</th>\n",
       "      <th>age</th>\n",
       "      <th>attraction_coeff</th>\n",
       "      <th>coins</th>\n",
       "      <th>country</th>\n",
       "      <th>visit_days</th>\n",
       "      <th>gender</th>\n",
       "      <th>age_filter_start</th>\n",
       "      <th>age_filter_end</th>\n",
       "      <th>views_count</th>\n",
       "      <th>was_premium</th>\n",
       "      <th>is_premium</th>\n",
       "      <th>group</th>\n",
       "      <th>total_revenue</th>\n",
       "    </tr>\n",
       "  </thead>\n",
       "  <tbody>\n",
       "    <tr>\n",
       "      <th>2557</th>\n",
       "      <td>891319275</td>\n",
       "      <td>27</td>\n",
       "      <td>0</td>\n",
       "      <td>NaN</td>\n",
       "      <td>France</td>\n",
       "      <td>1,2,3</td>\n",
       "      <td>1</td>\n",
       "      <td>24</td>\n",
       "      <td>30</td>\n",
       "      <td>2</td>\n",
       "      <td>1.0</td>\n",
       "      <td>1.0</td>\n",
       "      <td>control_1</td>\n",
       "      <td>13455.0</td>\n",
       "    </tr>\n",
       "  </tbody>\n",
       "</table>\n",
       "</div>"
      ],
      "text/plain": [
       "            uid  age  attraction_coeff  coins country visit_days  gender  \\\n",
       "2557  891319275   27                 0    NaN  France      1,2,3       1   \n",
       "\n",
       "      age_filter_start  age_filter_end  views_count  was_premium  is_premium  \\\n",
       "2557                24              30            2          1.0         1.0   \n",
       "\n",
       "          group  total_revenue  \n",
       "2557  control_1        13455.0  "
      ]
     },
     "execution_count": 148,
     "metadata": {},
     "output_type": "execute_result"
    }
   ],
   "source": [
    "uc1.query(\"uid == 891319275\")"
   ]
  },
  {
   "cell_type": "markdown",
   "metadata": {},
   "source": [
    "По таблице users CR в покупку премиум (не пробную) посчитать скорее всего не удастся, потому что флаг \"was_premium\" и \"is premium\" выставляется даже тем пользователям, которые оформили пробный период. Например, пользователь 891319275 оформлял только пробную подписку, но имеет статус \"was_premium\" и \"is premium\". Значит, для того, чтобы отследить, купил ли человек платную подписку, мы добавим в датафреймы отдельную колонку. Добавим колонку сразу во все датасеты, так как эти данные еще потребуются на этапе A/Б тестов."
   ]
  },
  {
   "cell_type": "code",
   "execution_count": 149,
   "metadata": {},
   "outputs": [],
   "source": [
    "#  Аггрегируем датафреймы transactions по пользователю, считаем сумму revenue за покупку премиум и мерджим с users\n",
    "ut = ut.merge(\n",
    "    tt.query('product_type == \"premium_no_trial\"')\n",
    "    .groupby(\"uid\", as_index=False)\n",
    "    .agg(revenue_for_premium_no_trial=(\"revenue\", \"sum\")),\n",
    "    how=\"left\",\n",
    "    on=\"uid\",\n",
    ")\n",
    "uc1 = uc1.merge(\n",
    "    tc1.query('product_type == \"premium_no_trial\"')\n",
    "    .groupby(\"uid\", as_index=False)\n",
    "    .agg(revenue_for_premium_no_trial=(\"revenue\", \"sum\")),\n",
    "    how=\"left\",\n",
    "    on=\"uid\",\n",
    ")\n",
    "uc2 = uc2.merge(\n",
    "    tc2.query('product_type == \"premium_no_trial\"')\n",
    "    .groupby(\"uid\", as_index=False)\n",
    "    .agg(revenue_for_premium_no_trial=(\"revenue\", \"sum\")),\n",
    "    how=\"left\",\n",
    "    on=\"uid\",\n",
    ")\n",
    "users = users.merge(\n",
    "    transactions.query('product_type == \"premium_no_trial\"')\n",
    "    .groupby(\"uid\", as_index=False)\n",
    "    .agg(revenue_for_premium_no_trial=(\"revenue\", \"sum\")),\n",
    "    how=\"left\",\n",
    "    on=\"uid\",\n",
    ")"
   ]
  },
  {
   "cell_type": "code",
   "execution_count": 150,
   "metadata": {
    "scrolled": true
   },
   "outputs": [
    {
     "data": {
      "text/html": [
       "<div>\n",
       "<style scoped>\n",
       "    .dataframe tbody tr th:only-of-type {\n",
       "        vertical-align: middle;\n",
       "    }\n",
       "\n",
       "    .dataframe tbody tr th {\n",
       "        vertical-align: top;\n",
       "    }\n",
       "\n",
       "    .dataframe thead th {\n",
       "        text-align: right;\n",
       "    }\n",
       "</style>\n",
       "<table border=\"1\" class=\"dataframe\">\n",
       "  <thead>\n",
       "    <tr style=\"text-align: right;\">\n",
       "      <th></th>\n",
       "      <th>uid</th>\n",
       "      <th>age</th>\n",
       "      <th>attraction_coeff</th>\n",
       "      <th>coins</th>\n",
       "      <th>country</th>\n",
       "      <th>visit_days</th>\n",
       "      <th>gender</th>\n",
       "      <th>age_filter_start</th>\n",
       "      <th>age_filter_end</th>\n",
       "      <th>views_count</th>\n",
       "      <th>was_premium</th>\n",
       "      <th>is_premium</th>\n",
       "      <th>group</th>\n",
       "      <th>total_revenue</th>\n",
       "      <th>revenue_for_premium_no_trial</th>\n",
       "    </tr>\n",
       "  </thead>\n",
       "  <tbody>\n",
       "    <tr>\n",
       "      <th>2605</th>\n",
       "      <td>891359064</td>\n",
       "      <td>28</td>\n",
       "      <td>519</td>\n",
       "      <td>NaN</td>\n",
       "      <td>Canada</td>\n",
       "      <td>NaN</td>\n",
       "      <td>0</td>\n",
       "      <td>25</td>\n",
       "      <td>31</td>\n",
       "      <td>181</td>\n",
       "      <td>NaN</td>\n",
       "      <td>NaN</td>\n",
       "      <td>control_1</td>\n",
       "      <td>NaN</td>\n",
       "      <td>NaN</td>\n",
       "    </tr>\n",
       "    <tr>\n",
       "      <th>3722</th>\n",
       "      <td>892140309</td>\n",
       "      <td>28</td>\n",
       "      <td>674</td>\n",
       "      <td>NaN</td>\n",
       "      <td>United States of America</td>\n",
       "      <td>1,2,3,4</td>\n",
       "      <td>0</td>\n",
       "      <td>25</td>\n",
       "      <td>59</td>\n",
       "      <td>682</td>\n",
       "      <td>NaN</td>\n",
       "      <td>NaN</td>\n",
       "      <td>control_1</td>\n",
       "      <td>NaN</td>\n",
       "      <td>NaN</td>\n",
       "    </tr>\n",
       "    <tr>\n",
       "      <th>2581</th>\n",
       "      <td>892156248</td>\n",
       "      <td>21</td>\n",
       "      <td>400</td>\n",
       "      <td>NaN</td>\n",
       "      <td>United Kingdom (Great Britain)</td>\n",
       "      <td>1,2,3,4,5,6,7,8,9,10,11,12,13,14,15,16,17,18,1...</td>\n",
       "      <td>1</td>\n",
       "      <td>18</td>\n",
       "      <td>24</td>\n",
       "      <td>65</td>\n",
       "      <td>NaN</td>\n",
       "      <td>NaN</td>\n",
       "      <td>control_1</td>\n",
       "      <td>NaN</td>\n",
       "      <td>NaN</td>\n",
       "    </tr>\n",
       "    <tr>\n",
       "      <th>3573</th>\n",
       "      <td>892122816</td>\n",
       "      <td>35</td>\n",
       "      <td>363</td>\n",
       "      <td>NaN</td>\n",
       "      <td>France</td>\n",
       "      <td>1,2,3,4,5,8,9,10,11,14,15,17,18,19,20,21,22</td>\n",
       "      <td>1</td>\n",
       "      <td>32</td>\n",
       "      <td>38</td>\n",
       "      <td>11</td>\n",
       "      <td>NaN</td>\n",
       "      <td>NaN</td>\n",
       "      <td>control_1</td>\n",
       "      <td>NaN</td>\n",
       "      <td>NaN</td>\n",
       "    </tr>\n",
       "    <tr>\n",
       "      <th>3207</th>\n",
       "      <td>892404864</td>\n",
       "      <td>40</td>\n",
       "      <td>0</td>\n",
       "      <td>NaN</td>\n",
       "      <td>Spain</td>\n",
       "      <td>NaN</td>\n",
       "      <td>1</td>\n",
       "      <td>37</td>\n",
       "      <td>43</td>\n",
       "      <td>21</td>\n",
       "      <td>NaN</td>\n",
       "      <td>NaN</td>\n",
       "      <td>control_1</td>\n",
       "      <td>NaN</td>\n",
       "      <td>NaN</td>\n",
       "    </tr>\n",
       "  </tbody>\n",
       "</table>\n",
       "</div>"
      ],
      "text/plain": [
       "            uid  age  attraction_coeff  coins                         country  \\\n",
       "2605  891359064   28               519    NaN                          Canada   \n",
       "3722  892140309   28               674    NaN        United States of America   \n",
       "2581  892156248   21               400    NaN  United Kingdom (Great Britain)   \n",
       "3573  892122816   35               363    NaN                          France   \n",
       "3207  892404864   40                 0    NaN                           Spain   \n",
       "\n",
       "                                             visit_days  gender  \\\n",
       "2605                                                NaN       0   \n",
       "3722                                            1,2,3,4       0   \n",
       "2581  1,2,3,4,5,6,7,8,9,10,11,12,13,14,15,16,17,18,1...       1   \n",
       "3573        1,2,3,4,5,8,9,10,11,14,15,17,18,19,20,21,22       1   \n",
       "3207                                                NaN       1   \n",
       "\n",
       "      age_filter_start  age_filter_end  views_count  was_premium  is_premium  \\\n",
       "2605                25              31          181          NaN         NaN   \n",
       "3722                25              59          682          NaN         NaN   \n",
       "2581                18              24           65          NaN         NaN   \n",
       "3573                32              38           11          NaN         NaN   \n",
       "3207                37              43           21          NaN         NaN   \n",
       "\n",
       "          group  total_revenue  revenue_for_premium_no_trial  \n",
       "2605  control_1            NaN                           NaN  \n",
       "3722  control_1            NaN                           NaN  \n",
       "2581  control_1            NaN                           NaN  \n",
       "3573  control_1            NaN                           NaN  \n",
       "3207  control_1            NaN                           NaN  "
      ]
     },
     "execution_count": 150,
     "metadata": {},
     "output_type": "execute_result"
    }
   ],
   "source": [
    "uc1.sample(5)"
   ]
  },
  {
   "cell_type": "code",
   "execution_count": 151,
   "metadata": {},
   "outputs": [],
   "source": [
    "# Создаем колонку с флагом, купил пользователь премиум, или нет\n",
    "users[\"buy_premium\"] = users.revenue_for_premium_no_trial.apply(\n",
    "    lambda x: 0 if pd.isna(x) == True else 1\n",
    ")\n",
    "ut[\"buy_premium\"] = ut.revenue_for_premium_no_trial.apply(\n",
    "    lambda x: 0 if pd.isna(x) == True else 1\n",
    ")\n",
    "uc1[\"buy_premium\"] = uc1.revenue_for_premium_no_trial.apply(\n",
    "    lambda x: 0 if pd.isna(x) == True else 1\n",
    ")\n",
    "uc2[\"buy_premium\"] = uc2.revenue_for_premium_no_trial.apply(\n",
    "    lambda x: 0 if pd.isna(x) == True else 1\n",
    ")"
   ]
  },
  {
   "cell_type": "code",
   "execution_count": 152,
   "metadata": {},
   "outputs": [
    {
     "data": {
      "text/html": [
       "<div>\n",
       "<style scoped>\n",
       "    .dataframe tbody tr th:only-of-type {\n",
       "        vertical-align: middle;\n",
       "    }\n",
       "\n",
       "    .dataframe tbody tr th {\n",
       "        vertical-align: top;\n",
       "    }\n",
       "\n",
       "    .dataframe thead th {\n",
       "        text-align: right;\n",
       "    }\n",
       "</style>\n",
       "<table border=\"1\" class=\"dataframe\">\n",
       "  <thead>\n",
       "    <tr style=\"text-align: right;\">\n",
       "      <th></th>\n",
       "      <th>uid</th>\n",
       "      <th>age</th>\n",
       "      <th>attraction_coeff</th>\n",
       "      <th>coins</th>\n",
       "      <th>country</th>\n",
       "      <th>visit_days</th>\n",
       "      <th>gender</th>\n",
       "      <th>age_filter_start</th>\n",
       "      <th>age_filter_end</th>\n",
       "      <th>views_count</th>\n",
       "      <th>was_premium</th>\n",
       "      <th>is_premium</th>\n",
       "      <th>group</th>\n",
       "      <th>total_revenue</th>\n",
       "      <th>revenue_for_premium_no_trial</th>\n",
       "      <th>buy_premium</th>\n",
       "    </tr>\n",
       "  </thead>\n",
       "  <tbody>\n",
       "    <tr>\n",
       "      <th>8288</th>\n",
       "      <td>892050450</td>\n",
       "      <td>18</td>\n",
       "      <td>333</td>\n",
       "      <td>NaN</td>\n",
       "      <td>Chile</td>\n",
       "      <td>1,3,5,6</td>\n",
       "      <td>1</td>\n",
       "      <td>16</td>\n",
       "      <td>99</td>\n",
       "      <td>3</td>\n",
       "      <td>NaN</td>\n",
       "      <td>NaN</td>\n",
       "      <td>control_1</td>\n",
       "      <td>NaN</td>\n",
       "      <td>NaN</td>\n",
       "      <td>0</td>\n",
       "    </tr>\n",
       "    <tr>\n",
       "      <th>2260</th>\n",
       "      <td>891270759</td>\n",
       "      <td>33</td>\n",
       "      <td>1000</td>\n",
       "      <td>NaN</td>\n",
       "      <td>France</td>\n",
       "      <td>1,3</td>\n",
       "      <td>1</td>\n",
       "      <td>30</td>\n",
       "      <td>36</td>\n",
       "      <td>2</td>\n",
       "      <td>NaN</td>\n",
       "      <td>NaN</td>\n",
       "      <td>test</td>\n",
       "      <td>NaN</td>\n",
       "      <td>NaN</td>\n",
       "      <td>0</td>\n",
       "    </tr>\n",
       "    <tr>\n",
       "      <th>11444</th>\n",
       "      <td>891323226</td>\n",
       "      <td>26</td>\n",
       "      <td>0</td>\n",
       "      <td>NaN</td>\n",
       "      <td>United States of America</td>\n",
       "      <td>1,3,4,5,6,7,8,9,10</td>\n",
       "      <td>1</td>\n",
       "      <td>23</td>\n",
       "      <td>29</td>\n",
       "      <td>9</td>\n",
       "      <td>NaN</td>\n",
       "      <td>NaN</td>\n",
       "      <td>control_2</td>\n",
       "      <td>NaN</td>\n",
       "      <td>NaN</td>\n",
       "      <td>0</td>\n",
       "    </tr>\n",
       "    <tr>\n",
       "      <th>8009</th>\n",
       "      <td>891289524</td>\n",
       "      <td>20</td>\n",
       "      <td>0</td>\n",
       "      <td>NaN</td>\n",
       "      <td>Chile</td>\n",
       "      <td>NaN</td>\n",
       "      <td>1</td>\n",
       "      <td>17</td>\n",
       "      <td>23</td>\n",
       "      <td>3</td>\n",
       "      <td>NaN</td>\n",
       "      <td>NaN</td>\n",
       "      <td>control_1</td>\n",
       "      <td>NaN</td>\n",
       "      <td>NaN</td>\n",
       "      <td>0</td>\n",
       "    </tr>\n",
       "    <tr>\n",
       "      <th>2877</th>\n",
       "      <td>891949797</td>\n",
       "      <td>42</td>\n",
       "      <td>291</td>\n",
       "      <td>NaN</td>\n",
       "      <td>Italy</td>\n",
       "      <td>NaN</td>\n",
       "      <td>1</td>\n",
       "      <td>39</td>\n",
       "      <td>45</td>\n",
       "      <td>24</td>\n",
       "      <td>NaN</td>\n",
       "      <td>NaN</td>\n",
       "      <td>test</td>\n",
       "      <td>NaN</td>\n",
       "      <td>NaN</td>\n",
       "      <td>0</td>\n",
       "    </tr>\n",
       "  </tbody>\n",
       "</table>\n",
       "</div>"
      ],
      "text/plain": [
       "             uid  age  attraction_coeff  coins                   country  \\\n",
       "8288   892050450   18               333    NaN                     Chile   \n",
       "2260   891270759   33              1000    NaN                    France   \n",
       "11444  891323226   26                 0    NaN  United States of America   \n",
       "8009   891289524   20                 0    NaN                     Chile   \n",
       "2877   891949797   42               291    NaN                     Italy   \n",
       "\n",
       "               visit_days  gender  age_filter_start  age_filter_end  \\\n",
       "8288              1,3,5,6       1                16              99   \n",
       "2260                  1,3       1                30              36   \n",
       "11444  1,3,4,5,6,7,8,9,10       1                23              29   \n",
       "8009                  NaN       1                17              23   \n",
       "2877                  NaN       1                39              45   \n",
       "\n",
       "       views_count  was_premium  is_premium      group  total_revenue  \\\n",
       "8288             3          NaN         NaN  control_1            NaN   \n",
       "2260             2          NaN         NaN       test            NaN   \n",
       "11444            9          NaN         NaN  control_2            NaN   \n",
       "8009             3          NaN         NaN  control_1            NaN   \n",
       "2877            24          NaN         NaN       test            NaN   \n",
       "\n",
       "       revenue_for_premium_no_trial  buy_premium  \n",
       "8288                            NaN            0  \n",
       "2260                            NaN            0  \n",
       "11444                           NaN            0  \n",
       "8009                            NaN            0  \n",
       "2877                            NaN            0  "
      ]
     },
     "execution_count": 152,
     "metadata": {},
     "output_type": "execute_result"
    }
   ],
   "source": [
    "users.sample(5)"
   ]
  },
  {
   "cell_type": "markdown",
   "metadata": {},
   "source": [
    "Для того, чтобы посчитать CR в платную подписку, нам необходимо поделить количество пользователей, у которых стоит единица в столбце \"buy_premium\", на общее количество пользователей, то есть оценить среднее значение в этой колонке. Учитывая, что данные все-таки категориальные, используем критерий хи-квадрат, нулевая гипотеза (H₀) заключается в том, что распределение пользователей, купивших и не купивших премиум, независимо от того, в какой группе (контрольной или тестовой) они находятся."
   ]
  },
  {
   "cell_type": "code",
   "execution_count": 153,
   "metadata": {},
   "outputs": [
    {
     "data": {
      "text/html": [
       "<div>\n",
       "<style scoped>\n",
       "    .dataframe tbody tr th:only-of-type {\n",
       "        vertical-align: middle;\n",
       "    }\n",
       "\n",
       "    .dataframe tbody tr th {\n",
       "        vertical-align: top;\n",
       "    }\n",
       "\n",
       "    .dataframe thead th {\n",
       "        text-align: right;\n",
       "    }\n",
       "</style>\n",
       "<table border=\"1\" class=\"dataframe\">\n",
       "  <thead>\n",
       "    <tr style=\"text-align: right;\">\n",
       "      <th>buy_premium</th>\n",
       "      <th>0</th>\n",
       "      <th>1</th>\n",
       "    </tr>\n",
       "    <tr>\n",
       "      <th>group</th>\n",
       "      <th></th>\n",
       "      <th></th>\n",
       "    </tr>\n",
       "  </thead>\n",
       "  <tbody>\n",
       "    <tr>\n",
       "      <th>control_1</th>\n",
       "      <td>4219</td>\n",
       "      <td>99</td>\n",
       "    </tr>\n",
       "    <tr>\n",
       "      <th>control_2</th>\n",
       "      <td>4137</td>\n",
       "      <td>101</td>\n",
       "    </tr>\n",
       "  </tbody>\n",
       "</table>\n",
       "</div>"
      ],
      "text/plain": [
       "buy_premium     0    1\n",
       "group                 \n",
       "control_1    4219   99\n",
       "control_2    4137  101"
      ]
     },
     "execution_count": 153,
     "metadata": {},
     "output_type": "execute_result"
    }
   ],
   "source": [
    "# создаем таблицу сопряженности\n",
    "crosstab_cr_controls = pd.crosstab(users.query('group != \"test\"').group, \n",
    "                                   users.query('group != \"test\"').buy_premium)\n",
    "crosstab_cr_controls"
   ]
  },
  {
   "cell_type": "code",
   "execution_count": 154,
   "metadata": {},
   "outputs": [
    {
     "name": "stdout",
     "output_type": "stream",
     "text": [
      "Статистика критерия равна 0.0422, уровень значимости 0.8373\n",
      "Уровень значимости больше 0.05, две контрольные группы НЕ различаются по CR\n"
     ]
    }
   ],
   "source": [
    "# Оцениваем с помощью критерия хи-квадрат есть ли различия пользователей с платной подпиской и пользователей без нее\n",
    "chi_cr_controls = stats.chi2_contingency(crosstab_cr_controls)\n",
    "print(\n",
    "    f\"Статистика критерия равна {chi_cr_controls[0].round(4)}, уровень значимости {chi_cr_controls[1].round(4)}\"\n",
    ")\n",
    "if chi_cr_controls[1] < 0.05:\n",
    "    print(\n",
    "        \"Уровень значимости меньше 0.05, две контрольные группы различаются по CR\"\n",
    "    )\n",
    "else:\n",
    "    print(\n",
    "        \"Уровень значимости больше 0.05, две контрольные группы НЕ различаются по CR\"\n",
    "    )"
   ]
  },
  {
   "cell_type": "code",
   "execution_count": 155,
   "metadata": {},
   "outputs": [
    {
     "data": {
      "text/plain": [
       "2.29"
      ]
     },
     "execution_count": 155,
     "metadata": {},
     "output_type": "execute_result"
    }
   ],
   "source": [
    "# CR в контроле 1\n",
    "(uc1.buy_premium.mean() * 100).round(2)"
   ]
  },
  {
   "cell_type": "code",
   "execution_count": 156,
   "metadata": {},
   "outputs": [
    {
     "data": {
      "text/plain": [
       "2.38"
      ]
     },
     "execution_count": 156,
     "metadata": {},
     "output_type": "execute_result"
    }
   ],
   "source": [
    "# CR в контроле 2\n",
    "(uc2.buy_premium.mean() * 100).round(2)"
   ]
  },
  {
   "cell_type": "markdown",
   "metadata": {},
   "source": [
    "## AOV для премиум подписки"
   ]
  },
  {
   "cell_type": "markdown",
   "metadata": {},
   "source": [
    "AOV = Сумма полученной выручки / Количество заказов (покупок)"
   ]
  },
  {
   "cell_type": "code",
   "execution_count": 157,
   "metadata": {},
   "outputs": [
    {
     "data": {
      "image/png": "[encoded data removed]",
      "text/plain": [
       "<Figure size 1440x504 with 1 Axes>"
      ]
     },
     "metadata": {},
     "output_type": "display_data"
    }
   ],
   "source": [
    "# Посмотрим на распределение пользователей из первой контрольной группы по тратам на премиум подписку\n",
    "sns.countplot(data=tc1.query('product_type == \"premium_no_trial\"'), x='revenue')\n",
    "plt.xticks(rotation=90)\n",
    "plt.show()"
   ]
  },
  {
   "cell_type": "code",
   "execution_count": 158,
   "metadata": {},
   "outputs": [
    {
     "data": {
      "image/png": "[encoded data removed]",
      "text/plain": [
       "<Figure size 1440x504 with 1 Axes>"
      ]
     },
     "metadata": {},
     "output_type": "display_data"
    }
   ],
   "source": [
    "# Посмотрим на распределение пользователей из второй контрольной группы по тратам на премиум подписку\n",
    "sns.countplot(data=tc2.query('product_type == \"premium_no_trial\"'), x='revenue')\n",
    "plt.xticks(rotation=90)\n",
    "plt.show()"
   ]
  },
  {
   "cell_type": "markdown",
   "metadata": {},
   "source": [
    "Если подписка оплачивается помесячно, то можно ожидать увидеть на графике распределения какие-то кратные суммы, но таких тут нет. Возможно цена подписки различалась в разных странах. Посмотрим отдельно самую многочисленную группу - пользователей из США"
   ]
  },
  {
   "cell_type": "code",
   "execution_count": 159,
   "metadata": {},
   "outputs": [
    {
     "data": {
      "image/png": "[encoded data removed]",
      "text/plain": [
       "<Figure size 1440x504 with 1 Axes>"
      ]
     },
     "metadata": {},
     "output_type": "display_data"
    }
   ],
   "source": [
    "# Посмотрим на распределение пользователей из первой контрольной группы из США по тратам на премиум подписку\n",
    "sns.countplot(\n",
    "    data=tc1.query(\n",
    "        '(product_type == \"premium_no_trial\")  & (country == \"United States of America\")'\n",
    "    ),\n",
    "    x=\"revenue\",\n",
    ")\n",
    "plt.xticks(rotation=90)\n",
    "plt.show()"
   ]
  },
  {
   "cell_type": "code",
   "execution_count": 160,
   "metadata": {},
   "outputs": [
    {
     "data": {
      "image/png": "[encoded data removed]",
      "text/plain": [
       "<Figure size 1440x504 with 1 Axes>"
      ]
     },
     "metadata": {},
     "output_type": "display_data"
    }
   ],
   "source": [
    "# Посмотрим на распределение пользователей из второй контрольной группы из США по тратам на премиум подписку\n",
    "sns.countplot(\n",
    "    data=tc2.query(\n",
    "        '(product_type == \"premium_no_trial\")  & (country == \"United States of America\")'\n",
    "    ),\n",
    "    x=\"revenue\",\n",
    ")\n",
    "plt.xticks(rotation=90)\n",
    "plt.show()"
   ]
  },
  {
   "cell_type": "markdown",
   "metadata": {},
   "source": [
    "Кажется, что базовая стоимость подписки была 6292, и также какая-то существенная часть пользователей покупали подписку также за 4537 (возможно пакетом, или по скидке). Однако есть единичные пользователи, которые покупали подписку по другим ценам, возможно разница цены свяна с колебаниями курса валют, или какими-то другими факторами. Проверим гипотезу о том, что среднее количество денег, потраченное на покупку премиум подписки в двух контрольных группах не различается. "
   ]
  },
  {
   "cell_type": "code",
   "execution_count": 161,
   "metadata": {},
   "outputs": [
    {
     "data": {
      "text/html": [
       "<div>\n",
       "<style scoped>\n",
       "    .dataframe tbody tr th:only-of-type {\n",
       "        vertical-align: middle;\n",
       "    }\n",
       "\n",
       "    .dataframe tbody tr th {\n",
       "        vertical-align: top;\n",
       "    }\n",
       "\n",
       "    .dataframe thead th {\n",
       "        text-align: right;\n",
       "    }\n",
       "</style>\n",
       "<table border=\"1\" class=\"dataframe\">\n",
       "  <thead>\n",
       "    <tr style=\"text-align: right;\">\n",
       "      <th></th>\n",
       "      <th>uid</th>\n",
       "      <th>country</th>\n",
       "      <th>joined_at</th>\n",
       "      <th>paid_at</th>\n",
       "      <th>revenue</th>\n",
       "      <th>payment_id</th>\n",
       "      <th>from_page</th>\n",
       "      <th>product_type</th>\n",
       "      <th>group</th>\n",
       "      <th>days_before_purchase</th>\n",
       "    </tr>\n",
       "  </thead>\n",
       "  <tbody>\n",
       "    <tr>\n",
       "      <th>484</th>\n",
       "      <td>891285747</td>\n",
       "      <td>United States of America</td>\n",
       "      <td>2017-06-11 07:49:00</td>\n",
       "      <td>2017-06-11 07:53:00</td>\n",
       "      <td>4537</td>\n",
       "      <td>147</td>\n",
       "      <td>autoreply_message</td>\n",
       "      <td>premium_no_trial</td>\n",
       "      <td>control_1</td>\n",
       "      <td>0</td>\n",
       "    </tr>\n",
       "    <tr>\n",
       "      <th>477</th>\n",
       "      <td>891937230</td>\n",
       "      <td>Canada</td>\n",
       "      <td>2017-10-24 14:17:00</td>\n",
       "      <td>2017-10-25 14:27:00</td>\n",
       "      <td>3783</td>\n",
       "      <td>67</td>\n",
       "      <td>empty_likes</td>\n",
       "      <td>other_type</td>\n",
       "      <td>control_1</td>\n",
       "      <td>1</td>\n",
       "    </tr>\n",
       "    <tr>\n",
       "      <th>250</th>\n",
       "      <td>891174411</td>\n",
       "      <td>Israel</td>\n",
       "      <td>2017-08-11 07:24:00</td>\n",
       "      <td>2017-10-11 18:00:00</td>\n",
       "      <td>2717</td>\n",
       "      <td>67</td>\n",
       "      <td>empty_likes</td>\n",
       "      <td>other_type</td>\n",
       "      <td>test</td>\n",
       "      <td>61</td>\n",
       "    </tr>\n",
       "    <tr>\n",
       "      <th>36</th>\n",
       "      <td>891589239</td>\n",
       "      <td>Italy</td>\n",
       "      <td>2017-10-31 14:16:00</td>\n",
       "      <td>2017-09-11 15:44:00</td>\n",
       "      <td>6305</td>\n",
       "      <td>19</td>\n",
       "      <td>empty_likes</td>\n",
       "      <td>coins</td>\n",
       "      <td>test</td>\n",
       "      <td>-50</td>\n",
       "    </tr>\n",
       "    <tr>\n",
       "      <th>170</th>\n",
       "      <td>891318459</td>\n",
       "      <td>Italy</td>\n",
       "      <td>2017-05-11 20:08:00</td>\n",
       "      <td>2017-07-11 22:19:00</td>\n",
       "      <td>3887</td>\n",
       "      <td>19</td>\n",
       "      <td>fans</td>\n",
       "      <td>coins</td>\n",
       "      <td>test</td>\n",
       "      <td>61</td>\n",
       "    </tr>\n",
       "    <tr>\n",
       "      <th>776</th>\n",
       "      <td>892243980</td>\n",
       "      <td>Germany</td>\n",
       "      <td>2017-10-17 21:52:00</td>\n",
       "      <td>2017-10-25 17:08:00</td>\n",
       "      <td>12727</td>\n",
       "      <td>147</td>\n",
       "      <td>trial_vip_popup</td>\n",
       "      <td>trial_premium</td>\n",
       "      <td>control_2</td>\n",
       "      <td>7</td>\n",
       "    </tr>\n",
       "    <tr>\n",
       "      <th>800</th>\n",
       "      <td>892357668</td>\n",
       "      <td>United States of America</td>\n",
       "      <td>2017-10-15 17:58:00</td>\n",
       "      <td>2017-10-23 13:44:00</td>\n",
       "      <td>12727</td>\n",
       "      <td>147</td>\n",
       "      <td>dating</td>\n",
       "      <td>trial_premium</td>\n",
       "      <td>control_2</td>\n",
       "      <td>7</td>\n",
       "    </tr>\n",
       "    <tr>\n",
       "      <th>44</th>\n",
       "      <td>891346269</td>\n",
       "      <td>Argentina</td>\n",
       "      <td>2017-05-11 12:55:00</td>\n",
       "      <td>2017-07-11 11:28:00</td>\n",
       "      <td>31525</td>\n",
       "      <td>19</td>\n",
       "      <td>empty_likes</td>\n",
       "      <td>coins</td>\n",
       "      <td>test</td>\n",
       "      <td>60</td>\n",
       "    </tr>\n",
       "    <tr>\n",
       "      <th>729</th>\n",
       "      <td>892204536</td>\n",
       "      <td>France</td>\n",
       "      <td>2017-10-18 19:50:00</td>\n",
       "      <td>2017-10-18 19:55:00</td>\n",
       "      <td>6409</td>\n",
       "      <td>147</td>\n",
       "      <td>autoreply_message</td>\n",
       "      <td>premium_no_trial</td>\n",
       "      <td>control_2</td>\n",
       "      <td>0</td>\n",
       "    </tr>\n",
       "    <tr>\n",
       "      <th>873</th>\n",
       "      <td>891365754</td>\n",
       "      <td>United States of America</td>\n",
       "      <td>2017-05-11 03:45:00</td>\n",
       "      <td>2017-05-11 03:52:00</td>\n",
       "      <td>3861</td>\n",
       "      <td>147</td>\n",
       "      <td>autoreply_message</td>\n",
       "      <td>premium_no_trial</td>\n",
       "      <td>control_2</td>\n",
       "      <td>0</td>\n",
       "    </tr>\n",
       "  </tbody>\n",
       "</table>\n",
       "</div>"
      ],
      "text/plain": [
       "           uid                   country           joined_at  \\\n",
       "484  891285747  United States of America 2017-06-11 07:49:00   \n",
       "477  891937230                    Canada 2017-10-24 14:17:00   \n",
       "250  891174411                    Israel 2017-08-11 07:24:00   \n",
       "36   891589239                     Italy 2017-10-31 14:16:00   \n",
       "170  891318459                     Italy 2017-05-11 20:08:00   \n",
       "776  892243980                   Germany 2017-10-17 21:52:00   \n",
       "800  892357668  United States of America 2017-10-15 17:58:00   \n",
       "44   891346269                 Argentina 2017-05-11 12:55:00   \n",
       "729  892204536                    France 2017-10-18 19:50:00   \n",
       "873  891365754  United States of America 2017-05-11 03:45:00   \n",
       "\n",
       "                paid_at  revenue  payment_id          from_page  \\\n",
       "484 2017-06-11 07:53:00     4537         147  autoreply_message   \n",
       "477 2017-10-25 14:27:00     3783          67        empty_likes   \n",
       "250 2017-10-11 18:00:00     2717          67        empty_likes   \n",
       "36  2017-09-11 15:44:00     6305          19        empty_likes   \n",
       "170 2017-07-11 22:19:00     3887          19               fans   \n",
       "776 2017-10-25 17:08:00    12727         147    trial_vip_popup   \n",
       "800 2017-10-23 13:44:00    12727         147             dating   \n",
       "44  2017-07-11 11:28:00    31525          19        empty_likes   \n",
       "729 2017-10-18 19:55:00     6409         147  autoreply_message   \n",
       "873 2017-05-11 03:52:00     3861         147  autoreply_message   \n",
       "\n",
       "         product_type      group  days_before_purchase  \n",
       "484  premium_no_trial  control_1                     0  \n",
       "477        other_type  control_1                     1  \n",
       "250        other_type       test                    61  \n",
       "36              coins       test                   -50  \n",
       "170             coins       test                    61  \n",
       "776     trial_premium  control_2                     7  \n",
       "800     trial_premium  control_2                     7  \n",
       "44              coins       test                    60  \n",
       "729  premium_no_trial  control_2                     0  \n",
       "873  premium_no_trial  control_2                     0  "
      ]
     },
     "execution_count": 161,
     "metadata": {},
     "output_type": "execute_result"
    }
   ],
   "source": [
    "transactions.sample(10)"
   ]
  },
  {
   "cell_type": "code",
   "execution_count": 162,
   "metadata": {},
   "outputs": [
    {
     "data": {
      "image/png": "[encoded data removed]",
      "text/plain": [
       "<Figure size 1170.6x360 with 1 Axes>"
      ]
     },
     "metadata": {},
     "output_type": "display_data"
    }
   ],
   "source": [
    "# Посмотрим распределение трат на премиум\n",
    "sns.displot (data=transactions.query('product_type == \"premium_no_trial\" & group != \"test\"'), \n",
    "             x='revenue', \n",
    "             hue='group', \n",
    "             bins = 30,\n",
    "             height=5, \n",
    "             aspect=3)\n",
    "plt.xticks(rotation=90)\n",
    "plt.show()"
   ]
  },
  {
   "cell_type": "code",
   "execution_count": 163,
   "metadata": {},
   "outputs": [
    {
     "data": {
      "image/png": "[encoded data removed]",
      "text/plain": [
       "<Figure size 1440x504 with 2 Axes>"
      ]
     },
     "metadata": {},
     "output_type": "display_data"
    }
   ],
   "source": [
    "# Отобразим траты на премиум подписку в каждой контрольной группе в виде боксплотов\n",
    "fig, axes = plt.subplots(1, 2, sharey=True)\n",
    "sns.boxplot(ax=axes[0], data=tc1.query('product_type == \"premium_no_trial\"'), y=\"revenue\")\n",
    "sns.boxplot(ax=axes[1], data=tc2.query('product_type == \"premium_no_trial\"'), y=\"revenue\")\n",
    "axes[0].set_title(\"Control_1\")\n",
    "axes[1].set_title(\"Control_2\")\n",
    "plt.show()"
   ]
  },
  {
   "cell_type": "markdown",
   "metadata": {},
   "source": [
    "Похоже, что распределение не является нормальным, бОльшая часть пользователей купили подписку по цене до 20 000, но судя по всему есть люди которые потратили  на покупку премиум подписки в разы больше, чем остальные. Посмотрим подробнее на тех, кто много потратил"
   ]
  },
  {
   "cell_type": "code",
   "execution_count": 164,
   "metadata": {},
   "outputs": [
    {
     "data": {
      "text/html": [
       "<div>\n",
       "<style scoped>\n",
       "    .dataframe tbody tr th:only-of-type {\n",
       "        vertical-align: middle;\n",
       "    }\n",
       "\n",
       "    .dataframe tbody tr th {\n",
       "        vertical-align: top;\n",
       "    }\n",
       "\n",
       "    .dataframe thead th {\n",
       "        text-align: right;\n",
       "    }\n",
       "</style>\n",
       "<table border=\"1\" class=\"dataframe\">\n",
       "  <thead>\n",
       "    <tr style=\"text-align: right;\">\n",
       "      <th></th>\n",
       "      <th>uid</th>\n",
       "      <th>age</th>\n",
       "      <th>attraction_coeff</th>\n",
       "      <th>coins</th>\n",
       "      <th>country</th>\n",
       "      <th>visit_days</th>\n",
       "      <th>gender</th>\n",
       "      <th>age_filter_start</th>\n",
       "      <th>age_filter_end</th>\n",
       "      <th>views_count</th>\n",
       "      <th>was_premium</th>\n",
       "      <th>is_premium</th>\n",
       "      <th>group</th>\n",
       "      <th>total_revenue</th>\n",
       "      <th>revenue_for_premium_no_trial</th>\n",
       "      <th>buy_premium</th>\n",
       "    </tr>\n",
       "  </thead>\n",
       "  <tbody>\n",
       "    <tr>\n",
       "      <th>283</th>\n",
       "      <td>892421277</td>\n",
       "      <td>22</td>\n",
       "      <td>446</td>\n",
       "      <td>62.0</td>\n",
       "      <td>United States of America</td>\n",
       "      <td>1,2,3,4,5,6,7,8,9,10,11,12,13,14,15,16,17,18,1...</td>\n",
       "      <td>1</td>\n",
       "      <td>16</td>\n",
       "      <td>35</td>\n",
       "      <td>130</td>\n",
       "      <td>1.0</td>\n",
       "      <td>1.0</td>\n",
       "      <td>control_1</td>\n",
       "      <td>60333.0</td>\n",
       "      <td>47723.0</td>\n",
       "      <td>1</td>\n",
       "    </tr>\n",
       "    <tr>\n",
       "      <th>867</th>\n",
       "      <td>891383310</td>\n",
       "      <td>22</td>\n",
       "      <td>1000</td>\n",
       "      <td>NaN</td>\n",
       "      <td>Turkey</td>\n",
       "      <td>1</td>\n",
       "      <td>1</td>\n",
       "      <td>19</td>\n",
       "      <td>83</td>\n",
       "      <td>4</td>\n",
       "      <td>1.0</td>\n",
       "      <td>1.0</td>\n",
       "      <td>control_1</td>\n",
       "      <td>63037.0</td>\n",
       "      <td>63037.0</td>\n",
       "      <td>1</td>\n",
       "    </tr>\n",
       "    <tr>\n",
       "      <th>1416</th>\n",
       "      <td>892333905</td>\n",
       "      <td>22</td>\n",
       "      <td>175</td>\n",
       "      <td>3608.0</td>\n",
       "      <td>Italy</td>\n",
       "      <td>1,2,3,4,5,6,7,15</td>\n",
       "      <td>1</td>\n",
       "      <td>19</td>\n",
       "      <td>25</td>\n",
       "      <td>575</td>\n",
       "      <td>1.0</td>\n",
       "      <td>1.0</td>\n",
       "      <td>control_1</td>\n",
       "      <td>403104.0</td>\n",
       "      <td>63037.0</td>\n",
       "      <td>1</td>\n",
       "    </tr>\n",
       "    <tr>\n",
       "      <th>2282</th>\n",
       "      <td>892216461</td>\n",
       "      <td>19</td>\n",
       "      <td>293</td>\n",
       "      <td>6.0</td>\n",
       "      <td>United States of America</td>\n",
       "      <td>1,2,3,5,8,9,11,13,15,16,17,18,19,20,22,23,24,2...</td>\n",
       "      <td>1</td>\n",
       "      <td>16</td>\n",
       "      <td>25</td>\n",
       "      <td>58</td>\n",
       "      <td>1.0</td>\n",
       "      <td>1.0</td>\n",
       "      <td>control_1</td>\n",
       "      <td>64298.0</td>\n",
       "      <td>63037.0</td>\n",
       "      <td>1</td>\n",
       "    </tr>\n",
       "  </tbody>\n",
       "</table>\n",
       "</div>"
      ],
      "text/plain": [
       "            uid  age  attraction_coeff   coins                   country  \\\n",
       "283   892421277   22               446    62.0  United States of America   \n",
       "867   891383310   22              1000     NaN                    Turkey   \n",
       "1416  892333905   22               175  3608.0                     Italy   \n",
       "2282  892216461   19               293     6.0  United States of America   \n",
       "\n",
       "                                             visit_days  gender  \\\n",
       "283   1,2,3,4,5,6,7,8,9,10,11,12,13,14,15,16,17,18,1...       1   \n",
       "867                                                   1       1   \n",
       "1416                                   1,2,3,4,5,6,7,15       1   \n",
       "2282  1,2,3,5,8,9,11,13,15,16,17,18,19,20,22,23,24,2...       1   \n",
       "\n",
       "      age_filter_start  age_filter_end  views_count  was_premium  is_premium  \\\n",
       "283                 16              35          130          1.0         1.0   \n",
       "867                 19              83            4          1.0         1.0   \n",
       "1416                19              25          575          1.0         1.0   \n",
       "2282                16              25           58          1.0         1.0   \n",
       "\n",
       "          group  total_revenue  revenue_for_premium_no_trial  buy_premium  \n",
       "283   control_1        60333.0                       47723.0            1  \n",
       "867   control_1        63037.0                       63037.0            1  \n",
       "1416  control_1       403104.0                       63037.0            1  \n",
       "2282  control_1        64298.0                       63037.0            1  "
      ]
     },
     "execution_count": 164,
     "metadata": {},
     "output_type": "execute_result"
    }
   ],
   "source": [
    "# Кто из пользователей в контроле_1 потратил на премиум подписку больше 20000\n",
    "uc1.query('revenue_for_premium_no_trial > 20000')"
   ]
  },
  {
   "cell_type": "code",
   "execution_count": 165,
   "metadata": {},
   "outputs": [
    {
     "data": {
      "text/html": [
       "<div>\n",
       "<style scoped>\n",
       "    .dataframe tbody tr th:only-of-type {\n",
       "        vertical-align: middle;\n",
       "    }\n",
       "\n",
       "    .dataframe tbody tr th {\n",
       "        vertical-align: top;\n",
       "    }\n",
       "\n",
       "    .dataframe thead th {\n",
       "        text-align: right;\n",
       "    }\n",
       "</style>\n",
       "<table border=\"1\" class=\"dataframe\">\n",
       "  <thead>\n",
       "    <tr style=\"text-align: right;\">\n",
       "      <th></th>\n",
       "      <th>uid</th>\n",
       "      <th>age</th>\n",
       "      <th>attraction_coeff</th>\n",
       "      <th>coins</th>\n",
       "      <th>country</th>\n",
       "      <th>visit_days</th>\n",
       "      <th>gender</th>\n",
       "      <th>age_filter_start</th>\n",
       "      <th>age_filter_end</th>\n",
       "      <th>views_count</th>\n",
       "      <th>was_premium</th>\n",
       "      <th>is_premium</th>\n",
       "      <th>group</th>\n",
       "      <th>total_revenue</th>\n",
       "      <th>revenue_for_premium_no_trial</th>\n",
       "      <th>buy_premium</th>\n",
       "    </tr>\n",
       "  </thead>\n",
       "  <tbody>\n",
       "    <tr>\n",
       "      <th>1209</th>\n",
       "      <td>892307238</td>\n",
       "      <td>29</td>\n",
       "      <td>543</td>\n",
       "      <td>43.0</td>\n",
       "      <td>Spain</td>\n",
       "      <td>1,2,3,4,5,6,7,8,9,10,11,12,13,14,15,16,17,18,1...</td>\n",
       "      <td>1</td>\n",
       "      <td>16</td>\n",
       "      <td>36</td>\n",
       "      <td>46</td>\n",
       "      <td>1.0</td>\n",
       "      <td>1.0</td>\n",
       "      <td>control_2</td>\n",
       "      <td>75647.0</td>\n",
       "      <td>63037.0</td>\n",
       "      <td>1</td>\n",
       "    </tr>\n",
       "    <tr>\n",
       "      <th>1353</th>\n",
       "      <td>891778551</td>\n",
       "      <td>30</td>\n",
       "      <td>290</td>\n",
       "      <td>NaN</td>\n",
       "      <td>United Arab Emirates</td>\n",
       "      <td>1,6,7,8,9,10</td>\n",
       "      <td>1</td>\n",
       "      <td>27</td>\n",
       "      <td>33</td>\n",
       "      <td>31</td>\n",
       "      <td>1.0</td>\n",
       "      <td>1.0</td>\n",
       "      <td>control_2</td>\n",
       "      <td>81796.0</td>\n",
       "      <td>81796.0</td>\n",
       "      <td>1</td>\n",
       "    </tr>\n",
       "  </tbody>\n",
       "</table>\n",
       "</div>"
      ],
      "text/plain": [
       "            uid  age  attraction_coeff  coins               country  \\\n",
       "1209  892307238   29               543   43.0                 Spain   \n",
       "1353  891778551   30               290    NaN  United Arab Emirates   \n",
       "\n",
       "                                             visit_days  gender  \\\n",
       "1209  1,2,3,4,5,6,7,8,9,10,11,12,13,14,15,16,17,18,1...       1   \n",
       "1353                                       1,6,7,8,9,10       1   \n",
       "\n",
       "      age_filter_start  age_filter_end  views_count  was_premium  is_premium  \\\n",
       "1209                16              36           46          1.0         1.0   \n",
       "1353                27              33           31          1.0         1.0   \n",
       "\n",
       "          group  total_revenue  revenue_for_premium_no_trial  buy_premium  \n",
       "1209  control_2        75647.0                       63037.0            1  \n",
       "1353  control_2        81796.0                       81796.0            1  "
      ]
     },
     "execution_count": 165,
     "metadata": {},
     "output_type": "execute_result"
    }
   ],
   "source": [
    "# Кто из пользователей в контроле_2 потратил на премиум подписку больше 20000\n",
    "uc2.query('revenue_for_premium_no_trial > 20000')"
   ]
  },
  {
   "cell_type": "markdown",
   "metadata": {},
   "source": [
    "Похоже, что люди, потратившие на премиум более 20 000 могут быть нашими топовыми подписчиками, поэтому не будем исключать их из выборки"
   ]
  },
  {
   "cell_type": "markdown",
   "metadata": {},
   "source": [
    "Для дальнейшего выбора метода проверим, соответствует ли распределение нормальному с помощью критерия Колмогорова-Смирнова. Нулевая гипотеза - распределение данных соответствует нормальному. Также проверим равенство дисперсий в двух группах с помощью критерия Левена. Нулевая гипотеза - дисперсии равны."
   ]
  },
  {
   "cell_type": "code",
   "execution_count": 166,
   "metadata": {},
   "outputs": [
    {
     "data": {
      "text/plain": [
       "KstestResult(statistic=1.0, pvalue=0.0)"
      ]
     },
     "execution_count": 166,
     "metadata": {},
     "output_type": "execute_result"
    }
   ],
   "source": [
    "# Критерий Колмогорова-Смирнова для трат на покупку премиум в контроле_1\n",
    "stats.kstest(tc1.query('product_type == \"premium_no_trial\"').revenue, 'norm')"
   ]
  },
  {
   "cell_type": "code",
   "execution_count": 167,
   "metadata": {},
   "outputs": [
    {
     "data": {
      "text/plain": [
       "KstestResult(statistic=1.0, pvalue=0.0)"
      ]
     },
     "execution_count": 167,
     "metadata": {},
     "output_type": "execute_result"
    }
   ],
   "source": [
    "# Критерий Колмогорова-Смирнова для трат на покупку премиум в контроле_1\n",
    "stats.kstest(tc2.query('product_type == \"premium_no_trial\"').revenue, 'norm')"
   ]
  },
  {
   "cell_type": "markdown",
   "metadata": {},
   "source": [
    "Уровень значимости а обоих случаях меньше 0.05, следовательно отвергаем нулевую гипотезу, распределения трат на премиум подписку в обоих контрольных группах отличаются от нормального"
   ]
  },
  {
   "cell_type": "code",
   "execution_count": 168,
   "metadata": {},
   "outputs": [
    {
     "data": {
      "text/plain": [
       "LeveneResult(statistic=0.3509742184520781, pvalue=0.5542087500331045)"
      ]
     },
     "execution_count": 168,
     "metadata": {},
     "output_type": "execute_result"
    }
   ],
   "source": [
    "# Рассчитываем критерий Левена\n",
    "stats.levene(tc1.query('product_type == \"premium_no_trial\"').revenue, \n",
    "             tc2.query('product_type == \"premium_no_trial\"').revenue)"
   ]
  },
  {
   "cell_type": "markdown",
   "metadata": {},
   "source": [
    "Уровень значимости меньше 0.05, значит мы не можем отклонить нулевую гипотезу, дисперсия средних трат на премиум в обоих контрольных группах равна"
   ]
  },
  {
   "cell_type": "markdown",
   "metadata": {},
   "source": [
    "Итак, мы знаем, что две контрольные выборки имеют асимметричное распределение, отличающее от нормального. Дисперсии в группах равны. В этой ситуации для сравнения групп можно\n",
    "1. Использовать непараметрический критерий Манна-Уитней, который, согдасно документации scipy, проверяет гипотезу о равенстве распределений в двух выборках. Однако, если верить разбору, приведенному https://habr.com/ru/companies/avito/articles/709596/, этот критерий по нескольким причинам не очень хорошо подходит для A/Б тестов, например, потому что дает много ложных срабатываний. Это не говоря уже о том, что нулевая гипотеза не очень подходит, когда мы говорим о среднем чеке.\n",
    "2. Использовать бутсрап или перестановочный тест, но это ресурсоемкий подход.\n",
    "3. В случае, если размер выборки достаточно большой (например, больше сотни экземпляров в каждой выборке как у нас), начинает работать центральная предельная теорема. ЦПТ гласит, что с увеличением размера выборки распределение выборочного среднего стремится к нормальному распределению, даже если исходное распределение не является нормальным. Таким образом, если выборки состоят из большого количества данных, то результаты т-теста могут быть приемлемыми, даже если исходные данные не подчиняются нормальному распределению. Поэтому для дальнейшего анализа используем т-тест. Согласно документации к scipy.stats.ttest_ind, он проверяет нулевую гипотезу о том, что средние значения в двух выборках равны. "
   ]
  },
  {
   "cell_type": "code",
   "execution_count": 175,
   "metadata": {},
   "outputs": [
    {
     "data": {
      "text/plain": [
       "7370.62"
      ]
     },
     "execution_count": 175,
     "metadata": {},
     "output_type": "execute_result"
    }
   ],
   "source": [
    "# В среднем пользователи из контроля_1 потратили на покупку премиум подписки\n",
    "tc1.query('product_type == \"premium_no_trial\"').revenue.mean().round(2)"
   ]
  },
  {
   "cell_type": "code",
   "execution_count": 180,
   "metadata": {},
   "outputs": [
    {
     "data": {
      "text/plain": [
       "(5309.078073614466, 9432.171926385534)"
      ]
     },
     "execution_count": 180,
     "metadata": {},
     "output_type": "execute_result"
    }
   ],
   "source": [
    "# 95% доверительный интервал для AOV в контроле_1\n",
    "stats.t.interval(0.95, df=len(tc1.query('product_type == \"premium_no_trial\"').revenue.values)-1,\n",
    "                 loc=np.mean(tc1.query('product_type == \"premium_no_trial\"').revenue.values),\n",
    "                 scale=stats.sem(tc1.query('product_type == \"premium_no_trial\"').revenue.values))"
   ]
  },
  {
   "cell_type": "code",
   "execution_count": 181,
   "metadata": {},
   "outputs": [
    {
     "data": {
      "text/plain": [
       "7009.85"
      ]
     },
     "execution_count": 181,
     "metadata": {},
     "output_type": "execute_result"
    }
   ],
   "source": [
    "# В среднем пользователи из контроля_2 потратили на покупку премиум подписки\n",
    "tc2.query('product_type == \"premium_no_trial\"').revenue.mean().round(2)"
   ]
  },
  {
   "cell_type": "code",
   "execution_count": 182,
   "metadata": {},
   "outputs": [
    {
     "data": {
      "text/plain": [
       "(5195.402182792783, 8824.293055302456)"
      ]
     },
     "execution_count": 182,
     "metadata": {},
     "output_type": "execute_result"
    }
   ],
   "source": [
    "# 95% доверительный интервал для AOV в контроле_2\n",
    "stats.t.interval(0.95, df=len(tc2.query('product_type == \"premium_no_trial\"').revenue.values)-1,\n",
    "                 loc=np.mean(tc2.query('product_type == \"premium_no_trial\"').revenue.values),\n",
    "                 scale=stats.sem(tc2.query('product_type == \"premium_no_trial\"').revenue.values))"
   ]
  },
  {
   "cell_type": "code",
   "execution_count": 169,
   "metadata": {},
   "outputs": [
    {
     "data": {
      "text/plain": [
       "Ttest_indResult(statistic=0.26067813326542766, pvalue=0.7945998695199628)"
      ]
     },
     "execution_count": 169,
     "metadata": {},
     "output_type": "execute_result"
    }
   ],
   "source": [
    "# Считаем значения т-критерия и уровень значимости\n",
    "stats.ttest_ind(tc1.query('product_type == \"premium_no_trial\"').revenue, \n",
    "                tc2.query('product_type == \"premium_no_trial\"').revenue)"
   ]
  },
  {
   "cell_type": "markdown",
   "metadata": {},
   "source": [
    "Уровень значимости больше 0.05, значит мы принимаем нулевую гипотезу о том, что средние траты на премиум-подписку равны в двух контрольных группах."
   ]
  },
  {
   "cell_type": "markdown",
   "metadata": {},
   "source": [
    "## ARPU"
   ]
  },
  {
   "cell_type": "markdown",
   "metadata": {},
   "source": [
    "ARPU = суммарный доход / количество пользователей. Тоесть это просто среднее значение из total_revenue в таблицах users"
   ]
  },
  {
   "cell_type": "markdown",
   "metadata": {},
   "source": [
    "Оценим ARPU за весь период наблюдений, поскольку у какая-то проблема с записью дат и расчет по-месячно может быть некорректный"
   ]
  },
  {
   "cell_type": "code",
   "execution_count": 194,
   "metadata": {},
   "outputs": [],
   "source": [
    "# Заменим NaN нули\n",
    "uc1.total_revenue.fillna(0, inplace=True)\n",
    "uc2.total_revenue.fillna(0, inplace = True)\n",
    "ut.total_revenue.fillna(0, inplace = True)\n",
    "users.total_revenue.fillna(0, inplace = True)"
   ]
  },
  {
   "cell_type": "code",
   "execution_count": 195,
   "metadata": {},
   "outputs": [
    {
     "data": {
      "image/png": "[encoded data removed]",
      "text/plain": [
       "<Figure size 1170.6x360 with 1 Axes>"
      ]
     },
     "metadata": {},
     "output_type": "display_data"
    }
   ],
   "source": [
    "# Построим распределение дохода от пользователей в двух контролях\n",
    "sns.displot (data=users.query('group != \"test\"'), \n",
    "             x='total_revenue', \n",
    "             hue='group', \n",
    "             bins = 40,\n",
    "             height=5, \n",
    "             aspect=3)\n",
    "plt.xticks(rotation=90)\n",
    "plt.show()"
   ]
  },
  {
   "cell_type": "code",
   "execution_count": 196,
   "metadata": {},
   "outputs": [
    {
     "data": {
      "image/png": "[encoded data removed]",
      "text/plain": [
       "<Figure size 1440x504 with 2 Axes>"
      ]
     },
     "metadata": {},
     "output_type": "display_data"
    }
   ],
   "source": [
    "# Отобразим суммарные траты пользователей двух контрольных групп в виде боксплотов\n",
    "fig, axes = plt.subplots(1, 2, sharey=True)\n",
    "sns.boxplot(ax=axes[0], data=uc1, y=\"total_revenue\")\n",
    "sns.boxplot(ax=axes[1], data=uc2, y=\"total_revenue\")\n",
    "axes[0].set_title(\"Control_1\")\n",
    "axes[1].set_title(\"Control_2\")\n",
    "plt.show()"
   ]
  },
  {
   "cell_type": "markdown",
   "metadata": {},
   "source": [
    "Видим, что подавляющее большинство пользователей ничего не тратили, есть какое-то количество пользователей, которые потратили до 40 000, но единичные пользователи, которые тратят очень много"
   ]
  },
  {
   "cell_type": "code",
   "execution_count": 197,
   "metadata": {},
   "outputs": [
    {
     "data": {
      "text/html": [
       "<div>\n",
       "<style scoped>\n",
       "    .dataframe tbody tr th:only-of-type {\n",
       "        vertical-align: middle;\n",
       "    }\n",
       "\n",
       "    .dataframe tbody tr th {\n",
       "        vertical-align: top;\n",
       "    }\n",
       "\n",
       "    .dataframe thead th {\n",
       "        text-align: right;\n",
       "    }\n",
       "</style>\n",
       "<table border=\"1\" class=\"dataframe\">\n",
       "  <thead>\n",
       "    <tr style=\"text-align: right;\">\n",
       "      <th></th>\n",
       "      <th>uid</th>\n",
       "      <th>age</th>\n",
       "      <th>attraction_coeff</th>\n",
       "      <th>coins</th>\n",
       "      <th>country</th>\n",
       "      <th>visit_days</th>\n",
       "      <th>gender</th>\n",
       "      <th>age_filter_start</th>\n",
       "      <th>age_filter_end</th>\n",
       "      <th>views_count</th>\n",
       "      <th>was_premium</th>\n",
       "      <th>is_premium</th>\n",
       "      <th>group</th>\n",
       "      <th>total_revenue</th>\n",
       "      <th>revenue_for_premium_no_trial</th>\n",
       "      <th>buy_premium</th>\n",
       "    </tr>\n",
       "  </thead>\n",
       "  <tbody>\n",
       "    <tr>\n",
       "      <th>1416</th>\n",
       "      <td>892333905</td>\n",
       "      <td>22</td>\n",
       "      <td>175</td>\n",
       "      <td>3608.0</td>\n",
       "      <td>Italy</td>\n",
       "      <td>1,2,3,4,5,6,7,15</td>\n",
       "      <td>1</td>\n",
       "      <td>19</td>\n",
       "      <td>25</td>\n",
       "      <td>575</td>\n",
       "      <td>1.0</td>\n",
       "      <td>1.0</td>\n",
       "      <td>control_1</td>\n",
       "      <td>403104.0</td>\n",
       "      <td>63037.0</td>\n",
       "      <td>1</td>\n",
       "    </tr>\n",
       "  </tbody>\n",
       "</table>\n",
       "</div>"
      ],
      "text/plain": [
       "            uid  age  attraction_coeff   coins country        visit_days  \\\n",
       "1416  892333905   22               175  3608.0   Italy  1,2,3,4,5,6,7,15   \n",
       "\n",
       "      gender  age_filter_start  age_filter_end  views_count  was_premium  \\\n",
       "1416       1                19              25          575          1.0   \n",
       "\n",
       "      is_premium      group  total_revenue  revenue_for_premium_no_trial  \\\n",
       "1416         1.0  control_1       403104.0                       63037.0   \n",
       "\n",
       "      buy_premium  \n",
       "1416            1  "
      ]
     },
     "execution_count": 197,
     "metadata": {},
     "output_type": "execute_result"
    }
   ],
   "source": [
    "# Кто из пользователей в контроле_1 потратил больше 200000\n",
    "uc1.query('total_revenue > 350000')"
   ]
  },
  {
   "cell_type": "code",
   "execution_count": 198,
   "metadata": {},
   "outputs": [
    {
     "data": {
      "text/html": [
       "<div>\n",
       "<style scoped>\n",
       "    .dataframe tbody tr th:only-of-type {\n",
       "        vertical-align: middle;\n",
       "    }\n",
       "\n",
       "    .dataframe tbody tr th {\n",
       "        vertical-align: top;\n",
       "    }\n",
       "\n",
       "    .dataframe thead th {\n",
       "        text-align: right;\n",
       "    }\n",
       "</style>\n",
       "<table border=\"1\" class=\"dataframe\">\n",
       "  <thead>\n",
       "    <tr style=\"text-align: right;\">\n",
       "      <th></th>\n",
       "      <th>uid</th>\n",
       "      <th>age</th>\n",
       "      <th>attraction_coeff</th>\n",
       "      <th>coins</th>\n",
       "      <th>country</th>\n",
       "      <th>visit_days</th>\n",
       "      <th>gender</th>\n",
       "      <th>age_filter_start</th>\n",
       "      <th>age_filter_end</th>\n",
       "      <th>views_count</th>\n",
       "      <th>was_premium</th>\n",
       "      <th>is_premium</th>\n",
       "      <th>group</th>\n",
       "      <th>total_revenue</th>\n",
       "      <th>revenue_for_premium_no_trial</th>\n",
       "      <th>buy_premium</th>\n",
       "    </tr>\n",
       "  </thead>\n",
       "  <tbody>\n",
       "  </tbody>\n",
       "</table>\n",
       "</div>"
      ],
      "text/plain": [
       "Empty DataFrame\n",
       "Columns: [uid, age, attraction_coeff, coins, country, visit_days, gender, age_filter_start, age_filter_end, views_count, was_premium, is_premium, group, total_revenue, revenue_for_premium_no_trial, buy_premium]\n",
       "Index: []"
      ]
     },
     "execution_count": 198,
     "metadata": {},
     "output_type": "execute_result"
    }
   ],
   "source": [
    "# Кто из пользователей в контроле_2 потратил больше 200000\n",
    "uc2.query('total_revenue > 350000')"
   ]
  },
  {
   "cell_type": "markdown",
   "metadata": {},
   "source": [
    "Мы видим, что в котроле_1 есть один человек, который потралил 403 000, что в разы больше, чем другие. В контроле_2 нет людей, которые тратили  бы сопоставимую сумму"
   ]
  },
  {
   "cell_type": "markdown",
   "metadata": {},
   "source": [
    "Проверим, соответствует ли распределение дохода нормальному в контрольных группах с помощью критерия Колмогорова-Смирнова. Нулевая гипотеза - распределение данных соответствует нормальному. Также проверим равенство дисперсий в двух группах с помощью критерия Левена. Нулевая гипотеза - дисперсии равны."
   ]
  },
  {
   "cell_type": "code",
   "execution_count": 199,
   "metadata": {},
   "outputs": [
    {
     "data": {
      "text/plain": [
       "KstestResult(statistic=0.5, pvalue=0.0)"
      ]
     },
     "execution_count": 199,
     "metadata": {},
     "output_type": "execute_result"
    }
   ],
   "source": [
    "# Рассчитываем критерий Колмогорова-Смирнова для контроля_1\n",
    "stats.kstest(uc1.total_revenue, 'norm')"
   ]
  },
  {
   "cell_type": "code",
   "execution_count": 200,
   "metadata": {},
   "outputs": [
    {
     "data": {
      "text/plain": [
       "KstestResult(statistic=0.5, pvalue=0.0)"
      ]
     },
     "execution_count": 200,
     "metadata": {},
     "output_type": "execute_result"
    }
   ],
   "source": [
    "# Рассчитываем критерий Колмогорова-Смирнова для контроля_2\n",
    "stats.kstest(uc2.total_revenue, 'norm')"
   ]
  },
  {
   "cell_type": "markdown",
   "metadata": {},
   "source": [
    "В обоих случаях уровень значимости меньше 0.05, значит отвергаем нулевую гипотезу о соответсвии данных нормальному распределению"
   ]
  },
  {
   "cell_type": "code",
   "execution_count": 201,
   "metadata": {},
   "outputs": [
    {
     "data": {
      "text/plain": [
       "LeveneResult(statistic=1.3707826604532485, pvalue=0.2417100718985959)"
      ]
     },
     "execution_count": 201,
     "metadata": {},
     "output_type": "execute_result"
    }
   ],
   "source": [
    "# Проводим тест Левена на равенство дисперсий\n",
    "stats.levene(uc1.total_revenue, uc2.total_revenue)"
   ]
  },
  {
   "cell_type": "markdown",
   "metadata": {},
   "source": [
    "Уровень значимости больше 0.05, значит принимаем нулевую гипотезу о равенстве выборочных дисперсий. В первом контроле был человек, который потратил 400 000. Поскольку дисперсии равны, удалять его из выборки не будем, но на всякий случай помним, что если мы получим достоверные различия между группами, то надо будет проверить, не повлиял ли на факт различий наш \"выброс\""
   ]
  },
  {
   "cell_type": "code",
   "execution_count": 202,
   "metadata": {},
   "outputs": [
    {
     "data": {
      "text/plain": [
       "(4318, 16)"
      ]
     },
     "execution_count": 202,
     "metadata": {},
     "output_type": "execute_result"
    }
   ],
   "source": [
    "uc1.shape"
   ]
  },
  {
   "cell_type": "markdown",
   "metadata": {},
   "source": [
    "Варианты дальнейшего анализа такие же, как и в случае со средним чеком за премиум-подписку: критерий Манна-Уитней, бутстрап и т-тест. Так же как и в случае AOV, руководствуясь внушительным объемом выборки (порядка 4000 человек) проведем т-тест, не смотря на то, что форма распределения сильно отличается от нормального. Нулевая гипотеза - средние доход от пользователя, т.е. ARPU, равны в двух группах"
   ]
  },
  {
   "cell_type": "code",
   "execution_count": 204,
   "metadata": {},
   "outputs": [
    {
     "data": {
      "text/plain": [
       "577.58"
      ]
     },
     "execution_count": 204,
     "metadata": {},
     "output_type": "execute_result"
    }
   ],
   "source": [
    "# ARPU в контроле_1\n",
    "uc1.total_revenue.mean().round(2)"
   ]
  },
  {
   "cell_type": "code",
   "execution_count": 208,
   "metadata": {},
   "outputs": [
    {
     "data": {
      "text/plain": [
       "(373.14200400140874, 782.0214976197122)"
      ]
     },
     "execution_count": 208,
     "metadata": {},
     "output_type": "execute_result"
    }
   ],
   "source": [
    "# 95% доверительный интервал для ARPU в контроле_1\n",
    "stats.t.interval(0.95, df=len(uc1.total_revenue.values)-1,\n",
    "                 loc=np.mean(uc1.total_revenue.values),\n",
    "                 scale=stats.sem(uc1.total_revenue.values))"
   ]
  },
  {
   "cell_type": "code",
   "execution_count": 205,
   "metadata": {},
   "outputs": [
    {
     "data": {
      "text/plain": [
       "444.33"
      ]
     },
     "execution_count": 205,
     "metadata": {},
     "output_type": "execute_result"
    }
   ],
   "source": [
    "# ARPU в контроле_2\n",
    "uc2.total_revenue.mean().round(2)"
   ]
  },
  {
   "cell_type": "code",
   "execution_count": 210,
   "metadata": {},
   "outputs": [
    {
     "data": {
      "text/plain": [
       "(358.6552662359906, 530.0011754818008)"
      ]
     },
     "execution_count": 210,
     "metadata": {},
     "output_type": "execute_result"
    }
   ],
   "source": [
    "# 95% доверительный интервал для ARPU в контроле_2\n",
    "stats.t.interval(0.95, df=len(uc2.total_revenue.values)-1,\n",
    "                 loc=np.mean(uc2.total_revenue.values),\n",
    "                 scale=stats.sem(uc2.total_revenue.values))"
   ]
  },
  {
   "cell_type": "code",
   "execution_count": 211,
   "metadata": {},
   "outputs": [
    {
     "data": {
      "text/plain": [
       "Ttest_indResult(statistic=1.1708042793111273, pvalue=0.2417100718977061)"
      ]
     },
     "execution_count": 211,
     "metadata": {},
     "output_type": "execute_result"
    }
   ],
   "source": [
    "# Рассчитываем т-критерий\n",
    "stats.ttest_ind(uc1.total_revenue, uc2.total_revenue)"
   ]
  },
  {
   "cell_type": "markdown",
   "metadata": {},
   "source": [
    "Уровень значимости больше 0.05, значит принимаем нулевую гипотезу о равенстве ARPU в двух группах"
   ]
  },
  {
   "cell_type": "markdown",
   "metadata": {},
   "source": [
    "## Retention rate"
   ]
  },
  {
   "cell_type": "markdown",
   "metadata": {},
   "source": [
    "Retention rate показывает отношение клиентов, которые вернулись в приложение на n-ый день, к числу клиентов на начало расчетного периода. Мы будем считать началом рассчетного периода момент регистрации. Рассчитаем retention на 7, 14, 30 и 60 дни."
   ]
  },
  {
   "cell_type": "markdown",
   "metadata": {},
   "source": [
    "Для этого распакуем колонку visit_days датафреймов users в отдельные строки"
   ]
  },
  {
   "cell_type": "code",
   "execution_count": 748,
   "metadata": {},
   "outputs": [],
   "source": [
    "dfs = [ut, uc1, uc2, users]\n",
    "\n",
    "for df in dfs:\n",
    "    # Заполняем пропуски нулями\n",
    "    df.visit_days.fillna(0, inplace=True)\n",
    "    # Изменяем тип данных на строковый\n",
    "    df.visit_days = df.visit_days.astype(\"str\")\n",
    "    # Преобразуем колонку в список\n",
    "    df.visit_days = df.visit_days.str.strip().str.split(\",\")\n",
    "\n",
    "# Распаковываем список из visit_days в отдельные строки\n",
    "exploded_ut = ut.explode(\"visit_days\")\n",
    "exploded_uc1 = uc1.explode(\"visit_days\")\n",
    "exploded_uc2 = uc2.explode(\"visit_days\")\n",
    "exploded_users = users.explode(\"visit_days\")"
   ]
  },
  {
   "cell_type": "code",
   "execution_count": 749,
   "metadata": {},
   "outputs": [
    {
     "data": {
      "text/html": [
       "<div>\n",
       "<style scoped>\n",
       "    .dataframe tbody tr th:only-of-type {\n",
       "        vertical-align: middle;\n",
       "    }\n",
       "\n",
       "    .dataframe tbody tr th {\n",
       "        vertical-align: top;\n",
       "    }\n",
       "\n",
       "    .dataframe thead th {\n",
       "        text-align: right;\n",
       "    }\n",
       "</style>\n",
       "<table border=\"1\" class=\"dataframe\">\n",
       "  <thead>\n",
       "    <tr style=\"text-align: right;\">\n",
       "      <th></th>\n",
       "      <th>uid</th>\n",
       "      <th>age</th>\n",
       "      <th>attraction_coeff</th>\n",
       "      <th>coins</th>\n",
       "      <th>country</th>\n",
       "      <th>visit_days</th>\n",
       "      <th>gender</th>\n",
       "      <th>age_filter_start</th>\n",
       "      <th>age_filter_end</th>\n",
       "      <th>views_count</th>\n",
       "      <th>was_premium</th>\n",
       "      <th>is_premium</th>\n",
       "      <th>group</th>\n",
       "      <th>total_revenue</th>\n",
       "      <th>revenue_for_premium_no_trial</th>\n",
       "      <th>buy_premium</th>\n",
       "    </tr>\n",
       "  </thead>\n",
       "  <tbody>\n",
       "    <tr>\n",
       "      <th>0</th>\n",
       "      <td>892309896</td>\n",
       "      <td>27</td>\n",
       "      <td>685</td>\n",
       "      <td>NaN</td>\n",
       "      <td>United States of America</td>\n",
       "      <td>1</td>\n",
       "      <td>1</td>\n",
       "      <td>24</td>\n",
       "      <td>30</td>\n",
       "      <td>89</td>\n",
       "      <td>NaN</td>\n",
       "      <td>NaN</td>\n",
       "      <td>test</td>\n",
       "      <td>0.0</td>\n",
       "      <td>NaN</td>\n",
       "      <td>0</td>\n",
       "    </tr>\n",
       "    <tr>\n",
       "      <th>0</th>\n",
       "      <td>892309896</td>\n",
       "      <td>27</td>\n",
       "      <td>685</td>\n",
       "      <td>NaN</td>\n",
       "      <td>United States of America</td>\n",
       "      <td>2</td>\n",
       "      <td>1</td>\n",
       "      <td>24</td>\n",
       "      <td>30</td>\n",
       "      <td>89</td>\n",
       "      <td>NaN</td>\n",
       "      <td>NaN</td>\n",
       "      <td>test</td>\n",
       "      <td>0.0</td>\n",
       "      <td>NaN</td>\n",
       "      <td>0</td>\n",
       "    </tr>\n",
       "    <tr>\n",
       "      <th>0</th>\n",
       "      <td>892309896</td>\n",
       "      <td>27</td>\n",
       "      <td>685</td>\n",
       "      <td>NaN</td>\n",
       "      <td>United States of America</td>\n",
       "      <td>3</td>\n",
       "      <td>1</td>\n",
       "      <td>24</td>\n",
       "      <td>30</td>\n",
       "      <td>89</td>\n",
       "      <td>NaN</td>\n",
       "      <td>NaN</td>\n",
       "      <td>test</td>\n",
       "      <td>0.0</td>\n",
       "      <td>NaN</td>\n",
       "      <td>0</td>\n",
       "    </tr>\n",
       "    <tr>\n",
       "      <th>0</th>\n",
       "      <td>892309896</td>\n",
       "      <td>27</td>\n",
       "      <td>685</td>\n",
       "      <td>NaN</td>\n",
       "      <td>United States of America</td>\n",
       "      <td>4</td>\n",
       "      <td>1</td>\n",
       "      <td>24</td>\n",
       "      <td>30</td>\n",
       "      <td>89</td>\n",
       "      <td>NaN</td>\n",
       "      <td>NaN</td>\n",
       "      <td>test</td>\n",
       "      <td>0.0</td>\n",
       "      <td>NaN</td>\n",
       "      <td>0</td>\n",
       "    </tr>\n",
       "    <tr>\n",
       "      <th>0</th>\n",
       "      <td>892309896</td>\n",
       "      <td>27</td>\n",
       "      <td>685</td>\n",
       "      <td>NaN</td>\n",
       "      <td>United States of America</td>\n",
       "      <td>5</td>\n",
       "      <td>1</td>\n",
       "      <td>24</td>\n",
       "      <td>30</td>\n",
       "      <td>89</td>\n",
       "      <td>NaN</td>\n",
       "      <td>NaN</td>\n",
       "      <td>test</td>\n",
       "      <td>0.0</td>\n",
       "      <td>NaN</td>\n",
       "      <td>0</td>\n",
       "    </tr>\n",
       "  </tbody>\n",
       "</table>\n",
       "</div>"
      ],
      "text/plain": [
       "         uid  age  attraction_coeff  coins                   country  \\\n",
       "0  892309896   27               685    NaN  United States of America   \n",
       "0  892309896   27               685    NaN  United States of America   \n",
       "0  892309896   27               685    NaN  United States of America   \n",
       "0  892309896   27               685    NaN  United States of America   \n",
       "0  892309896   27               685    NaN  United States of America   \n",
       "\n",
       "  visit_days  gender  age_filter_start  age_filter_end  views_count  \\\n",
       "0          1       1                24              30           89   \n",
       "0          2       1                24              30           89   \n",
       "0          3       1                24              30           89   \n",
       "0          4       1                24              30           89   \n",
       "0          5       1                24              30           89   \n",
       "\n",
       "   was_premium  is_premium group  total_revenue  revenue_for_premium_no_trial  \\\n",
       "0          NaN         NaN  test            0.0                           NaN   \n",
       "0          NaN         NaN  test            0.0                           NaN   \n",
       "0          NaN         NaN  test            0.0                           NaN   \n",
       "0          NaN         NaN  test            0.0                           NaN   \n",
       "0          NaN         NaN  test            0.0                           NaN   \n",
       "\n",
       "   buy_premium  \n",
       "0            0  \n",
       "0            0  \n",
       "0            0  \n",
       "0            0  \n",
       "0            0  "
      ]
     },
     "execution_count": 749,
     "metadata": {},
     "output_type": "execute_result"
    }
   ],
   "source": [
    "exploded_users.head(5)"
   ]
  },
  {
   "cell_type": "code",
   "execution_count": 750,
   "metadata": {},
   "outputs": [],
   "source": [
    "# Поменяем тип данных в колонке visit_days на целое число\n",
    "exploded_ut.visit_days = exploded_ut.visit_days.astype('int')\n",
    "exploded_uc1.visit_days = exploded_uc1.visit_days.astype('int')\n",
    "exploded_uc2.visit_days = exploded_uc2.visit_days.astype('int')\n",
    "exploded_users.visit_days = exploded_users.visit_days.astype('int')"
   ]
  },
  {
   "cell_type": "code",
   "execution_count": 751,
   "metadata": {},
   "outputs": [],
   "source": [
    "days = [7, 14, 30, 60]\n",
    "groups = {\n",
    "    \"control_1\": exploded_users.query('group == \"control_1\"'),\n",
    "    \"control_2\": exploded_users.query('group == \"control_2\"'),\n",
    "}\n",
    "retention = pd.DataFrame({7: [], 14: [], 30: [], 60: []})\n",
    "\n",
    "for key, value in groups.items():\n",
    "    for day in days:\n",
    "        ret = round(\n",
    "            value.query(\"visit_days == @day\").uid.nunique() / value.uid.nunique() * 100,\n",
    "            2,\n",
    "        )\n",
    "        retention.loc[key, day] = ret"
   ]
  },
  {
   "cell_type": "code",
   "execution_count": 752,
   "metadata": {},
   "outputs": [
    {
     "data": {
      "text/html": [
       "<div>\n",
       "<style scoped>\n",
       "    .dataframe tbody tr th:only-of-type {\n",
       "        vertical-align: middle;\n",
       "    }\n",
       "\n",
       "    .dataframe tbody tr th {\n",
       "        vertical-align: top;\n",
       "    }\n",
       "\n",
       "    .dataframe thead th {\n",
       "        text-align: right;\n",
       "    }\n",
       "</style>\n",
       "<table border=\"1\" class=\"dataframe\">\n",
       "  <thead>\n",
       "    <tr style=\"text-align: right;\">\n",
       "      <th></th>\n",
       "      <th>7</th>\n",
       "      <th>14</th>\n",
       "      <th>30</th>\n",
       "      <th>60</th>\n",
       "    </tr>\n",
       "  </thead>\n",
       "  <tbody>\n",
       "    <tr>\n",
       "      <th>control_1</th>\n",
       "      <td>24.11</td>\n",
       "      <td>12.07</td>\n",
       "      <td>0.83</td>\n",
       "      <td>0.46</td>\n",
       "    </tr>\n",
       "    <tr>\n",
       "      <th>control_2</th>\n",
       "      <td>23.76</td>\n",
       "      <td>11.18</td>\n",
       "      <td>1.09</td>\n",
       "      <td>0.61</td>\n",
       "    </tr>\n",
       "  </tbody>\n",
       "</table>\n",
       "</div>"
      ],
      "text/plain": [
       "              7      14    30    60\n",
       "control_1  24.11  12.07  0.83  0.46\n",
       "control_2  23.76  11.18  1.09  0.61"
      ]
     },
     "execution_count": 752,
     "metadata": {},
     "output_type": "execute_result"
    }
   ],
   "source": [
    "retention"
   ]
  },
  {
   "cell_type": "markdown",
   "metadata": {},
   "source": [
    "Поскольку ретеншн — это метрика, представляющая собой отношение (долю пользователей, которые остались активными), судить о достоверности различий в retention между тестовой и контрольной группами можно следующими методами:\n",
    "1. Построение доверительных интервалов с помощью бутстрепа. Это гибкий и надежный способ оценки различий в метрике, но может оказаться ресурсозатратным, особенно при больших объемах данных или многочисленных группах.\n",
    "2. Использование таблиц сопряженности для каждого дня. Для каждого дня составляется таблица, в которой фиксируется количество пользователей, которые покинули приложение, и количество оставшихся пользователей в тестовой и контрольной группах. После этого проводится проверка с помощью критерия хи-квадрат, чтобы выяснить, зависят ли пропорции пользователей от принадлежности к группе (контроль_1/контроль_2).\n",
    "Если соотношение активных и неактивных пользователей значительно различается между группами, это будет свидетельствовать о статистически значимом различии.\n",
    "\n",
    "Итоговый алгоритм:\n",
    "1. Для каждого дня (7, 14, 30, 60) составить таблицу сопряженности\n",
    "2. Применить критерий хи-квадрат для проверки зависимости между группой и активностью пользователей.\n",
    "3. Добавить в итоговую таблицу строку \"different\", которая будет содержать значение True, если между тестовой и контрольной группами обнаружены достоверные различия для конкретного дня."
   ]
  },
  {
   "cell_type": "code",
   "execution_count": 753,
   "metadata": {},
   "outputs": [],
   "source": [
    "# Функция для проверки различий Retention Rate\n",
    "def check_retention_difference(data, days, groups):\n",
    "    results = []\n",
    "    \n",
    "    # Перебираем дни, для которых нужно сравнить retention\n",
    "    for day in days:\n",
    "        # Фильтруем пользователей, которые заходили в указанный день\n",
    "        active_group_1 = data.query(\"visit_days == @day and group == @groups[0]\").uid.nunique()\n",
    "        active_group_2 = data.query(\"visit_days == @day and group == @groups[1]\").uid.nunique()\n",
    "        \n",
    "        # Общее количество пользователей в каждой группе\n",
    "        total_group_1 = data.query(\"group == @groups[0]\").uid.nunique()\n",
    "        total_group_2 = data.query(\"group == @groups[1]\").uid.nunique()\n",
    "        \n",
    "        # Число неактивных пользователей\n",
    "        inactive_group_1 = total_group_1 - active_group_1\n",
    "        inactive_group_2 = total_group_2 - active_group_2\n",
    "        \n",
    "        # Таблица сопряженности для chi-square\n",
    "        contingency_table = np.array([\n",
    "            [active_group_1, inactive_group_1],  # контрольная группа\n",
    "            [active_group_2, inactive_group_2]         # тестовая группа\n",
    "        ])\n",
    "        \n",
    "        # Применяем хи-квадрат тест\n",
    "        chi2, p, dof, expected = stats.chi2_contingency(contingency_table)\n",
    "        \n",
    "        # Добавляем результаты в итоговую таблицу\n",
    "        results.append({\n",
    "            'day': day,\n",
    "            'retention_rate_'+groups[0]: round(active_group_1 / total_group_1 * 100, 2),\n",
    "            'retention_rate_'+groups[1]: round(active_group_2 / total_group_2 * 100, 2),\n",
    "            'chi2_statistic': chi2,\n",
    "            'p_value': p,\n",
    "            'different': p < 0.05\n",
    "        })\n",
    "    \n",
    "    # Возвращаем DataFrame с результатами\n",
    "    return pd.DataFrame(results)"
   ]
  },
  {
   "cell_type": "code",
   "execution_count": 754,
   "metadata": {},
   "outputs": [
    {
     "data": {
      "text/html": [
       "<div>\n",
       "<style scoped>\n",
       "    .dataframe tbody tr th:only-of-type {\n",
       "        vertical-align: middle;\n",
       "    }\n",
       "\n",
       "    .dataframe tbody tr th {\n",
       "        vertical-align: top;\n",
       "    }\n",
       "\n",
       "    .dataframe thead th {\n",
       "        text-align: right;\n",
       "    }\n",
       "</style>\n",
       "<table border=\"1\" class=\"dataframe\">\n",
       "  <thead>\n",
       "    <tr style=\"text-align: right;\">\n",
       "      <th></th>\n",
       "      <th>day</th>\n",
       "      <th>retention_rate_control_1</th>\n",
       "      <th>retention_rate_control_2</th>\n",
       "      <th>chi2_statistic</th>\n",
       "      <th>p_value</th>\n",
       "      <th>different</th>\n",
       "    </tr>\n",
       "  </thead>\n",
       "  <tbody>\n",
       "    <tr>\n",
       "      <th>0</th>\n",
       "      <td>7</td>\n",
       "      <td>24.11</td>\n",
       "      <td>23.76</td>\n",
       "      <td>0.123164</td>\n",
       "      <td>0.725628</td>\n",
       "      <td>False</td>\n",
       "    </tr>\n",
       "    <tr>\n",
       "      <th>1</th>\n",
       "      <td>14</td>\n",
       "      <td>12.07</td>\n",
       "      <td>11.18</td>\n",
       "      <td>1.531644</td>\n",
       "      <td>0.215866</td>\n",
       "      <td>False</td>\n",
       "    </tr>\n",
       "    <tr>\n",
       "      <th>2</th>\n",
       "      <td>30</td>\n",
       "      <td>0.83</td>\n",
       "      <td>1.09</td>\n",
       "      <td>1.174636</td>\n",
       "      <td>0.278451</td>\n",
       "      <td>False</td>\n",
       "    </tr>\n",
       "    <tr>\n",
       "      <th>3</th>\n",
       "      <td>60</td>\n",
       "      <td>0.46</td>\n",
       "      <td>0.61</td>\n",
       "      <td>0.644523</td>\n",
       "      <td>0.422078</td>\n",
       "      <td>False</td>\n",
       "    </tr>\n",
       "  </tbody>\n",
       "</table>\n",
       "</div>"
      ],
      "text/plain": [
       "   day  retention_rate_control_1  retention_rate_control_2  chi2_statistic  \\\n",
       "0    7                     24.11                     23.76        0.123164   \n",
       "1   14                     12.07                     11.18        1.531644   \n",
       "2   30                      0.83                      1.09        1.174636   \n",
       "3   60                      0.46                      0.61        0.644523   \n",
       "\n",
       "    p_value  different  \n",
       "0  0.725628      False  \n",
       "1  0.215866      False  \n",
       "2  0.278451      False  \n",
       "3  0.422078      False  "
      ]
     },
     "execution_count": 754,
     "metadata": {},
     "output_type": "execute_result"
    }
   ],
   "source": [
    "groups = ['control_1', 'control_2']\n",
    "days = [7, 14, 30, 60]\n",
    "retention_results = check_retention_difference(exploded_users, days = days, groups = groups)\n",
    "retention_results"
   ]
  },
  {
   "cell_type": "markdown",
   "metadata": {},
   "source": [
    "В каждый из целевых дней (7, 14, 30, 60) retention rate двух контрольных групп достоверно не различались"
   ]
  },
  {
   "cell_type": "markdown",
   "metadata": {},
   "source": [
    "# Вывод по блоку 2"
   ]
  },
  {
   "cell_type": "markdown",
   "metadata": {},
   "source": [
    "Две контрольные группы не различалются между собой по CR в премиум подписку, AOV за премиум, ARPU, retention rate na 7, 14, 30, 60 дни"
   ]
  },
  {
   "cell_type": "markdown",
   "metadata": {},
   "source": [
    "Поскольку ни по одному из исследуемых показателей контрольные группы не отличались, оставим только одну из них для дальнейшего анализа"
   ]
  },
  {
   "cell_type": "code",
   "execution_count": 755,
   "metadata": {},
   "outputs": [
    {
     "name": "stdout",
     "output_type": "stream",
     "text": [
      "Оставляем контроль 2\n"
     ]
    }
   ],
   "source": [
    "# Устанавливаем фиксированный seed\n",
    "random.seed(41)\n",
    "# Генерируем случайное число\n",
    "random_number = random.randint(1, 2)\n",
    "print(f\"Оставляем контроль {random_number}\")"
   ]
  },
  {
   "cell_type": "markdown",
   "metadata": {},
   "source": [
    "# 3. Проводим A/Б тесты, сравниваем тестовую группу и контроль 2"
   ]
  },
  {
   "cell_type": "markdown",
   "metadata": {},
   "source": [
    "## СR в покупку премиум подписки"
   ]
  },
  {
   "cell_type": "markdown",
   "metadata": {},
   "source": [
    "На втором этапе анализа, когда мы сравнивали контрольные группы, мы добавили в датафреймы users колонку buy_premium, где проставлено значение 1 для пользователей, купивших премиум (не пробную версию), и 0 для тех, кто не совершал покупку. Для расчета коэффициента конверсии (CR) мы берем среднее по этой колонке, что дает долю пользователей, оформивших премиум-подписку.\n",
    "\n",
    "Чтобы сравнить CR в контрольной и тестовой группах, нужно проверить, зависит ли распределение пользователей по тем, кто купил премиум, и тем, кто не купил, от принадлежности к группе. Для этого мы применяем критерий хи-квадрат, где нулевая гипотеза (H₀) заключается в том, что распределение пользователей, купивших и не купивших премиум, независимо от того, в какой группе (контрольной или тестовой) они находятся."
   ]
  },
  {
   "cell_type": "code",
   "execution_count": 756,
   "metadata": {},
   "outputs": [
    {
     "data": {
      "text/html": [
       "<div>\n",
       "<style scoped>\n",
       "    .dataframe tbody tr th:only-of-type {\n",
       "        vertical-align: middle;\n",
       "    }\n",
       "\n",
       "    .dataframe tbody tr th {\n",
       "        vertical-align: top;\n",
       "    }\n",
       "\n",
       "    .dataframe thead th {\n",
       "        text-align: right;\n",
       "    }\n",
       "</style>\n",
       "<table border=\"1\" class=\"dataframe\">\n",
       "  <thead>\n",
       "    <tr style=\"text-align: right;\">\n",
       "      <th>buy_premium</th>\n",
       "      <th>0</th>\n",
       "      <th>1</th>\n",
       "    </tr>\n",
       "    <tr>\n",
       "      <th>group</th>\n",
       "      <th></th>\n",
       "      <th></th>\n",
       "    </tr>\n",
       "  </thead>\n",
       "  <tbody>\n",
       "    <tr>\n",
       "      <th>control_2</th>\n",
       "      <td>4137</td>\n",
       "      <td>101</td>\n",
       "    </tr>\n",
       "    <tr>\n",
       "      <th>test</th>\n",
       "      <td>4205</td>\n",
       "      <td>66</td>\n",
       "    </tr>\n",
       "  </tbody>\n",
       "</table>\n",
       "</div>"
      ],
      "text/plain": [
       "buy_premium     0    1\n",
       "group                 \n",
       "control_2    4137  101\n",
       "test         4205   66"
      ]
     },
     "execution_count": 756,
     "metadata": {},
     "output_type": "execute_result"
    }
   ],
   "source": [
    "# Создаем таблицу сопряженности\n",
    "crosstab_cr_t_c = pd.crosstab(users.query('group != \"control_1\"').group, \n",
    "                              users.query('group != \"control_1\"').buy_premium)\n",
    "crosstab_cr_t_c"
   ]
  },
  {
   "cell_type": "code",
   "execution_count": 757,
   "metadata": {},
   "outputs": [
    {
     "name": "stdout",
     "output_type": "stream",
     "text": [
      "Статистика критерия равна 7.3324, уровень значимости 0.0068\n",
      "Уровень значимости меньше 0.05, CR в контроле и тесте достоверно различается\n"
     ]
    }
   ],
   "source": [
    "# Рассчитываем критерий хи-квадрат для этой таблицы\n",
    "chi_cr_t_c = stats.chi2_contingency(crosstab_cr_t_c)\n",
    "print(\n",
    "    f\"Статистика критерия равна {chi_cr_t_c[0].round(4)}, уровень значимости {chi_cr_t_c[1].round(4)}\"\n",
    ")\n",
    "if chi_cr_t_c[1] < 0.05:\n",
    "    print(\n",
    "        \"Уровень значимости меньше 0.05, CR в контроле и тесте достоверно различается\"\n",
    "    )\n",
    "else:\n",
    "    print(\n",
    "        \"Уровень значимости больше 0.05, контрольная и тестовая группы НЕ различаются по CR\"\n",
    "    )"
   ]
  },
  {
   "cell_type": "code",
   "execution_count": 758,
   "metadata": {},
   "outputs": [
    {
     "data": {
      "text/plain": [
       "1.55"
      ]
     },
     "execution_count": 758,
     "metadata": {},
     "output_type": "execute_result"
    }
   ],
   "source": [
    "# CR в тестовой группе\n",
    "(ut.buy_premium.mean() * 100).round(2)"
   ]
  },
  {
   "cell_type": "code",
   "execution_count": 759,
   "metadata": {},
   "outputs": [
    {
     "data": {
      "text/plain": [
       "2.38"
      ]
     },
     "execution_count": 759,
     "metadata": {},
     "output_type": "execute_result"
    }
   ],
   "source": [
    "# CR в контрольной группе\n",
    "(uc2.buy_premium.mean() * 100).round(2)"
   ]
  },
  {
   "cell_type": "markdown",
   "metadata": {},
   "source": [
    "## CR в покупку премиум: вывод"
   ]
  },
  {
   "cell_type": "markdown",
   "metadata": {},
   "source": [
    "1. Изменение стоимости премиум подписки привело к достоверному снижению конверсии в подписку с 2.38 до 1.55 процентов\n",
    "2. Цифра в 2 процента кажется вполне адекватной исходя из этих отчетов https://apptractor.ru/measure/user-analytics/marketing-podpisnyh-prilozheniy-2022-otchet-appsflyer-i-liftoff.html"
   ]
  },
  {
   "cell_type": "markdown",
   "metadata": {},
   "source": [
    "## CR Дополнительный анализ"
   ]
  },
  {
   "cell_type": "markdown",
   "metadata": {},
   "source": [
    "Мы установили, что конверсия в покупку премиум подписки снизилась, однако есть пользователи, готовые покупать подписку и по более высокой цене. Опишем эту группу."
   ]
  },
  {
   "cell_type": "markdown",
   "metadata": {},
   "source": [
    "Возраст"
   ]
  },
  {
   "cell_type": "code",
   "execution_count": 760,
   "metadata": {},
   "outputs": [
    {
     "data": {
      "text/plain": [
       "count    66.000000\n",
       "mean     32.590909\n",
       "std      12.151578\n",
       "min      17.000000\n",
       "25%      24.000000\n",
       "50%      32.000000\n",
       "75%      37.750000\n",
       "max      99.000000\n",
       "Name: age, dtype: float64"
      ]
     },
     "execution_count": 760,
     "metadata": {},
     "output_type": "execute_result"
    }
   ],
   "source": [
    "ut.query('buy_premium == 1').age.describe()"
   ]
  },
  {
   "cell_type": "code",
   "execution_count": 761,
   "metadata": {},
   "outputs": [
    {
     "data": {
      "text/plain": [
       "<seaborn.axisgrid.FacetGrid at 0x7f6d90626048>"
      ]
     },
     "execution_count": 761,
     "metadata": {},
     "output_type": "execute_result"
    },
    {
     "data": {
      "image/png": "[encoded data removed]",
      "text/plain": [
       "<Figure size 360x360 with 1 Axes>"
      ]
     },
     "metadata": {},
     "output_type": "display_data"
    }
   ],
   "source": [
    "sns.displot(data=ut.query('buy_premium == 1'), x='age')"
   ]
  },
  {
   "cell_type": "code",
   "execution_count": 762,
   "metadata": {},
   "outputs": [
    {
     "data": {
      "text/plain": [
       "43.5"
      ]
     },
     "execution_count": 762,
     "metadata": {},
     "output_type": "execute_result"
    }
   ],
   "source": [
    "ut.query('buy_premium == 1').age.quantile(0.9)"
   ]
  },
  {
   "cell_type": "code",
   "execution_count": 763,
   "metadata": {},
   "outputs": [
    {
     "data": {
      "text/plain": [
       "21.0"
      ]
     },
     "execution_count": 763,
     "metadata": {},
     "output_type": "execute_result"
    }
   ],
   "source": [
    "ut.query('buy_premium == 1').age.quantile(0.1)"
   ]
  },
  {
   "cell_type": "markdown",
   "metadata": {},
   "source": [
    "Возраст 80% пользователей, купивших премиум подписку по более высокой цене колеблется от 21 до 43 лет, половина купивших премиум по более высокой цене имеют возраст от 24 до 38 лет"
   ]
  },
  {
   "cell_type": "markdown",
   "metadata": {},
   "source": [
    "Пол"
   ]
  },
  {
   "cell_type": "code",
   "execution_count": 764,
   "metadata": {},
   "outputs": [
    {
     "data": {
      "text/plain": [
       "1    66\n",
       "Name: gender, dtype: int64"
      ]
     },
     "execution_count": 764,
     "metadata": {},
     "output_type": "execute_result"
    }
   ],
   "source": [
    "ut.query('buy_premium == 1').gender.value_counts()"
   ]
  },
  {
   "cell_type": "markdown",
   "metadata": {},
   "source": [
    "Только мужчины покупали подписку по более высокой цене"
   ]
  },
  {
   "cell_type": "markdown",
   "metadata": {},
   "source": [
    "География"
   ]
  },
  {
   "cell_type": "markdown",
   "metadata": {},
   "source": [
    "Посмотрим, пропорционально ли число пользователей, оформивших платную подписку по более высокой цене, общему количеству пользователей из определенных стран. По графику это не очень хорошо будет видно "
   ]
  },
  {
   "cell_type": "code",
   "execution_count": 765,
   "metadata": {},
   "outputs": [],
   "source": [
    "# Сколько пользователей из каждой страны купили премиум по повышенной цене\n",
    "country_premium = ut.query('buy_premium == 1').country.value_counts()"
   ]
  },
  {
   "cell_type": "code",
   "execution_count": 766,
   "metadata": {},
   "outputs": [],
   "source": [
    "# Сколько пользователей из каждой страны установили приложение в тестовой группе\n",
    "all_countries = ut.country.value_counts()"
   ]
  },
  {
   "cell_type": "code",
   "execution_count": 767,
   "metadata": {},
   "outputs": [
    {
     "data": {
      "text/html": [
       "<div>\n",
       "<style scoped>\n",
       "    .dataframe tbody tr th:only-of-type {\n",
       "        vertical-align: middle;\n",
       "    }\n",
       "\n",
       "    .dataframe tbody tr th {\n",
       "        vertical-align: top;\n",
       "    }\n",
       "\n",
       "    .dataframe thead th {\n",
       "        text-align: right;\n",
       "    }\n",
       "</style>\n",
       "<table border=\"1\" class=\"dataframe\">\n",
       "  <thead>\n",
       "    <tr style=\"text-align: right;\">\n",
       "      <th></th>\n",
       "      <th>premium_rate</th>\n",
       "      <th>n_premium_buyers</th>\n",
       "    </tr>\n",
       "  </thead>\n",
       "  <tbody>\n",
       "    <tr>\n",
       "      <th>Turkey</th>\n",
       "      <td>20.0</td>\n",
       "      <td>1.0</td>\n",
       "    </tr>\n",
       "    <tr>\n",
       "      <th>Mexico</th>\n",
       "      <td>14.3</td>\n",
       "      <td>1.0</td>\n",
       "    </tr>\n",
       "    <tr>\n",
       "      <th>United Kingdom (Great Britain)</th>\n",
       "      <td>3.0</td>\n",
       "      <td>5.0</td>\n",
       "    </tr>\n",
       "    <tr>\n",
       "      <th>United Arab Emirates</th>\n",
       "      <td>2.7</td>\n",
       "      <td>6.0</td>\n",
       "    </tr>\n",
       "    <tr>\n",
       "      <th>Canada</th>\n",
       "      <td>2.2</td>\n",
       "      <td>3.0</td>\n",
       "    </tr>\n",
       "    <tr>\n",
       "      <th>Italy</th>\n",
       "      <td>2.2</td>\n",
       "      <td>7.0</td>\n",
       "    </tr>\n",
       "    <tr>\n",
       "      <th>Spain</th>\n",
       "      <td>2.0</td>\n",
       "      <td>6.0</td>\n",
       "    </tr>\n",
       "    <tr>\n",
       "      <th>Israel</th>\n",
       "      <td>1.9</td>\n",
       "      <td>2.0</td>\n",
       "    </tr>\n",
       "    <tr>\n",
       "      <th>Australia</th>\n",
       "      <td>1.6</td>\n",
       "      <td>1.0</td>\n",
       "    </tr>\n",
       "    <tr>\n",
       "      <th>Chile</th>\n",
       "      <td>1.5</td>\n",
       "      <td>4.0</td>\n",
       "    </tr>\n",
       "    <tr>\n",
       "      <th>Argentina</th>\n",
       "      <td>1.3</td>\n",
       "      <td>5.0</td>\n",
       "    </tr>\n",
       "    <tr>\n",
       "      <th>United States of America</th>\n",
       "      <td>1.2</td>\n",
       "      <td>18.0</td>\n",
       "    </tr>\n",
       "    <tr>\n",
       "      <th>Belgium</th>\n",
       "      <td>1.1</td>\n",
       "      <td>1.0</td>\n",
       "    </tr>\n",
       "    <tr>\n",
       "      <th>France</th>\n",
       "      <td>1.1</td>\n",
       "      <td>4.0</td>\n",
       "    </tr>\n",
       "    <tr>\n",
       "      <th>Germany</th>\n",
       "      <td>1.0</td>\n",
       "      <td>2.0</td>\n",
       "    </tr>\n",
       "    <tr>\n",
       "      <th>Colombia</th>\n",
       "      <td>NaN</td>\n",
       "      <td>NaN</td>\n",
       "    </tr>\n",
       "    <tr>\n",
       "      <th>Costa Rica</th>\n",
       "      <td>NaN</td>\n",
       "      <td>NaN</td>\n",
       "    </tr>\n",
       "    <tr>\n",
       "      <th>Dominican Republic</th>\n",
       "      <td>NaN</td>\n",
       "      <td>NaN</td>\n",
       "    </tr>\n",
       "    <tr>\n",
       "      <th>India</th>\n",
       "      <td>NaN</td>\n",
       "      <td>NaN</td>\n",
       "    </tr>\n",
       "    <tr>\n",
       "      <th>Kyrgyzstan</th>\n",
       "      <td>NaN</td>\n",
       "      <td>NaN</td>\n",
       "    </tr>\n",
       "    <tr>\n",
       "      <th>Peru</th>\n",
       "      <td>NaN</td>\n",
       "      <td>NaN</td>\n",
       "    </tr>\n",
       "    <tr>\n",
       "      <th>Portugal</th>\n",
       "      <td>NaN</td>\n",
       "      <td>NaN</td>\n",
       "    </tr>\n",
       "    <tr>\n",
       "      <th>Russian Federation</th>\n",
       "      <td>NaN</td>\n",
       "      <td>NaN</td>\n",
       "    </tr>\n",
       "    <tr>\n",
       "      <th>Switzerland</th>\n",
       "      <td>NaN</td>\n",
       "      <td>NaN</td>\n",
       "    </tr>\n",
       "    <tr>\n",
       "      <th>Ukraine</th>\n",
       "      <td>NaN</td>\n",
       "      <td>NaN</td>\n",
       "    </tr>\n",
       "  </tbody>\n",
       "</table>\n",
       "</div>"
      ],
      "text/plain": [
       "                                premium_rate  n_premium_buyers\n",
       "Turkey                                  20.0               1.0\n",
       "Mexico                                  14.3               1.0\n",
       "United Kingdom (Great Britain)           3.0               5.0\n",
       "United Arab Emirates                     2.7               6.0\n",
       "Canada                                   2.2               3.0\n",
       "Italy                                    2.2               7.0\n",
       "Spain                                    2.0               6.0\n",
       "Israel                                   1.9               2.0\n",
       "Australia                                1.6               1.0\n",
       "Chile                                    1.5               4.0\n",
       "Argentina                                1.3               5.0\n",
       "United States of America                 1.2              18.0\n",
       "Belgium                                  1.1               1.0\n",
       "France                                   1.1               4.0\n",
       "Germany                                  1.0               2.0\n",
       "Colombia                                 NaN               NaN\n",
       "Costa Rica                               NaN               NaN\n",
       "Dominican Republic                       NaN               NaN\n",
       "India                                    NaN               NaN\n",
       "Kyrgyzstan                               NaN               NaN\n",
       "Peru                                     NaN               NaN\n",
       "Portugal                                 NaN               NaN\n",
       "Russian Federation                       NaN               NaN\n",
       "Switzerland                              NaN               NaN\n",
       "Ukraine                                  NaN               NaN"
      ]
     },
     "execution_count": 767,
     "metadata": {},
     "output_type": "execute_result"
    }
   ],
   "source": [
    "# Считаем для каждой страны соотношение купивших премиум к общему количеству пользователей (в тестовой группе)\n",
    "premium_ratio = (country_premium / all_countries * 100).round(1)\n",
    "# Объединяем по индексу с количеством купивших премиум по повышенной цене\n",
    "premium_per_countries = pd.concat([premium_ratio, country_premium], axis=1)\n",
    "# Переименовываем колонки\n",
    "premium_per_countries.columns = [\"premium_rate\", \"n_premium_buyers\"]\n",
    "premium_per_countries.sort_values(\"premium_rate\", ascending=False)"
   ]
  },
  {
   "cell_type": "markdown",
   "metadata": {},
   "source": [
    "Проведение статистического анализа по странам может быть нецелесообразным, так как в большинстве стран премиум-подписку приобрели единичные пользователи. На основании качественного анализа нельзя сделать вывод о том, что в каких-либо конкретных странах пользователи готовы платить более высокую цену за подписку (исключая Мексику и Турцию, где премиум-подписку оформил только один человек)."
   ]
  },
  {
   "cell_type": "markdown",
   "metadata": {},
   "source": [
    "Таким образом, мы можем сделать вывод, что премиум подписку по более высокой цене готовы покупать мужчины в возрасте от 21 до 43 лет."
   ]
  },
  {
   "cell_type": "code",
   "execution_count": 768,
   "metadata": {},
   "outputs": [
    {
     "data": {
      "text/html": [
       "<div>\n",
       "<style scoped>\n",
       "    .dataframe tbody tr th:only-of-type {\n",
       "        vertical-align: middle;\n",
       "    }\n",
       "\n",
       "    .dataframe tbody tr th {\n",
       "        vertical-align: top;\n",
       "    }\n",
       "\n",
       "    .dataframe thead th {\n",
       "        text-align: right;\n",
       "    }\n",
       "</style>\n",
       "<table border=\"1\" class=\"dataframe\">\n",
       "  <thead>\n",
       "    <tr style=\"text-align: right;\">\n",
       "      <th></th>\n",
       "      <th>uid</th>\n",
       "      <th>age</th>\n",
       "      <th>attraction_coeff</th>\n",
       "      <th>coins</th>\n",
       "      <th>country</th>\n",
       "      <th>visit_days</th>\n",
       "      <th>gender</th>\n",
       "      <th>age_filter_start</th>\n",
       "      <th>age_filter_end</th>\n",
       "      <th>views_count</th>\n",
       "      <th>was_premium</th>\n",
       "      <th>is_premium</th>\n",
       "      <th>group</th>\n",
       "      <th>total_revenue</th>\n",
       "      <th>revenue_for_premium_no_trial</th>\n",
       "      <th>buy_premium</th>\n",
       "    </tr>\n",
       "  </thead>\n",
       "  <tbody>\n",
       "    <tr>\n",
       "      <th>8738</th>\n",
       "      <td>891291573</td>\n",
       "      <td>37</td>\n",
       "      <td>382</td>\n",
       "      <td>NaN</td>\n",
       "      <td>United States of America</td>\n",
       "      <td>[1, 2, 3]</td>\n",
       "      <td>0</td>\n",
       "      <td>34</td>\n",
       "      <td>40</td>\n",
       "      <td>471</td>\n",
       "      <td>1.0</td>\n",
       "      <td>1.0</td>\n",
       "      <td>control_2</td>\n",
       "      <td>6292.0</td>\n",
       "      <td>6292.0</td>\n",
       "      <td>1</td>\n",
       "    </tr>\n",
       "    <tr>\n",
       "      <th>8814</th>\n",
       "      <td>892032072</td>\n",
       "      <td>26</td>\n",
       "      <td>0</td>\n",
       "      <td>NaN</td>\n",
       "      <td>United Kingdom (Great Britain)</td>\n",
       "      <td>[1, 2, 3]</td>\n",
       "      <td>0</td>\n",
       "      <td>16</td>\n",
       "      <td>99</td>\n",
       "      <td>16157</td>\n",
       "      <td>1.0</td>\n",
       "      <td>NaN</td>\n",
       "      <td>control_2</td>\n",
       "      <td>3588.0</td>\n",
       "      <td>3588.0</td>\n",
       "      <td>1</td>\n",
       "    </tr>\n",
       "    <tr>\n",
       "      <th>10277</th>\n",
       "      <td>892333464</td>\n",
       "      <td>34</td>\n",
       "      <td>316</td>\n",
       "      <td>NaN</td>\n",
       "      <td>United States of America</td>\n",
       "      <td>[1]</td>\n",
       "      <td>0</td>\n",
       "      <td>31</td>\n",
       "      <td>37</td>\n",
       "      <td>698</td>\n",
       "      <td>1.0</td>\n",
       "      <td>1.0</td>\n",
       "      <td>control_2</td>\n",
       "      <td>4537.0</td>\n",
       "      <td>4537.0</td>\n",
       "      <td>1</td>\n",
       "    </tr>\n",
       "    <tr>\n",
       "      <th>12474</th>\n",
       "      <td>891170697</td>\n",
       "      <td>35</td>\n",
       "      <td>664</td>\n",
       "      <td>NaN</td>\n",
       "      <td>United Kingdom (Great Britain)</td>\n",
       "      <td>[1, 2]</td>\n",
       "      <td>0</td>\n",
       "      <td>30</td>\n",
       "      <td>71</td>\n",
       "      <td>542</td>\n",
       "      <td>1.0</td>\n",
       "      <td>1.0</td>\n",
       "      <td>control_2</td>\n",
       "      <td>4693.0</td>\n",
       "      <td>4693.0</td>\n",
       "      <td>1</td>\n",
       "    </tr>\n",
       "    <tr>\n",
       "      <th>12714</th>\n",
       "      <td>891826944</td>\n",
       "      <td>36</td>\n",
       "      <td>43</td>\n",
       "      <td>NaN</td>\n",
       "      <td>Germany</td>\n",
       "      <td>[1, 2, 3, 4, 5, 6, 7, 8, 9, 10, 11, 12, 13, 14...</td>\n",
       "      <td>0</td>\n",
       "      <td>27</td>\n",
       "      <td>33</td>\n",
       "      <td>1317</td>\n",
       "      <td>1.0</td>\n",
       "      <td>1.0</td>\n",
       "      <td>control_2</td>\n",
       "      <td>6292.0</td>\n",
       "      <td>6292.0</td>\n",
       "      <td>1</td>\n",
       "    </tr>\n",
       "  </tbody>\n",
       "</table>\n",
       "</div>"
      ],
      "text/plain": [
       "             uid  age  attraction_coeff  coins  \\\n",
       "8738   891291573   37               382    NaN   \n",
       "8814   892032072   26                 0    NaN   \n",
       "10277  892333464   34               316    NaN   \n",
       "12474  891170697   35               664    NaN   \n",
       "12714  891826944   36                43    NaN   \n",
       "\n",
       "                              country  \\\n",
       "8738         United States of America   \n",
       "8814   United Kingdom (Great Britain)   \n",
       "10277        United States of America   \n",
       "12474  United Kingdom (Great Britain)   \n",
       "12714                         Germany   \n",
       "\n",
       "                                              visit_days  gender  \\\n",
       "8738                                           [1, 2, 3]       0   \n",
       "8814                                           [1, 2, 3]       0   \n",
       "10277                                                [1]       0   \n",
       "12474                                             [1, 2]       0   \n",
       "12714  [1, 2, 3, 4, 5, 6, 7, 8, 9, 10, 11, 12, 13, 14...       0   \n",
       "\n",
       "       age_filter_start  age_filter_end  views_count  was_premium  is_premium  \\\n",
       "8738                 34              40          471          1.0         1.0   \n",
       "8814                 16              99        16157          1.0         NaN   \n",
       "10277                31              37          698          1.0         1.0   \n",
       "12474                30              71          542          1.0         1.0   \n",
       "12714                27              33         1317          1.0         1.0   \n",
       "\n",
       "           group  total_revenue  revenue_for_premium_no_trial  buy_premium  \n",
       "8738   control_2         6292.0                        6292.0            1  \n",
       "8814   control_2         3588.0                        3588.0            1  \n",
       "10277  control_2         4537.0                        4537.0            1  \n",
       "12474  control_2         4693.0                        4693.0            1  \n",
       "12714  control_2         6292.0                        6292.0            1  "
      ]
     },
     "execution_count": 768,
     "metadata": {},
     "output_type": "execute_result"
    }
   ],
   "source": [
    "# Дополнительно. Сколько всего женщин оформили премиум подписку (в тесте и двух контролях)\n",
    "users.query('(gender == 0) & (buy_premium == 1)')"
   ]
  },
  {
   "cell_type": "code",
   "execution_count": 769,
   "metadata": {},
   "outputs": [
    {
     "data": {
      "text/plain": [
       "576"
      ]
     },
     "execution_count": 769,
     "metadata": {},
     "output_type": "execute_result"
    }
   ],
   "source": [
    "# Сколько всего было женщин\n",
    "users.query('(gender == 0)').uid.nunique()"
   ]
  },
  {
   "cell_type": "markdown",
   "metadata": {},
   "source": [
    "## AOV за покупку премиум"
   ]
  },
  {
   "cell_type": "code",
   "execution_count": 770,
   "metadata": {},
   "outputs": [
    {
     "data": {
      "text/plain": [
       "count        74.000000\n",
       "mean      10745.027027\n",
       "std       17534.943775\n",
       "min        1898.000000\n",
       "25%        5609.500000\n",
       "50%        8021.000000\n",
       "75%       10760.750000\n",
       "max      113477.000000\n",
       "Name: revenue, dtype: float64"
      ]
     },
     "execution_count": 770,
     "metadata": {},
     "output_type": "execute_result"
    }
   ],
   "source": [
    "tt.query('product_type == \"premium_no_trial\"').revenue.describe()"
   ]
  },
  {
   "cell_type": "code",
   "execution_count": 771,
   "metadata": {},
   "outputs": [
    {
     "data": {
      "text/plain": [
       "count      105.000000\n",
       "mean      7009.847619\n",
       "std       9375.784777\n",
       "min       1482.000000\n",
       "25%       4693.000000\n",
       "50%       6292.000000\n",
       "75%       6292.000000\n",
       "max      81796.000000\n",
       "Name: revenue, dtype: float64"
      ]
     },
     "execution_count": 771,
     "metadata": {},
     "output_type": "execute_result"
    }
   ],
   "source": [
    "tc2.query('product_type == \"premium_no_trial\"').revenue.describe()"
   ]
  },
  {
   "cell_type": "code",
   "execution_count": 772,
   "metadata": {},
   "outputs": [
    {
     "data": {
      "image/png": "[encoded data removed]",
      "text/plain": [
       "<Figure size 1440x504 with 1 Axes>"
      ]
     },
     "metadata": {},
     "output_type": "display_data"
    }
   ],
   "source": [
    "# Посмотрим на распределение пользователей из тестовой группы по тратам на премиум подписку\n",
    "sns.countplot(data=tt.query('product_type == \"premium_no_trial\"'), x='revenue')\n",
    "plt.xticks(rotation=90)\n",
    "plt.show()"
   ]
  },
  {
   "cell_type": "code",
   "execution_count": 773,
   "metadata": {},
   "outputs": [
    {
     "data": {
      "text/plain": [
       "6292"
      ]
     },
     "execution_count": 773,
     "metadata": {},
     "output_type": "execute_result"
    }
   ],
   "source": [
    "# Мода трат на подписку премиум в контрольной группе\n",
    "tc2.query('product_type == \"premium_no_trial\"').revenue.mode()[0]"
   ]
  },
  {
   "cell_type": "code",
   "execution_count": 774,
   "metadata": {},
   "outputs": [
    {
     "data": {
      "text/plain": [
       "12597"
      ]
     },
     "execution_count": 774,
     "metadata": {},
     "output_type": "execute_result"
    }
   ],
   "source": [
    "# Мода трат на подписку премиум в тестовой группе\n",
    "tt.query('product_type == \"premium_no_trial\"').revenue.mode()[0]"
   ]
  },
  {
   "cell_type": "markdown",
   "metadata": {},
   "source": [
    "Для тестовых данных мы наблюдаем такую же картину, как и на этапе анализа контролей: даже если рассматривать пользователей одной страны, видно, что стоимость подписки варьируется, и эти цены не являются кратными, как это было бы в случае оплаты нескольких месяцев подписки. Причин этому может быть несколько: например, скидки за покупку подписки в пакете с другими услугами, использование промокодов, привязка цены к курсу валют и другие факторы. Скорее всего для пользователей из тестовой группы дефолтная цена за подписку была 12597, но многие пользователи покупали ее за 9100. Важно отметить, что из-за проблем с записью дат мы не можем точно определить, сколько месяцев пользователь действительно оплачивал подписку. Единственное, что можно сделать, — это, понять, для скольких из них имело смысл продлевать подписку на более длительный срок."
   ]
  },
  {
   "cell_type": "code",
   "execution_count": 775,
   "metadata": {},
   "outputs": [
    {
     "data": {
      "text/plain": [
       "group\n",
       "control_2    26\n",
       "test         27\n",
       "Name: uid, dtype: int64"
      ]
     },
     "execution_count": 775,
     "metadata": {},
     "output_type": "execute_result"
    }
   ],
   "source": [
    "# Сколько человек в каждой группе заходили спустя месяц с момента регистрации\n",
    "exploded_users.query('visit_days>30 & group!=\"control_1\"').groupby('group').uid.nunique()"
   ]
  },
  {
   "cell_type": "code",
   "execution_count": 776,
   "metadata": {},
   "outputs": [
    {
     "data": {
      "text/plain": [
       "group\n",
       "control_2    2\n",
       "test         2\n",
       "Name: uid, dtype: int64"
      ]
     },
     "execution_count": 776,
     "metadata": {},
     "output_type": "execute_result"
    }
   ],
   "source": [
    "# Сколько премиум-подписчиков в каждой группе заходили спустя месяц с момента регистрации\n",
    "exploded_users.query('(visit_days>30) & (buy_premium == 1)& (group != \"control_1\")').groupby('group').uid.nunique()"
   ]
  },
  {
   "cell_type": "code",
   "execution_count": 777,
   "metadata": {},
   "outputs": [
    {
     "data": {
      "text/plain": [
       "array([892390170, 892405179, 892354854, 892435536])"
      ]
     },
     "execution_count": 777,
     "metadata": {},
     "output_type": "execute_result"
    }
   ],
   "source": [
    "# Соберем uid этих людей на всякий случай\n",
    "premium_more_then_moth = exploded_users.query('(visit_days>30) & (buy_premium == 1) & (group != \"control_1\")').uid.unique()\n",
    "premium_more_then_moth"
   ]
  },
  {
   "cell_type": "markdown",
   "metadata": {},
   "source": [
    "Только двум премиум-подписчикам в каждой группе имело смысл продлевать подписку дольше одного месяца. Однако возможно, что некоторые пользователи случайно забыли её отключить. При предыдущем анализе CR мы выяснили, что был только один пользователь, у которого произошло два списания за покупку премиум-подписки, и его ID был 891297711, и он не использовал приложение более месяца. Таким образом, либо кто-то платил за подписку дольше месяца и оплата происходила одним списанием, либо, скорее всего, никто не оформлял подписку дольше чем на месяц. Учитывая, что суммы, заплаченные за подписку, сильно различаются, имеет смысл проверить гипотезу о том, что сумма, уплаченная за премиум-подписку, не различалась между тестовой и контрольной группами. Поскольку подавляющее большинство пользователей совершили только одну покупку подписки, считаем, что взаимосвязь между отдельными транзакциями отсутствует. Давайте ещё раз посмотрим на распределение затрат на премиум."
   ]
  },
  {
   "cell_type": "code",
   "execution_count": 778,
   "metadata": {},
   "outputs": [
    {
     "data": {
      "image/png": "[encoded data removed]",
      "text/plain": [
       "<Figure size 1170.47x360 with 1 Axes>"
      ]
     },
     "metadata": {},
     "output_type": "display_data"
    }
   ],
   "source": [
    "# Посмотрим на распределение пользователей по тратам на премиум подписку\n",
    "sns.displot(\n",
    "    data=transactions.query('product_type == \"premium_no_trial\" & group != \"control_1\"'),\n",
    "    x=\"revenue\",\n",
    "    hue=\"group\",\n",
    "    height=5,\n",
    "    aspect=3,\n",
    ")\n",
    "plt.xticks(rotation=90)\n",
    "plt.show()"
   ]
  },
  {
   "cell_type": "markdown",
   "metadata": {},
   "source": [
    "Видим, что распределение данных не является нормальным, более того, в каждой группе есть по нескольку выбросов - пользователей, которые потратили на подписку в несколько раз больше, чем остальные. Однако еще на этапе анализа двух контрольных групп мы решили, что не будем удалять этих пользователей из выборки, поскольку они скорее всего являются нашими топовыми подписчиками."
   ]
  },
  {
   "cell_type": "code",
   "execution_count": 779,
   "metadata": {},
   "outputs": [
    {
     "data": {
      "image/png": "[encoded data removed]",
      "text/plain": [
       "<Figure size 1440x504 with 2 Axes>"
      ]
     },
     "metadata": {},
     "output_type": "display_data"
    }
   ],
   "source": [
    "# Отобразим траты на премиум подписку в каждой группе в виде боксплотов\n",
    "fig, axes = plt.subplots(1, 2, sharey=True)\n",
    "sns.boxplot(\n",
    "    ax=axes[0], data=tt.query('product_type == \"premium_no_trial\"'), y=\"revenue\"\n",
    ")\n",
    "sns.boxplot(\n",
    "    ax=axes[1], data=tc2.query('product_type == \"premium_no_trial\"'), y=\"revenue\"\n",
    ")\n",
    "axes[0].set_title(\"Test\")\n",
    "axes[1].set_title(\"Control_2\")\n",
    "plt.show()"
   ]
  },
  {
   "cell_type": "markdown",
   "metadata": {},
   "source": [
    "Руководствуясь тем, в каждой группе у нас больше 100 человек, для сравнения AOV за премиум подписку используем т-тест. Проверяем нулевую гипотезу о том, что средние траты на премиум в контрольной и тестовой группах не различаются."
   ]
  },
  {
   "cell_type": "code",
   "execution_count": 780,
   "metadata": {},
   "outputs": [
    {
     "data": {
      "text/plain": [
       "KstestResult(statistic=1.0, pvalue=0.0)"
      ]
     },
     "execution_count": 780,
     "metadata": {},
     "output_type": "execute_result"
    }
   ],
   "source": [
    "# Рассчитываем критерий Колмогорова-Смирнова \n",
    "# Нулевая гипотеза - распредление данных соответствует нормальному\n",
    "stats.kstest(tt.query('product_type == \"premium_no_trial\"').revenue, 'norm')"
   ]
  },
  {
   "cell_type": "code",
   "execution_count": 781,
   "metadata": {},
   "outputs": [
    {
     "data": {
      "text/plain": [
       "KstestResult(statistic=1.0, pvalue=0.0)"
      ]
     },
     "execution_count": 781,
     "metadata": {},
     "output_type": "execute_result"
    }
   ],
   "source": [
    "# Рассчитываем критерий Колмогорова-Смирнова \n",
    "# Нулевая гипотеза - распредление данных соответствует нормальному\n",
    "stats.kstest(tc2.query('product_type == \"premium_no_trial\"').revenue, 'norm')"
   ]
  },
  {
   "cell_type": "code",
   "execution_count": 782,
   "metadata": {},
   "outputs": [
    {
     "data": {
      "text/plain": [
       "LeveneResult(statistic=2.553714045508824, pvalue=0.11181896308480205)"
      ]
     },
     "execution_count": 782,
     "metadata": {},
     "output_type": "execute_result"
    }
   ],
   "source": [
    "# Проверяем равентво дисперсий с помощью критерия Левена\n",
    "# Нулевая гипотеза - дисперсии равны\n",
    "stats.levene(tt.query('product_type == \"premium_no_trial\"').revenue, tc2.query('product_type == \"premium_no_trial\"').revenue)"
   ]
  },
  {
   "cell_type": "code",
   "execution_count": 784,
   "metadata": {},
   "outputs": [
    {
     "data": {
      "text/plain": [
       "7009.85"
      ]
     },
     "execution_count": 784,
     "metadata": {},
     "output_type": "execute_result"
    }
   ],
   "source": [
    "# Средний чек в контрольной группе\n",
    "tc2.query('product_type == \"premium_no_trial\"').revenue.mean().round(2)"
   ]
  },
  {
   "cell_type": "code",
   "execution_count": 184,
   "metadata": {},
   "outputs": [
    {
     "data": {
      "text/plain": [
       "(5195.402182792783, 8824.293055302456)"
      ]
     },
     "execution_count": 184,
     "metadata": {},
     "output_type": "execute_result"
    }
   ],
   "source": [
    "# 95% доверительный интервал для AOV в контроле_2\n",
    "stats.t.interval(0.95, df=len(tc2.query('product_type == \"premium_no_trial\"').revenue.values)-1,\n",
    "                 loc=np.mean(tc2.query('product_type == \"premium_no_trial\"').revenue.values),\n",
    "                 scale=stats.sem(tc2.query('product_type == \"premium_no_trial\"').revenue.values))"
   ]
  },
  {
   "cell_type": "code",
   "execution_count": 532,
   "metadata": {},
   "outputs": [
    {
     "data": {
      "text/plain": [
       "10745.03"
      ]
     },
     "execution_count": 532,
     "metadata": {},
     "output_type": "execute_result"
    }
   ],
   "source": [
    "# Средний чек в тестовой группе\n",
    "tt.query('product_type == \"premium_no_trial\"').revenue.mean().round(2)"
   ]
  },
  {
   "cell_type": "code",
   "execution_count": 185,
   "metadata": {},
   "outputs": [
    {
     "data": {
      "text/plain": [
       "(6682.510038396446, 14807.544015657608)"
      ]
     },
     "execution_count": 185,
     "metadata": {},
     "output_type": "execute_result"
    }
   ],
   "source": [
    "# 95% доверительный интервал для AOV в тесте\n",
    "stats.t.interval(0.95, df=len(tt.query('product_type == \"premium_no_trial\"').revenue.values)-1,\n",
    "                 loc=np.mean(tt.query('product_type == \"premium_no_trial\"').revenue.values),\n",
    "                 scale=stats.sem(tt.query('product_type == \"premium_no_trial\"').revenue.values))"
   ]
  },
  {
   "cell_type": "code",
   "execution_count": 783,
   "metadata": {},
   "outputs": [
    {
     "data": {
      "text/plain": [
       "Ttest_indResult(statistic=1.8421397328928197, pvalue=0.06712783371248311)"
      ]
     },
     "execution_count": 783,
     "metadata": {},
     "output_type": "execute_result"
    }
   ],
   "source": [
    "# Рассчитываем т-критерий \n",
    "stats.ttest_ind(tt.query('product_type == \"premium_no_trial\"').revenue, \n",
    "                tc2.query('product_type == \"premium_no_trial\"').revenue)"
   ]
  },
  {
   "cell_type": "markdown",
   "metadata": {},
   "source": [
    "Уровень значимости получился выше 0.05, значит мы не можем отвергнуть нулевую гипотезу о равенстве средних."
   ]
  },
  {
   "cell_type": "markdown",
   "metadata": {},
   "source": [
    "## AOV для премиум подписки: вывод"
   ]
  },
  {
   "cell_type": "markdown",
   "metadata": {},
   "source": [
    "Как это ни парадоксально, несмотря на то, что в контрольной и тестовой группах моды распределений трат на покупку премиум подписки различаются в два раза, и несмотря на увеличение стоимости подписки в тестовой группе, на основе t-теста мы не можем сделать вывод о том, что средний чек за премиум в тестовой группе достоверно выше, чем в контрольной. Вероятно, это связано с тем, что, как видно из боксплота и графика распределения, в тестовой группе распределение трат на премиум подписку более пологое и широкое по сравнению с контрольной.\n",
    "\n",
    "Что можно сделать, если возникают сомнения? Если есть время и доступ к вычислительным ресурсам (в нашем случае мы исходили из предположения, что их нет), было бы лучше использовать бутстрап вместо t-теста, поскольку этот метод не требует предположений о нормальности распределений, но требует больше вычислительной мощности. Также можно рассмотреть перестановочный тест как альтернативу, но он тоже ресурсоемкий. Руководство по проведению этих тестов можно найти в приложении. Другой вариант — сосредоточиться на других метриках, не связанных со средним чеком, которые не зависят от вычисления СРЕДНЕГО значения."
   ]
  },
  {
   "cell_type": "markdown",
   "metadata": {},
   "source": [
    "## ARPU"
   ]
  },
  {
   "cell_type": "markdown",
   "metadata": {},
   "source": [
    "ARPU = суммарный доход / количество пользователей. Тоесть это просто среднее значение из total_revenue в таблицах users\n",
    "\n",
    "Оценим ARPU за весь период наблюдений, поскольку у какая-то проблема с записью дат и расчет по-месячно может быть некорректный"
   ]
  },
  {
   "cell_type": "code",
   "execution_count": 556,
   "metadata": {},
   "outputs": [
    {
     "data": {
      "text/plain": [
       "count      4271.000000\n",
       "mean        543.915008\n",
       "std        4428.693656\n",
       "min           0.000000\n",
       "25%           0.000000\n",
       "50%           0.000000\n",
       "75%           0.000000\n",
       "max      129870.000000\n",
       "Name: total_revenue, dtype: float64"
      ]
     },
     "execution_count": 556,
     "metadata": {},
     "output_type": "execute_result"
    }
   ],
   "source": [
    "ut.total_revenue.describe()"
   ]
  },
  {
   "cell_type": "code",
   "execution_count": 557,
   "metadata": {},
   "outputs": [
    {
     "data": {
      "text/plain": [
       "count      4318.000000\n",
       "mean        577.581751\n",
       "std        6852.306524\n",
       "min           0.000000\n",
       "25%           0.000000\n",
       "50%           0.000000\n",
       "75%           0.000000\n",
       "max      403104.000000\n",
       "Name: total_revenue, dtype: float64"
      ]
     },
     "execution_count": 557,
     "metadata": {},
     "output_type": "execute_result"
    }
   ],
   "source": [
    "uc1.total_revenue.describe()"
   ]
  },
  {
   "cell_type": "markdown",
   "metadata": {},
   "source": [
    "Как мы выяснили ранее, бОльшая часть наших пользователей не совершает никаких покупок, поэтому нельзя ожидать, что распределение дохода от пользователей будет соответствовать нормальному. Однако, учитывая что у нас внушительные выборки - около 4000 человек, то мы ожидаем, что в соответствии с ЦПТ распределение выборочных средних будет соответствовать нормальному, и поэтому для сравнения ARPU будем использовать т-тест"
   ]
  },
  {
   "cell_type": "code",
   "execution_count": 558,
   "metadata": {},
   "outputs": [
    {
     "data": {
      "text/plain": [
       "LeveneResult(statistic=0.0729566319475365, pvalue=0.7870860790907144)"
      ]
     },
     "execution_count": 558,
     "metadata": {},
     "output_type": "execute_result"
    }
   ],
   "source": [
    "# Проверим, равны ли дисперсии дохода от пользователей для контроля и теста\n",
    "stats.levene(uc1.total_revenue, ut.total_revenue)"
   ]
  },
  {
   "cell_type": "markdown",
   "metadata": {},
   "source": [
    "Уровень значимости выше 0.05, значит принимаем нулевую гипотезу теста Левена о том, что выборочные дисперсии не различаются"
   ]
  },
  {
   "cell_type": "code",
   "execution_count": 212,
   "metadata": {},
   "outputs": [
    {
     "data": {
      "text/plain": [
       "444.33"
      ]
     },
     "execution_count": 212,
     "metadata": {},
     "output_type": "execute_result"
    }
   ],
   "source": [
    "# ARPU в контрольной группе\n",
    "uc2.total_revenue.mean().round(2)"
   ]
  },
  {
   "cell_type": "code",
   "execution_count": 213,
   "metadata": {},
   "outputs": [
    {
     "data": {
      "text/plain": [
       "(358.6552662359906, 530.0011754818008)"
      ]
     },
     "execution_count": 213,
     "metadata": {},
     "output_type": "execute_result"
    }
   ],
   "source": [
    "# 95% доверительный интервал для ARPU в контроле_2\n",
    "stats.t.interval(0.95, df=len(uc2.total_revenue.values)-1,\n",
    "                 loc=np.mean(uc2.total_revenue.values),\n",
    "                 scale=stats.sem(uc2.total_revenue.values))"
   ]
  },
  {
   "cell_type": "code",
   "execution_count": 216,
   "metadata": {},
   "outputs": [
    {
     "data": {
      "text/plain": [
       "543.92"
      ]
     },
     "execution_count": 216,
     "metadata": {},
     "output_type": "execute_result"
    }
   ],
   "source": [
    "# ARPU в тестовой группе\n",
    "ut.total_revenue.mean().round(2)"
   ]
  },
  {
   "cell_type": "code",
   "execution_count": 217,
   "metadata": {},
   "outputs": [
    {
     "data": {
      "text/plain": [
       "(411.05873479154764, 676.7712815980566)"
      ]
     },
     "execution_count": 217,
     "metadata": {},
     "output_type": "execute_result"
    }
   ],
   "source": [
    "# 95% доверительный интервал для ARPU в тестовой группе\n",
    "stats.t.interval(0.95, df=len(ut.total_revenue.values)-1,\n",
    "                 loc=np.mean(ut.total_revenue.values),\n",
    "                 scale=stats.sem(ut.total_revenue.values))"
   ]
  },
  {
   "cell_type": "markdown",
   "metadata": {},
   "source": [
    "Проведем т-тест. Нулевая гипотеза - средняя выручка с пользователя, то есть ARPU, в двух группах не различается"
   ]
  },
  {
   "cell_type": "code",
   "execution_count": 218,
   "metadata": {},
   "outputs": [
    {
     "data": {
      "text/plain": [
       "Ttest_indResult(statistic=0.27010485361713976, pvalue=0.7870860790916312)"
      ]
     },
     "execution_count": 218,
     "metadata": {},
     "output_type": "execute_result"
    }
   ],
   "source": [
    "stats.ttest_ind(uc1.total_revenue, ut.total_revenue)"
   ]
  },
  {
   "cell_type": "markdown",
   "metadata": {},
   "source": [
    "Уровень значимости выше 0.05, значит мы приниимаем нулевую гипотезу о том, ARPU в тесте и контроле не различаются"
   ]
  },
  {
   "cell_type": "markdown",
   "metadata": {},
   "source": [
    "Вывод: если считать ARPU за весь период наблюдений, то разницы между группами нет - то есть в конечном итоге для бизнеса эксперимент ничего не дал. В показатель ARPU, который мы рассчитали, входят все покупки, а не только покупки премиум подписки, но как раз на уровне суммарного эффекта увеличение стоимости премиум подписки ничего не дало."
   ]
  },
  {
   "cell_type": "markdown",
   "metadata": {},
   "source": [
    "Посмотрим структуру доходов: какая часть доходов приходится на покупку премиум подписки в каждой группе"
   ]
  },
  {
   "cell_type": "code",
   "execution_count": 562,
   "metadata": {},
   "outputs": [],
   "source": [
    "# Считаем прибыль от продаж каждого продукта в каждой группе\n",
    "revenue = transactions.query('group != \"control_1\"').groupby(['group', 'product_type'], as_index=False).revenue.sum()\n",
    "# Считаем суммарную прибыль в каждой группе\n",
    "revenue['revenue_sum'] = revenue.groupby('group', as_index=True).revenue.transform('sum')\n",
    "# Находим долю прибыли от каждого типа продукта\n",
    "revenue['revenue_rate'] = (revenue.revenue / revenue.revenue_sum * 100).round(2)"
   ]
  },
  {
   "cell_type": "code",
   "execution_count": 563,
   "metadata": {},
   "outputs": [
    {
     "data": {
      "text/html": [
       "<div>\n",
       "<style scoped>\n",
       "    .dataframe tbody tr th:only-of-type {\n",
       "        vertical-align: middle;\n",
       "    }\n",
       "\n",
       "    .dataframe tbody tr th {\n",
       "        vertical-align: top;\n",
       "    }\n",
       "\n",
       "    .dataframe thead th {\n",
       "        text-align: right;\n",
       "    }\n",
       "</style>\n",
       "<table border=\"1\" class=\"dataframe\">\n",
       "  <thead>\n",
       "    <tr style=\"text-align: right;\">\n",
       "      <th></th>\n",
       "      <th>group</th>\n",
       "      <th>product_type</th>\n",
       "      <th>revenue</th>\n",
       "      <th>revenue_sum</th>\n",
       "      <th>revenue_rate</th>\n",
       "    </tr>\n",
       "  </thead>\n",
       "  <tbody>\n",
       "    <tr>\n",
       "      <th>0</th>\n",
       "      <td>control_2</td>\n",
       "      <td>coins</td>\n",
       "      <td>384709</td>\n",
       "      <td>1878344</td>\n",
       "      <td>20.48</td>\n",
       "    </tr>\n",
       "    <tr>\n",
       "      <th>1</th>\n",
       "      <td>control_2</td>\n",
       "      <td>other_type</td>\n",
       "      <td>126386</td>\n",
       "      <td>1878344</td>\n",
       "      <td>6.73</td>\n",
       "    </tr>\n",
       "    <tr>\n",
       "      <th>2</th>\n",
       "      <td>control_2</td>\n",
       "      <td>premium_no_trial</td>\n",
       "      <td>736034</td>\n",
       "      <td>1878344</td>\n",
       "      <td>39.19</td>\n",
       "    </tr>\n",
       "    <tr>\n",
       "      <th>3</th>\n",
       "      <td>control_2</td>\n",
       "      <td>trial_premium</td>\n",
       "      <td>631215</td>\n",
       "      <td>1878344</td>\n",
       "      <td>33.60</td>\n",
       "    </tr>\n",
       "    <tr>\n",
       "      <th>4</th>\n",
       "      <td>test</td>\n",
       "      <td>coins</td>\n",
       "      <td>558259</td>\n",
       "      <td>2313844</td>\n",
       "      <td>24.13</td>\n",
       "    </tr>\n",
       "    <tr>\n",
       "      <th>5</th>\n",
       "      <td>test</td>\n",
       "      <td>other_type</td>\n",
       "      <td>160251</td>\n",
       "      <td>2313844</td>\n",
       "      <td>6.93</td>\n",
       "    </tr>\n",
       "    <tr>\n",
       "      <th>6</th>\n",
       "      <td>test</td>\n",
       "      <td>premium_no_trial</td>\n",
       "      <td>795132</td>\n",
       "      <td>2313844</td>\n",
       "      <td>34.36</td>\n",
       "    </tr>\n",
       "    <tr>\n",
       "      <th>7</th>\n",
       "      <td>test</td>\n",
       "      <td>trial_premium</td>\n",
       "      <td>800202</td>\n",
       "      <td>2313844</td>\n",
       "      <td>34.58</td>\n",
       "    </tr>\n",
       "  </tbody>\n",
       "</table>\n",
       "</div>"
      ],
      "text/plain": [
       "       group      product_type  revenue  revenue_sum  revenue_rate\n",
       "0  control_2             coins   384709      1878344         20.48\n",
       "1  control_2        other_type   126386      1878344          6.73\n",
       "2  control_2  premium_no_trial   736034      1878344         39.19\n",
       "3  control_2     trial_premium   631215      1878344         33.60\n",
       "4       test             coins   558259      2313844         24.13\n",
       "5       test        other_type   160251      2313844          6.93\n",
       "6       test  premium_no_trial   795132      2313844         34.36\n",
       "7       test     trial_premium   800202      2313844         34.58"
      ]
     },
     "execution_count": 563,
     "metadata": {},
     "output_type": "execute_result"
    }
   ],
   "source": [
    "revenue"
   ]
  },
  {
   "cell_type": "markdown",
   "metadata": {},
   "source": [
    "С помощью критерия хи-квадрат проверим, изменилась ли структура дохода после изменения стоимости премиум подписки. Нулевая гипотеза - не изменилась"
   ]
  },
  {
   "cell_type": "code",
   "execution_count": 564,
   "metadata": {},
   "outputs": [
    {
     "data": {
      "text/html": [
       "<div>\n",
       "<style scoped>\n",
       "    .dataframe tbody tr th:only-of-type {\n",
       "        vertical-align: middle;\n",
       "    }\n",
       "\n",
       "    .dataframe tbody tr th {\n",
       "        vertical-align: top;\n",
       "    }\n",
       "\n",
       "    .dataframe thead th {\n",
       "        text-align: right;\n",
       "    }\n",
       "</style>\n",
       "<table border=\"1\" class=\"dataframe\">\n",
       "  <thead>\n",
       "    <tr style=\"text-align: right;\">\n",
       "      <th>product_type</th>\n",
       "      <th>coins</th>\n",
       "      <th>other_type</th>\n",
       "      <th>premium_no_trial</th>\n",
       "      <th>trial_premium</th>\n",
       "    </tr>\n",
       "    <tr>\n",
       "      <th>group</th>\n",
       "      <th></th>\n",
       "      <th></th>\n",
       "      <th></th>\n",
       "      <th></th>\n",
       "    </tr>\n",
       "  </thead>\n",
       "  <tbody>\n",
       "    <tr>\n",
       "      <th>control_2</th>\n",
       "      <td>20.48</td>\n",
       "      <td>6.73</td>\n",
       "      <td>39.19</td>\n",
       "      <td>33.60</td>\n",
       "    </tr>\n",
       "    <tr>\n",
       "      <th>test</th>\n",
       "      <td>24.13</td>\n",
       "      <td>6.93</td>\n",
       "      <td>34.36</td>\n",
       "      <td>34.58</td>\n",
       "    </tr>\n",
       "  </tbody>\n",
       "</table>\n",
       "</div>"
      ],
      "text/plain": [
       "product_type  coins  other_type  premium_no_trial  trial_premium\n",
       "group                                                           \n",
       "control_2     20.48        6.73             39.19          33.60\n",
       "test          24.13        6.93             34.36          34.58"
      ]
     },
     "execution_count": 564,
     "metadata": {},
     "output_type": "execute_result"
    }
   ],
   "source": [
    "# Создаем таблицу сопряженности\n",
    "crosstab_revenue = revenue.pivot(index='group', columns='product_type', values='revenue_rate')\n",
    "crosstab_revenue"
   ]
  },
  {
   "cell_type": "code",
   "execution_count": 566,
   "metadata": {},
   "outputs": [
    {
     "name": "stdout",
     "output_type": "stream",
     "text": [
      "Статистика критерия равна 0.6328, уровень значимости 0.8889\n",
      "Уровень значимости больше 0.05, стуктура прибыли в контроле и тесте ОДИНАКОВАЯ\n"
     ]
    }
   ],
   "source": [
    "# Считаем хи-квадрат\n",
    "chi_revenue = stats.chi2_contingency(crosstab_revenue)\n",
    "print(\n",
    "    f\"Статистика критерия равна {chi_revenue[0].round(4)}, уровень значимости {chi_revenue[1].round(4)}\"\n",
    ")\n",
    "if chi_revenue[1] < 0.05:\n",
    "    print(\n",
    "        \"Уровень значимости меньше 0.05, стуктура прибыли в контроле и тесте РАЗНАЯ\"\n",
    "    )\n",
    "else:\n",
    "    print(\n",
    "        \"Уровень значимости больше 0.05, стуктура прибыли в контроле и тесте ОДИНАКОВАЯ\"\n",
    "    )"
   ]
  },
  {
   "cell_type": "markdown",
   "metadata": {},
   "source": [
    "Структура прибыли в тестовой и контрольной группах одинаковая, что свидетельствует о том, что в тестовой группе ARPU осталась прежней не из-за перераспределения доходов между продуктами, а за счет того, что доходы от премиум-подписки остались на прежнем уровне. Вероятно, разнонаправленные изменения CR и среднего чека взаимно компенсировали друг друга."
   ]
  },
  {
   "cell_type": "markdown",
   "metadata": {},
   "source": [
    "## ARPU: вывод"
   ]
  },
  {
   "cell_type": "markdown",
   "metadata": {},
   "source": [
    "1. Изменение цены премиум подписки не привело к достоверным изменениям ARPU, рассчитанном за весть период наблюдений\n",
    "2. Структура прибыли в контрольных и тестовой группах не различается, доля прибыли, приходящаяся на покупку премиум подписки одинакова. Это говорит о том, что при изменении цены за подписку, доходы ее покупки остались на прежнем уровне, вероятно, разнонаправленные изменения CR и среднего чека взаимно компенсировали друг друга."
   ]
  },
  {
   "cell_type": "markdown",
   "metadata": {},
   "source": [
    "## Retention rate"
   ]
  },
  {
   "cell_type": "markdown",
   "metadata": {},
   "source": [
    "Retention rate показывает отношение клиентов, которые вернулись в приложение на n-ый день, к числу клиентов на начало расчетного периода. Мы будем считать началом рассчетного периода момент регистрации. Рассчитаем retention на 7, 14, 30 и 60 дни."
   ]
  },
  {
   "cell_type": "markdown",
   "metadata": {},
   "source": [
    "Для рассчета этой метрики и оценки достоверности различий (с помощью критерия хи-квадрат) воспользуемся функцией check_retention_difference(data, days, groups), которую мы подробно описали на втором этапе при анализе контролей (ячейка 186)"
   ]
  },
  {
   "cell_type": "code",
   "execution_count": 789,
   "metadata": {},
   "outputs": [
    {
     "data": {
      "text/html": [
       "<div>\n",
       "<style scoped>\n",
       "    .dataframe tbody tr th:only-of-type {\n",
       "        vertical-align: middle;\n",
       "    }\n",
       "\n",
       "    .dataframe tbody tr th {\n",
       "        vertical-align: top;\n",
       "    }\n",
       "\n",
       "    .dataframe thead th {\n",
       "        text-align: right;\n",
       "    }\n",
       "</style>\n",
       "<table border=\"1\" class=\"dataframe\">\n",
       "  <thead>\n",
       "    <tr style=\"text-align: right;\">\n",
       "      <th></th>\n",
       "      <th>day</th>\n",
       "      <th>retention_rate_test</th>\n",
       "      <th>retention_rate_control_2</th>\n",
       "      <th>chi2_statistic</th>\n",
       "      <th>p_value</th>\n",
       "      <th>different</th>\n",
       "    </tr>\n",
       "  </thead>\n",
       "  <tbody>\n",
       "    <tr>\n",
       "      <th>0</th>\n",
       "      <td>7</td>\n",
       "      <td>24.63</td>\n",
       "      <td>23.76</td>\n",
       "      <td>0.831052</td>\n",
       "      <td>0.361968</td>\n",
       "      <td>False</td>\n",
       "    </tr>\n",
       "    <tr>\n",
       "      <th>1</th>\n",
       "      <td>14</td>\n",
       "      <td>11.24</td>\n",
       "      <td>11.18</td>\n",
       "      <td>0.001996</td>\n",
       "      <td>0.964368</td>\n",
       "      <td>False</td>\n",
       "    </tr>\n",
       "    <tr>\n",
       "      <th>2</th>\n",
       "      <td>30</td>\n",
       "      <td>1.01</td>\n",
       "      <td>1.09</td>\n",
       "      <td>0.062450</td>\n",
       "      <td>0.802665</td>\n",
       "      <td>False</td>\n",
       "    </tr>\n",
       "    <tr>\n",
       "      <th>3</th>\n",
       "      <td>60</td>\n",
       "      <td>0.63</td>\n",
       "      <td>0.61</td>\n",
       "      <td>0.000000</td>\n",
       "      <td>1.000000</td>\n",
       "      <td>False</td>\n",
       "    </tr>\n",
       "  </tbody>\n",
       "</table>\n",
       "</div>"
      ],
      "text/plain": [
       "   day  retention_rate_test  retention_rate_control_2  chi2_statistic  \\\n",
       "0    7                24.63                     23.76        0.831052   \n",
       "1   14                11.24                     11.18        0.001996   \n",
       "2   30                 1.01                      1.09        0.062450   \n",
       "3   60                 0.63                      0.61        0.000000   \n",
       "\n",
       "    p_value  different  \n",
       "0  0.361968      False  \n",
       "1  0.964368      False  \n",
       "2  0.802665      False  \n",
       "3  1.000000      False  "
      ]
     },
     "execution_count": 789,
     "metadata": {},
     "output_type": "execute_result"
    }
   ],
   "source": [
    "data = exploded_users\n",
    "days = [7, 14, 30, 60]\n",
    "groups = ['test', 'control_2']\n",
    "check_retention_difference(data=data, days=days, groups=groups)"
   ]
  },
  {
   "cell_type": "markdown",
   "metadata": {},
   "source": [
    "В каждый из целевых дней (7, 14, 30, 60) retention rate в контрольной и тестовой группах не различались, поэтому делаем вывод, что изменение цены подписки не привело к изменению retension 7, 14, 30 и 60 дни."
   ]
  },
  {
   "cell_type": "markdown",
   "metadata": {},
   "source": [
    "Посмотрим, может ли количество дней в приложении как-то повлиять на траты пользователя"
   ]
  },
  {
   "cell_type": "code",
   "execution_count": 804,
   "metadata": {},
   "outputs": [
    {
     "data": {
      "text/plain": [
       "3"
      ]
     },
     "execution_count": 804,
     "metadata": {},
     "output_type": "execute_result"
    }
   ],
   "source": [
    "# подготовим датафрейм, в котором для каждого пользователя будет сколько дней он провел в приложении и суммарные траты\n",
    "df = exploded_users.groupby(\"uid\", as_index=False).agg(\n",
    "    days_in_app=(\"visit_days\", \"max\"), total_revenue=(\"total_revenue\", \"max\")\n",
    ")\n",
    "# Сколько пользователей потратили больше 100000\n",
    "df.query('total_revenue>=100000').uid.count()"
   ]
  },
  {
   "cell_type": "code",
   "execution_count": 791,
   "metadata": {},
   "outputs": [
    {
     "data": {
      "image/png": "[encoded data removed]",
      "text/plain": [
       "<Figure size 1440x504 with 1 Axes>"
      ]
     },
     "metadata": {},
     "output_type": "display_data"
    }
   ],
   "source": [
    "# Отфильтруем выбросы\n",
    "x = df.query('total_revenue<100000').days_in_app\n",
    "y = df.query('total_revenue<100000').total_revenue\n",
    "# Строим диаграмму рассеяния\n",
    "plt.scatter(x, y)\n",
    "# Строим линию тренда\n",
    "z = np.polyfit(x, y, deg=1)\n",
    "p = np.poly1d(z)\n",
    "# Рисуем линию тренда\n",
    "plt.plot(x, p(x))\n",
    "plt.show()"
   ]
  },
  {
   "cell_type": "code",
   "execution_count": 792,
   "metadata": {},
   "outputs": [
    {
     "data": {
      "text/html": [
       "<div>\n",
       "<style scoped>\n",
       "    .dataframe tbody tr th:only-of-type {\n",
       "        vertical-align: middle;\n",
       "    }\n",
       "\n",
       "    .dataframe tbody tr th {\n",
       "        vertical-align: top;\n",
       "    }\n",
       "\n",
       "    .dataframe thead th {\n",
       "        text-align: right;\n",
       "    }\n",
       "</style>\n",
       "<table border=\"1\" class=\"dataframe\">\n",
       "  <thead>\n",
       "    <tr style=\"text-align: right;\">\n",
       "      <th></th>\n",
       "      <th>n</th>\n",
       "      <th>r</th>\n",
       "      <th>CI95%</th>\n",
       "      <th>p-val</th>\n",
       "      <th>BF10</th>\n",
       "      <th>power</th>\n",
       "    </tr>\n",
       "  </thead>\n",
       "  <tbody>\n",
       "    <tr>\n",
       "      <th>pearson</th>\n",
       "      <td>12824</td>\n",
       "      <td>0.125969</td>\n",
       "      <td>[0.11, 0.14]</td>\n",
       "      <td>1.621764e-46</td>\n",
       "      <td>3.739e+42</td>\n",
       "      <td>1.0</td>\n",
       "    </tr>\n",
       "  </tbody>\n",
       "</table>\n",
       "</div>"
      ],
      "text/plain": [
       "             n         r         CI95%         p-val       BF10  power\n",
       "pearson  12824  0.125969  [0.11, 0.14]  1.621764e-46  3.739e+42    1.0"
      ]
     },
     "execution_count": 792,
     "metadata": {},
     "output_type": "execute_result"
    }
   ],
   "source": [
    "# Рассчитаем коэффициент корреляции между количеством днней в приложении и суммарными тратами пользователя\n",
    "pg.corr(\n",
    "    df.query(\"total_revenue<100000\").days_in_app,\n",
    "    df.query(\"total_revenue<100000\").total_revenue,\n",
    "    alternative=\"two-sided\",\n",
    "    method=\"pearson\",\n",
    ")"
   ]
  },
  {
   "cell_type": "markdown",
   "metadata": {},
   "source": [
    "Видим, что коэффициент корреляции между количеством дней в приложении и суммарными тратами пользователя хоть и маленький, порядка 0.21, но значимый, значит как минимум мы можем предположить, что при увеличении лояльности пользователей APPPU (и, возможно, ARPU) вырастет"
   ]
  },
  {
   "cell_type": "markdown",
   "metadata": {},
   "source": [
    "## Retention: вывод"
   ]
  },
  {
   "cell_type": "markdown",
   "metadata": {},
   "source": [
    "1. Изменение цены подписки не привело к изменению retension 7, 14, 30 и 60 дни. Эти показатели не различаются в тестовой и контрольной группах\n",
    "2. Исходя из данных, представленных здесь https://app.tracker.my.com/downloads/mytracker-retention-and-conversion-rates-in-different-app-categories-ru.pdfm https://www.lennysnewsletter.com/p/what-is-good-retention-issue-29 и здесь https://www.geckoboard.com/best-practice/kpi-examples/retention-rate/ у приложения достаточно низкие показатели retention. Больше всего настораживают retention 30 и 60 дня, которые отражают долгосрочный retention продукта. За это время люди, как правило, успевают оценить продукт и принять решение о том, продолжать ли им пользоваться или нет. И мы видим, что пользоваться продуктом пользователи не хотят."
   ]
  },
  {
   "cell_type": "markdown",
   "metadata": {},
   "source": [
    "# 4. Общие выводы и рекомендации:"
   ]
  },
  {
   "cell_type": "markdown",
   "metadata": {},
   "source": [
    "1. Увеличение стоимости премиум-подписки не привело к изменению ARPU, что свидетельствует об отсутствии экономического эффекта от проведенного эксперимента, и в целом его можно считать неудачным.\n",
    "2. В расчете ARPU учитывалась прибыль от всех продуктов, при этом было установлено, что изменение цены премиум подписки не повлияло на долю прибыли, получаемую от ее продажи. Это связано с тем, что повышение цены премиум-подписки привело к достоверному снижению конверсии в платную подписку — с 2,38% до 1,55%. В то же время прослеживается некоторая тенденция к увеличению среднего чека за премиум-подписку, не смотря на то, что на основании т-теста мы не можем утверждать, что это показатель достоверно различается в контрольной и тестовой группах. В итоге, снижение CR по-видимому компенсировало эффект от увеличения среднего чека.\n",
    "3. Retention Rate на 30-й день низкий, около 1%, и повышение стоимости подписки не оказало влияния на этот показатель. Судя по имеющимся данным, большинство пользователей оформляют подписку только на 1 месяц. Поскольку количество дней, проведенных в приложении, положительно коррелирует с общими тратами пользователей, рекомендуется работать над повышением лояльности пользователей. В случае увеличения срока подписки более чем на месяц, экономический эффект от повышения стоимости премиум-подписки может стать заметным.\n",
    "4. Одной из возможных причин низкой лояльности пользователей может быть значительный дисбаланс между полами (примерно 20:1). Мужчины, зарегистрировавшись в приложении, не могут найти пару и покидают его в течение месяца. В этой связи рекомендуется привлечь больше женщин, например, предложив им бесплатную премиум-подписку. Учитывая, что на данный момент всего 5 женщин из 576 купили премиум, в целом на этой акции мы ничего не потеряем.\n",
    "5. Было выявлено, что мужчины в возрасте от 24 до 43 лет готовы покупать подписку даже по повышенной цене. Возможно, этой аудитории стоит предложить пакетные предложения, чтобы увеличить их лояльность и повысить доходность."
   ]
  },
  {
   "cell_type": "markdown",
   "metadata": {},
   "source": [
    "# Приложения"
   ]
  },
  {
   "cell_type": "markdown",
   "metadata": {},
   "source": [
    "Если бы мы хотели провести перестановочный тест для среднего чека, это можно было бы сделать с помощью следующей функции, которая:\n",
    "1. Перемешивает объединенные данные для каждой итерации.\n",
    "2. Делит их на две выборки и вычисляет разницу средних для каждой перестановки.\n",
    "3. Считает, сколько раз разница на случайных перестановках была больше или равна наблюдаемой разнице.\n",
    "4. Вычисляет p-значение как долю этих случаев от общего числа перестановок."
   ]
  },
  {
   "cell_type": "code",
   "execution_count": 793,
   "metadata": {},
   "outputs": [],
   "source": [
    "def permutation_test(data1, data2, num_permutations=10000):\n",
    "    # Вычисляем наблюдаемую разницу средних\n",
    "    observed_diff = np.mean(data1) - np.mean(data2)\n",
    "    \n",
    "    # Объединяем выборки\n",
    "    combined = np.concatenate([data1, data2])\n",
    "    \n",
    "    count = 0\n",
    "    for _ in range(num_permutations):\n",
    "        # Перемешиваем данные\n",
    "        permuted = np.random.permutation(combined)\n",
    "        \n",
    "        # Делим их на две выборки той же длины\n",
    "        perm_sample1 = permuted[:len(data1)]\n",
    "        perm_sample2 = permuted[len(data1):]\n",
    "        \n",
    "        # Вычисляем разницу для перемешанных выборок\n",
    "        perm_diff = np.mean(perm_sample1) - np.mean(perm_sample2)\n",
    "        \n",
    "        # Считаем, сколько раз разница на перестановках превышает наблюдаемую\n",
    "        if abs(perm_diff) > abs(observed_diff):\n",
    "            count += 1\n",
    "    \n",
    "    # Возвращаем p-значение\n",
    "    return count / num_permutations"
   ]
  },
  {
   "cell_type": "code",
   "execution_count": 802,
   "metadata": {},
   "outputs": [
    {
     "data": {
      "text/plain": [
       "0.0523"
      ]
     },
     "execution_count": 802,
     "metadata": {},
     "output_type": "execute_result"
    }
   ],
   "source": [
    "permutation_test(tt.query('product_type == \"premium_no_trial\"').revenue, tc2.query('product_type == \"premium_no_trial\"').revenue)"
   ]
  },
  {
   "cell_type": "markdown",
   "metadata": {},
   "source": [
    "Если бы мы хотели провести бутстрап для среднего чека, то это можно было бы сделать по следующему алгоритму "
   ]
  },
  {
   "cell_type": "code",
   "execution_count": 797,
   "metadata": {},
   "outputs": [
    {
     "data": {
      "text/html": [
       "<div>\n",
       "<style scoped>\n",
       "    .dataframe tbody tr th:only-of-type {\n",
       "        vertical-align: middle;\n",
       "    }\n",
       "\n",
       "    .dataframe tbody tr th {\n",
       "        vertical-align: top;\n",
       "    }\n",
       "\n",
       "    .dataframe thead th {\n",
       "        text-align: right;\n",
       "    }\n",
       "</style>\n",
       "<table border=\"1\" class=\"dataframe\">\n",
       "  <thead>\n",
       "    <tr style=\"text-align: right;\">\n",
       "      <th></th>\n",
       "      <th>AOV</th>\n",
       "      <th>AOV_from</th>\n",
       "      <th>AOV_to</th>\n",
       "    </tr>\n",
       "  </thead>\n",
       "  <tbody>\n",
       "    <tr>\n",
       "      <th>test</th>\n",
       "      <td>1074502.0</td>\n",
       "      <td>768586.0</td>\n",
       "      <td>1560492.0</td>\n",
       "    </tr>\n",
       "    <tr>\n",
       "      <th>control</th>\n",
       "      <td>700984.0</td>\n",
       "      <td>565781.0</td>\n",
       "      <td>929200.0</td>\n",
       "    </tr>\n",
       "  </tbody>\n",
       "</table>\n",
       "</div>"
      ],
      "text/plain": [
       "               AOV  AOV_from     AOV_to\n",
       "test     1074502.0  768586.0  1560492.0\n",
       "control   700984.0  565781.0   929200.0"
      ]
     },
     "execution_count": 797,
     "metadata": {},
     "output_type": "execute_result"
    }
   ],
   "source": [
    "# Создаем словарь, в котором ключ - название группы, а значение - соответстыующий датасет\n",
    "dfs = {\n",
    "    \"test\": tt.loc[(tt.product_type == \"premium_no_trial\")],\n",
    "    \"control\": tc2.loc[(tc2.product_type == \"premium_no_trial\")]\n",
    "}\n",
    "\n",
    "# Создадим датафрейм, в котором будет итог по целевым метриками\n",
    "AOV = pd.DataFrame({\"AOV\": [], \"AOV_from\": [], \"AOV_to\": []})\n",
    "\n",
    "# Создаем словарь, где будем хранить распределения AOV по ключу - названию группы\n",
    "AOV_distributions = {}\n",
    "\n",
    "# Создаем словарь, где будут храниться доверительные интервалы\n",
    "AOV_intervals = {}\n",
    "\n",
    "for key, value in dfs.items():\n",
    "    # Считаем  AOV по исходной выборке и записывам в табличку по ключу - названию группы\n",
    "    AOV.loc[key, \"AOV\"] = int(value.revenue.mean() * 100)\n",
    "    #  Генерируем 10000 выборок из исходной и считаем доверительный интервал для AOV бутстрапом\n",
    "    b_AOV = pg.compute_bootci(\n",
    "        value.revenue,\n",
    "        confidence=0.95,\n",
    "        decimals=4,\n",
    "        func=\"mean\",\n",
    "        n_boot=10000,\n",
    "        return_dist=True,\n",
    "    )\n",
    "    # записываем в табличку нижнюю границу доверительного интервала\n",
    "    AOV.loc[key, \"AOV_from\"] = int(b_AOV[0][0] * 100)\n",
    "    # записываем в табличку верхнюю границу доверительного интервала\n",
    "    AOV.loc[key, \"AOV_to\"] = int(b_AOV[0][1] * 100)\n",
    "    # Соxраняем распределение в словарь\n",
    "    AOV_distributions[key] = b_AOV[1]\n",
    "    # Сохраняем интервал в словарь\n",
    "    AOV_intervals[key] = b_AOV[0]\n",
    "# Выводим таблицу\n",
    "AOV"
   ]
  },
  {
   "cell_type": "markdown",
   "metadata": {},
   "source": [
    "А для проверки того, пересекаются ли доверительные интревалы, использовать следующую функцию"
   ]
  },
  {
   "cell_type": "code",
   "execution_count": 796,
   "metadata": {},
   "outputs": [],
   "source": [
    "# Функция для проверки пересечения двух интервалов\n",
    "def check_overlap(interval1, interval2):\n",
    "    return max(interval1[0], interval2[0]) <= min(interval1[1], interval2[1])\n"
   ]
  },
  {
   "cell_type": "code",
   "execution_count": 800,
   "metadata": {},
   "outputs": [
    {
     "data": {
      "text/plain": [
       "True"
      ]
     },
     "execution_count": 800,
     "metadata": {},
     "output_type": "execute_result"
    }
   ],
   "source": [
    "check_overlap(AOV_intervals['test'], AOV_intervals['control'])"
   ]
  },
  {
   "cell_type": "code",
   "execution_count": null,
   "metadata": {},
   "outputs": [],
   "source": []
  }
 ],
 "metadata": {
  "kernelspec": {
   "display_name": "Python 3",
   "language": "python",
   "name": "python3"
  },
  "language_info": {
   "codemirror_mode": {
    "name": "ipython",
    "version": 3
   },
   "file_extension": ".py",
   "mimetype": "text/x-python",
   "name": "python",
   "nbconvert_exporter": "python",
   "pygments_lexer": "ipython3",
   "version": "3.7.3"
  }
 },
 "nbformat": 4,
 "nbformat_minor": 4
}
